{
 "cells": [
  {
   "cell_type": "code",
   "execution_count": 3,
   "id": "7b9b87cc",
   "metadata": {},
   "outputs": [],
   "source": [
    "import cv2\n",
    "import numpy as np\n",
    "import matplotlib.pyplot as plt\n",
    "\n",
    "img=np.full((400, 400, 3), 255, dtype=np.uint8)\n",
    "cv2.line(img, (0,1), (4,5), (120,4,254), thickness=None, lineType=None, shift=None)\n",
    "cv2.imshow('Line Example', img)\n",
    "cv2.waitKey()\n",
    "cv2.destroyAllWindows()\n",
    "\n",
    "# cv2.line(), cv2.arrowedLine()\n",
    "# cv2.rectangle(), cv2.circle(), cv2.ellipse(), cv2.polylines()\n",
    "# cv2.putText()\n",
    "# cv2.fillPoly(), cv2.fillConvexPoly()"
   ]
  },
  {
   "cell_type": "code",
   "execution_count": null,
   "id": "163db7e1",
   "metadata": {},
   "outputs": [],
   "source": [
    "# 영상에 화살표 직선 그리기\n",
    "# cv2.line(img, pt1, pt2, color, thickness=None, lineType = None, shift = None)\n",
    "\n",
    "import cv2\n",
    "import numpy as np\n",
    "img = np.full((400, 400, 3), 255, dtype=np.uint8)\n",
    "\n",
    "cv2.line(img, (50, 50), (200, 50), (255, 0, 0), thickness=5)\n",
    "cv2.line(img, (50, 60), (150, 160), (0, 255, 0))\n",
    "cv2.line(img, (150, 100), (250, 300), (0, 0, 255), 20, lineType=cv2.LINE_8)\n",
    "cv2.imshow('Line Example', img)\n",
    "cv2.waitKey()\n",
    "cv2.destroyAllWindows()"
   ]
  },
  {
   "cell_type": "code",
   "execution_count": null,
   "id": "fbab98cc",
   "metadata": {},
   "outputs": [],
   "source": [
    "# 영상에 화살표 형태 직선 그리기\n",
    "# cv2.arrowedLine(img, pt1, pt2, color, thickness = None, tipLength = None, lineType = None, shift = None)\n",
    "\n",
    "import cv2\n",
    "import numpy as np\n",
    "image = np.ones((512, 512, 3), dtype=np. uint8)\n",
    "\n",
    "cv2.arrowedLine(image, (100, 100), (400, 400), (0,0,255), 3, line_type=cv2.LINE_AA, tipLength=0.2)\n",
    "cv2.arrowedLine(image, (100, 400), (400, 100), (255,0,0), 3, line_type=cv2.LINE_AA, tipLength=0.1)\n",
    "cv2.imshow('Arrowed Line Example', image)\n",
    "cv2.waitKey(0)\n",
    "cv2.destroyAllWindows()"
   ]
  },
  {
   "cell_type": "code",
   "execution_count": null,
   "id": "aae7ae3e",
   "metadata": {},
   "outputs": [],
   "source": [
    "# 영상에 마커 그리기\n",
    "# cv2.drawMarker(img, pt, color, markerType = None, line_type = None, markerSize = None, thickness = None)\n",
    "\n",
    "image=np.ones((512,512,3), dtype=np.uint8)\n",
    "\n",
    "cv2.drawMarker(image,(100,100),(255,0,0), cv2.MARKER_CROSS,20,1)\n",
    "cv2.drawMarker(image,(200,200),(0,255,0), cv2.MARKER_TILTED_CROSS,20,1)\n",
    "cv2.drawMarker(image,(300,300),(0,0,255), cv2.MARKER_STAR,20,1)\n",
    "\n",
    "cv2.imshow('Marker Types Examples', image)\n",
    "cv2.waitKey(0)\n",
    "cv2.destroyAllWindows()"
   ]
  },
  {
   "cell_type": "code",
   "execution_count": null,
   "id": "5f53f000",
   "metadata": {},
   "outputs": [],
   "source": [
    "# 영상에 사각형 그리기\n",
    "# cv2.rectangle(img, pt1, pt2, color, thickness = None, lineType = None, shift = None)\n",
    "# cv2.rectangle(img, rec, color, thickness = None, lineType = None, shift = None)\n",
    "\n",
    "image=np.zeros((512,512,3), dtype=np.uint8)\n",
    "\n",
    "cv2.rectangle(image,(50,50),(250,250),(255,255,255), thickness=2)\n",
    "cv2.rectangle(image,(300,300,50,250),(0,0,255), thickness=-1)\n",
    "\n",
    "cv2.imshow('Marker Types Examples', image)\n",
    "cv2.waitKey(0)\n",
    "cv2.destroyAllWindows()"
   ]
  },
  {
   "cell_type": "code",
   "execution_count": 13,
   "id": "2ba3e5ce",
   "metadata": {},
   "outputs": [],
   "source": [
    "# 영상에 원 그리기\n",
    "# cv2.circle(img, center, radius, color, thickness = None, lineType = None, shift = None)\n",
    "\n",
    "imgae=np.zeros((512,512,3), dtype=np.uint8)\n",
    "\n",
    "cv2.circle(image,(256,256),100,(255,0,0),thickness=2)\n",
    "cv2.circle(image,(256,256),150,(255,255,0),thickness=1)\n",
    "\n",
    "cv2.imshow('Circlel Example',image)\n",
    "cv2.waitKey(0)\n",
    "cv2.destroyAllWindows()"
   ]
  },
  {
   "cell_type": "code",
   "execution_count": 15,
   "id": "ed5b48d2",
   "metadata": {},
   "outputs": [],
   "source": [
    "# 영상에 타원 그리기\n",
    "# cv2.ellipse(img, center, axes, angle, startAngle, endAngle, color, thickness = None, lineType = None, shift = None)\n",
    "\n",
    "image=np.zeros((512,512,3), dtype=np.uint8)\n",
    "\n",
    "cv2.ellipse(image,(256,256),(150,100),0,0,180,(255,0,0),-1)\n",
    "cv2.ellipse(image,(256,256),(100,150),90,0,180,(0,255,255),5)\n",
    "cv2.ellipse(image,(400,400),(80,40),45,0,180,(0,255,0),2)\n",
    "cv2.ellipse(image,(100,100),(60,30),0,0,360,(255,255,255),3)\n",
    "\n",
    "cv2.imshow('Ellipse Example', image)\n",
    "cv2.waitKey(0)\n",
    "cv2.destroyAllWindows()"
   ]
  },
  {
   "cell_type": "code",
   "execution_count": 16,
   "id": "d3a34b91",
   "metadata": {},
   "outputs": [],
   "source": [
    "# 영상에 다각형 그리기\n",
    "# cv2.polyines(img, pts, isClosed, color, thickness = None, lineType = None, shift = None)\n",
    "\n",
    "image=np.zeros((512,512,3), dtype=np.uint8)\n",
    "\n",
    "\n",
    "pts1=np.array([[100,50],[200,150],[50,150]],np.int32)\n",
    "cv2.polylines(image,[pts1],True,(0,255,255),3)\n",
    "pts2=np.array([[250,50],[350,50],[350,150],[250,150]],np.int32)\n",
    "cv2.polylines(image,[pts2],True,(255,0,0),3)\n",
    "pts3=np.array([[60,200],[140,250],[110,350],[10,290],[30,220]],np.int32)\n",
    "cv2.polylines(image,[pts3],True,(0,255,0),3)\n",
    "\n",
    "cv2.imshow('Polygon Example', image)\n",
    "cv2.waitKey(0)\n",
    "cv2.destroyAllWindows()"
   ]
  },
  {
   "cell_type": "code",
   "execution_count": 17,
   "id": "db7de354",
   "metadata": {},
   "outputs": [],
   "source": [
    "# 영상에 문자열 출력 함수\n",
    "# cv2.putText(img, text, org, fontFace, fontScale, color, thickness = None, lineType = None, bottomLeftOrigin = None)\n",
    "\n",
    "image=np.zeros((512,512,3), dtype=np.uint8)\\\n",
    "\n",
    "cv2.putText(image,'Hello OpenCV!',(50,50),cv2.FONT_HERSHEY_SIMPLEX,1,(255,255,255),2,cv2.LINE_AA)\n",
    "cv2.putText(image,'Computer Vision!',(50,150),cv2.FONT_HERSHEY_PLAIN,2,(0,255,0),2,cv2.LINE_AA)\n",
    "cv2.putText(image,'Image Processing!',(150,300),cv2.FONT_HERSHEY_COMPLEX,1.5,(0,0,255),3,cv2.LINE_AA)\n",
    "\n",
    "cv2.imshow('Text Sample', image)\n",
    "cv2.waitKey(0)\n",
    "cv2.destroyAllWindows()"
   ]
  },
  {
   "cell_type": "code",
   "execution_count": null,
   "id": "190a5da4",
   "metadata": {},
   "outputs": [],
   "source": [
    "# 키보드 입력 처리 함수\n",
    "image = np.zeros((512, 512, 3), dtype=np. uint8)\n",
    "text = \"Press any key to change the text\"\n",
    "cv2.putText(image, text, (30, 256), cv2.FONT_HERSHEY_SIMPLEX, 0.7, (255, 255, 255), 2)\n",
    "cv2.imshow('Text Example', image)\n",
    "\n",
    "key = cv2.waitKey(0)\n",
    "if key != -1:\n",
    "  text = \"Key pressed: \"+ chr(key)\n",
    "  image = np.zeros((512, 512, 3), dtype=np. uint8)\n",
    "  cv2.putText(image, text, (30, 256), cv2.FONT_HERSHEY_SIMPLEX, 0.7, (255, 255, 255), 2)\n",
    "  cv2.imshow('Text Example', image)\n",
    "  cv2.waitKey(0)\n",
    "cv2.destroyAllWindows()"
   ]
  },
  {
   "cell_type": "markdown",
   "id": "b3d2a9a9",
   "metadata": {},
   "source": [
    "###  이벤트 처리\n",
    "cv2.setMouseCallback(windowName, onMouse , param = None)"
   ]
  },
  {
   "cell_type": "code",
   "execution_count": null,
   "id": "eecaf942",
   "metadata": {},
   "outputs": [],
   "source": [
    "# 화면에 마우스 그림 그리기\n",
    "# cv2.onMouse(event, x, y, flags, param)\n",
    "import cv2\n",
    "import numpy as np\n",
    "\n",
    "def on_mouse(event, x, y, flags, param):\n",
    "  global oldx, oldy\n",
    "\n",
    "  if event == cv2.EVENT_LBUTTONDOWN:\n",
    "    oldx, oldy = x, y\n",
    "    print(\"E_LBD: %d, %d\", x, y)\n",
    "\n",
    "  elif event == cv2.EVENT_LBUTTONUP:\n",
    "    print(\"E_LBU: %d, %d\", x, y)\n",
    "\n",
    "  elif event == cv2.EVENT_MOUSEMOVE:\n",
    "    if flags & cv2.EVENT_FLAG_LBUTTON:\n",
    "        cv2.line(img, (oldx, oldy), (x, y), (0,0,255), 4, cv2.LINE_AA)\n",
    "        cv2.imshow('image', img)\n",
    "        oldx, oldy = x, y\n",
    "\n",
    "img= np.full((400,400,3), 255, np.uint8)\n",
    "cv2.namedWindow('image')\n",
    "cv2.imshow('image', img)\n",
    "cv2.setMouseCallback('image', on_mouse, img)\n",
    "cv2.waitKey()\n",
    "cv2.destroyAllWindows()"
   ]
  },
  {
   "cell_type": "markdown",
   "id": "981b07bf",
   "metadata": {},
   "source": [
    "### 트랙바 생성\n",
    "cv2.createTrackbar(trackbarName, windowName, value, count, onChange)"
   ]
  },
  {
   "cell_type": "code",
   "execution_count": 21,
   "id": "ec7ef622",
   "metadata": {},
   "outputs": [],
   "source": [
    "import cv2\n",
    "import numpy as np\n",
    "def change_brightness(pos):\n",
    "  factor = pos / 100\n",
    "  adjusted = cv2.convertScaleAbs(original, alpha=factor, beta=0)\n",
    "  cv2.imshow('Adjustable Image', adjusted)\n",
    "\n",
    "original = cv2.imread('pier39.jpg')\n",
    "original = cv2.cvtColor(original, cv2.COLOR_BGR2GRAY)\n",
    "\n",
    "cv2.namedWindow('Adjustable Image')\n",
    "cv2.imshow('Adjustable Image', original)\n",
    "cv2.createTrackbar('Brightness', 'Adjustable Image', 100, 200, change_brightness)\n",
    "cv2.waitKey(0)\n",
    "cv2.destroyAllWindows()"
   ]
  }
 ],
 "metadata": {
  "kernelspec": {
   "display_name": "Python 3",
   "language": "python",
   "name": "python3"
  },
  "language_info": {
   "codemirror_mode": {
    "name": "ipython",
    "version": 3
   },
   "file_extension": ".py",
   "mimetype": "text/x-python",
   "name": "python",
   "nbconvert_exporter": "python",
   "pygments_lexer": "ipython3",
   "version": "3.12.11"
  }
 },
 "nbformat": 4,
 "nbformat_minor": 5
}
