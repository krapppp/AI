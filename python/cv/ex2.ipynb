{
 "cells": [
  {
   "cell_type": "markdown",
   "id": "66b1b339",
   "metadata": {},
   "source": [
    "## OpenCV 그리기 함수\n",
    "- 선, 도형, 문자열 출력 그리기 함수 제공\n",
    "    - 선 그리기 : cv2.line(), cv2.arrowedLine()\n",
    "    - 도형 그리기 : cv2.rectangle(), cv2.circle(), cv2.ellipse(), cv2.polylines()\n",
    "    - 문자열 출력 : cv2.putText()\n",
    "    - 기타 함수 : cv2.fillPoly(), cv2.fillConvexPoly()\n",
    "<br><br>\n",
    "- 주의점\n",
    "    - 영상 픽셀값 자체 변경\n",
    "    - 걸러 채널 유의 -> BGR 형식\n",
    "    - 데이터 타입 확인 : uint8 데이터 타입 이미지 배열 사용"
   ]
  },
  {
   "cell_type": "code",
   "execution_count": null,
   "id": "7b9b87cc",
   "metadata": {},
   "outputs": [],
   "source": [
    "import cv2\n",
    "import numpy as np\n",
    "import matplotlib.pyplot as plt\n",
    "\n",
    "img=np.full((400, 400, 3), 255, dtype=np.uint8)\n",
    "cv2.line(img, (0,1), (4,5), (120,4,254), thickness=None, lineType=None, shift=None)\n",
    "cv2.imshow('Line Example', img)\n",
    "cv2.waitKey()\n",
    "cv2.destroyAllWindows()"
   ]
  },
  {
   "cell_type": "markdown",
   "id": "3d4c91ea",
   "metadata": {},
   "source": [
    "### 영상에 화살표 직선 그리기\n",
    "- cv2.line(img, pt1, pt2, color, thickness=None, lineType = None, shift = None)\n",
    "    - img : 그림 그릴 영상\n",
    "    - pt1, pt2 :  직선 시작점과 끝점 -> (x,y)\n",
    "    - color : 선 색상 또는 밝기 -> (B,G,R)\n",
    "    - thickness : 선 두께 (기본값=1)\n",
    "    - lineType : 선 타입 (cv2.LINE_4, cv2.LINE_8, cv2.LINE_AA)\n",
    "    - shift : 그리기 좌표값 축소 비율 (기본값=0)"
   ]
  },
  {
   "cell_type": "code",
   "execution_count": null,
   "id": "163db7e1",
   "metadata": {},
   "outputs": [],
   "source": [
    "import cv2\n",
    "import numpy as np\n",
    "img = np.full((400, 400, 3), 255, dtype=np.uint8)\n",
    "\n",
    "cv2.line(img, (50, 50), (200, 50), (255, 0, 0), thickness=5)\n",
    "cv2.line(img, (50, 60), (150, 160), (0, 255, 0))\n",
    "cv2.line(img, (150, 100), (250, 300), (0, 0, 255), 20, lineType=cv2.LINE_8)\n",
    "cv2.imshow('Line Example', img)\n",
    "cv2.waitKey()\n",
    "cv2.destroyAllWindows()"
   ]
  },
  {
   "cell_type": "markdown",
   "id": "8403815b",
   "metadata": {},
   "source": [
    "### 영상에 화살표 형태 직선 그리기\n",
    "- cv2.arrowedLine(img, pt1, pt2, color, thickness = None, tipLength = None, lineType = None, shift = None)\n",
    "    - img : 그림 그릴 영상\n",
    "    - pt1, pt2 :  직선 시작점과 끝점 -> (x,y)\n",
    "    - color : 선 색상 또는 밝기 -> (B,G,R)\n",
    "    - thickness : 선 두께 (기본값=1)\n",
    "    - lineType : 선 타입 (cv2.LINE_4, cv2.LINE_8, cv2.LINE_AA)\n",
    "    - shift : 그리기 좌표값 축소 비율 (기본값=0)\n",
    "    - tipLength : 전체 직선 길이에 대한 화살표 길이 비율 (기본값=0.1)"
   ]
  },
  {
   "cell_type": "code",
   "execution_count": null,
   "id": "fbab98cc",
   "metadata": {},
   "outputs": [],
   "source": [
    "import cv2\n",
    "import numpy as np\n",
    "image = np.ones((512, 512, 3), dtype=np. uint8)\n",
    "\n",
    "cv2.arrowedLine(image, (100, 100), (400, 400), (0,0,255), 3, line_type=cv2.LINE_AA, tipLength=0.2)\n",
    "cv2.arrowedLine(image, (100, 400), (400, 100), (255,0,0), 3, line_type=cv2.LINE_AA, tipLength=0.1)\n",
    "cv2.imshow('Arrowed Line Example', image)\n",
    "cv2.waitKey(0)\n",
    "cv2.destroyAllWindows()"
   ]
  },
  {
   "cell_type": "markdown",
   "id": "5857e6fd",
   "metadata": {},
   "source": [
    "### 영상에 마커 그리기\n",
    "- cv2.drawMarker(img, pt, color, markerType = None, line_type = None, markerSize = None, thickness = None)\n",
    "    - img : 그림 그릴 영상\n",
    "    - pt :  마커 출력 위치\n",
    "    - color : 선 색상 또는 밝기 -> (B,G,R)\n",
    "    - markerType : 마커 종류\n",
    "    - markerSize : 마커 크기\n",
    "    - thickness : 선 두께 (기본값=1) -> 음수 지정시 내부 채움\n",
    "    - lineType : 선 타입 (cv2.LINE_4, cv2.LINE_8, cv2.LINE_AA)\n",
    "<br><br>\n",
    "- 마커 종류\n",
    "    - MARKER_CROSS : 십자(+) 모양\n",
    "    - MARKER_TILTED_CROSS : 곱하기(X) 모양\n",
    "    - MARKER_STAR : 8방향선 별 모양\n",
    "    - MARKER_DIAMOND : 마름모 모양\n",
    "    - MARKER_SQUARE : 정사각형 모양\n",
    "    - MARKER_TRIANGLE_UP : 상향 삼각형(▲) 모양\n",
    "    - MARKER_TRINAGEL_DOWN : 하향 삼각형(▼) 모양"
   ]
  },
  {
   "cell_type": "code",
   "execution_count": null,
   "id": "aae7ae3e",
   "metadata": {},
   "outputs": [],
   "source": [
    "image=np.ones((512,512,3), dtype=np.uint8)\n",
    "\n",
    "cv2.drawMarker(image,(100,100),(255,0,0), cv2.MARKER_CROSS,20,1)\n",
    "cv2.drawMarker(image,(200,200),(0,255,0), cv2.MARKER_TILTED_CROSS,20,1)\n",
    "cv2.drawMarker(image,(300,300),(0,0,255), cv2.MARKER_STAR,20,1)\n",
    "\n",
    "cv2.imshow('Marker Types Examples', image)\n",
    "cv2.waitKey(0)\n",
    "cv2.destroyAllWindows()"
   ]
  },
  {
   "cell_type": "markdown",
   "id": "23a4fd84",
   "metadata": {},
   "source": [
    "### 영상에 사각형 그리기\n",
    "- cv2.rectangle(img, pt1, pt2, color, thickness = None, lineType = None, shift = None)\n",
    "    - img : 그림 그릴 영상\n",
    "    - pt1,pt2 :  직선 시작점,끝점 (x,y)\n",
    "    - color : 선 색상 또는 밝기 -> (B,G,R)\n",
    "    - thickness : 선 두께 (기본값=1) -> 음수 지정시 내부 채움\n",
    "    - shift : 그리기 좌표값 축소 비율 (기본값=0)\n",
    "<br><br>\n",
    "- cv2.rectangle(img, rec, color, thickness = None, lineType = None, shift = None)\n",
    "    - img : 그림 그릴 영상\n",
    "    - rec :  사각형 위치 정보 (x,y,w,h)\n",
    "    - color : 선 색상 또는 밝기 -> (B,G,R)\n",
    "    - thickness : 선 두께 (기본값=1) -> 음수 지정시 내부 채움\n",
    "    - shift : 그리기 좌표값 축소 비율 (기본값=0)"
   ]
  },
  {
   "cell_type": "code",
   "execution_count": null,
   "id": "5f53f000",
   "metadata": {},
   "outputs": [],
   "source": [
    "image=np.zeros((512,512,3), dtype=np.uint8)\n",
    "\n",
    "cv2.rectangle(image,(50,50),(250,250),(255,255,255), thickness=2)\n",
    "cv2.rectangle(image,(300,300,50,250),(0,0,255), thickness=-1)\n",
    "\n",
    "cv2.imshow('Marker Types Examples', image)\n",
    "cv2.waitKey(0)\n",
    "cv2.destroyAllWindows()"
   ]
  },
  {
   "cell_type": "markdown",
   "id": "2eb1210d",
   "metadata": {},
   "source": [
    "### 영상에 원 그리기\n",
    "- cv2.circle(img, center, radius, color, thickness = None, lineType = None, shift = None)\n",
    "    - img : 그림 그릴 영상\n",
    "    - center :  원 중심 좌표 (x,y)\n",
    "    - radius : 원 반지름\n",
    "    - color : 선 색상 또는 밝기 -> (B,G,R)\n",
    "    - thickness : 선 두께 (기본값=1) -> 음수 지정시 내부 채움\n",
    "    - lineType : 선 타입 (cv2.LINE_4, cv2.LINE_8, cv2.LINE_AA)\n",
    "    - shift : 그리기 좌표값 축소 비율 (기본값=0)"
   ]
  },
  {
   "cell_type": "code",
   "execution_count": null,
   "id": "2ba3e5ce",
   "metadata": {},
   "outputs": [],
   "source": [
    "imgae=np.zeros((512,512,3), dtype=np.uint8)\n",
    "\n",
    "cv2.circle(image,(256,256),100,(255,0,0),thickness=2)\n",
    "cv2.circle(image,(256,256),150,(255,255,0),thickness=1)\n",
    "\n",
    "cv2.imshow('Circlel Example',image)\n",
    "cv2.waitKey(0)\n",
    "cv2.destroyAllWindows()"
   ]
  },
  {
   "cell_type": "markdown",
   "id": "93a299cd",
   "metadata": {},
   "source": [
    "### 영상에 타원 그리기\n",
    "- cv2.ellipse(img, center, axes, angle, startAngle, endAngle, color, thickness = None, lineType = None, shift = None)\n",
    "    - img : 그림 그릴 영상\n",
    "    - center :  원 중심 좌표 (x,y)\n",
    "    - axes : 타원 반지름\n",
    "    - angle : 타원 회전 각도 (x축 기준, 시계방향)\n",
    "    - startAngle :  타원 호 시작각도 (x축 기준, 시계방향)\n",
    "    - endAngle :  타원 호 끝각도 (x축 기준, 시계방향)\n",
    "    - color : 선 색상 또는 밝기 -> (B,G,R)\n",
    "    - thickness : 선 두께 (기본값=1) -> 음수 지정시 내부 채움\n",
    "    - lineType : 선 타입 (cv2.LINE_4, cv2.LINE_8, cv2.LINE_AA)\n",
    "    - shift : 그리기 좌표값 축소 비율 (기본값=0)"
   ]
  },
  {
   "cell_type": "code",
   "execution_count": null,
   "id": "ed5b48d2",
   "metadata": {},
   "outputs": [],
   "source": [
    "image=np.zeros((512,512,3), dtype=np.uint8)\n",
    "\n",
    "cv2.ellipse(image,(256,256),(150,100),0,0,180,(255,0,0),-1)\n",
    "cv2.ellipse(image,(256,256),(100,150),90,0,180,(0,255,255),5)\n",
    "cv2.ellipse(image,(400,400),(80,40),45,0,180,(0,255,0),2)\n",
    "cv2.ellipse(image,(100,100),(60,30),0,0,360,(255,255,255),3)\n",
    "\n",
    "cv2.imshow('Ellipse Example', image)\n",
    "cv2.waitKey(0)\n",
    "cv2.destroyAllWindows()"
   ]
  },
  {
   "cell_type": "markdown",
   "id": "96a9ffb0",
   "metadata": {},
   "source": [
    "### 영상에 다각형 그리기\n",
    "- cv2.polyines(img, pts, isClosed, color, thickness = None, lineType = None, shift = None)\n",
    "    - img : 그림 그릴 영상\n",
    "    - pts : 다각형 외각점들 좌표 배열 (np.ndarray 리스트)\n",
    "    - isClosed : 폐곡선 여부 (True / False)\n",
    "    - color : 선 색상 또는 밝기 -> (B,G,R)\n",
    "    - thickness : 선 두께 (기본값=1) -> 음수 지정시 내부 채움\n",
    "    - lineType : 선 타입 (cv2.LINE_4, cv2.LINE_8, cv2.LINE_AA)\n",
    "    - shift : 그리기 좌표값 축소 비율 (기본값=0)"
   ]
  },
  {
   "cell_type": "code",
   "execution_count": null,
   "id": "d3a34b91",
   "metadata": {},
   "outputs": [],
   "source": [
    "image=np.zeros((512,512,3), dtype=np.uint8)\n",
    "\n",
    "pts1=np.array([[100,50],[200,150],[50,150]],np.int32)\n",
    "cv2.polylines(image,[pts1],True,(0,255,255),3)\n",
    "pts2=np.array([[250,50],[350,50],[350,150],[250,150]],np.int32)\n",
    "cv2.polylines(image,[pts2],True,(255,0,0),3)\n",
    "pts3=np.array([[60,200],[140,250],[110,350],[10,290],[30,220]],np.int32)\n",
    "cv2.polylines(image,[pts3],True,(0,255,0),3)\n",
    "\n",
    "cv2.imshow('Polygon Example', image)\n",
    "cv2.waitKey(0)\n",
    "cv2.destroyAllWindows()"
   ]
  },
  {
   "cell_type": "markdown",
   "id": "feae22e8",
   "metadata": {},
   "source": [
    "### 영상에 문자열 출력 함수\n",
    "- cv2.putText(img, text, org, fontFace, fontScale, color, thickness = None, lineType = None, bottomLeftOrigin = None)\n",
    "    - img : 그림 그릴 영상\n",
    "    - text : 출력할 문자열 다각형 외각 점들 좌표 배열 (np.ndarray 리스트)\n",
    "    - org : 영상에서 문자열 출력할 위치 좌측 하단 좌표 (x,y)\n",
    "    - fontFace : 폰트 종류 -> cv2.FONT_HERSHEY_로 시작하는 항목 중 선택\n",
    "    - fontScale : 폰트 크기 비율\n",
    "    - color : 선 색상 또는 밝기 -> (B,G,R)\n",
    "    - thickness : 선 두께 (기본값=1) -> 음수 지정시 내부 채움\n",
    "    - lineType : 선 타입 (cv2.LINE_4, cv2.LINE_8, cv2.LINE_AA)\n",
    "    - bottomLeftOrigin : True -> 영상 좌측 하단 원점 (기본값=False)"
   ]
  },
  {
   "cell_type": "code",
   "execution_count": null,
   "id": "db7de354",
   "metadata": {},
   "outputs": [],
   "source": [
    "image=np.zeros((512,512,3), dtype=np.uint8)\\\n",
    "\n",
    "cv2.putText(image,'Hello OpenCV!',(50,50),cv2.FONT_HERSHEY_SIMPLEX,1,(255,255,255),2,cv2.LINE_AA)\n",
    "cv2.putText(image,'Computer Vision!',(50,150),cv2.FONT_HERSHEY_PLAIN,2,(0,255,0),2,cv2.LINE_AA)\n",
    "cv2.putText(image,'Image Processing!',(150,300),cv2.FONT_HERSHEY_COMPLEX,1.5,(0,0,255),3,cv2.LINE_AA)\n",
    "\n",
    "cv2.imshow('Text Sample', image)\n",
    "cv2.waitKey(0)\n",
    "cv2.destroyAllWindows()"
   ]
  },
  {
   "cell_type": "markdown",
   "id": "29eb924f",
   "metadata": {},
   "source": [
    "### 키보드 입력 처리 함수\n",
    "- cv2.waitKey(delay)\n",
    "    - delay : 키 입력 대기시간 (0보다 작을 시 무한 대기)\n",
    "    - 리턴값 : 눌러진 키 값 -> 지정 시간동안 미입력 : -1 반환"
   ]
  },
  {
   "cell_type": "code",
   "execution_count": null,
   "id": "190a5da4",
   "metadata": {},
   "outputs": [],
   "source": [
    "image = np.zeros((512, 512, 3), dtype=np. uint8)\n",
    "text = \"Press any key to change the text\"\n",
    "cv2.putText(image, text, (30, 256), cv2.FONT_HERSHEY_SIMPLEX, 0.7, (255, 255, 255), 2)\n",
    "cv2.imshow('Text Example', image)\n",
    "\n",
    "key = cv2.waitKey(0)\n",
    "if key != -1:\n",
    "  text = \"Key pressed: \"+ chr(key)\n",
    "  image = np.zeros((512, 512, 3), dtype=np. uint8)\n",
    "  cv2.putText(image, text, (30, 256), cv2.FONT_HERSHEY_SIMPLEX, 0.7, (255, 255, 255), 2)\n",
    "  cv2.imshow('Text Example', image)\n",
    "  cv2.waitKey(0)\n",
    "cv2.destroyAllWindows()"
   ]
  },
  {
   "cell_type": "markdown",
   "id": "b3d2a9a9",
   "metadata": {},
   "source": [
    "###  이벤트 처리\n",
    "- cv2.setMouseCallback(windowName, onMouse , param = None)\n",
    "    - windowName : 마우스 이벤트 처리 수행창 이름\n",
    "    - onMouse : 마우스 이벤트 처리 위한 콜백 함수 이름\n",
    "    - param : 콜백 함수 전달 데이터\n",
    "<br><br>\n",
    "- cv2.onMouse(event, x, y, flags, param)\n",
    "    - event : 이벤트 처리 수행창 이름\n",
    "    - x : 이벤트 발생 x 좌표\n",
    "    - y : 이벤트 발생 y 좌표\n",
    "    - flags : 마우스 이벤트 발생시 상태 (cv2.EVENT_FLAG_로 시작하는 상수)\n",
    "    - param : cv2.setMouseCallback() 함수에서 설정한 데이터\n",
    "<br><br>\n",
    "- 이벤트 종류\n",
    "\n",
    "\n",
    "|MouseEventTypes 열거형 상수 |값 |설명                                 |\n",
    "|----------------------------|---|-------------------------------------|\n",
    "|EVENT_MOUSEMOVE             |0  |마우스가 창 위에서 움직이는 경우     |\n",
    "|EVENT_LBUTTONDOWN           |1  |마우스가 왼쪽 버튼을 누른 경우       |\n",
    "|EVENT_RBUTTONDOWN           |2  |마우스가 오른쪽 버튼을 누른 경우     |\n",
    "|EVENT_MBUTTONDOWN           |3  |마우스가 가운데 버튼을 누른 경우     |\n",
    "|EVENT_LBUTTONUP             |4  |마우스가 왼쪽 버튼을 떼는 경우       |\n",
    "|EVENT_RBUTTONUP             |5  |마우스가 오른쪽 버튼을 떼는 경우     |\n",
    "|EVENT_MBUTTONUP             |6  |마우스가 가운데 버튼을 떼는 경우     |\n",
    "|EVENT_LBUTTONDBCLK          |7  |마우스 왼쪽 버튼 더블클릭 하는 경우  |\n",
    "|EVENT_RBUTTONDBCLK          |8  |마우스 오른쪽 버튼 더블클릭 하는 경우|\n",
    "|EVENT_MBUTTONDBCLK          |9  |마우스 가운데 버튼 더블클릭 하는 경우|\n",
    "|EVENT_MOUSEWHEEL            |10 |마우스 휠 앞뒤로 움직이는 경우       |\n",
    "|EVENT_MOUSEHWHEEL           |11 |마우스 휠 좌우로 움직이는 경우       |\n",
    "\n",
    "<br>\n",
    "\n",
    "|MouseEventTypes 열거형 상수 |값|설명                                  |\n",
    "|----------------------------|--|-------------------------------------|\n",
    "|EVENT_FLAG_LBUTTON          |0 |마우스 왼쪽 버튼이 눌려 있음          |\n",
    "|EVENT_FLAG_RBUTTON          |1 |마우스 오른쪽 버튼이 눌려 있음        |\n",
    "|EVENT_FLAG_MBUTTON          |2 |마우스 가운데 버튼이 눌려 있음        |\n",
    "|EVENT_FLAG_CTRLKEY          |3 |CTRL 키 눌려 있음                     |\n",
    "|EVENT_FLAG_SHIFTKEY         |4 |SHIFT 키 눌려 있음                    |\n",
    "|EVENT_FLAG_ALTKEY           |5 |ALT 키 눌려 있음                      |"
   ]
  },
  {
   "cell_type": "code",
   "execution_count": null,
   "id": "eecaf942",
   "metadata": {},
   "outputs": [],
   "source": [
    "import cv2\n",
    "import numpy as np\n",
    "\n",
    "def on_mouse(event, x, y, flags, param):\n",
    "  global oldx, oldy\n",
    "\n",
    "  if event == cv2.EVENT_LBUTTONDOWN:\n",
    "    oldx, oldy = x, y\n",
    "    print(\"E_LBD: %d, %d\", x, y)\n",
    "\n",
    "  elif event == cv2.EVENT_LBUTTONUP:\n",
    "    print(\"E_LBU: %d, %d\", x, y)\n",
    "\n",
    "  elif event == cv2.EVENT_MOUSEMOVE:\n",
    "    if flags & cv2.EVENT_FLAG_LBUTTON:\n",
    "        cv2.line(img, (oldx, oldy), (x, y), (0,0,255), 4, cv2.LINE_AA)\n",
    "        cv2.imshow('image', img)\n",
    "        oldx, oldy = x, y\n",
    "\n",
    "img= np.full((400,400,3), 255, np.uint8)\n",
    "cv2.namedWindow('image')\n",
    "cv2.imshow('image', img)\n",
    "cv2.setMouseCallback('image', on_mouse, img)\n",
    "cv2.waitKey()\n",
    "cv2.destroyAllWindows()"
   ]
  },
  {
   "cell_type": "markdown",
   "id": "981b07bf",
   "metadata": {},
   "source": [
    "### 트랙바 생성\n",
    "- cv2.createTrackbar(trackbarName, windowName, value, count, onChange)\n",
    "    - trackbarName : 트랙바 이름\n",
    "    - windowName : 트랙바 생성창 이름\n",
    "    - value : 트랙바 위치 초기값\n",
    "    - count : 트랙바 최대값 (최소값=0)\n",
    "    - onChange : 트랙바 위치 변경될 때마다 호출할 콜백 함수 이름"
   ]
  },
  {
   "cell_type": "code",
   "execution_count": 21,
   "id": "ec7ef622",
   "metadata": {},
   "outputs": [],
   "source": [
    "import cv2\n",
    "import numpy as np\n",
    "def change_brightness(pos):\n",
    "  factor = pos / 100\n",
    "  adjusted = cv2.convertScaleAbs(original, alpha=factor, beta=0)\n",
    "  cv2.imshow('Adjustable Image', adjusted)\n",
    "\n",
    "original = cv2.imread('pier39.jpg')\n",
    "original = cv2.cvtColor(original, cv2.COLOR_BGR2GRAY)\n",
    "\n",
    "cv2.namedWindow('Adjustable Image')\n",
    "cv2.imshow('Adjustable Image', original)\n",
    "cv2.createTrackbar('Brightness', 'Adjustable Image', 100, 200, change_brightness)\n",
    "cv2.waitKey(0)\n",
    "cv2.destroyAllWindows()"
   ]
  },
  {
   "cell_type": "code",
   "execution_count": null,
   "id": "47085df7",
   "metadata": {},
   "outputs": [
    {
     "data": {
      "image/png": "[encoded data removed]",
      "text/plain": [
       "<Figure size 640x480 with 1 Axes>"
      ]
     },
     "metadata": {},
     "output_type": "display_data"
    }
   ],
   "source": [
    "import cv2\n",
    "import numpy as np\n",
    "\n",
    "# 흰 배경 이미지 생성 (600x600, 3채널)\n",
    "img = np.ones((600, 600, 3), dtype=np.uint8) * 255\n",
    "\n",
    "# 1. (10, 10)에서 (500, 500)까지 파란색 직선, 두께 2\n",
    "a=cv2.line(img, (10, 10), (500, 500), color=(0, 0, 255), thickness=2)\n",
    "\n",
    "# 2. (100, 400)에서 (400, 400)까지 초록색 수평선, 선 타입은 LINE_AA\n",
    "b=cv2.line(img, (100, 400), (400, 400), color=(0, 255, 0), thickness=2, lineType=cv2.LINE_AA)\n",
    "\n",
    "# 3. (50, 50)에서 (300, 50)까지 빨간색 화살표, tipLength=0.2\n",
    "c=cv2.arrowedLine(img, (50, 50), (300, 50), color=(255, 0, 0), thickness=2, tipLength=0.2)\n",
    "\n",
    "# 4. (250, 100)에서 (250, 400)까지 아래 방향 보라색 화살표, tipLength=0.1\n",
    "d=cv2.arrowedLine(img, (250, 100), (250, 400), color=(255, 0, 255), thickness=2, tipLength=0.1)\n",
    "\n",
    "# 5. (50, 50)에서 (300, 200)까지 초록색 테두리 사각형, 두께 2\n",
    "e=cv2.rectangle(img, (50, 50), (300, 200), color=(0, 255, 0), thickness=2)\n",
    "\n",
    "# 이미지 출력\n",
    "# cv2.imshow('Drawing Practice', img)\n",
    "# cv2.waitKey(0)\n",
    "# cv2.destroyAllWindows()\n",
    "plt.imshow(a)\n",
    "plt.imshow(b)\n",
    "plt.imshow(c)\n",
    "plt.imshow(d)\n",
    "plt.imshow(e)\n",
    "# plt.axis('off')\n",
    "plt.show()"
   ]
  }
 ],
 "metadata": {
  "kernelspec": {
   "display_name": "Python 3",
   "language": "python",
   "name": "python3"
  },
  "language_info": {
   "codemirror_mode": {
    "name": "ipython",
    "version": 3
   },
   "file_extension": ".py",
   "mimetype": "text/x-python",
   "name": "python",
   "nbconvert_exporter": "python",
   "pygments_lexer": "ipython3",
   "version": "3.12.11"
  }
 },
 "nbformat": 4,
 "nbformat_minor": 5
}
