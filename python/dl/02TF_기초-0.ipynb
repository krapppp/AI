{
 "cells": [
  {
   "cell_type": "markdown",
   "metadata": {
    "id": "Y6VWY29zE5tr"
   },
   "source": [
    "# 텐서플로우 기초\n",
    "\n",
    "https://www.tensorflow.org/guide/effective_tf2?hl=ko"
   ]
  },
  {
   "cell_type": "markdown",
   "metadata": {},
   "source": [
    "#### tensorflow 설치\n",
    "\n",
    "https://www.tensorflow.org/install/pip?hl=ko"
   ]
  },
  {
   "cell_type": "markdown",
   "metadata": {},
   "source": [
    "**[pip 에서 설치]**\n",
    "\n",
    "tensorflow 와 Cuda 를 설치\n",
    "\n",
    "```sh\n",
    "$ pip install --upgrade pip\n",
    "$ pip install tensorflow[and-cuda]\n",
    "$ pip install keras --upgrade\n",
    "```\n"
   ]
  },
  {
   "cell_type": "markdown",
   "metadata": {},
   "source": [
    "**[conda 로  설치]**\n",
    "\n",
    "```sh\n",
    "conda install -c conda-forge  tensorflow[and-cuda]\n",
    "conda install -c conda-forge keras\n",
    "```\n"
   ]
  },
  {
   "cell_type": "markdown",
   "metadata": {},
   "source": [
    "scikit-learn 도 유틸리티로 자주 사용된다.\n",
    "\n",
    "```sh\n",
    "$ pip install -U scikit-learn\n",
    "```\n"
   ]
  },
  {
   "cell_type": "markdown",
   "metadata": {},
   "source": [
    "텐서플로우 설치 확인"
   ]
  },
  {
   "cell_type": "code",
   "execution_count": 1,
   "metadata": {},
   "outputs": [
    {
     "name": "stderr",
     "output_type": "stream",
     "text": [
      "2025-07-22 07:11:19.183615: I tensorflow/core/util/port.cc:153] oneDNN custom operations are on. You may see slightly different numerical results due to floating-point round-off errors from different computation orders. To turn them off, set the environment variable `TF_ENABLE_ONEDNN_OPTS=0`.\n",
      "2025-07-22 07:11:19.617300: E external/local_xla/xla/stream_executor/cuda/cuda_fft.cc:467] Unable to register cuFFT factory: Attempting to register factory for plugin cuFFT when one has already been registered\n",
      "WARNING: All log messages before absl::InitializeLog() is called are written to STDERR\n",
      "E0000 00:00:1753135879.780391  168080 cuda_dnn.cc:8579] Unable to register cuDNN factory: Attempting to register factory for plugin cuDNN when one has already been registered\n",
      "E0000 00:00:1753135879.827746  168080 cuda_blas.cc:1407] Unable to register cuBLAS factory: Attempting to register factory for plugin cuBLAS when one has already been registered\n",
      "W0000 00:00:1753135880.174145  168080 computation_placer.cc:177] computation placer already registered. Please check linkage and avoid linking the same target more than once.\n",
      "W0000 00:00:1753135880.174226  168080 computation_placer.cc:177] computation placer already registered. Please check linkage and avoid linking the same target more than once.\n",
      "W0000 00:00:1753135880.174230  168080 computation_placer.cc:177] computation placer already registered. Please check linkage and avoid linking the same target more than once.\n",
      "W0000 00:00:1753135880.174235  168080 computation_placer.cc:177] computation placer already registered. Please check linkage and avoid linking the same target more than once.\n",
      "2025-07-22 07:11:20.225140: I tensorflow/core/platform/cpu_feature_guard.cc:210] This TensorFlow binary is optimized to use available CPU instructions in performance-critical operations.\n",
      "To enable the following instructions: AVX2 AVX512F AVX512_VNNI AVX512_BF16 FMA, in other operations, rebuild TensorFlow with the appropriate compiler flags.\n"
     ]
    },
    {
     "name": "stdout",
     "output_type": "stream",
     "text": [
      "2.19.0 2.1.3\n"
     ]
    }
   ],
   "source": [
    "import tensorflow as tf\n",
    "import numpy as np\n",
    "\n",
    "print(tf.__version__, np.__version__)"
   ]
  },
  {
   "cell_type": "code",
   "execution_count": 2,
   "metadata": {},
   "outputs": [
    {
     "name": "stdout",
     "output_type": "stream",
     "text": [
      "tf.Tensor(83.12167, shape=(), dtype=float32)\n"
     ]
    },
    {
     "name": "stderr",
     "output_type": "stream",
     "text": [
      "I0000 00:00:1753135889.767762  168080 gpu_device.cc:2019] Created device /job:localhost/replica:0/task:0/device:GPU:0 with 825 MB memory:  -> device: 0, name: NVIDIA GeForce RTX 4060 Laptop GPU, pci bus id: 0000:01:00.0, compute capability: 8.9\n"
     ]
    }
   ],
   "source": [
    "import tensorflow as tf; print(tf.reduce_sum(tf.random.normal([1000, 1000])))"
   ]
  },
  {
   "cell_type": "markdown",
   "metadata": {},
   "source": [
    "텐서플로우 기본\n",
    "\n",
    "TensorFlow의 가장 기본적인 빌딩 블록인 Tensor, Operation, 그리고 Variable에 대해 살펴보고, 이 개념들을 확실히 이해하는 것이 TensorFlow를 이용한 딥러닝 모델 구축의 시작이다.\n",
    "\n",
    "\n",
    "1. 텐서\n",
    "1. 상수\n",
    "1. Operation(연산)\n",
    "1. 변수\n",
    "1. 행렬"
   ]
  },
  {
   "cell_type": "markdown",
   "metadata": {
    "id": "U2pzS-7rE5ts"
   },
   "source": [
    "> Test\n",
    "> - tensorflow 2.19, keras 3.10\n",
    "> - tensorflow 2.9\n",
    "> - tensorflow 2.7"
   ]
  },
  {
   "cell_type": "code",
   "execution_count": 3,
   "metadata": {
    "colab": {
     "base_uri": "https://localhost:8080/",
     "height": 36
    },
    "executionInfo": {
     "elapsed": 7744,
     "status": "ok",
     "timestamp": 1744647340419,
     "user": {
      "displayName": "고강태",
      "userId": "11277884504998149270"
     },
     "user_tz": -540
    },
    "id": "Sr85dd2cE5ts",
    "outputId": "4ab45254-e503-48cc-fa79-01247b2bc8da"
   },
   "outputs": [
    {
     "data": {
      "text/plain": [
       "('2.19.0', '3.10.0')"
      ]
     },
     "execution_count": 3,
     "metadata": {},
     "output_type": "execute_result"
    }
   ],
   "source": [
    "import numpy as np\n",
    "import tensorflow as tf\n",
    "import keras\n",
    "tf.__version__, keras.__version__"
   ]
  },
  {
   "cell_type": "markdown",
   "metadata": {
    "id": "kclZxaiJE5tv"
   },
   "source": [
    "## GPU"
   ]
  },
  {
   "cell_type": "code",
   "execution_count": 4,
   "metadata": {
    "colab": {
     "base_uri": "https://localhost:8080/"
    },
    "executionInfo": {
     "elapsed": 9,
     "status": "ok",
     "timestamp": 1744647389125,
     "user": {
      "displayName": "고강태",
      "userId": "11277884504998149270"
     },
     "user_tz": -540
    },
    "id": "oAf1JcxRE5tv",
    "outputId": "d4babc55-f75c-49c9-8dde-d52dfe2a1b51"
   },
   "outputs": [
    {
     "data": {
      "text/plain": [
       "[PhysicalDevice(name='/physical_device:GPU:0', device_type='GPU')]"
      ]
     },
     "execution_count": 4,
     "metadata": {},
     "output_type": "execute_result"
    }
   ],
   "source": [
    "# tf.test.is_gpu_available()\n",
    "tf.config.list_physical_devices('GPU')"
   ]
  },
  {
   "cell_type": "code",
   "execution_count": 5,
   "metadata": {
    "colab": {
     "base_uri": "https://localhost:8080/"
    },
    "executionInfo": {
     "elapsed": 9,
     "status": "ok",
     "timestamp": 1744647406396,
     "user": {
      "displayName": "고강태",
      "userId": "11277884504998149270"
     },
     "user_tz": -540
    },
    "id": "Su_hVkkYE5tw",
    "outputId": "0c7c2e19-370f-4f8a-ef58-4a8d43081ddd"
   },
   "outputs": [
    {
     "data": {
      "text/plain": [
       "['/physical_device:CPU:0', '/physical_device:GPU:0']"
      ]
     },
     "execution_count": 5,
     "metadata": {},
     "output_type": "execute_result"
    }
   ],
   "source": [
    "[device.name for device in tf.config.experimental.list_physical_devices()]"
   ]
  },
  {
   "cell_type": "markdown",
   "metadata": {},
   "source": [
    "# 1. AI의 데이터 형식\n",
    "\n"
   ]
  },
  {
   "cell_type": "markdown",
   "metadata": {},
   "source": [
    "## -Tensor\n",
    "\n",
    "AI 분야에서 데이터를 표현하는 기본 단위로 텐서를 사용한다. 스칼라(0차원), 벡터(1차원), 행렬(2차원)을 포함하여 그 이상 고차원의 데이터를 모두 텐서라고 부르고 AIdptj *텐서* 를 기본 데이터 구조로 사용한다. \n",
    "\n",
    "텐서(tensor)는 데이터를 위한 컨테이너, 거의 수치형 데이터를 다루므로 숫자를 위한 컨테이너이다. 텐서는 임의 차원 개수를 가진 행렬로 행렬은 아래 같은 종류가 있다.\n",
    "\n",
    " - 0차원 텐서: Scalar, 0D 텐서.\n",
    "    * 나이, 온도, 가격\n",
    " - 1차원 텐서: Vector 벡터, 1D텐서.\n",
    "    * 열을 축으로하는 1차원 배열\n",
    "    * `[1, 3, 9]`\n",
    " - 2차원 텐서: Matrix 행렬, 2D 텐서. \n",
    "    * 행과 열을 축으로하는 2차원.\n",
    "    * 8x8 크기 흑백 이미지 데이터\n",
    " - 3차원 텐서: 행렬의 배열 의미. \n",
    "    * 깊이 또는 채널이라는 3번째 방향을 갖는다.\n",
    "    * 8x8x3 크기의 컬러 이미지\n",
    " - 4차원 텐서: 3차원 텐서의 배열\n",
    "    * 동영상 데이터: 보통 (샘플수x프레임수x높이x너비x채널)로 표현 \n",
    "    * 배치 데이터: 128개 이미지를 1배치로 처리시 (128, 256, 256, 3) 형태\n",
    "\n",
    "<img src='https://i.imgur.com/PRAiV7j.png' width=600>"
   ]
  },
  {
   "cell_type": "markdown",
   "metadata": {},
   "source": [
    "## -TensorFlow의 Tensor\n",
    "\n",
    "Tensorflow의 텐서는 NumPy 배열과 매우 유사하지만, GPU 가속을 지원하고 딥러닝 연산에 최적화되어 있다는 차이점이 있다.\n",
    "\n",
    "> TensorFlow 2.x에서는 텐서 연산에 **Eager Execution(즉시 실행)** 이 기본으로 설정되어 있어, 코드를 작성하는 즉시 연산이 실행되고 결과가 반환됩니다. 이는 Python의 일반적인 코딩 방식과 유사하여 디버깅 및 개발이 훨씬 용이합니다."
   ]
  },
  {
   "cell_type": "markdown",
   "metadata": {},
   "source": [
    "## -텐서의 구성 요소:\n",
    "\n",
    "- 랭크 (Rank) 또는 차원 (Dimension)\n",
    "  - 텐서의 차원 수를 나타냅니다. 예를 들어, 스칼라는 0차원, 벡터는 1차원, 행렬은 2차원입니다.\n",
    "- 형태 (Shape)\n",
    "  -  각 차원의 크기를 나타내는 튜플입니다. 예를 들어, 2x3 행렬은 (2, 3) 형태를 가집니다.\n",
    "- 데이터 타입 (Dtype)\n",
    "  -  텐서가 저장하는 요소의 데이터 타입입니다. 정수(tf.int32, tf.int64), 부동 소수점(tf.float32, tf.float64), 불리언(tf.bool) 등 다양한 타입을 지원합니다. \n",
    "  - 연산 효율성을 위해 보통 딥러닝에서는 tf.float32를 많이 사용합니다."
   ]
  },
  {
   "cell_type": "markdown",
   "metadata": {},
   "source": [
    "## - 텐서 샘플\n",
    "\n",
    " - 0D 텐서\n",
    "    * 스칼라 값. 예) 넓이 100cm\n",
    " - 1D 텐서\n",
    "    * 벡터(배열) 데이터. \n",
    "    * 예) 학생 명단 [홍길동,남원길,서울역]\n",
    " - 2D 텐서\n",
    "    * 행렬\n",
    "    - 예) (samples, feature)\n",
    " - 3D 텐서\n",
    "    * 행렬의 배열. 시계열, \n",
    "    * 시퀀스 데이터 (samples, timsteps, feature)\n",
    "    * 256x256 픽셀 RGB 컬러 이미지 (256, 256, 3)\n",
    " - 4D 텐서\n",
    "    * 채널 이미지 데이터\\\n",
    "     (samples, height, width, channels), \\\n",
    "     (samples, channels, height, width)\n",
    " - 동영상 데이터\n",
    "    * 4D 이상 고차원 텐서로 4D의 배열\n",
    "    * (samples, frames, height, width, channels),\\\n",
    "     (samples, frames, channels, height, width) \n",
    "    * 예: 10개의 비디오 클립, 각 클립은 30프레임, 128x128 픽셀, RGB 색상을 가진 경우:\\\n",
    "     (10, 30, 128, 128, 3)\n"
   ]
  },
  {
   "cell_type": "markdown",
   "metadata": {},
   "source": [
    "<img src='https://i.imgur.com/Ehn05pP.png' width=700>"
   ]
  },
  {
   "cell_type": "markdown",
   "metadata": {},
   "source": [
    "### 동영상 텐서의 Channel First & Last\n",
    "\n",
    "TensorFlow에서 이미지 데이터 처리 시 흔히 사용되는 channels_last 형식을 따른다\n",
    "  - 비디오 텐서 (samples, frames, height, width, channels) 형식\n",
    "  - 단일 이미지 텐서는 ( height, width, channels) 형태\n",
    "\n",
    "\n",
    "PyTorch의 경우, 이미지 데이터 처리에서 channels_first 형식을 선호하는 경향\n",
    " - 단일 이미지 텐서는 (channels, height, width) 형태\n",
    " - 비디오 텐서 (samples, channels, frames, height, width) \\\n",
    "   또는 (samples, frames, channels, height, width)가 사용.\n"
   ]
  },
  {
   "cell_type": "markdown",
   "metadata": {},
   "source": [
    "#### 스칼라 (0D tensor)\n",
    "\n",
    "하나의 숫자 값을 담고 있는 텐서로서 0차원, 0D텐서이다. 0차원 텐서의 축의 개수는 0으로 축(ndim)을 랭크(rank)라고도 부른다."
   ]
  },
  {
   "cell_type": "code",
   "execution_count": 6,
   "metadata": {},
   "outputs": [
    {
     "data": {
      "text/plain": [
       "array(1)"
      ]
     },
     "execution_count": 6,
     "metadata": {},
     "output_type": "execute_result"
    }
   ],
   "source": [
    "# 스칼라\n",
    "x = np.array(1)\n",
    "x"
   ]
  },
  {
   "cell_type": "code",
   "execution_count": 7,
   "metadata": {},
   "outputs": [
    {
     "data": {
      "text/plain": [
       "((), 0, array(1))"
      ]
     },
     "execution_count": 7,
     "metadata": {},
     "output_type": "execute_result"
    }
   ],
   "source": [
    "x.shape, x.ndim, x"
   ]
  },
  {
   "cell_type": "markdown",
   "metadata": {},
   "source": [
    "#### 벡터 (1D Tensor)\n",
    "\n",
    "숫자 배열을 벡터, 1D 텐서라고 부른다. 1D 텐서는 하나의 축을 가진다."
   ]
  },
  {
   "cell_type": "code",
   "execution_count": 8,
   "metadata": {},
   "outputs": [
    {
     "data": {
      "text/plain": [
       "((4,), 1, array([1, 2, 3, 4]))"
      ]
     },
     "execution_count": 8,
     "metadata": {},
     "output_type": "execute_result"
    }
   ],
   "source": [
    "# 벡터\n",
    "x = np.array([1,2,3,4])\n",
    "x.shape, x.ndim, x"
   ]
  },
  {
   "cell_type": "markdown",
   "metadata": {},
   "source": [
    "위 벡터는 4개의 요소를 가지고 있어서 5차원 벡터라고 부른다. ( 4D 텐서와 혼동하지 말것!)"
   ]
  },
  {
   "cell_type": "markdown",
   "metadata": {},
   "source": [
    "#### 행렬 (2D Tensor)\n",
    "\n",
    "행렬은 2차원으로 구성되어 2개의 축을 가진다.\n",
    "- (samples, feature) 형식으로 구성된다.\n",
    "  - 10만명의 나이/우편번호/소득 으로 구성된 인구 데이터: (100000, 3) 크기 텐서\n",
    "  - 텍스트에 공통단어 2만개에서 단어의 등장횟수로 표현된 경우: (500, 20000) "
   ]
  },
  {
   "cell_type": "code",
   "execution_count": 9,
   "metadata": {},
   "outputs": [
    {
     "data": {
      "text/plain": [
       "((3, 3),\n",
       " 2,\n",
       " array([[1, 2, 3],\n",
       "        [4, 5, 6],\n",
       "        [7, 8, 9]]))"
      ]
     },
     "execution_count": 9,
     "metadata": {},
     "output_type": "execute_result"
    }
   ],
   "source": [
    "# 행렬\n",
    "x = np.array([[1,2,3],[4,5,6],[7,8,9]])\n",
    "x.shape, x.ndim, x"
   ]
  },
  {
   "cell_type": "markdown",
   "metadata": {},
   "source": [
    "#### 3차원 배열 ( 3D Tensor)\n",
    "\n",
    "배열의 3차원 축을 가진 배열을 3D Tensor라고 한다."
   ]
  },
  {
   "cell_type": "markdown",
   "metadata": {},
   "source": [
    "- 시계열/시퀀스 데이터\n",
    "  - 데이터의 시간/순서가 중요하면 시간축을 포함해 (samples, timsteps, feature) 크기 3차원 텐서로 구성된다.\n",
    "  - 주식 가격 데이터: 1분마다 주식가격, 1분마다 최고/최소 가격. \n",
    "      - 하루 거래 (390,3)크기 2D텐서\n",
    "      - 연간 250일 (250, 390, 3) 크기 3D텐서\n",
    "  - 트윗 데이터 세트: 트윗은 128개 알파벳, 280 문자로. 128개 2진벡터로 구성( 280, 128)\n",
    "      - 100만개 트쉿은 (1000000, 280, 128) 텐서로 구성"
   ]
  },
  {
   "cell_type": "code",
   "execution_count": 10,
   "metadata": {},
   "outputs": [
    {
     "data": {
      "text/plain": [
       "((2, 2, 5),\n",
       " 3,\n",
       " array([[[ 1,  2,  3,  4,  5],\n",
       "         [ 6,  7,  8,  9, 10]],\n",
       " \n",
       "        [[ 0, -1, -2, -3, -4],\n",
       "         [-5, -6, -7, -8, -9]]]))"
      ]
     },
     "execution_count": 10,
     "metadata": {},
     "output_type": "execute_result"
    }
   ],
   "source": [
    "# 텐서: 3d\n",
    "x = np.array([[[1,2,3,4,5],\n",
    "              [6,7,8,9,10]],\n",
    "             [[0,-1,-2,-3,-4],\n",
    "             [-5,-6,-7,-8,-9]]])\n",
    "x.shape, x.ndim, x"
   ]
  },
  {
   "cell_type": "markdown",
   "metadata": {},
   "source": [
    "####  4D 텐서\n",
    "\n",
    "이미지는 높이/너비/컬러의 3차원. 흑백도 높이/너비/컬러.\n",
    "\n",
    " - 128개 256x256 크기 흑백 배치: (128, 256, 256, 1) \n",
    " - 128개 256x256 크기 컬러 배치: (128, 256, 256, 3)\n",
    " - 이미지 텐서 크지 지정은 채널 마지막(channel-last) 와 채널 우선(channel-first)\n",
    "    - Theano 는 (128, 1, 256, 256)\n",
    "    - Keras 는 모두 지원\n",
    "\n"
   ]
  },
  {
   "cell_type": "code",
   "execution_count": 12,
   "metadata": {},
   "outputs": [],
   "source": [
    "img_tensor = (128, 256, 256, 4)\n",
    "img = np.random.rand(*img_tensor)"
   ]
  },
  {
   "cell_type": "code",
   "execution_count": 13,
   "metadata": {},
   "outputs": [
    {
     "data": {
      "text/plain": [
       "(128, 256, 256, 4)"
      ]
     },
     "execution_count": 13,
     "metadata": {},
     "output_type": "execute_result"
    }
   ],
   "source": [
    "img.shape"
   ]
  },
  {
   "cell_type": "markdown",
   "metadata": {},
   "source": [
    "####  5D 텐서\n",
    "\n",
    "동영상 데이터 비디오는 프레임의 연속. 프레임원 컬러 이미지, 현실에서 5D 차원 가진 몇 안되는 데이터\n",
    "\n",
    "\n"
   ]
  },
  {
   "cell_type": "code",
   "execution_count": 14,
   "metadata": {},
   "outputs": [
    {
     "data": {
      "text/plain": [
       "(10, 30, 128, 128, 3)"
      ]
     },
     "execution_count": 14,
     "metadata": {},
     "output_type": "execute_result"
    }
   ],
   "source": [
    "tensor_shape = (10, 30, 128, 128, 3)\n",
    "mov = np.random.rand(*tensor_shape)\n",
    "mov.shape"
   ]
  },
  {
   "cell_type": "code",
   "execution_count": 15,
   "metadata": {},
   "outputs": [
    {
     "data": {
      "text/plain": [
       "array([[[[0.97822117, 0.27696432, 0.31065699],\n",
       "         [0.16691156, 0.96019574, 0.35712579],\n",
       "         [0.52019033, 0.1302745 , 0.07639221],\n",
       "         ...,\n",
       "         [0.32006658, 0.45160375, 0.24743383],\n",
       "         [0.42856348, 0.22895247, 0.15262452],\n",
       "         [0.95265203, 0.51491754, 0.97241781]],\n",
       "\n",
       "        [[0.82697679, 0.25067841, 0.53431884],\n",
       "         [0.76160149, 0.57428596, 0.31079626],\n",
       "         [0.38543292, 0.04917967, 0.11564118],\n",
       "         ...,\n",
       "         [0.85525986, 0.96466994, 0.57490453],\n",
       "         [0.79782342, 0.3035675 , 0.36291843],\n",
       "         [0.5218361 , 0.88650856, 0.82114362]],\n",
       "\n",
       "        [[0.3028676 , 0.26858661, 0.8353516 ],\n",
       "         [0.31205638, 0.03510538, 0.31696766],\n",
       "         [0.5890409 , 0.76158601, 0.46040545],\n",
       "         ...,\n",
       "         [0.45226136, 0.02066657, 0.80340209],\n",
       "         [0.80623406, 0.54176787, 0.79094872],\n",
       "         [0.68333857, 0.94943435, 0.77650983]],\n",
       "\n",
       "        ...,\n",
       "\n",
       "        [[0.83541312, 0.60582576, 0.89939743],\n",
       "         [0.81113274, 0.9120142 , 0.0389259 ],\n",
       "         [0.467239  , 0.02065363, 0.42267329],\n",
       "         ...,\n",
       "         [0.90270568, 0.94881593, 0.125555  ],\n",
       "         [0.15731602, 0.03813379, 0.82067799],\n",
       "         [0.80257361, 0.86450431, 0.02807298]],\n",
       "\n",
       "        [[0.9392534 , 0.98399369, 0.1029772 ],\n",
       "         [0.9333872 , 0.08396015, 0.81507742],\n",
       "         [0.77475648, 0.50862112, 0.67162938],\n",
       "         ...,\n",
       "         [0.25012227, 0.1460781 , 0.91679924],\n",
       "         [0.14902976, 0.14468209, 0.62981912],\n",
       "         [0.56506873, 0.10348956, 0.97994838]],\n",
       "\n",
       "        [[0.46051687, 0.78912545, 0.57698745],\n",
       "         [0.51221746, 0.20419384, 0.21240526],\n",
       "         [0.53299374, 0.9237318 , 0.29142601],\n",
       "         ...,\n",
       "         [0.23158695, 0.52278756, 0.89388638],\n",
       "         [0.69668213, 0.06494474, 0.73405745],\n",
       "         [0.12611955, 0.63250415, 0.08242091]]],\n",
       "\n",
       "\n",
       "       [[[0.53399598, 0.5956722 , 0.83697233],\n",
       "         [0.4666601 , 0.86873737, 0.18043622],\n",
       "         [0.36919043, 0.2156487 , 0.74187413],\n",
       "         ...,\n",
       "         [0.57725204, 0.15493397, 0.01423039],\n",
       "         [0.37523729, 0.1397055 , 0.26654614],\n",
       "         [0.71954202, 0.06566524, 0.69565534]],\n",
       "\n",
       "        [[0.18821027, 0.12655958, 0.93248813],\n",
       "         [0.56717849, 0.90799733, 0.19202955],\n",
       "         [0.69082311, 0.43406643, 0.53204299],\n",
       "         ...,\n",
       "         [0.62911673, 0.62338039, 0.72371687],\n",
       "         [0.89122089, 0.31928304, 0.45853504],\n",
       "         [0.94987517, 0.13896615, 0.8696457 ]],\n",
       "\n",
       "        [[0.2843681 , 0.05437818, 0.3821869 ],\n",
       "         [0.83895951, 0.23783961, 0.21466507],\n",
       "         [0.29606757, 0.49595947, 0.40836487],\n",
       "         ...,\n",
       "         [0.94228327, 0.14226162, 0.60318888],\n",
       "         [0.04639006, 0.20651219, 0.73415943],\n",
       "         [0.93305134, 0.60386429, 0.55099206]],\n",
       "\n",
       "        ...,\n",
       "\n",
       "        [[0.37481495, 0.8924011 , 0.50114437],\n",
       "         [0.73330251, 0.55744062, 0.67851938],\n",
       "         [0.81077533, 0.04391676, 0.52793881],\n",
       "         ...,\n",
       "         [0.04487976, 0.99747888, 0.41803798],\n",
       "         [0.91765728, 0.15639716, 0.31515949],\n",
       "         [0.5682501 , 0.11226203, 0.41479293]],\n",
       "\n",
       "        [[0.50900918, 0.35238107, 0.67062416],\n",
       "         [0.65232653, 0.91749981, 0.04872108],\n",
       "         [0.76562957, 0.1204239 , 0.19490141],\n",
       "         ...,\n",
       "         [0.04798112, 0.46694668, 0.41380615],\n",
       "         [0.48375306, 0.41173598, 0.07595466],\n",
       "         [0.38798831, 0.55962747, 0.25594554]],\n",
       "\n",
       "        [[0.78990712, 0.24671174, 0.355294  ],\n",
       "         [0.38962931, 0.842048  , 0.64829023],\n",
       "         [0.56711529, 0.83320559, 0.25746194],\n",
       "         ...,\n",
       "         [0.99042081, 0.5697101 , 0.42157582],\n",
       "         [0.59937028, 0.21409145, 0.63523712],\n",
       "         [0.21415985, 0.58120324, 0.10949306]]],\n",
       "\n",
       "\n",
       "       [[[0.16869801, 0.76477799, 0.52692727],\n",
       "         [0.32484768, 0.06686014, 0.39998778],\n",
       "         [0.1330573 , 0.62487181, 0.69076874],\n",
       "         ...,\n",
       "         [0.9145486 , 0.57475494, 0.07272286],\n",
       "         [0.89871413, 0.70404314, 0.97717912],\n",
       "         [0.73795953, 0.52251767, 0.62803669]],\n",
       "\n",
       "        [[0.9788856 , 0.7777784 , 0.48505491],\n",
       "         [0.22707547, 0.89152865, 0.19062449],\n",
       "         [0.18737163, 0.39972281, 0.58907236],\n",
       "         ...,\n",
       "         [0.10114438, 0.83380741, 0.38383394],\n",
       "         [0.0937735 , 0.877785  , 0.73294985],\n",
       "         [0.62166798, 0.91734568, 0.45313169]],\n",
       "\n",
       "        [[0.38201294, 0.52184661, 0.31363203],\n",
       "         [0.95111556, 0.93122536, 0.44463121],\n",
       "         [0.41761382, 0.39266044, 0.11829647],\n",
       "         ...,\n",
       "         [0.49101228, 0.87625967, 0.78486172],\n",
       "         [0.45090989, 0.06023529, 0.06259023],\n",
       "         [0.96701862, 0.26085272, 0.93463066]],\n",
       "\n",
       "        ...,\n",
       "\n",
       "        [[0.21388023, 0.3395032 , 0.15643902],\n",
       "         [0.20948173, 0.07859857, 0.52312247],\n",
       "         [0.70411958, 0.53783056, 0.52517582],\n",
       "         ...,\n",
       "         [0.31372898, 0.91528117, 0.09379873],\n",
       "         [0.66160687, 0.04024854, 0.3230964 ],\n",
       "         [0.91088758, 0.45712313, 0.58153455]],\n",
       "\n",
       "        [[0.05622956, 0.81152853, 0.71630186],\n",
       "         [0.13937149, 0.8477622 , 0.25253958],\n",
       "         [0.6111169 , 0.09591403, 0.31932826],\n",
       "         ...,\n",
       "         [0.74003049, 0.94044963, 0.66633793],\n",
       "         [0.44551475, 0.30344178, 0.73790889],\n",
       "         [0.66595714, 0.15476456, 0.27639626]],\n",
       "\n",
       "        [[0.75319378, 0.98758217, 0.42326625],\n",
       "         [0.88533261, 0.67873889, 0.61524221],\n",
       "         [0.67075528, 0.35279651, 0.49358513],\n",
       "         ...,\n",
       "         [0.15851869, 0.55953852, 0.28373494],\n",
       "         [0.43106087, 0.85027291, 0.56241652],\n",
       "         [0.98602811, 0.79258075, 0.57482926]]],\n",
       "\n",
       "\n",
       "       ...,\n",
       "\n",
       "\n",
       "       [[[0.37963499, 0.65521918, 0.21967806],\n",
       "         [0.89175072, 0.81861433, 0.7837202 ],\n",
       "         [0.89764694, 0.39854774, 0.38883643],\n",
       "         ...,\n",
       "         [0.89012196, 0.92199312, 0.89462815],\n",
       "         [0.86896283, 0.13081342, 0.37631349],\n",
       "         [0.4686681 , 0.36875129, 0.59656169]],\n",
       "\n",
       "        [[0.88985216, 0.29253004, 0.30726322],\n",
       "         [0.38565692, 0.85460614, 0.65200871],\n",
       "         [0.27549055, 0.86433634, 0.5287243 ],\n",
       "         ...,\n",
       "         [0.70475936, 0.87329692, 0.80673287],\n",
       "         [0.53621594, 0.83991661, 0.21919352],\n",
       "         [0.77928965, 0.00498522, 0.28460209]],\n",
       "\n",
       "        [[0.67201384, 0.21749202, 0.5235525 ],\n",
       "         [0.76262441, 0.19819312, 0.02482701],\n",
       "         [0.15329283, 0.44775262, 0.97716201],\n",
       "         ...,\n",
       "         [0.29664781, 0.7319995 , 0.39419169],\n",
       "         [0.01202379, 0.30890771, 0.0764997 ],\n",
       "         [0.54753957, 0.08664211, 0.13306333]],\n",
       "\n",
       "        ...,\n",
       "\n",
       "        [[0.79311814, 0.22873423, 0.92703812],\n",
       "         [0.62173407, 0.51157496, 0.64054593],\n",
       "         [0.03731412, 0.38240904, 0.56764817],\n",
       "         ...,\n",
       "         [0.72781626, 0.05510051, 0.1936899 ],\n",
       "         [0.39482658, 0.74297054, 0.30534677],\n",
       "         [0.821229  , 0.55852663, 0.688757  ]],\n",
       "\n",
       "        [[0.41978267, 0.32185627, 0.17883988],\n",
       "         [0.91380584, 0.80885295, 0.7894956 ],\n",
       "         [0.49770472, 0.33823696, 0.45708239],\n",
       "         ...,\n",
       "         [0.11880896, 0.55192945, 0.57266078],\n",
       "         [0.58262529, 0.81957103, 0.59827364],\n",
       "         [0.82129277, 0.41123268, 0.29518555]],\n",
       "\n",
       "        [[0.25157341, 0.07270201, 0.13370076],\n",
       "         [0.37819831, 0.03947227, 0.00379071],\n",
       "         [0.78531031, 0.98352336, 0.00811105],\n",
       "         ...,\n",
       "         [0.93932621, 0.70075828, 0.23666514],\n",
       "         [0.66389888, 0.04130885, 0.06881362],\n",
       "         [0.99372087, 0.61351007, 0.7046582 ]]],\n",
       "\n",
       "\n",
       "       [[[0.15164852, 0.61614099, 0.44947145],\n",
       "         [0.73049216, 0.56202363, 0.69174256],\n",
       "         [0.28809679, 0.50601812, 0.98482951],\n",
       "         ...,\n",
       "         [0.23138889, 0.2867209 , 0.42570581],\n",
       "         [0.27432839, 0.08135768, 0.537549  ],\n",
       "         [0.74694833, 0.16700416, 0.80869241]],\n",
       "\n",
       "        [[0.09243123, 0.63364224, 0.21050276],\n",
       "         [0.70817528, 0.75883873, 0.50177348],\n",
       "         [0.91454401, 0.2952328 , 0.30512208],\n",
       "         ...,\n",
       "         [0.86771281, 0.46251707, 0.32921498],\n",
       "         [0.31304168, 0.39906487, 0.40794267],\n",
       "         [0.81303241, 0.97248845, 0.24591769]],\n",
       "\n",
       "        [[0.6172487 , 0.35920897, 0.40614182],\n",
       "         [0.80607618, 0.60907514, 0.5003912 ],\n",
       "         [0.06749714, 0.41776958, 0.84068073],\n",
       "         ...,\n",
       "         [0.4103682 , 0.56413234, 0.11441885],\n",
       "         [0.45884474, 0.13036246, 0.19971413],\n",
       "         [0.78406021, 0.03948691, 0.67821043]],\n",
       "\n",
       "        ...,\n",
       "\n",
       "        [[0.89522801, 0.90166239, 0.96451244],\n",
       "         [0.04427437, 0.4310893 , 0.86518485],\n",
       "         [0.90501641, 0.75689011, 0.88690569],\n",
       "         ...,\n",
       "         [0.39942246, 0.57270541, 0.7334085 ],\n",
       "         [0.8161476 , 0.49369874, 0.57984503],\n",
       "         [0.81997752, 0.80549966, 0.29636595]],\n",
       "\n",
       "        [[0.79747837, 0.65302917, 0.30236697],\n",
       "         [0.52147599, 0.20263949, 0.99717758],\n",
       "         [0.03643138, 0.94999231, 0.25392534],\n",
       "         ...,\n",
       "         [0.21910006, 0.9876375 , 0.25720374],\n",
       "         [0.4041822 , 0.63773825, 0.29390534],\n",
       "         [0.24859685, 0.25359918, 0.92248387]],\n",
       "\n",
       "        [[0.14805398, 0.06116862, 0.89111443],\n",
       "         [0.4352432 , 0.93961748, 0.85374715],\n",
       "         [0.60785003, 0.50648884, 0.96410509],\n",
       "         ...,\n",
       "         [0.64658051, 0.65549218, 0.02782725],\n",
       "         [0.7069858 , 0.02346867, 0.15754305],\n",
       "         [0.35347467, 0.79031793, 0.37811372]]],\n",
       "\n",
       "\n",
       "       [[[0.84222405, 0.09272114, 0.7207178 ],\n",
       "         [0.67960586, 0.33348423, 0.17657912],\n",
       "         [0.07923261, 0.05416763, 0.53059326],\n",
       "         ...,\n",
       "         [0.67656111, 0.79879271, 0.99985592],\n",
       "         [0.21363691, 0.78141169, 0.11794929],\n",
       "         [0.84911913, 0.71838491, 0.14488655]],\n",
       "\n",
       "        [[0.32352754, 0.80543552, 0.97442764],\n",
       "         [0.81816553, 0.5188519 , 0.2361014 ],\n",
       "         [0.51085241, 0.35001929, 0.3950243 ],\n",
       "         ...,\n",
       "         [0.11423597, 0.75448131, 0.6831555 ],\n",
       "         [0.76082163, 0.44727584, 0.67335414],\n",
       "         [0.74377334, 0.18406772, 0.16514983]],\n",
       "\n",
       "        [[0.29041806, 0.98499955, 0.26060977],\n",
       "         [0.33510906, 0.74123939, 0.50482462],\n",
       "         [0.98844819, 0.56824895, 0.1632542 ],\n",
       "         ...,\n",
       "         [0.76366191, 0.9952977 , 0.77329149],\n",
       "         [0.42601294, 0.3519165 , 0.60729873],\n",
       "         [0.33951426, 0.04053802, 0.66048297]],\n",
       "\n",
       "        ...,\n",
       "\n",
       "        [[0.98021802, 0.00494554, 0.85854667],\n",
       "         [0.86130447, 0.9563522 , 0.38558091],\n",
       "         [0.5454891 , 0.88488713, 0.80306221],\n",
       "         ...,\n",
       "         [0.82548027, 0.30455839, 0.44783057],\n",
       "         [0.38999222, 0.43043958, 0.09392598],\n",
       "         [0.15346915, 0.31132484, 0.98218392]],\n",
       "\n",
       "        [[0.37208365, 0.22462891, 0.86385321],\n",
       "         [0.13764364, 0.5231441 , 0.18143119],\n",
       "         [0.47793899, 0.11389393, 0.61032491],\n",
       "         ...,\n",
       "         [0.66624638, 0.63587884, 0.69949502],\n",
       "         [0.19912038, 0.65065469, 0.60283402],\n",
       "         [0.48787195, 0.61084865, 0.93466037]],\n",
       "\n",
       "        [[0.69390817, 0.49622959, 0.581641  ],\n",
       "         [0.90128426, 0.68009209, 0.10952577],\n",
       "         [0.91294586, 0.52728124, 0.99497669],\n",
       "         ...,\n",
       "         [0.27067946, 0.55447707, 0.28791626],\n",
       "         [0.21009905, 0.8309175 , 0.74528793],\n",
       "         [0.0326663 , 0.2234581 , 0.54873963]]]])"
      ]
     },
     "execution_count": 15,
     "metadata": {},
     "output_type": "execute_result"
    }
   ],
   "source": [
    "mov[0]"
   ]
  },
  {
   "cell_type": "markdown",
   "metadata": {},
   "source": [
    "#### 텐서의 속성\n",
    "\n",
    "- 축/차원 (Rank): ndim\n",
    "- 형 Shape: shape\n",
    "- 데이터 타입: float32, uint8, float64 등\n",
    "\n",
    "크기 size"
   ]
  },
  {
   "cell_type": "code",
   "execution_count": 16,
   "metadata": {},
   "outputs": [
    {
     "data": {
      "text/plain": [
       "5"
      ]
     },
     "execution_count": 16,
     "metadata": {},
     "output_type": "execute_result"
    }
   ],
   "source": [
    "# 축(Axis, Rank), 차원\n",
    "mov.ndim"
   ]
  },
  {
   "cell_type": "code",
   "execution_count": 17,
   "metadata": {},
   "outputs": [
    {
     "data": {
      "text/plain": [
       "(10, 30, 128, 128, 3)"
      ]
     },
     "execution_count": 17,
     "metadata": {},
     "output_type": "execute_result"
    }
   ],
   "source": [
    "# 행\n",
    "mov.shape"
   ]
  },
  {
   "cell_type": "code",
   "execution_count": 18,
   "metadata": {},
   "outputs": [
    {
     "data": {
      "text/plain": [
       "14745600"
      ]
     },
     "execution_count": 18,
     "metadata": {},
     "output_type": "execute_result"
    }
   ],
   "source": [
    "# 크기\n",
    "mov.size"
   ]
  },
  {
   "cell_type": "code",
   "execution_count": 19,
   "metadata": {},
   "outputs": [
    {
     "data": {
      "text/plain": [
       "dtype('float64')"
      ]
     },
     "execution_count": 19,
     "metadata": {},
     "output_type": "execute_result"
    }
   ],
   "source": [
    "mov.dtype"
   ]
  },
  {
   "cell_type": "markdown",
   "metadata": {},
   "source": [
    "### 학습 데이터"
   ]
  },
  {
   "cell_type": "code",
   "execution_count": 20,
   "metadata": {},
   "outputs": [],
   "source": [
    "from tensorflow.keras.datasets import mnist\n",
    "(train_images, train_labels), (test_images, test_labels) = mnist.load_data()\n"
   ]
  },
  {
   "cell_type": "code",
   "execution_count": 21,
   "metadata": {},
   "outputs": [
    {
     "data": {
      "text/plain": [
       "((60000, 28, 28), (60000,), (10000, 28, 28), (10000,))"
      ]
     },
     "execution_count": 21,
     "metadata": {},
     "output_type": "execute_result"
    }
   ],
   "source": [
    "train_images.shape, train_labels.shape, test_images.shape, test_labels.shape"
   ]
  },
  {
   "cell_type": "code",
   "execution_count": 22,
   "metadata": {},
   "outputs": [
    {
     "data": {
      "text/plain": [
       "((90, 28, 28), 3)"
      ]
     },
     "execution_count": 22,
     "metadata": {},
     "output_type": "execute_result"
    }
   ],
   "source": [
    "# 10:100 사이 데이터\n",
    "slice = train_images[10:100]\n",
    "slice.shape, slice.ndim"
   ]
  },
  {
   "cell_type": "code",
   "execution_count": 76,
   "metadata": {},
   "outputs": [
    {
     "data": {
      "text/plain": [
       "((90, 28, 28), 3)"
      ]
     },
     "execution_count": 76,
     "metadata": {},
     "output_type": "execute_result"
    }
   ],
   "source": [
    "# 10:100 사이의 28x28 데이터를 추출\n",
    "slice = train_images[10:100, :28, :28]\n",
    "slice.shape, slice.ndim"
   ]
  },
  {
   "cell_type": "code",
   "execution_count": 24,
   "metadata": {},
   "outputs": [
    {
     "data": {
      "text/plain": [
       "((60000, 14, 14), 3)"
      ]
     },
     "execution_count": 24,
     "metadata": {},
     "output_type": "execute_result"
    }
   ],
   "source": [
    "# 28x28 이미에서 오른쪽 14x14 만 추출\n",
    "slice = train_images[:, 14:, 14:]\n",
    "slice.shape, slice.ndim"
   ]
  },
  {
   "cell_type": "markdown",
   "metadata": {},
   "source": [
    "### 배치 데이터\n",
    "\n",
    "딥러닝 모델은 한 번에 전체 데이터를 처리하지 않고 데이터를 작은 배치(batch) 단위로 나누어 처리한다."
   ]
  },
  {
   "cell_type": "code",
   "execution_count": 25,
   "metadata": {},
   "outputs": [],
   "source": [
    "#크기 128인 배치\n",
    "batch = train_images[:128]"
   ]
  },
  {
   "cell_type": "code",
   "execution_count": 26,
   "metadata": {},
   "outputs": [],
   "source": [
    "#다음 크기 128인 배치\n",
    "batch = train_images[128:256]\n",
    "#n번째 배치\n",
    "n = 10\n",
    "batch = train_images[128 * n:128 * (n+1)]"
   ]
  },
  {
   "cell_type": "code",
   "execution_count": null,
   "metadata": {},
   "outputs": [],
   "source": []
  },
  {
   "cell_type": "markdown",
   "metadata": {},
   "source": [
    "# 2. Constant\n",
    "\n",
    "Constant 는 변경 불가능한 텐서를 생성해서 주로 고정된 데이터나 상수를 정의할 때 사용합니다.\n",
    " - 상수는 텐서플로우의 텐서 기반으로 생성된다.\n",
    " - https://www.tensorflow.org/api_docs/python/tf/Tensor"
   ]
  },
  {
   "cell_type": "code",
   "execution_count": 27,
   "metadata": {
    "colab": {
     "base_uri": "https://localhost:8080/",
     "height": 204
    },
    "executionInfo": {
     "elapsed": 24,
     "status": "ok",
     "timestamp": 1744647434398,
     "user": {
      "displayName": "고강태",
      "userId": "11277884504998149270"
     },
     "user_tz": -540
    },
    "id": "ojUQtBC1E5tw",
    "outputId": "92166c54-5b89-4506-88da-dbb258568b78"
   },
   "outputs": [
    {
     "data": {
      "text/plain": [
       "<function tensorflow.python.framework.constant_op.constant(value, dtype=None, shape=None, name='Const') -> Union[tensorflow.python.framework.ops.Operation, tensorflow.python.framework.ops._EagerTensorBase]>"
      ]
     },
     "execution_count": 27,
     "metadata": {},
     "output_type": "execute_result"
    }
   ],
   "source": [
    "tf.constant"
   ]
  },
  {
   "cell_type": "markdown",
   "metadata": {},
   "source": [
    "- 상수를 정의한다."
   ]
  },
  {
   "cell_type": "code",
   "execution_count": 28,
   "metadata": {
    "executionInfo": {
     "elapsed": 188,
     "status": "ok",
     "timestamp": 1744647441759,
     "user": {
      "displayName": "고강태",
      "userId": "11277884504998149270"
     },
     "user_tz": -540
    },
    "id": "O7DkxxG7E5tw"
   },
   "outputs": [],
   "source": [
    "# 상수 10, 20 를 정의한다.\n",
    "a = tf.constant(10)\n",
    "b = tf.constant(20, name=\"cons_a\")"
   ]
  },
  {
   "cell_type": "markdown",
   "metadata": {},
   "source": [
    "텐서 기반으로 랭크(차원), 형태, 데이터형식으로 구현되어 있다."
   ]
  },
  {
   "cell_type": "code",
   "execution_count": 29,
   "metadata": {
    "colab": {
     "base_uri": "https://localhost:8080/"
    },
    "executionInfo": {
     "elapsed": 19,
     "status": "ok",
     "timestamp": 1744647443475,
     "user": {
      "displayName": "고강태",
      "userId": "11277884504998149270"
     },
     "user_tz": -540
    },
    "id": "DcqtcNaiE5tw",
    "outputId": "68d94f42-f96e-4bdf-8ee4-7cf4291fd011"
   },
   "outputs": [
    {
     "data": {
      "text/plain": [
       "<tf.Tensor: shape=(), dtype=int32, numpy=10>"
      ]
     },
     "execution_count": 29,
     "metadata": {},
     "output_type": "execute_result"
    }
   ],
   "source": [
    "a"
   ]
  },
  {
   "cell_type": "code",
   "execution_count": 30,
   "metadata": {
    "colab": {
     "base_uri": "https://localhost:8080/"
    },
    "executionInfo": {
     "elapsed": 8,
     "status": "ok",
     "timestamp": 1744647449226,
     "user": {
      "displayName": "고강태",
      "userId": "11277884504998149270"
     },
     "user_tz": -540
    },
    "id": "otSiLILOE5tw",
    "outputId": "00642138-0ca0-4023-cbc4-5208bdbde862"
   },
   "outputs": [
    {
     "data": {
      "text/plain": [
       "<tf.Tensor: shape=(), dtype=int32, numpy=20>"
      ]
     },
     "execution_count": 30,
     "metadata": {},
     "output_type": "execute_result"
    }
   ],
   "source": [
    "b"
   ]
  },
  {
   "cell_type": "code",
   "execution_count": 31,
   "metadata": {},
   "outputs": [
    {
     "data": {
      "text/plain": [
       "tf.int32"
      ]
     },
     "execution_count": 31,
     "metadata": {},
     "output_type": "execute_result"
    }
   ],
   "source": [
    "# 정수형 텐서 상수를 하나 선언하자.\n",
    "a = tf.constant(10)\n",
    "a.dtype"
   ]
  },
  {
   "cell_type": "markdown",
   "metadata": {},
   "source": [
    "- 상수 텐서의 dtype은 변경이 불가"
   ]
  },
  {
   "cell_type": "code",
   "execution_count": 32,
   "metadata": {},
   "outputs": [],
   "source": [
    "# 정수형을 tf.float32 로 변경해 보자\n",
    "# a.dtype = tf.float32"
   ]
  },
  {
   "cell_type": "markdown",
   "metadata": {},
   "source": [
    "### 텐서의 기본 속성\n",
    "\n",
    "\n",
    "텐서 속성과 메소드를 확인해 보자"
   ]
  },
  {
   "cell_type": "code",
   "execution_count": 33,
   "metadata": {},
   "outputs": [
    {
     "name": "stdout",
     "output_type": "stream",
     "text": [
      "OVERLOADABLE_OPERATORS\n",
      "backing_device\n",
      "consumers\n",
      "cpu\n",
      "device\n",
      "dtype\n",
      "eval\n",
      "experimental_ref\n",
      "get_shape\n",
      "gpu\n",
      "graph\n",
      "is_packed\n",
      "name\n",
      "ndim\n",
      "numpy\n",
      "op\n",
      "ref\n",
      "set_shape\n",
      "shape\n",
      "value_index\n"
     ]
    }
   ],
   "source": [
    "for i in dir(a) :\n",
    "    if not i.startswith(\"_\") :\n",
    "        print(i)"
   ]
  },
  {
   "cell_type": "code",
   "execution_count": 34,
   "metadata": {},
   "outputs": [
    {
     "data": {
      "text/plain": [
       "0"
      ]
     },
     "execution_count": 34,
     "metadata": {},
     "output_type": "execute_result"
    }
   ],
   "source": [
    "a.dtype\n",
    "a.device\n",
    "a.backing_device\n",
    "a.shape\n",
    "a.ndim"
   ]
  },
  {
   "cell_type": "code",
   "execution_count": 35,
   "metadata": {
    "colab": {
     "base_uri": "https://localhost:8080/"
    },
    "executionInfo": {
     "elapsed": 18,
     "status": "ok",
     "timestamp": 1744647451164,
     "user": {
      "displayName": "고강태",
      "userId": "11277884504998149270"
     },
     "user_tz": -540
    },
    "id": "Ginm2qhUE5tw",
    "outputId": "f74f9c8d-4c7b-4851-ae43-9bb8346830f5"
   },
   "outputs": [
    {
     "data": {
      "text/plain": [
       "np.int32(10)"
      ]
     },
     "execution_count": 35,
     "metadata": {},
     "output_type": "execute_result"
    }
   ],
   "source": [
    "a.numpy()"
   ]
  },
  {
   "cell_type": "code",
   "execution_count": 36,
   "metadata": {
    "colab": {
     "base_uri": "https://localhost:8080/"
    },
    "executionInfo": {
     "elapsed": 4,
     "status": "ok",
     "timestamp": 1744647453127,
     "user": {
      "displayName": "고강태",
      "userId": "11277884504998149270"
     },
     "user_tz": -540
    },
    "id": "SNP-_0DBE5tx",
    "outputId": "bbd37c01-9eb2-4f09-c72e-987e59b3745e"
   },
   "outputs": [
    {
     "data": {
      "text/plain": [
       "np.int32(20)"
      ]
     },
     "execution_count": 36,
     "metadata": {},
     "output_type": "execute_result"
    }
   ],
   "source": [
    "b.numpy()"
   ]
  },
  {
   "cell_type": "markdown",
   "metadata": {
    "id": "g0fEp0LKE5tx"
   },
   "source": [
    "### 문자열 상수\n",
    "\n",
    "hello world 출력"
   ]
  },
  {
   "cell_type": "code",
   "execution_count": 37,
   "metadata": {
    "executionInfo": {
     "elapsed": 3,
     "status": "ok",
     "timestamp": 1744647455915,
     "user": {
      "displayName": "고강태",
      "userId": "11277884504998149270"
     },
     "user_tz": -540
    },
    "id": "xy0sl35NE5tx"
   },
   "outputs": [
    {
     "name": "stdout",
     "output_type": "stream",
     "text": [
      "tf.Tensor(b'Hello, tensorflow !!', shape=(), dtype=string)\n"
     ]
    }
   ],
   "source": [
    "# 상수: Hello World 값\n",
    "hello = tf.constant('Hello, tensorflow !!')\n",
    "print(hello)"
   ]
  },
  {
   "cell_type": "markdown",
   "metadata": {},
   "source": [
    "### 타입 지정\n",
    "\n",
    "타입 지정 할 경우는 실제 텐서 생성할 때 타입을 dtype에 정의해야 한다"
   ]
  },
  {
   "cell_type": "code",
   "execution_count": 38,
   "metadata": {},
   "outputs": [
    {
     "data": {
      "text/plain": [
       "<tf.Tensor: shape=(), dtype=float32, numpy=10.0>"
      ]
     },
     "execution_count": 38,
     "metadata": {},
     "output_type": "execute_result"
    }
   ],
   "source": [
    "# 10 을 float32 형식으로 선언\n",
    "f = tf.constant(10, dtype=tf.float32)\n",
    "f"
   ]
  },
  {
   "cell_type": "code",
   "execution_count": 39,
   "metadata": {},
   "outputs": [
    {
     "data": {
      "text/plain": [
       "tf.float32"
      ]
     },
     "execution_count": 39,
     "metadata": {},
     "output_type": "execute_result"
    }
   ],
   "source": [
    "f.dtype"
   ]
  },
  {
   "cell_type": "code",
   "execution_count": 40,
   "metadata": {},
   "outputs": [
    {
     "data": {
      "text/plain": [
       "'/job:localhost/replica:0/task:0/device:GPU:0'"
      ]
     },
     "execution_count": 40,
     "metadata": {},
     "output_type": "execute_result"
    }
   ],
   "source": [
    "f.device"
   ]
  },
  {
   "cell_type": "markdown",
   "metadata": {},
   "source": [
    "### 다차원 텐서"
   ]
  },
  {
   "cell_type": "code",
   "execution_count": 41,
   "metadata": {},
   "outputs": [
    {
     "name": "stdout",
     "output_type": "stream",
     "text": [
      "Matrix: [[10 20]\n",
      " [30 40]], Shape: (2, 2), Dtype: <dtype: 'int32'>\n"
     ]
    }
   ],
   "source": [
    "# 행렬 (2차원 텐서)\n",
    "matrix = tf.constant([[10, 20], [30, 40]])\n",
    "print(f\"Matrix: {matrix}, Shape: {matrix.shape}, Dtype: {matrix.dtype}\")"
   ]
  },
  {
   "cell_type": "code",
   "execution_count": 42,
   "metadata": {},
   "outputs": [
    {
     "data": {
      "text/plain": [
       "tf.int32"
      ]
     },
     "execution_count": 42,
     "metadata": {},
     "output_type": "execute_result"
    }
   ],
   "source": [
    "matrix.dtype"
   ]
  },
  {
   "cell_type": "code",
   "execution_count": 43,
   "metadata": {},
   "outputs": [
    {
     "data": {
      "text/plain": [
       "<tf.Tensor: shape=(10, 10), dtype=int32, numpy=\n",
       "array([[1, 1, 1, 1, 1, 1, 1, 1, 1, 1],\n",
       "       [1, 1, 1, 1, 1, 1, 1, 1, 1, 1],\n",
       "       [1, 1, 1, 1, 1, 1, 1, 1, 1, 1],\n",
       "       [1, 1, 1, 1, 1, 1, 1, 1, 1, 1],\n",
       "       [1, 1, 1, 1, 1, 1, 1, 1, 1, 1],\n",
       "       [1, 1, 1, 1, 1, 1, 1, 1, 1, 1],\n",
       "       [1, 1, 1, 1, 1, 1, 1, 1, 1, 1],\n",
       "       [1, 1, 1, 1, 1, 1, 1, 1, 1, 1],\n",
       "       [1, 1, 1, 1, 1, 1, 1, 1, 1, 1],\n",
       "       [1, 1, 1, 1, 1, 1, 1, 1, 1, 1]], dtype=int32)>"
      ]
     },
     "execution_count": 43,
     "metadata": {},
     "output_type": "execute_result"
    }
   ],
   "source": [
    "matrix = tf.ones([10,10], dtype=tf.int32)\n",
    "matrix"
   ]
  },
  {
   "cell_type": "code",
   "execution_count": 44,
   "metadata": {},
   "outputs": [
    {
     "data": {
      "text/plain": [
       "tf.int32"
      ]
     },
     "execution_count": 44,
     "metadata": {},
     "output_type": "execute_result"
    }
   ],
   "source": [
    "matrix.dtype"
   ]
  },
  {
   "cell_type": "markdown",
   "metadata": {
    "id": "SqudPRegE5t1"
   },
   "source": [
    "# 3. Operation (연산)\n",
    "\n",
    "텐서 사이의 사칙연산, 브로드캐스팅 등의 다양한 수치 연산을 수행한다\n",
    "- TensorFlow는 다양한 수학 연산, 행렬 연산, 비교 연산 등을 제공하여 복잡한 계산 그래프를 구축할 수 있도록 합니다. \n",
    "\n"
   ]
  },
  {
   "cell_type": "markdown",
   "metadata": {},
   "source": [
    "### 기본 수학 연산\n",
    "\n",
    " - 덧셈: tf.add(a, b) 또는 a + b\n",
    " - 뺄셈: tf.subtract(a, b) 또는 a - b\n",
    " - 곱셈: tf.multiply(a, b) 또는 a * b (요소별 곱셈)\n",
    " - 나눗셈: tf.divide(a, b) 또는 a / b\n",
    " "
   ]
  },
  {
   "cell_type": "code",
   "execution_count": 45,
   "metadata": {
    "executionInfo": {
     "elapsed": 5,
     "status": "ok",
     "timestamp": 1744647495648,
     "user": {
      "displayName": "고강태",
      "userId": "11277884504998149270"
     },
     "user_tz": -540
    },
    "id": "eo1U2hg5E5t1"
   },
   "outputs": [],
   "source": [
    "a = tf.constant(10)\n",
    "b = tf.constant(32)"
   ]
  },
  {
   "cell_type": "code",
   "execution_count": 46,
   "metadata": {
    "executionInfo": {
     "elapsed": 6,
     "status": "ok",
     "timestamp": 1744647497698,
     "user": {
      "displayName": "고강태",
      "userId": "11277884504998149270"
     },
     "user_tz": -540
    },
    "id": "NKjRVR5AE5t1"
   },
   "outputs": [
    {
     "data": {
      "text/plain": [
       "<tf.Tensor: shape=(), dtype=int32, numpy=-22>"
      ]
     },
     "execution_count": 46,
     "metadata": {},
     "output_type": "execute_result"
    }
   ],
   "source": [
    "# add()\n",
    "c = tf.add(a,b)\n",
    "\n",
    "# substract()\n",
    "tf.subtract(a, b)"
   ]
  },
  {
   "cell_type": "code",
   "execution_count": 47,
   "metadata": {},
   "outputs": [
    {
     "data": {
      "text/plain": [
       "<tf.Tensor: shape=(), dtype=float64, numpy=0.3125>"
      ]
     },
     "execution_count": 47,
     "metadata": {},
     "output_type": "execute_result"
    }
   ],
   "source": [
    "# multiply\n",
    "tf.multiply(a, b)\n",
    "\n",
    "# divide()\n",
    "tf.divide(a, b)"
   ]
  },
  {
   "cell_type": "code",
   "execution_count": 48,
   "metadata": {},
   "outputs": [],
   "source": [
    "c = tf.constant(10)\n",
    "d = tf.constant(20)\n",
    "\n"
   ]
  },
  {
   "cell_type": "code",
   "execution_count": 49,
   "metadata": {},
   "outputs": [
    {
     "data": {
      "text/plain": [
       "<tf.Tensor: shape=(), dtype=float64, numpy=0.5>"
      ]
     },
     "execution_count": 49,
     "metadata": {},
     "output_type": "execute_result"
    }
   ],
   "source": [
    "k = tf.constant( 10)\n",
    "j = 20\n",
    "# divide k, j\n",
    "tf.divide(k,j)"
   ]
  },
  {
   "cell_type": "markdown",
   "metadata": {},
   "source": [
    "연산자를 사용한 연산도 가능하다"
   ]
  },
  {
   "cell_type": "code",
   "execution_count": 50,
   "metadata": {},
   "outputs": [
    {
     "data": {
      "text/plain": [
       "<tf.Tensor: shape=(), dtype=int32, numpy=10>"
      ]
     },
     "execution_count": 50,
     "metadata": {},
     "output_type": "execute_result"
    }
   ],
   "source": [
    "a + b\n",
    "a - b\n",
    "a * b\n",
    "a / b\n",
    "a % b"
   ]
  },
  {
   "cell_type": "code",
   "execution_count": 51,
   "metadata": {},
   "outputs": [
    {
     "data": {
      "text/plain": [
       "np.int32(10)"
      ]
     },
     "execution_count": 51,
     "metadata": {},
     "output_type": "execute_result"
    }
   ],
   "source": [
    "# to numpy\n",
    "a.numpy()"
   ]
  },
  {
   "cell_type": "markdown",
   "metadata": {},
   "source": [
    "### 반올림처리"
   ]
  },
  {
   "cell_type": "code",
   "execution_count": 52,
   "metadata": {},
   "outputs": [
    {
     "data": {
      "text/plain": [
       "<tf.Tensor: shape=(), dtype=float32, numpy=10.0>"
      ]
     },
     "execution_count": 52,
     "metadata": {},
     "output_type": "execute_result"
    }
   ],
   "source": [
    "# floor\n",
    "tf.floor(10.5)"
   ]
  },
  {
   "cell_type": "code",
   "execution_count": 53,
   "metadata": {},
   "outputs": [
    {
     "data": {
      "text/plain": [
       "<tf.Tensor: shape=(), dtype=float32, numpy=10.0>"
      ]
     },
     "execution_count": 53,
     "metadata": {},
     "output_type": "execute_result"
    }
   ],
   "source": [
    "# round\n",
    "tf.round(10.5)"
   ]
  },
  {
   "cell_type": "markdown",
   "metadata": {},
   "source": [
    "### 절대값 및 부호처리"
   ]
  },
  {
   "cell_type": "code",
   "execution_count": 54,
   "metadata": {},
   "outputs": [
    {
     "data": {
      "text/plain": [
       "<tf.Tensor: shape=(), dtype=int32, numpy=100>"
      ]
     },
     "execution_count": 54,
     "metadata": {},
     "output_type": "execute_result"
    }
   ],
   "source": [
    "tf.abs(-100)"
   ]
  },
  {
   "cell_type": "code",
   "execution_count": 55,
   "metadata": {},
   "outputs": [
    {
     "data": {
      "text/plain": [
       "<function tensorflow.python.ops.math_ops.sign(x, name=None)>"
      ]
     },
     "execution_count": 55,
     "metadata": {},
     "output_type": "execute_result"
    }
   ],
   "source": [
    "tf.sign"
   ]
  },
  {
   "cell_type": "code",
   "execution_count": 56,
   "metadata": {},
   "outputs": [
    {
     "data": {
      "text/plain": [
       "<function tensorflow.python.ops.gen_math_ops.neg(x: Annotated[_any, ~TV_Neg_T], name=None) -> Annotated[_any, ~TV_Neg_T]>"
      ]
     },
     "execution_count": 56,
     "metadata": {},
     "output_type": "execute_result"
    }
   ],
   "source": [
    "tf.negative"
   ]
  },
  {
   "cell_type": "markdown",
   "metadata": {},
   "source": [
    "### 제곱 및 제곱근, 지수"
   ]
  },
  {
   "cell_type": "code",
   "execution_count": 57,
   "metadata": {},
   "outputs": [
    {
     "data": {
      "text/plain": [
       "<function tensorflow.python.ops.math_ops.pow(x, y, name=None)>"
      ]
     },
     "execution_count": 57,
     "metadata": {},
     "output_type": "execute_result"
    }
   ],
   "source": [
    "tf.pow"
   ]
  },
  {
   "cell_type": "code",
   "execution_count": 58,
   "metadata": {},
   "outputs": [
    {
     "data": {
      "text/plain": [
       "<tf.Tensor: shape=(), dtype=int32, numpy=100>"
      ]
     },
     "execution_count": 58,
     "metadata": {},
     "output_type": "execute_result"
    }
   ],
   "source": [
    "tf.pow(10,2)"
   ]
  },
  {
   "cell_type": "code",
   "execution_count": 59,
   "metadata": {},
   "outputs": [
    {
     "data": {
      "text/plain": [
       "<function tensorflow.python.ops.gen_math_ops.square(x: Annotated[_any, ~TV_Square_T], name=None) -> Annotated[_any, ~TV_Square_T]>"
      ]
     },
     "execution_count": 59,
     "metadata": {},
     "output_type": "execute_result"
    }
   ],
   "source": [
    "tf.square"
   ]
  },
  {
   "cell_type": "markdown",
   "metadata": {},
   "source": [
    "## Tensor broadcasting"
   ]
  },
  {
   "cell_type": "markdown",
   "metadata": {
    "id": "CUUUnt_AE5t1"
   },
   "source": [
    "### Constant 1-D Tensor populated with value list."
   ]
  },
  {
   "cell_type": "code",
   "execution_count": 60,
   "metadata": {
    "executionInfo": {
     "elapsed": 9,
     "status": "ok",
     "timestamp": 1744647505454,
     "user": {
      "displayName": "고강태",
      "userId": "11277884504998149270"
     },
     "user_tz": -540
    },
    "id": "WnKJbaNTE5t1"
   },
   "outputs": [
    {
     "data": {
      "text/plain": [
       "<tf.Tensor: shape=(6,), dtype=int32, numpy=array([11, 12, 13, 14, 15, 16], dtype=int32)>"
      ]
     },
     "execution_count": 60,
     "metadata": {},
     "output_type": "execute_result"
    }
   ],
   "source": [
    "tensor1 = tf.constant([1, 2, 3, 4, 5, 6])\n",
    "# 상수 10을 + 브로드캐스트\n",
    "tensor1_ = tensor1 + 10\n",
    "tensor1_"
   ]
  },
  {
   "cell_type": "code",
   "execution_count": 61,
   "metadata": {
    "colab": {
     "base_uri": "https://localhost:8080/"
    },
    "executionInfo": {
     "elapsed": 8,
     "status": "ok",
     "timestamp": 1744647518038,
     "user": {
      "displayName": "고강태",
      "userId": "11277884504998149270"
     },
     "user_tz": -540
    },
    "id": "GfPE_aV_E5t2",
    "outputId": "2ae582c7-e3b6-4d64-ad94-1e723bf4e38e"
   },
   "outputs": [
    {
     "data": {
      "text/plain": [
       "(TensorShape([6]), 1)"
      ]
     },
     "execution_count": 61,
     "metadata": {},
     "output_type": "execute_result"
    }
   ],
   "source": [
    "tensor1_.shape, tensor1_.ndim"
   ]
  },
  {
   "cell_type": "code",
   "execution_count": 62,
   "metadata": {
    "colab": {
     "base_uri": "https://localhost:8080/",
     "height": 36
    },
    "executionInfo": {
     "elapsed": 9,
     "status": "ok",
     "timestamp": 1744647516120,
     "user": {
      "displayName": "고강태",
      "userId": "11277884504998149270"
     },
     "user_tz": -540
    },
    "id": "7NvTVWL3E5t2",
    "outputId": "696712f8-8324-469d-cc22-31526a435abb"
   },
   "outputs": [
    {
     "data": {
      "text/plain": [
       "'/job:localhost/replica:0/task:0/device:CPU:0'"
      ]
     },
     "execution_count": 62,
     "metadata": {},
     "output_type": "execute_result"
    }
   ],
   "source": [
    "tensor1_.backing_device"
   ]
  },
  {
   "cell_type": "code",
   "execution_count": 63,
   "metadata": {
    "colab": {
     "base_uri": "https://localhost:8080/"
    },
    "executionInfo": {
     "elapsed": 7,
     "status": "ok",
     "timestamp": 1744647522625,
     "user": {
      "displayName": "고강태",
      "userId": "11277884504998149270"
     },
     "user_tz": -540
    },
    "id": "GvZjoM_tE5t2",
    "outputId": "3b0fc739-91db-4420-9c66-74ee44dbafd0"
   },
   "outputs": [
    {
     "name": "stdout",
     "output_type": "stream",
     "text": [
      "WARNING:tensorflow:From /tmp/ipykernel_168080/265065896.py:1: _EagerTensorBase.cpu (from tensorflow.python.framework.ops) is deprecated and will be removed in a future version.\n",
      "Instructions for updating:\n",
      "Use tf.identity with explicit device placement instead.\n"
     ]
    },
    {
     "data": {
      "text/plain": [
       "<tf.Tensor: shape=(6,), dtype=int32, numpy=array([1, 2, 3, 4, 5, 6], dtype=int32)>"
      ]
     },
     "execution_count": 63,
     "metadata": {},
     "output_type": "execute_result"
    }
   ],
   "source": [
    "tensor1.cpu()"
   ]
  },
  {
   "cell_type": "markdown",
   "metadata": {
    "id": "NQ_PIBfDE5t3"
   },
   "source": [
    "### 특정 형상을 기준으로 동일한 값을 저장"
   ]
  },
  {
   "cell_type": "code",
   "execution_count": 69,
   "metadata": {
    "executionInfo": {
     "elapsed": 5,
     "status": "ok",
     "timestamp": 1744647547290,
     "user": {
      "displayName": "고강태",
      "userId": "11277884504998149270"
     },
     "user_tz": -540
    },
    "id": "DdTzrW8bE5t3"
   },
   "outputs": [],
   "source": [
    "# fill() \n",
    "fill_ = tf.fill([2, 3], 9)"
   ]
  },
  {
   "cell_type": "code",
   "execution_count": 70,
   "metadata": {
    "colab": {
     "base_uri": "https://localhost:8080/"
    },
    "executionInfo": {
     "elapsed": 6,
     "status": "ok",
     "timestamp": 1744647548309,
     "user": {
      "displayName": "고강태",
      "userId": "11277884504998149270"
     },
     "user_tz": -540
    },
    "id": "sv-Tw01CE5t3",
    "outputId": "22b01dfb-7d89-43b2-c6db-0ea720bfa5db"
   },
   "outputs": [
    {
     "data": {
      "text/plain": [
       "<tf.Tensor: shape=(2, 3), dtype=int32, numpy=\n",
       "array([[9, 9, 9],\n",
       "       [9, 9, 9]], dtype=int32)>"
      ]
     },
     "execution_count": 70,
     "metadata": {},
     "output_type": "execute_result"
    }
   ],
   "source": [
    "fill_"
   ]
  },
  {
   "cell_type": "code",
   "execution_count": 71,
   "metadata": {
    "colab": {
     "base_uri": "https://localhost:8080/"
    },
    "executionInfo": {
     "elapsed": 3,
     "status": "ok",
     "timestamp": 1744647549447,
     "user": {
      "displayName": "고강태",
      "userId": "11277884504998149270"
     },
     "user_tz": -540
    },
    "id": "zevVRaQGE5t3",
    "outputId": "9c8e4f98-cf84-4f90-fa16-181c22842f78"
   },
   "outputs": [
    {
     "data": {
      "text/plain": [
       "<tf.Tensor: shape=(2, 3), dtype=int32, numpy=\n",
       "array([[39, 39, 39],\n",
       "       [39, 39, 39]], dtype=int32)>"
      ]
     },
     "execution_count": 71,
     "metadata": {},
     "output_type": "execute_result"
    }
   ],
   "source": [
    "# 30을 + 브로드캐스트\n",
    "fill_ +30"
   ]
  },
  {
   "cell_type": "markdown",
   "metadata": {
    "id": "Kg1ZRgouE5t3"
   },
   "source": [
    "## CPU, GPU 를 사용한 계산"
   ]
  },
  {
   "cell_type": "markdown",
   "metadata": {},
   "source": [
    "> GPU 메모리 문제 발생 가능"
   ]
  },
  {
   "cell_type": "markdown",
   "metadata": {},
   "source": [
    "### CPU"
   ]
  },
  {
   "cell_type": "code",
   "execution_count": 81,
   "metadata": {},
   "outputs": [],
   "source": [
    "with tf.device('/CPU:' + str(0)):\n",
    "    # 1. 연산에 사용할 행렬의 크기 정의\n",
    "    matrix_size = 8192  # 더 큰 값일수록 CPU와 GPU 간의 성능 차이를 명확히 볼 수 있습니다.\n",
    "    a = tf.random.normal([matrix_size, matrix_size], dtype=tf.float32)\n",
    "    b = tf.random.normal([matrix_size, matrix_size], dtype=tf.float32)"
   ]
  },
  {
   "cell_type": "code",
   "execution_count": 83,
   "metadata": {},
   "outputs": [
    {
     "name": "stdout",
     "output_type": "stream",
     "text": [
      "CPU 연산 시간: 2.6104 초\n"
     ]
    }
   ],
   "source": [
    "import time\n",
    "\n",
    "cpu_slot = 0\n",
    "\n",
    "# Using CPU at slot 0\n",
    "with tf.device('/CPU:' + str(cpu_slot)):\n",
    "    start = time.time()\n",
    "\n",
    "    c_cpu  = tf.matmul(a, b) # 행렬 곱셈\n",
    "    r = c_cpu .numpy()\n",
    "\n",
    "    end = time.time() - start\n",
    "    print(f\"CPU 연산 시간: {end:.4f} 초\")\n"
   ]
  },
  {
   "cell_type": "markdown",
   "metadata": {},
   "source": [
    "### GPU 를 사용한 계산"
   ]
  },
  {
   "cell_type": "code",
   "execution_count": null,
   "metadata": {
    "colab": {
     "base_uri": "https://localhost:8080/"
    },
    "executionInfo": {
     "elapsed": 9,
     "status": "ok",
     "timestamp": 1744647614094,
     "user": {
      "displayName": "고강태",
      "userId": "11277884504998149270"
     },
     "user_tz": -540
    },
    "id": "gSUYrqyrE5t4",
    "outputId": "7d714cc4-86cf-4b39-b86e-9d6ea3481551"
   },
   "outputs": [],
   "source": [
    "# Using the GPU at slot 0\n",
    "gpu_slot = 0\n",
    "\n",
    "if tf.config.list_physical_devices('GPU'):\n",
    "\n",
    "    with tf.device('/GPU:' + str(gpu_slot)):\n",
    "        # Starting a timer\n",
    "        start = time.time()\n",
    "\n",
    "        # Doing operations on GPU\n",
    "        # A = tf.constant([[3, 2], [5, 2]])\n",
    "        # print(tf.eye(2,2))\n",
    "        c_gpu  = tf.matmul(a, b) # 행렬 곱셈\n",
    "        r = c_gpu .numpy() # 연산이 실제로 완료되도록 결과를 numpy 배열로 변환 (지연 실행 방지)\n",
    "\n",
    "        # Printing how long it took with CPU\n",
    "        end = time.time() - start\n",
    "        print(f\"GPU 연산 시간: {end:.4f} 초\")\n",
    "else:\n",
    "    print(\"GPU를 찾을 수 없습니다. GPU 연산을 건너뜝니다.\")\n",
    "\n",
    "    "
   ]
  },
  {
   "cell_type": "code",
   "execution_count": null,
   "metadata": {},
   "outputs": [
    {
     "name": "stdout",
     "output_type": "stream",
     "text": [
      "GPU 연산 시간: 0.1988 초\n"
     ]
    }
   ],
   "source": [
    "gpu_slot = 0\n",
    "\n",
    "if tf.config.list_physical_devices('GPU'):\n",
    "\n",
    "    with tf.device('/GPU:' + str(gpu_slot)):\n",
    "        start = time.time()\n",
    "\n",
    "        c_gpu  = tf.matmul(a, b) # 행렬 곱셈\n",
    "        r = c_gpu .numpy()\n",
    "\n",
    "        end = time.time() - start\n",
    "        print(f\"GPU 연산 시간: {end:.4f} 초\")\n",
    "else:\n",
    "    print(\"GPU를 찾을 수 없습니다. GPU 연산을 건너뜝니다.\")\n",
    "    "
   ]
  },
  {
   "cell_type": "code",
   "execution_count": null,
   "metadata": {},
   "outputs": [
    {
     "name": "stdout",
     "output_type": "stream",
     "text": [
      "\n",
      "CPU와 GPU 결과의 최대 차이: 1.6217e-01\n",
      "CPU와 GPU 연산 결과에 차이가 있습니다.\n"
     ]
    }
   ],
   "source": [
    "# 5. 결과 검증\n",
    "# CPU와 GPU에서 계산된 결과가 동일한지 확인합니다.\n",
    "if tf.config.list_physical_devices('GPU'):\n",
    "    # 두 결과가 완전히 같지 않을 수 있습니다 (부동 소수점 정밀도 차이).\n",
    "    # 따라서 어느 정도의 오차 범위 내에서 같은지 확인합니다.\n",
    "    diff = tf.reduce_max(tf.abs(c_cpu - c_gpu))\n",
    "    print(f\"\\nCPU와 GPU 결과의 최대 차이: {diff:.4e}\")\n",
    "    if diff < 1e-5: # 작은 값으로 오차 허용 범위 설정\n",
    "        print(\"CPU와 GPU 연산 결과가 거의 동일합니다.\")\n",
    "    else:\n",
    "        print(\"CPU와 GPU 연산 결과에 차이가 있습니다.\")"
   ]
  },
  {
   "cell_type": "markdown",
   "metadata": {},
   "source": [
    "TensorFlow 예제를 실행했을 때 GPU가 CPU보다 더 느리게 작동하는 경우는 몇 가지 원인이 있을 수 있습니다. 특히 행렬 곱셈과 같은 연산에서 GPU는 일반적으로 CPU보다 훨씬 빠르다고 알려져 있는데도 말이죠.\n",
    "\n",
    "가장 흔한 원인들을 아래에서 설명해 드리겠습니다.\n",
    "\n",
    "1. GPU 오버헤드 (Overhead)\n",
    "\n",
    "GPU는 병렬 처리에 특화되어 있지만, GPU 연산을 시작하고 데이터를 주고받는 데에는 초기 설정(setup) 및 데이터 전송(data transfer) 오버헤드가 발생합니다.\n",
    "\n",
    "- 데이터 전송 (CPU to GPU, GPU to CPU): CPU 메모리에 있는 데이터를 GPU 메모리로 전송하고, 연산이 끝난 후 GPU 메모리에서 CPU 메모리로 다시 전송하는 데 시간이 소요됩니다. 이 전송 비용이 실제 GPU 연산 시간보다 더 클 수 있습니다.\n",
    "\n",
    "- 커널 런치 (Kernel Launch) 오버헤드: CPU가 GPU에 작업을 지시(커널 런치)하는 과정에도 약간의 시간이 걸립니다.\n",
    "\n",
    "\n",
    "2. GPU 워밍업 (Warm-up) 시간\n",
    "일부 GPU 드라이버나 런타임 환경에서는 첫 번째 GPU 연산을 수행할 때 초기화 또는 \"워밍업\" 시간이 필요할 수 있습니다"
   ]
  },
  {
   "cell_type": "markdown",
   "metadata": {
    "id": "r7vm7eNlE5t4"
   },
   "source": [
    "# 4. 변수\n",
    "\n",
    "TensorFlow 2.x에서는 텐서 연산에 **Eager Execution(즉시 실행)**이 기본으로 설정되어 있어, 코드를 작성하는 즉시 연산이 실행되고 결과가 반환됩니다. 이는 Python의 일반적인 코딩 방식과 유사하여 디버깅 및 개발이 훨씬 용이합니다.\n",
    "> - tensorflow 2.x 이전 버전의 주요 변수 선언자: 플레이스홀더."
   ]
  },
  {
   "cell_type": "markdown",
   "metadata": {
    "id": "5wQ_of2DE5t4"
   },
   "source": [
    "### 변수란?\n",
    "\n",
    "**변수 (Variable)** 는 딥러닝 모델의 학습 가능한 파라미터(예: 가중치, 편향)를 저장하는 데 사용되는 특별한 종류의 텐서로 `tf.constant` 와 달리 `tf.Variable` 은 값을 변경할 수 있다. 모델이 데이터를 학습하면서 이 변수들의 값이 최적의 성능을 낼 수 있도록 점진적으로 업데이트된다."
   ]
  },
  {
   "cell_type": "markdown",
   "metadata": {},
   "source": [
    "### 변수 초기화\n",
    "\n",
    "변수는 모델 학습을 시작하기 전에 적절한 값으로 초기화되어야 합니다. TensorFlow는 tf.random.normal (정규 분포), tf.zeros (모든 요소가 0), tf.ones (모든 요소가 1) 등 다양한 초기화 함수를 제공합니다."
   ]
  },
  {
   "cell_type": "markdown",
   "metadata": {},
   "source": [
    "tf.Variable() 함수를 사용하여 변수를 생성하고 초기값을 필수로 지정해야 한다.\n",
    "\n",
    "```python\n",
    "X = tf.Variable(5.0)\n",
    "x_data = [[1,2,3],[4,5,6]]\n",
    "X = tf.Variable(x_data)\n",
    "X = tf.Variable(tf.random.normal((2,3)))\n",
    "```"
   ]
  },
  {
   "cell_type": "code",
   "execution_count": null,
   "metadata": {},
   "outputs": [
    {
     "data": {
      "text/plain": [
       "<tf.Variable 'Variable:0' shape=() dtype=float32, numpy=5.0>"
      ]
     },
     "execution_count": 77,
     "metadata": {},
     "output_type": "execute_result"
    }
   ],
   "source": [
    "X = tf.Variable(5.0)\n",
    "X"
   ]
  },
  {
   "cell_type": "markdown",
   "metadata": {},
   "source": [
    "- assign 을 사용해 변수 텐서의 값을 변경할 수 있다"
   ]
  },
  {
   "cell_type": "code",
   "execution_count": null,
   "metadata": {},
   "outputs": [
    {
     "data": {
      "text/plain": [
       "<tf.Variable 'Variable:0' shape=() dtype=float32, numpy=9.0>"
      ]
     },
     "execution_count": 78,
     "metadata": {},
     "output_type": "execute_result"
    }
   ],
   "source": [
    "# assign 을 사용해 변수 텐서의 값을 변경할 수 있다\n",
    "X.assign(9.0)\n",
    "X"
   ]
  },
  {
   "cell_type": "code",
   "execution_count": null,
   "metadata": {},
   "outputs": [
    {
     "data": {
      "text/plain": [
       "<tf.Variable 'Variable:0' shape=(2, 3) dtype=int32, numpy=\n",
       "array([[1, 2, 3],\n",
       "       [4, 5, 6]], dtype=int32)>"
      ]
     },
     "execution_count": 79,
     "metadata": {},
     "output_type": "execute_result"
    }
   ],
   "source": [
    "x_data = [[1,2,3],[4,5,6]]\n",
    "X = tf.Variable(x_data)\n",
    "X"
   ]
  },
  {
   "cell_type": "markdown",
   "metadata": {},
   "source": [
    "tf.random.normal() 등의 임의의 범위 값으로 초기화를 할 수 있다."
   ]
  },
  {
   "cell_type": "code",
   "execution_count": null,
   "metadata": {},
   "outputs": [
    {
     "data": {
      "text/plain": [
       "<tf.Variable 'Variable:0' shape=(2, 3) dtype=float32, numpy=\n",
       "array([[ 1.3458368 ,  0.3061433 , -0.01974057],\n",
       "       [-0.28733382, -1.1497934 ,  0.16760664]], dtype=float32)>"
      ]
     },
     "execution_count": 80,
     "metadata": {},
     "output_type": "execute_result"
    }
   ],
   "source": [
    "X = tf.Variable(tf.random.normal((2,3)))\n",
    "X\n"
   ]
  },
  {
   "cell_type": "code",
   "execution_count": null,
   "metadata": {},
   "outputs": [
    {
     "data": {
      "text/plain": [
       "<tf.Variable 'Variable:0' shape=(2, 3) dtype=float32, numpy=\n",
       "array([[ 2.9920444 ,  0.00541398,  0.83918726],\n",
       "       [-0.08768904, -2.4048605 , -1.0975332 ]], dtype=float32)>"
      ]
     },
     "execution_count": 81,
     "metadata": {},
     "output_type": "execute_result"
    }
   ],
   "source": [
    "X.assign_add(tf.random.normal((2,3)))\n",
    "X"
   ]
  },
  {
   "cell_type": "markdown",
   "metadata": {},
   "source": [
    "### 변수를 사용해서 방정식의 해를 찾아 보자"
   ]
  },
  {
   "cell_type": "code",
   "execution_count": null,
   "metadata": {
    "id": "BWkWtXmrE5t4"
   },
   "outputs": [],
   "source": [
    "X = tf.Variable(tf.random.normal((2,3)))"
   ]
  },
  {
   "cell_type": "code",
   "execution_count": null,
   "metadata": {
    "id": "txUpZO13E5t5"
   },
   "outputs": [],
   "source": [
    "W = tf.Variable(tf.random.normal((3,2)))"
   ]
  },
  {
   "cell_type": "code",
   "execution_count": null,
   "metadata": {
    "id": "WUoTKasGE5t5"
   },
   "outputs": [],
   "source": [
    "b = tf.Variable(tf.random.normal((2,1)))"
   ]
  },
  {
   "cell_type": "code",
   "execution_count": null,
   "metadata": {
    "id": "2nCYGRn8E5t5"
   },
   "outputs": [],
   "source": [
    "expr = tf.matmul(X, W) + b"
   ]
  },
  {
   "cell_type": "code",
   "execution_count": null,
   "metadata": {},
   "outputs": [
    {
     "data": {
      "text/plain": [
       "<tf.Tensor: shape=(2, 2), dtype=float32, numpy=\n",
       "array([[-0.16000828, -0.71595764],\n",
       "       [ 0.04002523,  4.73197   ]], dtype=float32)>"
      ]
     },
     "execution_count": 86,
     "metadata": {},
     "output_type": "execute_result"
    }
   ],
   "source": [
    "expr"
   ]
  },
  {
   "cell_type": "code",
   "execution_count": null,
   "metadata": {
    "id": "GO6jgptLE5t5",
    "outputId": "1a6f286c-dd2e-4754-8ec5-156aa57c64f8"
   },
   "outputs": [
    {
     "data": {
      "text/plain": [
       "array([[-0.16000828, -0.71595764],\n",
       "       [ 0.04002523,  4.73197   ]], dtype=float32)"
      ]
     },
     "execution_count": 87,
     "metadata": {},
     "output_type": "execute_result"
    }
   ],
   "source": [
    "expr.numpy()"
   ]
  },
  {
   "cell_type": "markdown",
   "metadata": {},
   "source": [
    "### 실습: 변수와 concat 함수 사용"
   ]
  },
  {
   "cell_type": "code",
   "execution_count": null,
   "metadata": {
    "id": "ScdAn9hjE5t6"
   },
   "outputs": [],
   "source": [
    "# Making a constant tensor A, that does not change\n",
    "A = tf.constant([[3, 2],\n",
    "                 [5, 2]])\n",
    "\n",
    "# Making a Variable tensor VA, which can change. Notice it's .Variable\n",
    "VA = tf.Variable([[3, 2],\n",
    "                 [5, 2]])\n",
    "\n",
    "# Making another tensor B\n",
    "B = tf.constant([[9, 5],\n",
    "                 [1, 3]])"
   ]
  },
  {
   "cell_type": "code",
   "execution_count": null,
   "metadata": {
    "id": "kldl9Wb0E5t6",
    "outputId": "03db249e-5dde-48fc-9b74-465d2087b371"
   },
   "outputs": [
    {
     "name": "stdout",
     "output_type": "stream",
     "text": [
      "Adding B's columns to A:\n",
      "[[3 2 9 5]\n",
      " [5 2 1 3]]\n"
     ]
    }
   ],
   "source": [
    "# Concatenate columns\n",
    "AB_concatenated = tf.concat(values=[A, B], axis=1)\n",
    "\n",
    "print(('Adding B\\'s columns to A:\\n{0}').format( AB_concatenated.numpy()))"
   ]
  },
  {
   "cell_type": "code",
   "execution_count": null,
   "metadata": {
    "id": "87E6gsEWE5t6",
    "outputId": "e01cad42-08ec-401b-b5d6-d55eb0c800d6"
   },
   "outputs": [
    {
     "name": "stdout",
     "output_type": "stream",
     "text": [
      "\n",
      "Adding B's rows to A:\n",
      "[[3 2]\n",
      " [5 2]\n",
      " [9 5]\n",
      " [1 3]]\n"
     ]
    }
   ],
   "source": [
    "# Concatenate rows\n",
    "AB_concatenated = tf.concat(values=[A, B], axis=0)\n",
    "\n",
    "print(('\\nAdding B\\'s rows to A:\\n{0}').format( AB_concatenated.numpy()))"
   ]
  },
  {
   "cell_type": "markdown",
   "metadata": {},
   "source": [
    "### reshape"
   ]
  },
  {
   "cell_type": "code",
   "execution_count": null,
   "metadata": {
    "id": "nj12dKMJE5t8"
   },
   "outputs": [],
   "source": [
    "# Making a tensor for reshaping\n",
    "tensor = tf.constant([[3, 2],\n",
    "                      [5, 2],\n",
    "                      [9, 5],\n",
    "                      [1, 3]])"
   ]
  },
  {
   "cell_type": "code",
   "execution_count": null,
   "metadata": {
    "id": "i-ufX8QUE5t8"
   },
   "outputs": [
    {
     "data": {
      "text/plain": [
       "<tf.Tensor: shape=(4, 2), dtype=int32, numpy=\n",
       "array([[3, 2],\n",
       "       [5, 2],\n",
       "       [9, 5],\n",
       "       [1, 3]], dtype=int32)>"
      ]
     },
     "execution_count": 92,
     "metadata": {},
     "output_type": "execute_result"
    }
   ],
   "source": [
    "tensor"
   ]
  },
  {
   "cell_type": "code",
   "execution_count": null,
   "metadata": {
    "id": "0L9AfO6KE5t8",
    "outputId": "9de94095-0f7e-45f7-b19c-e0da5965cff5"
   },
   "outputs": [
    {
     "name": "stdout",
     "output_type": "stream",
     "text": [
      "Tensor BEFORE reshape:\n",
      "[[3 2]\n",
      " [5 2]\n",
      " [9 5]\n",
      " [1 3]]\n",
      "\n",
      "Tensor AFTER reshape:\n",
      "[[3 2 5 2 9 5 1 3]]\n"
     ]
    }
   ],
   "source": [
    "# Reshaping the tensor into a shape of: shape = [rows, columns]\n",
    "reshaped_tensor = tf.reshape(tensor = tensor,\n",
    "                             shape = [1, 8])\n",
    "\n",
    "print(('Tensor BEFORE reshape:\\n{0}').format(tensor.numpy()))\n",
    "print(('\\nTensor AFTER reshape:\\n{0}').format(reshaped_tensor.numpy()))"
   ]
  },
  {
   "cell_type": "code",
   "execution_count": null,
   "metadata": {
    "id": "7RKYnAZ-E5t8"
   },
   "outputs": [],
   "source": []
  },
  {
   "cell_type": "markdown",
   "metadata": {},
   "source": [
    "### 변수형 변경: cast"
   ]
  },
  {
   "cell_type": "code",
   "execution_count": null,
   "metadata": {
    "id": "rXYLzX8fE5t8",
    "outputId": "15cc92af-b18a-4f28-e83a-a5da91c90670"
   },
   "outputs": [
    {
     "name": "stdout",
     "output_type": "stream",
     "text": [
      "Tensor with floats:\n",
      "[[3.1 2.8]\n",
      " [5.2 2.3]\n",
      " [9.7 5.5]\n",
      " [1.1 3.4]]\n",
      "\n",
      "Tensor cast from float to int (just remove the decimal, no rounding):\n",
      "[[3 2]\n",
      " [5 2]\n",
      " [9 5]\n",
      " [1 3]]\n"
     ]
    }
   ],
   "source": [
    "# Making a tensor\n",
    "tensor = tf.constant([[3.1, 2.8],\n",
    "                      [5.2, 2.3],\n",
    "                      [9.7, 5.5],\n",
    "                      [1.1, 3.4]],\n",
    "                      dtype=tf.float32)\n",
    "\n",
    "tensor_as_int = tf.cast(tensor, tf.int32)\n",
    "\n",
    "print(('Tensor with floats:\\n{0}').format(tensor.numpy()))\n",
    "print(('\\nTensor cast from float to int (just remove the decimal, no rounding):\\n{0}').format(tensor_as_int.numpy()))"
   ]
  },
  {
   "cell_type": "markdown",
   "metadata": {},
   "source": [
    "### (참고) TensorFlow 1.x과 2.0의 Eager Execution\n",
    "\n",
    "TensorFlow 1.x의 Graph 와 Session 은 TensorFlow 2.x에서는 Eager Execution으로 지원하고 있다.\n",
    "\n",
    "- TensorFlow 1.x에서는 모든 연산이 **그래프 (Graph)**라는 정적 계산 그래프를 먼저 정의한 후, 세션 (Session) 내에서 실행되는 방식이었습니다. 즉, \"모델을 먼저 설계하고, 나중에 데이터를 넣어 실행\"하는 방식이었다.\n",
    "\n",
    "  - 그래프: 연산 노드(Operation)와 텐서 노드(Tensor)로 구성된 일종의 설계도입니다.\n",
    "  - 세션: 그래프를 실행하고 실제 연산을 수행하는 런타임 환경입니다.\n",
    "\n",
    "TensorFlow 2.x에서는 **Eager Execution (즉시 실행)**이 기본이 되면서 이러한 그래프-세션 개념이 추상화되고 사용자가 직접적으로 다룰 필요가 없어졌습니다. 코드를 작성하는 즉시 연산이 실행되어 마치 일반적인 Python 코드처럼 느껴집니다. 이는 디버깅을 훨씬 쉽게 만들고 개발 속도를 높여줍니다. 하지만 내부적으로는 여전히 tf.function과 같은 기능을 통해 그래프 최적화가 이루어지고 있습니다.\n"
   ]
  },
  {
   "cell_type": "markdown",
   "metadata": {},
   "source": [
    "- 플래이스 홀더와 세션이 사라짐"
   ]
  },
  {
   "cell_type": "code",
   "execution_count": null,
   "metadata": {},
   "outputs": [
    {
     "name": "stdout",
     "output_type": "stream",
     "text": [
      "module 'tensorflow' has no attribute 'placeholder'\n"
     ]
    }
   ],
   "source": [
    "try :\n",
    "    tf.placeholder('float')\n",
    "\n",
    "except Exception as e :\n",
    "    print(e)"
   ]
  },
  {
   "cell_type": "code",
   "execution_count": null,
   "metadata": {},
   "outputs": [
    {
     "name": "stdout",
     "output_type": "stream",
     "text": [
      "module 'tensorflow' has no attribute 'Session'\n"
     ]
    }
   ],
   "source": [
    "try :\n",
    "    tf.Session()\n",
    "except Exception as e :\n",
    "    print(e)"
   ]
  },
  {
   "cell_type": "code",
   "execution_count": null,
   "metadata": {},
   "outputs": [
    {
     "name": "stdout",
     "output_type": "stream",
     "text": [
      "Eager execution is enabled (running operations immediately)\n",
      "\n",
      "Turn eager execution off by running: \n",
      "from tensorflow.python.framework.ops import disable_eager_execution\n",
      "disable_eager_execution()\n"
     ]
    }
   ],
   "source": [
    "if(tf.executing_eagerly()):\n",
    "    print('Eager execution is enabled (running operations immediately)\\n')\n",
    "    print(('Turn eager execution off by running: \\n{0}\\n{1}').format('' \\\n",
    "        'from tensorflow.python.framework.ops import disable_eager_execution', \\\n",
    "        'disable_eager_execution()'))\n",
    "else:\n",
    "    print('You are not running eager execution. TensorFlow version >= 2.0.0' \\\n",
    "          'has eager execution enabled by default.')\n",
    "    print(('Turn on eager execution by running: \\n\\n{0}\\n\\nOr upgrade '\\\n",
    "           'your tensorflow version by running:\\n\\n{1}').format(\n",
    "           'tf.compat.v1.enable_eager_execution()',\n",
    "           '!pip install --upgrade tensorflow\\n' \\\n",
    "           '!pip install --upgrade tensorflow-gpu'))"
   ]
  },
  {
   "cell_type": "markdown",
   "metadata": {},
   "source": [
    "# 4. 행렬\n",
    "\n",
    "- 영행렬 일행렬\n",
    "- 채움\n",
    "- 전치행렬\n",
    "- 대각행렬\n",
    "- 항등행렬"
   ]
  },
  {
   "cell_type": "markdown",
   "metadata": {},
   "source": [
    "### 영행렬, 일행렬\n",
    " -  zeros()\n",
    " -  ones()"
   ]
  },
  {
   "cell_type": "code",
   "execution_count": null,
   "metadata": {},
   "outputs": [
    {
     "name": "stdout",
     "output_type": "stream",
     "text": [
      "Tensor full of zeros as int32, 3 rows and 4 columns:\n",
      "[[0 0 0 0]\n",
      " [0 0 0 0]\n",
      " [0 0 0 0]]\n"
     ]
    }
   ],
   "source": [
    "# Making a tensor filled with zeros. shape=[rows, columns]\n",
    "tensor = tf.zeros(shape=[3, 4], dtype=tf.int32)\n",
    "print(('Tensor full of zeros as int32, 3 rows and 4 columns:\\n{0}').format(tensor.numpy()))"
   ]
  },
  {
   "cell_type": "code",
   "execution_count": null,
   "metadata": {},
   "outputs": [
    {
     "name": "stdout",
     "output_type": "stream",
     "text": [
      "\n",
      "Tensor full of ones as float32, 5 rows and 3 columns:\n",
      "[[1. 1. 1.]\n",
      " [1. 1. 1.]\n",
      " [1. 1. 1.]\n",
      " [1. 1. 1.]\n",
      " [1. 1. 1.]]\n"
     ]
    }
   ],
   "source": [
    "# Making a tensor filled with zeros with data type of float32\n",
    "tensor = tf.ones(shape=[5, 3], dtype=tf.float32)\n",
    "print(('\\nTensor full of ones as float32, 5 rows and 3 columns:\\n{0}').format(tensor.numpy()))"
   ]
  },
  {
   "cell_type": "markdown",
   "metadata": {},
   "source": [
    "### fill()"
   ]
  },
  {
   "cell_type": "code",
   "execution_count": null,
   "metadata": {},
   "outputs": [
    {
     "data": {
      "text/plain": [
       "<tf.Tensor: shape=(10, 10), dtype=int32, numpy=\n",
       "array([[0, 0, 0, 0, 0, 0, 0, 0, 0, 0],\n",
       "       [0, 0, 0, 0, 0, 0, 0, 0, 0, 0],\n",
       "       [0, 0, 0, 0, 0, 0, 0, 0, 0, 0],\n",
       "       [0, 0, 0, 0, 0, 0, 0, 0, 0, 0],\n",
       "       [0, 0, 0, 0, 0, 0, 0, 0, 0, 0],\n",
       "       [0, 0, 0, 0, 0, 0, 0, 0, 0, 0],\n",
       "       [0, 0, 0, 0, 0, 0, 0, 0, 0, 0],\n",
       "       [0, 0, 0, 0, 0, 0, 0, 0, 0, 0],\n",
       "       [0, 0, 0, 0, 0, 0, 0, 0, 0, 0],\n",
       "       [0, 0, 0, 0, 0, 0, 0, 0, 0, 0]], dtype=int32)>"
      ]
     },
     "execution_count": 99,
     "metadata": {},
     "output_type": "execute_result"
    }
   ],
   "source": [
    "tensor_fill = tf.fill([10,10],0)\n",
    "tensor_fill"
   ]
  },
  {
   "cell_type": "code",
   "execution_count": null,
   "metadata": {},
   "outputs": [
    {
     "data": {
      "text/plain": [
       "<tf.Tensor: shape=(10, 10), dtype=float32, numpy=\n",
       "array([[1., 1., 1., 1., 1., 1., 1., 1., 1., 1.],\n",
       "       [1., 1., 1., 1., 1., 1., 1., 1., 1., 1.],\n",
       "       [1., 1., 1., 1., 1., 1., 1., 1., 1., 1.],\n",
       "       [1., 1., 1., 1., 1., 1., 1., 1., 1., 1.],\n",
       "       [1., 1., 1., 1., 1., 1., 1., 1., 1., 1.],\n",
       "       [1., 1., 1., 1., 1., 1., 1., 1., 1., 1.],\n",
       "       [1., 1., 1., 1., 1., 1., 1., 1., 1., 1.],\n",
       "       [1., 1., 1., 1., 1., 1., 1., 1., 1., 1.],\n",
       "       [1., 1., 1., 1., 1., 1., 1., 1., 1., 1.],\n",
       "       [1., 1., 1., 1., 1., 1., 1., 1., 1., 1.]], dtype=float32)>"
      ]
     },
     "execution_count": 100,
     "metadata": {},
     "output_type": "execute_result"
    }
   ],
   "source": [
    "tf.ones([10,10])"
   ]
  },
  {
   "cell_type": "code",
   "execution_count": null,
   "metadata": {
    "id": "NQZF_ERXE5t8"
   },
   "outputs": [],
   "source": []
  },
  {
   "cell_type": "markdown",
   "metadata": {},
   "source": [
    "### 전치행렬\n",
    "Transpose"
   ]
  },
  {
   "cell_type": "code",
   "execution_count": null,
   "metadata": {
    "id": "1DW-uYDwE5t8",
    "outputId": "0afa81c5-5d74-4bd3-9e58-7d2512f68a74"
   },
   "outputs": [
    {
     "name": "stdout",
     "output_type": "stream",
     "text": [
      "The transposed matrix A:\n",
      "[[3 1]\n",
      " [7 9]]\n"
     ]
    }
   ],
   "source": [
    "# Some Matrix A\n",
    "A = tf.constant([[3, 7],\n",
    "                 [1, 9]])\n",
    "\n",
    "A = tf.transpose(A)\n",
    "\n",
    "print(('The transposed matrix A:\\n{0}').format(A))"
   ]
  },
  {
   "cell_type": "code",
   "execution_count": null,
   "metadata": {},
   "outputs": [
    {
     "data": {
      "text/plain": [
       "<tf.Tensor: shape=(2, 3), dtype=int32, numpy=\n",
       "array([[1, 2, 3],\n",
       "       [4, 5, 6]], dtype=int32)>"
      ]
     },
     "execution_count": 102,
     "metadata": {},
     "output_type": "execute_result"
    }
   ],
   "source": [
    "E = tf.constant([[1, 2, 3], [4, 5, 6]])\n",
    "E"
   ]
  },
  {
   "cell_type": "code",
   "execution_count": null,
   "metadata": {},
   "outputs": [
    {
     "data": {
      "text/plain": [
       "<tf.Tensor: shape=(3, 2), dtype=int32, numpy=\n",
       "array([[1, 4],\n",
       "       [2, 5],\n",
       "       [3, 6]], dtype=int32)>"
      ]
     },
     "execution_count": 103,
     "metadata": {},
     "output_type": "execute_result"
    }
   ],
   "source": [
    "# Transposing Matrix E\n",
    "transpose_E = tf.transpose(E, name=\"transposeE\")\n",
    "transpose_E"
   ]
  },
  {
   "cell_type": "markdown",
   "metadata": {},
   "source": [
    "### 대각행렬"
   ]
  },
  {
   "cell_type": "code",
   "execution_count": null,
   "metadata": {},
   "outputs": [
    {
     "name": "stdout",
     "output_type": "stream",
     "text": [
      "대각 행렬:\n",
      "[[1 0 0]\n",
      " [0 2 0]\n",
      " [0 0 3]]\n"
     ]
    }
   ],
   "source": [
    "# 주 대각선 원소 정의\n",
    "diagonal_elements = tf.constant([1, 2, 3])\n",
    "\n",
    "# 대각 행렬 생성\n",
    "diagonal_matrix = tf.linalg.diag(diagonal_elements)\n",
    "\n",
    "print(\"대각 행렬:\")\n",
    "print(diagonal_matrix.numpy())"
   ]
  },
  {
   "cell_type": "code",
   "execution_count": null,
   "metadata": {
    "id": "Gi0Z0VdJE5t8"
   },
   "outputs": [],
   "source": []
  },
  {
   "cell_type": "markdown",
   "metadata": {},
   "source": [
    "### Identity Matrix\n",
    "\n",
    "항등행렬"
   ]
  },
  {
   "cell_type": "code",
   "execution_count": null,
   "metadata": {
    "id": "M6tAGWeNE5t9",
    "outputId": "3946c52e-286a-442e-c273-a51c90ae2daa"
   },
   "outputs": [
    {
     "name": "stdout",
     "output_type": "stream",
     "text": [
      "in tensor A:\n",
      "3 rows\n",
      "2 columns\n",
      "\n",
      "identity matrix of A:\n",
      "[[1 0]\n",
      " [0 1]\n",
      " [0 0]]\n"
     ]
    }
   ],
   "source": [
    "# Some Matrix A\n",
    "A = tf.constant([[3, 7],\n",
    "                 [1, 9],\n",
    "                 [2, 5]])\n",
    "\n",
    "# Get number of dimensions\n",
    "rows, columns = A.shape\n",
    "print(('in tensor A:\\n{0} rows\\n{1} columns').format(rows, columns))\n",
    "\n",
    "# Making identity matrix\n",
    "A_identity = tf.eye(num_rows = rows,\n",
    "                    num_columns = columns,\n",
    "                    dtype = tf.int32)\n",
    "print(('\\nidentity matrix of A:\\n{0}').format(\n",
    "    A_identity.numpy()))"
   ]
  },
  {
   "cell_type": "markdown",
   "metadata": {},
   "source": [
    "## 행렬의 연산\n",
    "\n",
    "- 브로드캐스팅\n",
    "- 행렬 곱셈: tf.matmul(a, b) 또는 a @ b "
   ]
  },
  {
   "cell_type": "markdown",
   "metadata": {},
   "source": [
    "### 브로드캐스팅\n",
    "\n",
    "Element-wise broadcasting 은 크기가 다른 텐서 간의 연산을 가능하게 하는 메커니즘으로 NumPy의 브로드캐스팅 규칙과 유사하다. 작은 텐서가 큰 텐서의 형태에 맞춰 자동으로 확장되어 연산이 수행된다.\n",
    "\n",
    " - NumPy, Keras, Theano, Tensorflow 의 원소별 곱셈을 `*` 연산자를 사용한다.\n"
   ]
  },
  {
   "cell_type": "code",
   "execution_count": null,
   "metadata": {},
   "outputs": [
    {
     "data": {
      "text/plain": [
       "<tf.Tensor: shape=(2, 2), dtype=int32, numpy=\n",
       "array([[ 8,  7],\n",
       "       [10,  7]], dtype=int32)>"
      ]
     },
     "execution_count": 106,
     "metadata": {},
     "output_type": "execute_result"
    }
   ],
   "source": [
    "A = tf.constant([[3, 2],\n",
    "                 [5, 2]])\n",
    "A * 5\n",
    "A + 5"
   ]
  },
  {
   "cell_type": "markdown",
   "metadata": {},
   "source": [
    "multiply 등 연산 함수를 이용할 수 있다."
   ]
  },
  {
   "cell_type": "code",
   "execution_count": null,
   "metadata": {},
   "outputs": [],
   "source": [
    "# Element-wise multiplication\n",
    "Av = tf.multiply(A, 5)"
   ]
  },
  {
   "cell_type": "code",
   "execution_count": null,
   "metadata": {},
   "outputs": [
    {
     "data": {
      "text/plain": [
       "<tf.Tensor: shape=(2, 2), dtype=int32, numpy=\n",
       "array([[15, 10],\n",
       "       [10,  4]], dtype=int32)>"
      ]
     },
     "execution_count": 108,
     "metadata": {},
     "output_type": "execute_result"
    }
   ],
   "source": [
    "# Element-wise multiplication\n",
    "v = tf.constant([[5],\n",
    "                 [2]])\n",
    "Av = tf.multiply(A, v)\n",
    "Av"
   ]
  },
  {
   "cell_type": "markdown",
   "metadata": {},
   "source": [
    "### 행렬 내적\n",
    "\n",
    "\n",
    "- 행렬의 내적(dot product)은 tf.matmul(a, b) 또는 a @ b 를 지원 \n",
    "\n",
    "> - dot product: 주로 벡터 (1차원) 간의 연산이며, 결과는 스칼라입니다.\n",
    "> - 행렬의 곱셈: \n",
    ">    - tf.multiply()\n",
    ">    - 행렬 (2차원 이상) 간의 연산이며, 결과는 행렬입니다\n"
   ]
  },
  {
   "cell_type": "markdown",
   "metadata": {},
   "source": [
    "\n",
    "  - TensorFlow (및 NumPy)에서 `tf.tensordot` 같은 함수를 사용하거나, 1차원 벡터에 대해 `tf.matmul`을 사용할 경우 내적의 의미로 작동할 수 있습니다. \n",
    "\n"
   ]
  },
  {
   "cell_type": "markdown",
   "metadata": {},
   "source": [
    "Dot produt (여기서 행렬곱) 계산은\n",
    " - NumPy에서 벡터와 행렬의 내적은 `np.dot()` 함수사용.\n",
    " - Python3.5 이상은 `@`(at이라고 읽는다) 연산자로 계산한다.\n",
    "     - 2차원 배열로 표시한 벡터를 내적했을 때는 결과값이 스칼라가 아닌 2차원 배열이다.\n",
    " - Keras는 keras.dot() 연산 사용.\n",
    " - 텐서플로우는 tf.matmul(x, y) 를 사용한다.\n",
    " \n",
    "<img src='https://i.imgur.com/TahVEIY.png' width=500>"
   ]
  },
  {
   "cell_type": "markdown",
   "metadata": {},
   "source": [
    "https://angeloyeo.github.io/2020/09/08/matrix_multiplication.html"
   ]
  },
  {
   "cell_type": "markdown",
   "metadata": {},
   "source": [
    "**행렬 곱셈 (Matrix Multiplication)**은 수학적으로 정의된 행렬 간의 곱셈 규칙을 따르는 연산입니다. 딥러닝에서 신경망의 레이어 간 계산(입력 벡터와 가중치 행렬의 곱 등)에 가장 많이 사용됩니다.\n"
   ]
  },
  {
   "cell_type": "code",
   "execution_count": null,
   "metadata": {},
   "outputs": [
    {
     "name": "stdout",
     "output_type": "stream",
     "text": [
      "Matrix multiplication:\n",
      "[[19 22]\n",
      " [43 50]]\n"
     ]
    }
   ],
   "source": [
    "matrix1 = tf.constant([[1, 2], [3, 4]])\n",
    "matrix2 = tf.constant([[5, 6], [7, 8]])\n",
    "\n",
    "matrix_mult = tf.matmul(matrix1, matrix2)\n",
    "print(f\"Matrix multiplication:\\n{matrix_mult.numpy()}\")"
   ]
  },
  {
   "cell_type": "markdown",
   "metadata": {
    "id": "HJnqDYvhE5t-"
   },
   "source": [
    "# 5. tf.function 그래프 컴파일\n",
    "\n",
    "\n",
    "TensorFlow 2.x의 Eager Execution은 개발 편의성을 높였지만, 파이썬 코드의 인터프리터 오버헤드 때문에 순수 C++로 구현된 TensorFlow 1.x의 정적 그래프 방식보다 속도가 느릴 수 있습니다. **tf.function**은 이 문제를 해결하기 위해 사용됩니다.\n",
    "\n",
    "\n",
    "- https://www.tensorflow.org/guide/intro_to_graphs?hl=ko\n"
   ]
  },
  {
   "cell_type": "markdown",
   "metadata": {},
   "source": [
    "#### - `tf.function`의 역할\n",
    "\n",
    " - Python 함수를 호출 가능한 \\*\\*TensorFlow 그래프(TensorFlow Graph)\\*\\*로 컴파일합니다.\n",
    " - 이렇게 컴파일된 그래프는 Python 인터프리터의 간섭 없이 TensorFlow 런타임에서 직접 실행되므로 **성능이 크게 향상**됩니다.\n",
    " - GPU나 TPU 같은 가속기에서도 더 효율적으로 동작합니다.\n",
    " - 모델을 배포할 때 (SavedModel)에도 `tf.function`으로 캡슐화된 코드는 그래프 형태로 저장되어 쉽게 로드하고 실행할 수 있습니다.\n"
   ]
  },
  {
   "cell_type": "markdown",
   "metadata": {},
   "source": [
    "## **`tf.function` 사용**:\n",
    "\n",
    "  -  파이썬 함수 위에 데코레이터로 `@tf.function`을 붙이면 됩니다.\n",
    "  - tf.function() 으로 함수를 전달한다\n",
    "  - 첫 호출 시 함수는 그래프로 변환됩니다. 이후 호출부터는 변환된 그래프가 실행됩니다.\n"
   ]
  },
  {
   "cell_type": "code",
   "execution_count": null,
   "metadata": {},
   "outputs": [],
   "source": [
    "import tensorflow as tf\n",
    "import time"
   ]
  },
  {
   "cell_type": "markdown",
   "metadata": {},
   "source": [
    "#### - `tf.function` 즉시 사용"
   ]
  },
  {
   "cell_type": "code",
   "execution_count": null,
   "metadata": {},
   "outputs": [],
   "source": [
    "def rms(x, y):\n",
    "    return tf.reduce_mean(tf.multiply(x ** 2, 3) + y)\n",
    "\n",
    "r = tf.function(rms)\n"
   ]
  },
  {
   "cell_type": "code",
   "execution_count": null,
   "metadata": {},
   "outputs": [
    {
     "data": {
      "text/plain": [
       "<tensorflow.python.eager.polymorphic_function.polymorphic_function.Function at 0x7969ea59f020>"
      ]
     },
     "execution_count": 114,
     "metadata": {},
     "output_type": "execute_result"
    }
   ],
   "source": [
    "r"
   ]
  },
  {
   "cell_type": "code",
   "execution_count": null,
   "metadata": {},
   "outputs": [
    {
     "name": "stdout",
     "output_type": "stream",
     "text": [
      "20.0\n"
     ]
    }
   ],
   "source": [
    "x = tf.constant([[2.0, 3.0]])\n",
    "y = tf.constant([[3.0, -2.0]])\n",
    "\n",
    "# `rms()` and `r` will return the same value,\n",
    "# but `r` will be executed as a TensorFlow graph.\n",
    "assert rms(x, y).numpy() == r(x, y).numpy()\n",
    "\n",
    "print(rms(x,y).numpy())"
   ]
  },
  {
   "cell_type": "markdown",
   "metadata": {},
   "source": [
    "#### - 데코레이터 사용"
   ]
  },
  {
   "cell_type": "code",
   "execution_count": null,
   "metadata": {},
   "outputs": [],
   "source": [
    "@tf.function\n",
    "def rms2(x, y) :\n",
    "    return tf.reduce_mean(tf.multiply(x ** 2, 3) + y)"
   ]
  },
  {
   "cell_type": "code",
   "execution_count": null,
   "metadata": {},
   "outputs": [
    {
     "data": {
      "text/plain": [
       "<tf.Tensor: shape=(), dtype=float32, numpy=20.0>"
      ]
     },
     "execution_count": 117,
     "metadata": {},
     "output_type": "execute_result"
    }
   ],
   "source": [
    "x = tf.constant([[2.0, 3.0]])\n",
    "y = tf.constant([[3.0, -2.0]])\n",
    "\n",
    "s = rms2(x, y)\n",
    "s"
   ]
  },
  {
   "cell_type": "code",
   "execution_count": null,
   "metadata": {},
   "outputs": [
    {
     "name": "stdout",
     "output_type": "stream",
     "text": [
      "20.0\n"
     ]
    }
   ],
   "source": [
    "# `rms()` and `r` will return the same value,\n",
    "# but `r` will be executed as a TensorFlow graph.\n",
    "assert rms(x, y).numpy() == rms2(x, y).numpy()\n",
    "\n",
    "print(rms(x,y).numpy())"
   ]
  },
  {
   "cell_type": "code",
   "execution_count": null,
   "metadata": {},
   "outputs": [],
   "source": []
  },
  {
   "cell_type": "markdown",
   "metadata": {},
   "source": [
    "#### - 성능 비교"
   ]
  },
  {
   "cell_type": "code",
   "execution_count": null,
   "metadata": {},
   "outputs": [],
   "source": [
    "# 일반 Python 함수\n",
    "def python_add(a, b):\n",
    "    return a + b\n",
    "\n",
    "# tf.function으로 컴파일된 함수\n",
    "@tf.function\n",
    "def tf_function_add(a, b):\n",
    "    return a + b"
   ]
  },
  {
   "cell_type": "code",
   "execution_count": null,
   "metadata": {},
   "outputs": [
    {
     "name": "stdout",
     "output_type": "stream",
     "text": [
      "\n",
      "--- tf.function 성능 비교 ---\n",
      "Python function execution time: 0.0125 seconds\n",
      "tf.function execution time (including compilation): 0.0960 seconds\n",
      "tf.function execution time (after compilation): 0.0646 seconds\n"
     ]
    }
   ],
   "source": [
    "# 큰 텐서 생성\n",
    "tensor_a = tf.random.normal([10000, 10000])\n",
    "tensor_b = tf.random.normal([10000, 10000])\n",
    "\n",
    "print(\"\\n--- tf.function 성능 비교 ---\")\n",
    "\n",
    "# Python 함수 실행 시간 측정\n",
    "start_time = time.time()\n",
    "for _ in range(100):\n",
    "    result = python_add(tensor_a, tensor_b)\n",
    "end_time = time.time()\n",
    "print(f\"Python function execution time: {end_time - start_time:.4f} seconds\")\n",
    "\n",
    "# tf.function 함수 실행 시간 측정 (첫 호출은 컴파일 포함)\n",
    "start_time = time.time()\n",
    "for _ in range(100):\n",
    "    result = tf_function_add(tensor_a, tensor_b)\n",
    "end_time = time.time()\n",
    "print(f\"tf.function execution time (including compilation): {end_time - start_time:.4f} seconds\")\n",
    "\n",
    "# tf.function 함수 재실행 시간 측정 (컴파일 완료 후)\n",
    "start_time = time.time()\n",
    "for _ in range(100):\n",
    "    result = tf_function_add(tensor_a, tensor_b) # 이미 컴파일됨\n",
    "end_time = time.time()\n",
    "print(f\"tf.function execution time (after compilation): {end_time - start_time:.4f} seconds\")\n"
   ]
  },
  {
   "cell_type": "code",
   "execution_count": null,
   "metadata": {},
   "outputs": [],
   "source": [
    "def rms(x, y) :\n",
    "    return tf.reduce_mean(tf.multiply(x ** 2, 3) + y)"
   ]
  },
  {
   "cell_type": "code",
   "execution_count": null,
   "metadata": {},
   "outputs": [],
   "source": [
    "@tf.function\n",
    "def tf_rms(x, y) :\n",
    "    return tf.reduce_mean(tf.multiply(x ** 2, 3) + y)"
   ]
  },
  {
   "cell_type": "code",
   "execution_count": null,
   "metadata": {},
   "outputs": [
    {
     "name": "stdout",
     "output_type": "stream",
     "text": [
      "\n",
      "--- tf.function 성능 비교 ---\n",
      "Python function execution time: 0.0661 seconds\n",
      "tf.function execution time (including compilation): 2.9240 seconds\n",
      "tf.function execution time (after compilation): 0.0697 seconds\n"
     ]
    }
   ],
   "source": [
    "# 큰 텐서 생성\n",
    "tensor_a = tf.random.normal([10000, 10000])\n",
    "tensor_b = tf.random.normal([10000, 10000])\n",
    "\n",
    "print(\"\\n--- tf.function 성능 비교 ---\")\n",
    "\n",
    "# Python 함수 실행 시간 측정\n",
    "start_time = time.time()\n",
    "for _ in range(100):\n",
    "    result = rms(tensor_a, tensor_b)\n",
    "end_time = time.time()\n",
    "print(f\"Python function execution time: {end_time - start_time:.4f} seconds\")\n",
    "\n",
    "# tf.function 함수 실행 시간 측정 (첫 호출은 컴파일 포함)\n",
    "start_time = time.time()\n",
    "for _ in range(100):\n",
    "    result = tf_rms(tensor_a, tensor_b)\n",
    "end_time = time.time()\n",
    "print(f\"tf.function execution time (including compilation): {end_time - start_time:.4f} seconds\")\n",
    "\n",
    "# tf.function 함수 재실행 시간 측정 (컴파일 완료 후)\n",
    "start_time = time.time()\n",
    "for _ in range(100):\n",
    "    result = tf_rms(tensor_a, tensor_b) # 이미 컴파일됨\n",
    "end_time = time.time()\n",
    "print(f\"tf.function execution time (after compilation): {end_time - start_time:.4f} seconds\")\n"
   ]
  },
  {
   "cell_type": "markdown",
   "metadata": {},
   "source": [
    "이 예시를 실행해보면, `tf.function`으로 캡슐화된 함수가 훨씬 빠르게 동작하는 것을 확인할 수 있습니다. 특히 루프 내에서 반복적으로 호출되거나 복잡한 연산을 수행할 때 그 효과가 두드러집니다.\n"
   ]
  },
  {
   "cell_type": "markdown",
   "metadata": {},
   "source": [
    "### **`tf.function` 사용 시 주의사항**\n",
    "\n",
    "  - `tf.function` 내부에서는 Python의 일반적인 제어 흐름(for 루프, if/else 등)이 TensorFlow 연산으로 변환될 수 있도록 작성해야 합니다. `tf.Tensor` 객체를 이용한 조건문이나 반복문은 잘 동작하지만, 일반 Python 리스트나 넘파이 배열에 대한 직접적인 조작은 그래프로 변환되지 않을 수 있습니다.\n",
    "  - 변수가 아닌 Python 원시 타입(정수, 문자열)이 함수의 입력으로 들어오면, 입력값마다 별도의 그래프를 생성할 수 있어 비효율적일 수 있습니다. 텐서 형태의 입력을 사용하는 것이 권장됩니다.\n"
   ]
  },
  {
   "cell_type": "markdown",
   "metadata": {
    "id": "j5A1c3rME5t-"
   },
   "source": [
    "## Tensorflow 주요 함수"
   ]
  },
  {
   "cell_type": "markdown",
   "metadata": {},
   "source": [
    "#### 논리연산"
   ]
  },
  {
   "cell_type": "code",
   "execution_count": null,
   "metadata": {},
   "outputs": [
    {
     "data": {
      "text/plain": [
       "<function tensorflow.python.ops.gen_math_ops.logical_not(x: Annotated[_any, <class 'tensorflow.security.fuzzing.py.annotation_types.Bool'>], name=None) -> Annotated[_any, <class 'tensorflow.security.fuzzing.py.annotation_types.Bool'>]>"
      ]
     },
     "execution_count": 125,
     "metadata": {},
     "output_type": "execute_result"
    }
   ],
   "source": [
    "tf.logical_and\n",
    "tf.logical_or\n",
    "tf.logical_not"
   ]
  },
  {
   "cell_type": "markdown",
   "metadata": {},
   "source": [
    "#### 비교연산"
   ]
  },
  {
   "cell_type": "code",
   "execution_count": null,
   "metadata": {},
   "outputs": [
    {
     "data": {
      "text/plain": [
       "<function tensorflow.python.ops.gen_math_ops.greater_equal(x: Annotated[_any, ~TV_GreaterEqual_T], y: Annotated[_any, ~TV_GreaterEqual_T], name=None) -> Annotated[_any, <class 'tensorflow.security.fuzzing.py.annotation_types.Bool'>]>"
      ]
     },
     "execution_count": 126,
     "metadata": {},
     "output_type": "execute_result"
    }
   ],
   "source": [
    "tf.equal\n",
    "tf.less\n",
    "tf.less_equal\n",
    "tf.greater\n",
    "tf.greater_equal"
   ]
  },
  {
   "cell_type": "markdown",
   "metadata": {},
   "source": [
    "#### 최대값 최소값"
   ]
  },
  {
   "cell_type": "code",
   "execution_count": null,
   "metadata": {},
   "outputs": [
    {
     "data": {
      "text/plain": [
       "<function tensorflow.python.ops.gen_math_ops.minimum(x: Annotated[_any, ~TV_Minimum_T], y: Annotated[_any, ~TV_Minimum_T], name=None) -> Annotated[_any, ~TV_Minimum_T]>"
      ]
     },
     "execution_count": 127,
     "metadata": {},
     "output_type": "execute_result"
    }
   ],
   "source": [
    "tf.maximum\n",
    "tf.minimum"
   ]
  },
  {
   "cell_type": "markdown",
   "metadata": {},
   "source": [
    "#### 삼각함수"
   ]
  },
  {
   "cell_type": "code",
   "execution_count": null,
   "metadata": {},
   "outputs": [
    {
     "data": {
      "text/plain": [
       "<function tensorflow.python.ops.gen_math_ops.tanh(x: Annotated[_any, ~TV_Tanh_T], name=None) -> Annotated[_any, ~TV_Tanh_T]>"
      ]
     },
     "execution_count": 128,
     "metadata": {},
     "output_type": "execute_result"
    }
   ],
   "source": [
    "tf.cos\n",
    "tf.sin\n",
    "tf.tan\n",
    "tf.cosh\n",
    "tf.sinh\n",
    "tf.tanh"
   ]
  },
  {
   "cell_type": "markdown",
   "metadata": {
    "id": "KORsqoo-E5t-"
   },
   "source": [
    "#### argmax, argmin\n",
    "\n",
    "1. [argmax](https://www.tensorflow.org/api_docs/python/tf/argmax)\n",
    "2. [argmin](https://www.tensorflow.org/api_docs/python/tf/argmin)\n",
    "\n",
    "\n"
   ]
  },
  {
   "cell_type": "code",
   "execution_count": null,
   "metadata": {
    "id": "U5DmtSAFE5t_",
    "outputId": "cd97b5e0-4d19-4291-da5a-c2888994da23"
   },
   "outputs": [
    {
     "data": {
      "text/plain": [
       "<tf.Tensor: shape=(), dtype=int64, numpy=0>"
      ]
     },
     "execution_count": 129,
     "metadata": {},
     "output_type": "execute_result"
    }
   ],
   "source": [
    "x = [-10, 9, 8, 10]\n",
    "tf.argmax(x)\n",
    "tf.argmin(x)"
   ]
  },
  {
   "cell_type": "markdown",
   "metadata": {
    "id": "fpYUITW3E5t_"
   },
   "source": [
    "## one_hot()\n",
    "\n",
    "[one_hot()](https://www.tensorflow.org/api_docs/python/tf/one_hot)\n",
    "\n",
    "one-hot(원핫)인코딩이란? \n",
    "\n",
    "원-핫 인코딩은 특정 위치의 값만 1이고, 나머지 위치의 값은 0인 벡터를 만드는 방식입니다.\n",
    "\n",
    "예를들면 `[0, 0, 0, 0, 1]` 이다. 5번째만 1이고 나머지는 0이다. \n",
    "\n"
   ]
  },
  {
   "cell_type": "code",
   "execution_count": null,
   "metadata": {
    "id": "ockzsQeiE5t_",
    "outputId": "61d20567-4d69-47a6-8693-544423048850"
   },
   "outputs": [
    {
     "data": {
      "text/plain": [
       "<tf.Tensor: shape=(3, 3), dtype=float32, numpy=\n",
       "array([[1., 0., 0.],\n",
       "       [0., 1., 0.],\n",
       "       [0., 0., 1.]], dtype=float32)>"
      ]
     },
     "execution_count": 130,
     "metadata": {},
     "output_type": "execute_result"
    }
   ],
   "source": [
    "tf.one_hot([0,1,2], depth=3)"
   ]
  },
  {
   "cell_type": "code",
   "execution_count": null,
   "metadata": {
    "id": "zstt3C8jE5t_",
    "outputId": "eb9517a4-b057-4451-b46d-ba9fbb2f418e"
   },
   "outputs": [
    {
     "data": {
      "text/plain": [
       "<tf.Tensor: shape=(3, 3), dtype=float32, numpy=\n",
       "array([[1., 0., 0.],\n",
       "       [0., 0., 0.],\n",
       "       [0., 0., 1.]], dtype=float32)>"
      ]
     },
     "execution_count": 131,
     "metadata": {},
     "output_type": "execute_result"
    }
   ],
   "source": [
    "tf.one_hot([0,4,2], depth=3)"
   ]
  },
  {
   "cell_type": "code",
   "execution_count": null,
   "metadata": {
    "id": "oolcuqg9E5t_",
    "outputId": "e0187eb3-854c-41cf-98fa-6bf15a52ca48"
   },
   "outputs": [
    {
     "data": {
      "text/plain": [
       "<tf.Tensor: shape=(3, 5), dtype=float32, numpy=\n",
       "array([[0., 1., 0., 0., 0.],\n",
       "       [0., 0., 1., 0., 0.],\n",
       "       [0., 0., 0., 1., 0.]], dtype=float32)>"
      ]
     },
     "execution_count": 132,
     "metadata": {},
     "output_type": "execute_result"
    }
   ],
   "source": [
    "tf.one_hot([1,2,3], depth=5)"
   ]
  },
  {
   "cell_type": "markdown",
   "metadata": {},
   "source": [
    "## random 모듈\n",
    "\n",
    "분포 함수\n",
    " - 정규분포에 대한 임의의 값 세팅"
   ]
  },
  {
   "cell_type": "code",
   "execution_count": null,
   "metadata": {},
   "outputs": [
    {
     "data": {
      "text/plain": [
       "array([[[0.37055755, 0.17974937],\n",
       "        [0.10512745, 0.6269852 ]],\n",
       "\n",
       "       [[0.3236947 , 0.27060676],\n",
       "        [0.8151705 , 0.14533818]],\n",
       "\n",
       "       [[0.10854578, 0.09838355],\n",
       "        [0.7482178 , 0.15536332]],\n",
       "\n",
       "       [[0.3580339 , 0.0248915 ],\n",
       "        [0.75883186, 0.64871335]]], dtype=float32)"
      ]
     },
     "execution_count": 133,
     "metadata": {},
     "output_type": "execute_result"
    }
   ],
   "source": [
    "tf.random.normal((2,3))\n",
    "tf.random.uniform([4],0,1)\n",
    "tf.random.uniform([4,2],0,1).numpy()\n",
    "tf.random.uniform([4,2,2],0,1).numpy()"
   ]
  },
  {
   "cell_type": "code",
   "execution_count": null,
   "metadata": {},
   "outputs": [],
   "source": []
  },
  {
   "cell_type": "markdown",
   "metadata": {
    "id": "PVuL7e1WE5t_"
   },
   "source": [
    "## 배열 변형 함수\n",
    "\n",
    "- [reshape()](https://www.tensorflow.org/api_docs/python/tf/reshape\n",
    "): 원하는 shape를 직접 입력하여 바꿀 수 있다. 특히 shape에 -1를 입력하면 고정된 차원은 우선 채우고 남은 부분을 알아서 채워준다.\n",
    "- [squeeze()](https://www.tensorflow.org/api_docs/python/tf/squeeze) 차원 중 사이즈가 1인 것을 찾아 스칼라값으로 바꿔 해당 차원을 제거한다.\n",
    "- [expand_dims](https://www.tensorflow.org/api_docs/python/tf/expand_dims): axis로 지정된 차원을 추가한다.\n",
    "\n",
    "\n",
    "\n",
    "\n",
    "\n",
    "\n",
    "\n"
   ]
  },
  {
   "cell_type": "markdown",
   "metadata": {
    "id": "Yag29EUsE5t_"
   },
   "source": [
    "### `reshape()`"
   ]
  },
  {
   "cell_type": "code",
   "execution_count": null,
   "metadata": {
    "id": "dAd2UVOdE5t_",
    "outputId": "8ae8a159-4d6e-4450-8538-62ab54767d0e"
   },
   "outputs": [
    {
     "data": {
      "text/plain": [
       "array([0, 1, 2, 3, 4, 5, 6, 7, 8, 9])"
      ]
     },
     "execution_count": 134,
     "metadata": {},
     "output_type": "execute_result"
    }
   ],
   "source": [
    "x = np.arange(0,10)\n",
    "x"
   ]
  },
  {
   "cell_type": "code",
   "execution_count": null,
   "metadata": {
    "id": "1RqeH3neE5uA",
    "outputId": "b0c80566-2c97-497e-9cf5-b0dde1034a1b"
   },
   "outputs": [
    {
     "data": {
      "text/plain": [
       "<tf.Tensor: shape=(5, 2), dtype=int64, numpy=\n",
       "array([[0, 1],\n",
       "       [2, 3],\n",
       "       [4, 5],\n",
       "       [6, 7],\n",
       "       [8, 9]])>"
      ]
     },
     "execution_count": 135,
     "metadata": {},
     "output_type": "execute_result"
    }
   ],
   "source": [
    "tf.reshape(x, shape=[-1,2])"
   ]
  },
  {
   "cell_type": "code",
   "execution_count": null,
   "metadata": {
    "id": "zJ6k9y4eE5uA",
    "outputId": "03519c38-b71b-4812-a750-921d0b00c044"
   },
   "outputs": [
    {
     "data": {
      "text/plain": [
       "<tf.Tensor: shape=(2, 5), dtype=int64, numpy=\n",
       "array([[0, 1, 2, 3, 4],\n",
       "       [5, 6, 7, 8, 9]])>"
      ]
     },
     "execution_count": 136,
     "metadata": {},
     "output_type": "execute_result"
    }
   ],
   "source": [
    "tf.reshape(x, shape=[-1,5])"
   ]
  },
  {
   "cell_type": "markdown",
   "metadata": {
    "id": "yqkWMZHGE5uA"
   },
   "source": [
    "### `squeeze()`"
   ]
  },
  {
   "cell_type": "code",
   "execution_count": null,
   "metadata": {
    "id": "AqiX_CwmE5uA",
    "outputId": "9cb15de5-9161-4c7c-d8a7-7c24ba59d16e"
   },
   "outputs": [
    {
     "data": {
      "text/plain": [
       "array([[0],\n",
       "       [1],\n",
       "       [2],\n",
       "       [3],\n",
       "       [4],\n",
       "       [5],\n",
       "       [6],\n",
       "       [7],\n",
       "       [8],\n",
       "       [9]])"
      ]
     },
     "execution_count": 137,
     "metadata": {},
     "output_type": "execute_result"
    }
   ],
   "source": [
    "x = np.arange(0,10).reshape(-1,1)\n",
    "x"
   ]
  },
  {
   "cell_type": "code",
   "execution_count": null,
   "metadata": {
    "id": "vqBhEOTvE5uA",
    "outputId": "fdaa0b81-983a-4def-a54d-e83a30c9f428"
   },
   "outputs": [
    {
     "data": {
      "text/plain": [
       "(10, 1)"
      ]
     },
     "execution_count": 138,
     "metadata": {},
     "output_type": "execute_result"
    }
   ],
   "source": [
    "x.shape"
   ]
  },
  {
   "cell_type": "markdown",
   "metadata": {
    "id": "fDkuicH5E5uA"
   },
   "source": [
    "차원중 크기가 1인 것을 찾아 짜낸다."
   ]
  },
  {
   "cell_type": "code",
   "execution_count": null,
   "metadata": {
    "id": "PNUZL8r-E5uA",
    "outputId": "6beafa96-c6bb-471c-f27f-ea7db3a69d6c"
   },
   "outputs": [
    {
     "data": {
      "text/plain": [
       "<tf.Tensor: shape=(10,), dtype=int64, numpy=array([0, 1, 2, 3, 4, 5, 6, 7, 8, 9])>"
      ]
     },
     "execution_count": 139,
     "metadata": {},
     "output_type": "execute_result"
    }
   ],
   "source": [
    "tf.squeeze(x)"
   ]
  },
  {
   "cell_type": "code",
   "execution_count": null,
   "metadata": {},
   "outputs": [
    {
     "data": {
      "text/plain": [
       "TensorShape([10])"
      ]
     },
     "execution_count": 140,
     "metadata": {},
     "output_type": "execute_result"
    }
   ],
   "source": [
    "tf.squeeze(x).shape"
   ]
  },
  {
   "cell_type": "markdown",
   "metadata": {
    "id": "IeAEjlJKE5uA"
   },
   "source": [
    "### `expand_dims()`\n",
    "\n",
    "axis로 지정된 차원을 추가한다."
   ]
  },
  {
   "cell_type": "code",
   "execution_count": null,
   "metadata": {
    "id": "v_C7aUP4E5uA",
    "outputId": "eca5657a-8b4c-4368-f436-8bffc8c82ea1"
   },
   "outputs": [
    {
     "data": {
      "text/plain": [
       "array([0, 1, 2, 3, 4, 5, 6, 7, 8, 9])"
      ]
     },
     "execution_count": 141,
     "metadata": {},
     "output_type": "execute_result"
    }
   ],
   "source": [
    "x = np.arange(0,10).reshape(-1,)\n",
    "x"
   ]
  },
  {
   "cell_type": "code",
   "execution_count": null,
   "metadata": {
    "id": "c_bHKsloE5uA",
    "outputId": "94ff3354-69b9-4bde-8282-3c968fcdc63c"
   },
   "outputs": [
    {
     "data": {
      "text/plain": [
       "(10,)"
      ]
     },
     "execution_count": 142,
     "metadata": {},
     "output_type": "execute_result"
    }
   ],
   "source": [
    "x.shape"
   ]
  },
  {
   "cell_type": "code",
   "execution_count": null,
   "metadata": {
    "id": "RKWrZw7EE5uB",
    "outputId": "cc7a6088-6780-4f8c-8bed-9f5f80a65448"
   },
   "outputs": [
    {
     "data": {
      "text/plain": [
       "<tf.Tensor: shape=(1, 10), dtype=int64, numpy=array([[0, 1, 2, 3, 4, 5, 6, 7, 8, 9]])>"
      ]
     },
     "execution_count": 143,
     "metadata": {},
     "output_type": "execute_result"
    }
   ],
   "source": [
    "# 첫번째 차원을 추가\n",
    "y = tf.expand_dims(x, 0)\n",
    "y"
   ]
  },
  {
   "cell_type": "code",
   "execution_count": null,
   "metadata": {
    "id": "ZEW87y9HE5uB",
    "outputId": "28f1830d-da78-4521-b2f8-11d27cc120a8"
   },
   "outputs": [
    {
     "data": {
      "text/plain": [
       "<tf.Tensor: shape=(10, 1), dtype=int64, numpy=\n",
       "array([[0],\n",
       "       [1],\n",
       "       [2],\n",
       "       [3],\n",
       "       [4],\n",
       "       [5],\n",
       "       [6],\n",
       "       [7],\n",
       "       [8],\n",
       "       [9]])>"
      ]
     },
     "execution_count": 144,
     "metadata": {},
     "output_type": "execute_result"
    }
   ],
   "source": [
    "# 두번째 차원을 추가\n",
    "y = tf.expand_dims(x, 1)\n",
    "y"
   ]
  },
  {
   "cell_type": "code",
   "execution_count": null,
   "metadata": {
    "id": "QGq4hGtuE5uB",
    "outputId": "03378751-71bc-4767-b5e6-a016a07be69c"
   },
   "outputs": [
    {
     "name": "stdout",
     "output_type": "stream",
     "text": [
      "[[0 1]\n",
      " [2 3]\n",
      " [4 5]\n",
      " [6 7]\n",
      " [8 9]] (5, 2)\n"
     ]
    }
   ],
   "source": [
    "x = np.arange(0,10).reshape(-1,2)\n",
    "print(x, x.shape)"
   ]
  },
  {
   "cell_type": "code",
   "execution_count": null,
   "metadata": {
    "id": "GobIQ2GwE5uB",
    "outputId": "c98a434f-7b82-4b01-97fd-ea40607ad20b"
   },
   "outputs": [
    {
     "data": {
      "text/plain": [
       "<tf.Tensor: shape=(1, 5, 2), dtype=int64, numpy=\n",
       "array([[[0, 1],\n",
       "        [2, 3],\n",
       "        [4, 5],\n",
       "        [6, 7],\n",
       "        [8, 9]]])>"
      ]
     },
     "execution_count": 146,
     "metadata": {},
     "output_type": "execute_result"
    }
   ],
   "source": [
    "y = tf.expand_dims(x, 0)\n",
    "y"
   ]
  },
  {
   "cell_type": "code",
   "execution_count": null,
   "metadata": {
    "id": "Rqld3flDE5uB",
    "outputId": "30417e5f-1e9e-4320-d1be-f4146869f48d"
   },
   "outputs": [
    {
     "data": {
      "text/plain": [
       "<tf.Tensor: shape=(5, 2, 1), dtype=int64, numpy=\n",
       "array([[[0],\n",
       "        [1]],\n",
       "\n",
       "       [[2],\n",
       "        [3]],\n",
       "\n",
       "       [[4],\n",
       "        [5]],\n",
       "\n",
       "       [[6],\n",
       "        [7]],\n",
       "\n",
       "       [[8],\n",
       "        [9]]])>"
      ]
     },
     "execution_count": 147,
     "metadata": {},
     "output_type": "execute_result"
    }
   ],
   "source": [
    "y = tf.expand_dims(x, 2)\n",
    "y"
   ]
  },
  {
   "cell_type": "code",
   "execution_count": null,
   "metadata": {
    "id": "Qsf3oKMYE5uB",
    "outputId": "3f0b0120-f379-4726-8f8f-a386ad268f5e"
   },
   "outputs": [
    {
     "data": {
      "text/plain": [
       "<tf.Tensor: shape=(5, 2, 1), dtype=int64, numpy=\n",
       "array([[[0],\n",
       "        [1]],\n",
       "\n",
       "       [[2],\n",
       "        [3]],\n",
       "\n",
       "       [[4],\n",
       "        [5]],\n",
       "\n",
       "       [[6],\n",
       "        [7]],\n",
       "\n",
       "       [[8],\n",
       "        [9]]])>"
      ]
     },
     "execution_count": 148,
     "metadata": {},
     "output_type": "execute_result"
    }
   ],
   "source": [
    "# 마지막 차수에 차원을 추가한다.\n",
    "y = tf.expand_dims(x, -1)\n",
    "y"
   ]
  },
  {
   "cell_type": "markdown",
   "metadata": {
    "id": "SzHkFXlpE5uB"
   },
   "source": [
    "## stack()\n",
    "\n",
    "[stack()](https://www.tensorflow.org/api_docs/python/tf/stack) 함수\n",
    "\n",
    " - 여러 조각의 행렬을 합칠 때 사용하는 stack함수에 대해서 알아보자.\n"
   ]
  },
  {
   "cell_type": "code",
   "execution_count": null,
   "metadata": {
    "id": "OEAqEEVjE5uB"
   },
   "outputs": [],
   "source": [
    "x1 = np.array([1,2])\n",
    "x2 = np.array([2,3])\n",
    "x3 = np.array([4,5])"
   ]
  },
  {
   "cell_type": "code",
   "execution_count": null,
   "metadata": {
    "id": "lj9Q8jecE5uC",
    "outputId": "580e7b02-ab28-4bbc-df8c-fc66af6537e8"
   },
   "outputs": [
    {
     "data": {
      "text/plain": [
       "<tf.Tensor: shape=(3, 2), dtype=int32, numpy=\n",
       "array([[1, 2],\n",
       "       [2, 3],\n",
       "       [4, 5]], dtype=int32)>"
      ]
     },
     "execution_count": 150,
     "metadata": {},
     "output_type": "execute_result"
    }
   ],
   "source": [
    "# stack\n",
    "tf.stack([x1,x2,x3])"
   ]
  },
  {
   "cell_type": "code",
   "execution_count": null,
   "metadata": {
    "id": "-mxUs9A5E5uC",
    "outputId": "b449b7ba-8168-4ce5-d86f-e96efcc28bc6"
   },
   "outputs": [
    {
     "data": {
      "text/plain": [
       "<tf.Tensor: shape=(3, 2), dtype=int32, numpy=\n",
       "array([[1, 2],\n",
       "       [2, 3],\n",
       "       [4, 5]], dtype=int32)>"
      ]
     },
     "execution_count": 151,
     "metadata": {},
     "output_type": "execute_result"
    }
   ],
   "source": [
    "# stack axis=0\n",
    "tf.stack([x1,x2,x3], axis=0)"
   ]
  },
  {
   "cell_type": "code",
   "execution_count": null,
   "metadata": {
    "id": "LhLaw1f9E5uC",
    "outputId": "db61fd40-cda4-4872-a1ec-836192117ab8"
   },
   "outputs": [
    {
     "data": {
      "text/plain": [
       "<tf.Tensor: shape=(2, 3), dtype=int64, numpy=\n",
       "array([[1, 2, 4],\n",
       "       [2, 3, 5]])>"
      ]
     },
     "execution_count": 152,
     "metadata": {},
     "output_type": "execute_result"
    }
   ],
   "source": [
    "# stack axis=1\n",
    "tf.stack([x1,x2,x3], axis=1)"
   ]
  },
  {
   "cell_type": "markdown",
   "metadata": {
    "id": "EhJJ9gLdE5uC"
   },
   "source": [
    "## reduce_sum, reduce_mean\n",
    "\n",
    "2차원 이상의 행렬로 된 데이터를 다루다보면 전체 원수의 합계, 평균을 구하고자 할 때 사용한다.\n",
    "\n",
    "1. [reduce_sum()](https://www.tensorflow.org/api_docs/python/tf/reduce_sum) 은 특정 차원을 제거하고 합계를 구하고\n",
    "1. [reduce_mean()](https://www.tensorflow.org/api_docs/python/tf/reduce_mean)은 특정 차원을 제거하고 평균을 구한다."
   ]
  },
  {
   "cell_type": "code",
   "execution_count": null,
   "metadata": {
    "id": "Zk7p3VcdE5uC",
    "outputId": "cfcf6563-4954-4e76-d55a-02abbf34c84e"
   },
   "outputs": [
    {
     "data": {
      "text/plain": [
       "array([[ 0,  1,  2,  3],\n",
       "       [ 4,  5,  6,  7],\n",
       "       [ 8,  9, 10, 11],\n",
       "       [12, 13, 14, 15]])"
      ]
     },
     "execution_count": 153,
     "metadata": {},
     "output_type": "execute_result"
    }
   ],
   "source": [
    "# reduce_sum\n",
    "x = np.arange(0,16).reshape(-1,4)\n",
    "x"
   ]
  },
  {
   "cell_type": "code",
   "execution_count": null,
   "metadata": {
    "id": "v2pDEjc8E5uC",
    "outputId": "1c412033-a611-4eb6-db99-43ca850a0d47"
   },
   "outputs": [
    {
     "data": {
      "text/plain": [
       "<tf.Tensor: shape=(), dtype=int32, numpy=2>"
      ]
     },
     "execution_count": 154,
     "metadata": {},
     "output_type": "execute_result"
    }
   ],
   "source": [
    "tf.rank(x) # 차원수"
   ]
  },
  {
   "cell_type": "code",
   "execution_count": null,
   "metadata": {
    "id": "sOAq0cEmE5uC",
    "outputId": "e0932f45-7022-406a-8c74-fa2873edafb6"
   },
   "outputs": [
    {
     "data": {
      "text/plain": [
       "<tf.Tensor: shape=(), dtype=int64, numpy=120>"
      ]
     },
     "execution_count": 155,
     "metadata": {},
     "output_type": "execute_result"
    }
   ],
   "source": [
    "tf.reduce_sum(x) # all elements"
   ]
  },
  {
   "cell_type": "code",
   "execution_count": null,
   "metadata": {
    "id": "WkGCRqXIE5uC",
    "outputId": "4929eac5-222c-4993-fb13-a0295ef55800"
   },
   "outputs": [
    {
     "data": {
      "text/plain": [
       "<tf.Tensor: shape=(4,), dtype=int64, numpy=array([24, 28, 32, 36])>"
      ]
     },
     "execution_count": 156,
     "metadata": {},
     "output_type": "execute_result"
    }
   ],
   "source": [
    "tf.reduce_sum(x, axis=0) # row"
   ]
  },
  {
   "cell_type": "code",
   "execution_count": null,
   "metadata": {
    "id": "7E-Vcn30E5uC",
    "outputId": "d15d9fc8-dbc9-47b2-c045-f22b98031fda"
   },
   "outputs": [
    {
     "data": {
      "text/plain": [
       "<tf.Tensor: shape=(4,), dtype=int64, numpy=array([ 6, 22, 38, 54])>"
      ]
     },
     "execution_count": 157,
     "metadata": {},
     "output_type": "execute_result"
    }
   ],
   "source": [
    "tf.reduce_sum(x, axis=1) # column"
   ]
  },
  {
   "cell_type": "markdown",
   "metadata": {
    "id": "Pa91wG-DE5uC"
   },
   "source": [
    "`keep_dims=True` 최초 차원수를 유지"
   ]
  },
  {
   "cell_type": "code",
   "execution_count": null,
   "metadata": {
    "id": "7pLEwQ7_E5uC",
    "outputId": "cfd3595e-36dc-459a-b926-80acd8d07d0a"
   },
   "outputs": [
    {
     "data": {
      "text/plain": [
       "<tf.Tensor: shape=(4, 1), dtype=int64, numpy=\n",
       "array([[ 6],\n",
       "       [22],\n",
       "       [38],\n",
       "       [54]])>"
      ]
     },
     "execution_count": 158,
     "metadata": {},
     "output_type": "execute_result"
    }
   ],
   "source": [
    "tf.reduce_sum(x, axis=1, keepdims=True) # column"
   ]
  },
  {
   "cell_type": "code",
   "execution_count": null,
   "metadata": {
    "id": "llPgZRSyE5uD",
    "outputId": "0bc8e13f-0b3a-497f-ca30-d95c36537eb8"
   },
   "outputs": [
    {
     "data": {
      "text/plain": [
       "array([[1, 1, 1],\n",
       "       [1, 1, 1]])"
      ]
     },
     "execution_count": 159,
     "metadata": {},
     "output_type": "execute_result"
    }
   ],
   "source": [
    "x = np.array([[1,1,1],\n",
    "              [1,1,1]])\n",
    "x"
   ]
  },
  {
   "cell_type": "code",
   "execution_count": null,
   "metadata": {
    "id": "Z47Xq7_YE5uD",
    "outputId": "f67add9f-5e11-4487-f65f-a0b6a54f9e09"
   },
   "outputs": [
    {
     "data": {
      "text/plain": [
       "(2, 3)"
      ]
     },
     "execution_count": 160,
     "metadata": {},
     "output_type": "execute_result"
    }
   ],
   "source": [
    "x.shape"
   ]
  },
  {
   "cell_type": "code",
   "execution_count": null,
   "metadata": {
    "id": "JlbOOHL1E5uD",
    "outputId": "c5ca3a5d-ef92-48ca-9270-f0bb5d1c6732"
   },
   "outputs": [
    {
     "data": {
      "text/plain": [
       "<tf.Tensor: shape=(2,), dtype=int64, numpy=array([3, 3])>"
      ]
     },
     "execution_count": 161,
     "metadata": {},
     "output_type": "execute_result"
    }
   ],
   "source": [
    "tf.reduce_sum(x, axis=1)"
   ]
  },
  {
   "cell_type": "code",
   "execution_count": null,
   "metadata": {
    "id": "BWGH--wtE5uD",
    "outputId": "16a41bc6-78a1-44f9-ea2d-cb6c5f5d2066"
   },
   "outputs": [
    {
     "data": {
      "text/plain": [
       "<tf.Tensor: shape=(2,), dtype=int64, numpy=array([3, 3])>"
      ]
     },
     "execution_count": 162,
     "metadata": {},
     "output_type": "execute_result"
    }
   ],
   "source": [
    "tf.reduce_sum(x, axis=-1) # -1번째 차원 제거"
   ]
  },
  {
   "cell_type": "code",
   "execution_count": null,
   "metadata": {
    "id": "LaeSy70xE5uD",
    "outputId": "377c0115-e376-4030-bfd2-a3c9fb01ee95"
   },
   "outputs": [
    {
     "data": {
      "text/plain": [
       "<tf.Tensor: shape=(3,), dtype=int64, numpy=array([2, 2, 2])>"
      ]
     },
     "execution_count": 163,
     "metadata": {},
     "output_type": "execute_result"
    }
   ],
   "source": [
    "tf.reduce_sum(x, axis=-2) # -1번째 차원 제거"
   ]
  }
 ],
 "metadata": {
  "accelerator": "GPU",
  "colab": {
   "gpuType": "T4",
   "provenance": []
  },
  "kernelspec": {
   "display_name": "DL_P312",
   "language": "python",
   "name": "python3"
  },
  "language_info": {
   "codemirror_mode": {
    "name": "ipython",
    "version": 3
   },
   "file_extension": ".py",
   "mimetype": "text/x-python",
   "name": "python",
   "nbconvert_exporter": "python",
   "pygments_lexer": "ipython3",
   "version": "3.12.11"
  }
 },
 "nbformat": 4,
 "nbformat_minor": 0
}
