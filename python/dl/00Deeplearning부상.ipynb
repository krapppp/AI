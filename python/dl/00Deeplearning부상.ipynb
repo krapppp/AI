{
 "cells": [
  {
   "cell_type": "markdown",
   "metadata": {},
   "source": [
    "# 4. 딥러닝의 부상\n",
    "\n",
    "인공지능은 구현하기 위한 머신러닝 알고리즘으로 최근 딥러닝을 많이 이용하고 있다. 딥러닝(Deep learning)은 머신러닝에 포함된 개념으로 *고층 신경망에 잘 동작하는 학습 방법론* 의 총칭이다. 인공 신경망에 별도로 층층이 은닉층으로 학습해서 결과를 내는 방식이다.\n",
    "\n",
    "<img src='https://blog.kakaocdn.net/dn/53MCV/btqzmSf979L/oNYs1Rj9q7iXhK0aVE8zVk/img.png' width='500'>\n",
    "\n",
    "\n",
    "딥러닝은 이미지넷에서 Alex Krizhevsky가 Alexnet을 발표했는데 기존 이미지 인식이 70% 에서 정체되어 있는데 딥러닝을 통해 90%이상 높은 정확도를 보이고 있다.\n",
    "\n"
   ]
  },
  {
   "cell_type": "markdown",
   "metadata": {},
   "source": [
    "\n",
    "#### 딥러닝에서 GPU의 역할\n",
    "\n",
    "딥러닝은 학습에 필요한 데이터를 반복적인 작업으로 이루어 지는데 GPU가 CPU에 비해 아주 큰 효율을 보이고 있다.\n",
    "\n",
    "<img src=\"https://encrypted-tbn0.gstatic.com/images?q=tbn:ANd9GcSz0vMhiYXx-8O4BtkUUwvZBwAuV_8Kuinqcw&s\" width=\"600\">\n",
    "\n"
   ]
  },
  {
   "cell_type": "markdown",
   "metadata": {},
   "source": [
    "<img src='https://i.imgur.com/0pPUewM.jpeg' width=600>"
   ]
  },
  {
   "cell_type": "markdown",
   "metadata": {},
   "source": [
    "## Deep Learning 의 종류\n",
    "\n",
    "사람의 사고방식을 컴퓨터에게 가르치는 기계학습의 한 분야. 알고리즘 종류\n",
    "\n",
    "- DNN (Deep Neural Networks : 심층 신경망)\n",
    "- CNN (Convolutional Neural Networks : 합성곱 신경망)\n",
    "- RNN (Recurrent Neural Network : 순환 신경망)\n",
    "- RBM (Restricted Boltzmann Machine : 제한 볼츠만 머신) : 비지도 학습\n",
    "- DBN (Deep Belief Networks : 심층 신뢰 신경망)\n",
    "- DQN (Deep Q-Networks : 심층 Q-네트워크)\n",
    "\n"
   ]
  },
  {
   "cell_type": "markdown",
   "metadata": {},
   "source": [
    "\n",
    "#### 가. DNN (Deep Neural Networks : 심층 신경망)\n",
    "        \n",
    "입력층과 출력층 사이에 복수개의 은닉 계층들로 이뤄진 인공신경망\n",
    "\n",
    "<img src='https://i.imgur.com/Ck30bqZ.jpeg' width='500'>\n",
    "\n"
   ]
  },
  {
   "cell_type": "markdown",
   "metadata": {},
   "source": [
    "\n",
    "- 복잡한 비선형 관계를 모델링 할 수 있다.  (비선형관계의 예 : 사물식별)\n",
    "- 학습결과후 발생한 오류(목표값과 의 오차)를 역전파를 통해 오차범위를 최소화 시킬 수 있는 가중치를 찾으며 학습\n",
    "- 역전파 시 가중치를 갱신하면서 최적의 가중치를 찾아야하는데 이때 가중치를 갱신하는 방법이 경사하강법이다.\n",
    "- 취약점 1\n",
    "    - Overfitting (과적응 / 사람에 비유하면 고정관념과 비슷) - http://sanghyukchun.github.io/59/\n",
    "    - 해결방법 : Regularization \n",
    "- 취약점 2\n",
    "    - 높은 시간복잡도 (오차역전파, 경사하강법의 시간복잡도가 매우 높다)\n",
    "    - 심층신경망 학습 시 크기(계층수와 계층당 유닛 수), 학습률(Learning rate), 초기 가중치등 많은 매개변수가 고려되어야는데\n",
    "      최적의 매개변수를 찾기위해 매개변수 공간 전부를 확인하는 것은 계산에 필요한 시간과 자원의 제약으로 인해 불가능\n"
   ]
  },
  {
   "cell_type": "markdown",
   "metadata": {},
   "source": [
    "\n",
    "### 나. CNN (Convolutional Neural Networks : 합성곱 신경망)\n",
    "\n",
    "쉽게설명하자면 입력 백터를 일정한 크기와 스트라이드 값을 기준으로 샘플링하여 샘플링백터와 필터(W)의 곱을 구하고, 모든 곱의 결과를 인공신경망에 입력하여 결과물을 확인\n",
    "\n",
    "\n",
    "<img src='https://kr.mathworks.com/discovery/convolutional-neural-network/_jcr_content/mainParsys/band_copy_copy/mainParsys/lockedsubnav/mainParsys/columns/a32c7d5d-8012-4de1-bc76-8bd092f97db8/image_2109075398_cop.adapt.full.medium.jpg/1745556791953.jpg' width=500>\n",
    "\n",
    "전처리(preprocess)를 사용하도록 설계된 다계층 퍼셉트론의 한 종류이다. (퍼셉트론 : 최초의 가장 간단한 피드포워드 방식 신경망 모델이다, 신경망의 단위 개념으로도 쓰임)\n"
   ]
  },
  {
   "cell_type": "markdown",
   "metadata": {},
   "source": [
    "\n",
    "여러개의 합성곱 게층과 그 위에 올려진 일반적인 인공 신경망 게층들로 이루어져 있으며, 가중치와 통합계층 들을 추가로 활용하다. \n",
    " - 영상, 음성 분야에서 좋은 성능을 보인다. \n",
    " - 표준 역전달을 통해 훈련될 수 있다. \n",
    " - 다른 피드포워드 인공신경망 기법들보다 쉽게 훈련되는편이며, 적은수의 매개변수를 사용한다. \n",
    "\n",
    "CDBN(Convolutional Deep Belief Network : 합성곱 심층 신뢰 신경망)이 최근에 개발되었으며 CNN과 구조적으로 비슷하고, DBN의 선훈련에 의한 장점을 취할 수 있다.  CDBN은 다양한 영상과 신호 처리기법에 사용될 수 있는 일반적인 구조를 제공한다.\n"
   ]
  },
  {
   "cell_type": "markdown",
   "metadata": {},
   "source": [
    "### 다. RNN (Recurrent Neural Network : 순환 신경망)\n",
    "\n",
    "문장 인식, 필기체 인식. 인공신경망을 구성하는 유닛 사이의 연결이 Directed cycle을 구성하는 신경망을 말한다. 임의의 입력을 처리하기 위해 신경망 내부의 메모리를 활용할 수 있다. 훈련을위해 경사하강법, Hessian Free Optimization, Global Optimization 방식이 쓰인다. \n",
    "\n",
    "<img src='https://www.researchgate.net/profile/Weijiang_Feng/publication/318332317/figure/fig1/AS:614309562437664@1523474221928/The-standard-RNN-and-unfolded-RNN.png' width=500>\n",
    "\n",
    "많은 수의 뉴런 유닛이나 많은 수의 입력 유닛이 있을경우 훈련이 쉽지 않다. \n"
   ]
  },
  {
   "cell_type": "markdown",
   "metadata": {},
   "source": [
    "### 라. LSTM (Long Short Term Memory networks)\n",
    " - RNN에서 장기적으로 과거내용을 기억하지 못하는 단점을 극복하는 신경망\n",
    "\n",
    "<img src='https://wikidocs.net/images/page/152773/2.JPG' width=500>"
   ]
  },
  {
   "cell_type": "markdown",
   "metadata": {},
   "source": [
    "- RBM (Restricted Boltzmann Machine : 제한 볼츠만 머신) : 비지도 학습\n",
    "\n",
    "- DBN (Deep Belief Networks : 심층 신뢰 신경망)\n",
    "\n",
    "- DQN (Deep Q-Networks : 심층 Q-네트워크)\n",
    "   - Deep Learning + Q-Learning(Reinforcement Learning : 강화학습)\n",
    "   - 구글 딥마인드에서 개발한 게임 플레이를 학습하는 인공지능 프로그램\n",
    "\n",
    "\n"
   ]
  },
  {
   "cell_type": "markdown",
   "metadata": {},
   "source": [
    "## 참고 \n",
    "\n",
    " - http://newsight.tistory.com/70\n",
    " - https://github.com/aymericdamien/TensorFlow-Examples\n",
    " - 머신러닝 훑어보기, wikidoc: https://wikidocs.net/32012\n",
    " - [인공신경망, 현종열(slideshare)](https://www.slideshare.net/jongyeolhyun/ss-79143299)\n",
    " - [NVIDIA 미디어 테크 토크를 통해 딥 러닝에 대해 들어보다](http://playwares.com/webzine/55203945)\n",
    " - [인공지능의 장점과 한계, 이글루시큐리티,2017.06.07](http://www.igloosec.co.kr/ig/BLOG_인공지능의%20장점과%20한계?searchItem=&searchWord=&bbsCateId=1&gotoPage=1)\n",
    "\n",
    "\n",
    "\n",
    "\n"
   ]
  }
 ],
 "metadata": {
  "kernelspec": {
   "display_name": "ML_P312",
   "language": "python",
   "name": "python3"
  },
  "language_info": {
   "codemirror_mode": {
    "name": "ipython",
    "version": 3
   },
   "file_extension": ".py",
   "mimetype": "text/x-python",
   "name": "python",
   "nbconvert_exporter": "python",
   "pygments_lexer": "ipython3",
   "version": "3.12.11"
  }
 },
 "nbformat": 4,
 "nbformat_minor": 4
}
