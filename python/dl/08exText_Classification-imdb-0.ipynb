{
 "cells": [
  {
   "cell_type": "markdown",
   "metadata": {
    "id": "ItXfxkxvosLH"
   },
   "source": [
    "# 영화 리뷰를 사용한 텍스트 분류"
   ]
  },
  {
   "cell_type": "markdown",
   "metadata": {
    "id": "Eg62Pmz3o83v"
   },
   "source": [
    "이 튜토리얼은 디스크에 저장된 일반 텍스트 파일에서 시작하는 텍스트 분류를 보여줍니다. IMDB 데이터세트에 대한 감정 분석을 수행하도록 이진 분류기를 훈련합니다. 노트북의 마지막에는 스택 오버플로에서 프로그래밍 질문에 대한 태그를 예측하도록 다중 클래스 분류기를 훈련하는 연습을 시도해볼 수 있습니다.\n"
   ]
  },
  {
   "cell_type": "markdown",
   "metadata": {},
   "source": [
    "Test\n",
    " - tf 2.19, keras 3.18\n"
   ]
  },
  {
   "cell_type": "code",
   "execution_count": 1,
   "metadata": {
    "execution": {
     "iopub.execute_input": "2022-12-14T20:19:13.215259Z",
     "iopub.status.busy": "2022-12-14T20:19:13.214737Z",
     "iopub.status.idle": "2022-12-14T20:19:15.717042Z",
     "shell.execute_reply": "2022-12-14T20:19:15.716324Z"
    },
    "id": "8RZOuS9LWQvv"
   },
   "outputs": [
    {
     "name": "stderr",
     "output_type": "stream",
     "text": [
      "2025-07-25 07:47:31.095185: I tensorflow/core/util/port.cc:153] oneDNN custom operations are on. You may see slightly different numerical results due to floating-point round-off errors from different computation orders. To turn them off, set the environment variable `TF_ENABLE_ONEDNN_OPTS=0`.\n",
      "2025-07-25 07:47:31.252523: E external/local_xla/xla/stream_executor/cuda/cuda_fft.cc:467] Unable to register cuFFT factory: Attempting to register factory for plugin cuFFT when one has already been registered\n",
      "WARNING: All log messages before absl::InitializeLog() is called are written to STDERR\n",
      "E0000 00:00:1753397251.390236  142652 cuda_dnn.cc:8579] Unable to register cuDNN factory: Attempting to register factory for plugin cuDNN when one has already been registered\n",
      "E0000 00:00:1753397251.424811  142652 cuda_blas.cc:1407] Unable to register cuBLAS factory: Attempting to register factory for plugin cuBLAS when one has already been registered\n",
      "W0000 00:00:1753397251.570715  142652 computation_placer.cc:177] computation placer already registered. Please check linkage and avoid linking the same target more than once.\n",
      "W0000 00:00:1753397251.570787  142652 computation_placer.cc:177] computation placer already registered. Please check linkage and avoid linking the same target more than once.\n",
      "W0000 00:00:1753397251.570790  142652 computation_placer.cc:177] computation placer already registered. Please check linkage and avoid linking the same target more than once.\n",
      "W0000 00:00:1753397251.570793  142652 computation_placer.cc:177] computation placer already registered. Please check linkage and avoid linking the same target more than once.\n",
      "2025-07-25 07:47:31.598590: I tensorflow/core/platform/cpu_feature_guard.cc:210] This TensorFlow binary is optimized to use available CPU instructions in performance-critical operations.\n",
      "To enable the following instructions: AVX2 AVX512F AVX512_VNNI AVX512_BF16 FMA, in other operations, rebuild TensorFlow with the appropriate compiler flags.\n"
     ]
    }
   ],
   "source": [
    "import matplotlib.pyplot as plt\n",
    "import os\n",
    "import re\n",
    "import shutil\n",
    "import string\n",
    "\n",
    "import tensorflow as tf\n",
    "import keras"
   ]
  },
  {
   "cell_type": "code",
   "execution_count": 2,
   "metadata": {
    "execution": {
     "iopub.execute_input": "2022-12-14T20:19:15.721483Z",
     "iopub.status.busy": "2022-12-14T20:19:15.720787Z",
     "iopub.status.idle": "2022-12-14T20:19:15.724858Z",
     "shell.execute_reply": "2022-12-14T20:19:15.724266Z"
    },
    "id": "6-tTFS04dChr"
   },
   "outputs": [
    {
     "name": "stdout",
     "output_type": "stream",
     "text": [
      "2.19.0\n"
     ]
    }
   ],
   "source": [
    "print(tf.__version__)"
   ]
  },
  {
   "cell_type": "markdown",
   "metadata": {
    "id": "NBTI1bi8qdFV"
   },
   "source": [
    "## 감정 분석 (긍정-부정 분류)\n",
    "\n",
    "이 노트북은 리뷰 텍스트를 사용하여 영화 리뷰를 *긍정적* 또는 *부정적*으로 분류합니다. 중요하고 널리 적용 가능한 머신러닝 문제인 *이진* 분류의 예입니다.\n",
    "\n",
    "[IMDB 데이터세트](https://ai.stanford.edu/~amaas/data/sentiment/)에는 [인터넷 영화 데이터베이스](https://www.imdb.com/)에서 가져온 50,000개의 영화 리뷰 텍스트가 포함되어 있습니다. 훈련용 리뷰 25,000개와 테스트용 리뷰 25,000개로 나뉩니다. 훈련 및 테스트 세트는 *균형을 이룹니다*. 즉, 동일한 수의 긍정적인 리뷰와 부정적인 리뷰가 포함되어 있습니다.\n"
   ]
  },
  {
   "cell_type": "markdown",
   "metadata": {
    "id": "iAsKG535pHep"
   },
   "source": [
    "### 데이터세트 다운로드 및 탐색하기\n",
    "\n",
    "데이터 세트를 다운로드하여 추출한 다음 디렉터리 구조를 살펴보겠습니다."
   ]
  },
  {
   "cell_type": "code",
   "execution_count": null,
   "metadata": {
    "execution": {
     "iopub.execute_input": "2022-12-14T20:19:15.728406Z",
     "iopub.status.busy": "2022-12-14T20:19:15.727925Z",
     "iopub.status.idle": "2022-12-14T20:19:31.440444Z",
     "shell.execute_reply": "2022-12-14T20:19:31.439568Z"
    },
    "id": "k7ZYnuajVlFN"
   },
   "outputs": [],
   "source": [
    "url = \"https://ai.stanford.edu/~amaas/data/sentiment/aclImdb_v1.tar.gz\"\n",
    "\n",
    "\n"
   ]
  },
  {
   "cell_type": "code",
   "execution_count": 4,
   "metadata": {},
   "outputs": [
    {
     "data": {
      "text/plain": [
       "('data/aclImdb_v1', 'data')"
      ]
     },
     "execution_count": 4,
     "metadata": {},
     "output_type": "execute_result"
    }
   ],
   "source": [
    "dataset, os.path.dirname(dataset)"
   ]
  },
  {
   "cell_type": "code",
   "execution_count": 5,
   "metadata": {},
   "outputs": [],
   "source": [
    "dataset_dir = os.path.join(os.path.dirname(dataset), 'aclImdb_v1/aclImdb')"
   ]
  },
  {
   "cell_type": "code",
   "execution_count": null,
   "metadata": {
    "execution": {
     "iopub.execute_input": "2022-12-14T20:19:31.445175Z",
     "iopub.status.busy": "2022-12-14T20:19:31.444568Z",
     "iopub.status.idle": "2022-12-14T20:19:31.452104Z",
     "shell.execute_reply": "2022-12-14T20:19:31.451457Z"
    },
    "id": "355CfOvsV1pl"
   },
   "outputs": [
    {
     "data": {
      "text/plain": [
       "['imdbEr.txt', 'train', 'test', 'README', 'imdb.vocab']"
      ]
     },
     "execution_count": 6,
     "metadata": {},
     "output_type": "execute_result"
    }
   ],
   "source": [
    "\n",
    "\n"
   ]
  },
  {
   "cell_type": "code",
   "execution_count": null,
   "metadata": {
    "execution": {
     "iopub.execute_input": "2022-12-14T20:19:31.455859Z",
     "iopub.status.busy": "2022-12-14T20:19:31.455285Z",
     "iopub.status.idle": "2022-12-14T20:19:31.460295Z",
     "shell.execute_reply": "2022-12-14T20:19:31.459670Z"
    },
    "id": "7ASND15oXpF1"
   },
   "outputs": [
    {
     "data": {
      "text/plain": [
       "['neg',\n",
       " 'unsupBow.feat',\n",
       " 'urls_neg.txt',\n",
       " 'urls_unsup.txt',\n",
       " 'pos',\n",
       " 'urls_pos.txt',\n",
       " 'labeledBow.feat',\n",
       " 'unsup']"
      ]
     },
     "execution_count": 7,
     "metadata": {},
     "output_type": "execute_result"
    }
   ],
   "source": [
    "\n",
    "\n"
   ]
  },
  {
   "cell_type": "markdown",
   "metadata": {
    "id": "ysMNMI1CWDFD"
   },
   "source": [
    "`aclImdb/train/pos` 및 `aclImdb/train/neg` 디렉토리에는 각각 단일 영화를 리뷰한 많은 텍스트 파일이 포함되어 있습니다. 그 중 하나를 살펴보겠습니다."
   ]
  },
  {
   "cell_type": "code",
   "execution_count": null,
   "metadata": {
    "execution": {
     "iopub.execute_input": "2022-12-14T20:19:31.464517Z",
     "iopub.status.busy": "2022-12-14T20:19:31.463860Z",
     "iopub.status.idle": "2022-12-14T20:19:31.468680Z",
     "shell.execute_reply": "2022-12-14T20:19:31.467922Z"
    },
    "id": "R7g8hFvzWLIZ"
   },
   "outputs": [
    {
     "name": "stdout",
     "output_type": "stream",
     "text": [
      "Rachel Griffiths writes and directs this award winning short film. A heartwarming story about coping with grief and cherishing the memory of those we've loved and lost. Although, only 15 minutes long, Griffiths manages to capture so much emotion and truth onto film in the short space of time. Bud Tingwell gives a touching performance as Will, a widower struggling to cope with his wife's death. Will is confronted by the harsh reality of loneliness and helplessness as he proceeds to take care of Ruth's pet cow, Tulip. The film displays the grief and responsibility one feels for those they have loved and lost. Good cinematography, great direction, and superbly acted. It will bring tears to all those who have lost a loved one, and survived.\n"
     ]
    }
   ],
   "source": [
    "# pos/1181_9.txt\n",
    "\n",
    "\n"
   ]
  },
  {
   "cell_type": "markdown",
   "metadata": {
    "id": "Mk20TEm6ZRFP"
   },
   "source": [
    "## 데이터세트 로드하기\n",
    "\n",
    "디스크에서 데이터를 로드하고 훈련에 적합한 형식으로 준비합니다. 이를 위해 다음과 같은 디렉토리 구조로 데이터를 준비하면 \n",
    "[text_dataset_from_directory](https://www.tensorflow.org/api_docs/python/tf/keras/preprocessing/text_dataset_from_directory) 유틸리티로 데이터 세트를 탑재할 수 있습니다.\n",
    "\n",
    "```\n",
    "main_directory/\n",
    "...class_a/\n",
    "......a_text_1.txt\n",
    "......a_text_2.txt\n",
    "...class_b/\n",
    "......b_text_1.txt\n",
    "......b_text_2.txt\n",
    "```"
   ]
  },
  {
   "cell_type": "markdown",
   "metadata": {
    "id": "nQauv38Lnok3"
   },
   "source": [
    "이진 분류를 위한 데이터세트를 준비하려면 디스크에 `class_a` 및 `class_b`에 해당하는 두 개의 폴더로 구성한다\n",
    " - 여기서 `aclImdb/train/pos` 및 `aclImdb/train/neg` 는 긍정적 영화 리뷰와 부정적 영화 리뷰 폴더이다. "
   ]
  },
  {
   "cell_type": "markdown",
   "metadata": {},
   "source": [
    "IMDB 데이터세트에는 추가 폴더가 포함되어 있으므로 이 유틸리티를 사용하기 전에 제거합니다."
   ]
  },
  {
   "cell_type": "code",
   "execution_count": null,
   "metadata": {},
   "outputs": [
    {
     "data": {
      "text/plain": [
       "['neg',\n",
       " 'unsupBow.feat',\n",
       " 'urls_neg.txt',\n",
       " 'urls_unsup.txt',\n",
       " 'pos',\n",
       " 'urls_pos.txt',\n",
       " 'labeledBow.feat',\n",
       " 'unsup']"
      ]
     },
     "execution_count": 9,
     "metadata": {},
     "output_type": "execute_result"
    }
   ],
   "source": [
    "# train dir\n",
    "\n"
   ]
  },
  {
   "cell_type": "code",
   "execution_count": null,
   "metadata": {},
   "outputs": [
    {
     "data": {
      "text/plain": [
       "['neg', 'urls_neg.txt', 'pos', 'urls_pos.txt', 'labeledBow.feat']"
      ]
     },
     "execution_count": 10,
     "metadata": {},
     "output_type": "execute_result"
    }
   ],
   "source": [
    "# test dir\n",
    "\n",
    "\n"
   ]
  },
  {
   "cell_type": "code",
   "execution_count": 11,
   "metadata": {
    "execution": {
     "iopub.execute_input": "2022-12-14T20:19:31.472540Z",
     "iopub.status.busy": "2022-12-14T20:19:31.472049Z",
     "iopub.status.idle": "2022-12-14T20:19:32.452195Z",
     "shell.execute_reply": "2022-12-14T20:19:32.451427Z"
    },
    "id": "VhejsClzaWfl"
   },
   "outputs": [],
   "source": [
    "# unsup 디렉토리 삭제\n",
    "remove_dir = os.path.join(train_dir, 'unsup')\n",
    "try:\n",
    "    shutil.rmtree(remove_dir)\n",
    "except FileNotFoundError as e:\n",
    "    print(e)"
   ]
  },
  {
   "cell_type": "code",
   "execution_count": null,
   "metadata": {},
   "outputs": [
    {
     "data": {
      "text/plain": [
       "['neg',\n",
       " 'unsupBow.feat',\n",
       " 'urls_neg.txt',\n",
       " 'urls_unsup.txt',\n",
       " 'pos',\n",
       " 'urls_pos.txt',\n",
       " 'labeledBow.feat']"
      ]
     },
     "execution_count": 12,
     "metadata": {},
     "output_type": "execute_result"
    }
   ],
   "source": [
    "\n"
   ]
  },
  {
   "cell_type": "code",
   "execution_count": null,
   "metadata": {},
   "outputs": [
    {
     "data": {
      "text/plain": [
       "['3567_8.txt',\n",
       " '2602_10.txt',\n",
       " '10202_10.txt',\n",
       " '3466_7.txt',\n",
       " '4088_7.txt',\n",
       " '4163_9.txt',\n",
       " '8563_10.txt',\n",
       " '5428_10.txt',\n",
       " '8777_10.txt',\n",
       " '5465_8.txt',\n",
       " '10420_10.txt',\n",
       " '2585_7.txt',\n",
       " '748_9.txt',\n",
       " '739_7.txt',\n",
       " '2366_7.txt',\n",
       " '592_10.txt',\n",
       " '8392_8.txt',\n",
       " '6087_9.txt',\n",
       " '4975_8.txt',\n",
       " '7254_10.txt',\n",
       " '10467_10.txt',\n",
       " '4610_10.txt',\n",
       " '11634_9.txt',\n",
       " '8580_9.txt',\n",
       " '9849_9.txt',\n",
       " '8485_8.txt',\n",
       " '5240_7.txt',\n",
       " '6400_9.txt',\n",
       " '10086_7.txt',\n",
       " '8373_9.txt',\n",
       " '5871_9.txt',\n",
       " '3228_7.txt',\n",
       " '972_9.txt',\n",
       " '10447_10.txt',\n",
       " '12113_8.txt',\n",
       " '6939_9.txt',\n",
       " '6674_9.txt',\n",
       " '9257_7.txt',\n",
       " '10410_10.txt',\n",
       " '6342_10.txt',\n",
       " '1850_10.txt',\n",
       " '2221_8.txt',\n",
       " '12124_8.txt',\n",
       " '8808_9.txt',\n",
       " '9666_10.txt',\n",
       " '6077_9.txt',\n",
       " '7293_10.txt',\n",
       " '2719_10.txt',\n",
       " '11037_8.txt',\n",
       " '3710_9.txt',\n",
       " '7101_10.txt',\n",
       " '1242_9.txt',\n",
       " '4080_10.txt',\n",
       " '12089_10.txt',\n",
       " '7951_10.txt',\n",
       " '1428_7.txt',\n",
       " '1968_8.txt',\n",
       " '2983_7.txt',\n",
       " '6048_9.txt',\n",
       " '5575_8.txt',\n",
       " '989_9.txt',\n",
       " '8433_9.txt',\n",
       " '9655_10.txt',\n",
       " '6406_9.txt',\n",
       " '443_10.txt',\n",
       " '7065_7.txt',\n",
       " '4206_9.txt',\n",
       " '9853_8.txt',\n",
       " '3394_10.txt',\n",
       " '5682_7.txt',\n",
       " '6602_7.txt',\n",
       " '5683_10.txt',\n",
       " '4434_7.txt',\n",
       " '10225_9.txt',\n",
       " '6733_10.txt',\n",
       " '9522_10.txt',\n",
       " '1971_9.txt',\n",
       " '2388_10.txt',\n",
       " '741_7.txt',\n",
       " '2519_10.txt',\n",
       " '5798_8.txt',\n",
       " '8585_8.txt',\n",
       " '7492_7.txt',\n",
       " '10208_7.txt',\n",
       " '1015_10.txt',\n",
       " '9094_10.txt',\n",
       " '1429_9.txt',\n",
       " '494_9.txt',\n",
       " '3434_8.txt',\n",
       " '5124_10.txt',\n",
       " '2360_10.txt',\n",
       " '1905_10.txt',\n",
       " '7884_7.txt',\n",
       " '9827_10.txt',\n",
       " '6561_10.txt',\n",
       " '9501_10.txt',\n",
       " '11567_8.txt',\n",
       " '6754_8.txt',\n",
       " '7895_10.txt',\n",
       " '8518_10.txt',\n",
       " '3705_10.txt',\n",
       " '521_10.txt',\n",
       " '4630_9.txt',\n",
       " '8522_10.txt',\n",
       " '2480_8.txt',\n",
       " '5730_10.txt',\n",
       " '1327_9.txt',\n",
       " '10797_8.txt',\n",
       " '6035_10.txt',\n",
       " '9600_8.txt',\n",
       " '11565_9.txt',\n",
       " '7561_9.txt',\n",
       " '463_7.txt',\n",
       " '4201_9.txt',\n",
       " '12445_9.txt',\n",
       " '11161_8.txt',\n",
       " '11171_7.txt',\n",
       " '10258_10.txt',\n",
       " '2964_8.txt',\n",
       " '190_10.txt',\n",
       " '11396_10.txt',\n",
       " '7636_8.txt',\n",
       " '6381_8.txt',\n",
       " '8827_8.txt',\n",
       " '6578_7.txt',\n",
       " '6391_8.txt',\n",
       " '5151_8.txt',\n",
       " '12382_8.txt',\n",
       " '7530_9.txt',\n",
       " '8214_7.txt',\n",
       " '330_10.txt',\n",
       " '10077_10.txt',\n",
       " '3204_10.txt',\n",
       " '10224_10.txt',\n",
       " '4407_8.txt',\n",
       " '4085_10.txt',\n",
       " '2343_10.txt',\n",
       " '5099_7.txt',\n",
       " '8475_10.txt',\n",
       " '6388_7.txt',\n",
       " '10_9.txt',\n",
       " '106_10.txt',\n",
       " '995_9.txt',\n",
       " '7238_9.txt',\n",
       " '9180_9.txt',\n",
       " '4295_9.txt',\n",
       " '2265_7.txt',\n",
       " '10809_10.txt',\n",
       " '2629_9.txt',\n",
       " '5819_10.txt',\n",
       " '4539_9.txt',\n",
       " '1471_9.txt',\n",
       " '12181_8.txt',\n",
       " '6891_9.txt',\n",
       " '10882_8.txt',\n",
       " '1645_9.txt',\n",
       " '9795_7.txt',\n",
       " '9908_8.txt',\n",
       " '5666_10.txt',\n",
       " '6651_10.txt',\n",
       " '10448_10.txt',\n",
       " '4738_7.txt',\n",
       " '957_10.txt',\n",
       " '11845_10.txt',\n",
       " '950_9.txt',\n",
       " '1194_7.txt',\n",
       " '11614_7.txt',\n",
       " '9174_9.txt',\n",
       " '3559_10.txt',\n",
       " '5046_10.txt',\n",
       " '2138_9.txt',\n",
       " '8467_7.txt',\n",
       " '5747_8.txt',\n",
       " '9818_7.txt',\n",
       " '7095_9.txt',\n",
       " '1020_10.txt',\n",
       " '6174_10.txt',\n",
       " '7877_7.txt',\n",
       " '8526_10.txt',\n",
       " '8596_7.txt',\n",
       " '10614_7.txt',\n",
       " '4251_9.txt',\n",
       " '9222_7.txt',\n",
       " '5455_7.txt',\n",
       " '5013_10.txt',\n",
       " '7632_10.txt',\n",
       " '6711_10.txt',\n",
       " '5229_10.txt',\n",
       " '8399_10.txt',\n",
       " '7364_7.txt',\n",
       " '6310_10.txt',\n",
       " '12320_8.txt',\n",
       " '110_10.txt',\n",
       " '7663_7.txt',\n",
       " '10840_9.txt',\n",
       " '4914_7.txt',\n",
       " '690_9.txt',\n",
       " '1531_8.txt',\n",
       " '2478_10.txt',\n",
       " '393_8.txt',\n",
       " '1547_7.txt',\n",
       " '10843_7.txt',\n",
       " '10569_10.txt',\n",
       " '5509_10.txt',\n",
       " '7859_7.txt',\n",
       " '5995_10.txt',\n",
       " '1759_8.txt',\n",
       " '169_8.txt',\n",
       " '6443_9.txt',\n",
       " '485_8.txt',\n",
       " '9752_10.txt',\n",
       " '9144_7.txt',\n",
       " '10304_7.txt',\n",
       " '3980_10.txt',\n",
       " '5343_8.txt',\n",
       " '3981_10.txt',\n",
       " '4907_8.txt',\n",
       " '466_8.txt',\n",
       " '10187_7.txt',\n",
       " '2782_10.txt',\n",
       " '5990_7.txt',\n",
       " '5330_7.txt',\n",
       " '630_10.txt',\n",
       " '11740_10.txt',\n",
       " '8900_10.txt',\n",
       " '9398_9.txt',\n",
       " '9933_8.txt',\n",
       " '7716_9.txt',\n",
       " '6815_8.txt',\n",
       " '3160_7.txt',\n",
       " '5876_8.txt',\n",
       " '4107_10.txt',\n",
       " '4755_7.txt',\n",
       " '8513_9.txt',\n",
       " '6588_9.txt',\n",
       " '5966_7.txt',\n",
       " '3481_10.txt',\n",
       " '6700_8.txt',\n",
       " '9520_10.txt',\n",
       " '5369_9.txt',\n",
       " '3828_10.txt',\n",
       " '9359_8.txt',\n",
       " '5779_10.txt',\n",
       " '4716_9.txt',\n",
       " '8248_9.txt',\n",
       " '7489_7.txt',\n",
       " '203_7.txt',\n",
       " '9463_10.txt',\n",
       " '4186_7.txt',\n",
       " '4404_9.txt',\n",
       " '4214_10.txt',\n",
       " '6989_7.txt',\n",
       " '7847_9.txt',\n",
       " '9421_10.txt',\n",
       " '7144_10.txt',\n",
       " '11294_10.txt',\n",
       " '8044_10.txt',\n",
       " '5298_8.txt',\n",
       " '1374_8.txt',\n",
       " '10841_10.txt',\n",
       " '9007_10.txt',\n",
       " '9743_8.txt',\n",
       " '2718_9.txt',\n",
       " '507_10.txt',\n",
       " '6422_7.txt',\n",
       " '11299_8.txt',\n",
       " '6107_7.txt',\n",
       " '11574_10.txt',\n",
       " '5187_7.txt',\n",
       " '2865_10.txt',\n",
       " '3185_10.txt',\n",
       " '6639_10.txt',\n",
       " '1513_7.txt',\n",
       " '30_7.txt',\n",
       " '4476_9.txt',\n",
       " '1518_8.txt',\n",
       " '3851_10.txt',\n",
       " '2436_10.txt',\n",
       " '9135_9.txt',\n",
       " '3022_7.txt',\n",
       " '3680_9.txt',\n",
       " '3629_8.txt',\n",
       " '2364_10.txt',\n",
       " '1588_8.txt',\n",
       " '4544_10.txt',\n",
       " '8036_8.txt',\n",
       " '3428_9.txt',\n",
       " '3224_7.txt',\n",
       " '3864_7.txt',\n",
       " '11572_8.txt',\n",
       " '6978_8.txt',\n",
       " '3857_9.txt',\n",
       " '2434_8.txt',\n",
       " '8762_8.txt',\n",
       " '4258_9.txt',\n",
       " '1914_7.txt',\n",
       " '3329_7.txt',\n",
       " '10339_7.txt',\n",
       " '11145_8.txt',\n",
       " '1845_7.txt',\n",
       " '8702_10.txt',\n",
       " '510_8.txt',\n",
       " '5206_7.txt',\n",
       " '3935_9.txt',\n",
       " '6728_8.txt',\n",
       " '7993_10.txt',\n",
       " '2054_9.txt',\n",
       " '7282_9.txt',\n",
       " '8007_7.txt',\n",
       " '297_10.txt',\n",
       " '247_10.txt',\n",
       " '2414_10.txt',\n",
       " '7222_8.txt',\n",
       " '11346_10.txt',\n",
       " '441_9.txt',\n",
       " '1427_9.txt',\n",
       " '9353_8.txt',\n",
       " '10044_9.txt',\n",
       " '1571_10.txt',\n",
       " '10302_9.txt',\n",
       " '8469_7.txt',\n",
       " '6974_10.txt',\n",
       " '1764_10.txt',\n",
       " '1783_8.txt',\n",
       " '4724_7.txt',\n",
       " '125_7.txt',\n",
       " '8622_8.txt',\n",
       " '5276_10.txt',\n",
       " '2387_10.txt',\n",
       " '11185_9.txt',\n",
       " '2779_7.txt',\n",
       " '8402_10.txt',\n",
       " '5639_7.txt',\n",
       " '11650_9.txt',\n",
       " '8203_7.txt',\n",
       " '10850_10.txt',\n",
       " '7598_10.txt',\n",
       " '1782_7.txt',\n",
       " '2699_10.txt',\n",
       " '10203_10.txt',\n",
       " '1030_10.txt',\n",
       " '5676_9.txt',\n",
       " '2661_10.txt',\n",
       " '10209_7.txt',\n",
       " '3811_9.txt',\n",
       " '6745_8.txt',\n",
       " '12074_10.txt',\n",
       " '562_8.txt',\n",
       " '6323_7.txt',\n",
       " '5722_8.txt',\n",
       " '8090_9.txt',\n",
       " '1430_9.txt',\n",
       " '207_8.txt',\n",
       " '11526_10.txt',\n",
       " '4224_10.txt',\n",
       " '10619_8.txt',\n",
       " '1614_10.txt',\n",
       " '3297_10.txt',\n",
       " '10320_7.txt',\n",
       " '5421_7.txt',\n",
       " '2680_7.txt',\n",
       " '8199_10.txt',\n",
       " '2523_9.txt',\n",
       " '1237_8.txt',\n",
       " '8213_9.txt',\n",
       " '5458_10.txt',\n",
       " '406_8.txt',\n",
       " '7730_7.txt',\n",
       " '5845_7.txt',\n",
       " '1896_8.txt',\n",
       " '8666_7.txt',\n",
       " '10156_10.txt',\n",
       " '3291_8.txt',\n",
       " '10436_8.txt',\n",
       " '8150_10.txt',\n",
       " '7841_10.txt',\n",
       " '9064_7.txt',\n",
       " '11571_9.txt',\n",
       " '2122_7.txt',\n",
       " '12393_8.txt',\n",
       " '4249_10.txt',\n",
       " '4225_10.txt',\n",
       " '8019_7.txt',\n",
       " '6472_10.txt',\n",
       " '3172_9.txt',\n",
       " '1492_10.txt',\n",
       " '5957_9.txt',\n",
       " '13_7.txt',\n",
       " '9081_8.txt',\n",
       " '5965_10.txt',\n",
       " '7822_8.txt',\n",
       " '5936_10.txt',\n",
       " '3015_9.txt',\n",
       " '7118_10.txt',\n",
       " '10898_7.txt',\n",
       " '664_7.txt',\n",
       " '4555_9.txt',\n",
       " '11236_8.txt',\n",
       " '597_7.txt',\n",
       " '10477_9.txt',\n",
       " '3278_8.txt',\n",
       " '5436_7.txt',\n",
       " '7052_8.txt',\n",
       " '7506_7.txt',\n",
       " '9058_7.txt',\n",
       " '8514_7.txt',\n",
       " '8354_8.txt',\n",
       " '5196_9.txt',\n",
       " '10885_7.txt',\n",
       " '11649_10.txt',\n",
       " '11548_10.txt',\n",
       " '6226_10.txt',\n",
       " '1641_10.txt',\n",
       " '821_10.txt',\n",
       " '536_10.txt',\n",
       " '1220_9.txt',\n",
       " '11191_10.txt',\n",
       " '4846_7.txt',\n",
       " '1725_8.txt',\n",
       " '3564_10.txt',\n",
       " '6434_7.txt',\n",
       " '8037_10.txt',\n",
       " '6529_7.txt',\n",
       " '3499_8.txt',\n",
       " '9980_8.txt',\n",
       " '2455_8.txt',\n",
       " '4762_10.txt',\n",
       " '11306_8.txt',\n",
       " '1205_8.txt',\n",
       " '9440_8.txt',\n",
       " '10905_8.txt',\n",
       " '9947_10.txt',\n",
       " '164_10.txt',\n",
       " '4807_10.txt',\n",
       " '8228_8.txt',\n",
       " '10289_10.txt',\n",
       " '3479_9.txt',\n",
       " '10732_8.txt',\n",
       " '3340_8.txt',\n",
       " '8038_7.txt',\n",
       " '9260_7.txt',\n",
       " '6088_10.txt',\n",
       " '6270_8.txt',\n",
       " '11537_7.txt',\n",
       " '6256_8.txt',\n",
       " '6337_7.txt',\n",
       " '11847_9.txt',\n",
       " '8343_7.txt',\n",
       " '2593_10.txt',\n",
       " '4165_8.txt',\n",
       " '10878_7.txt',\n",
       " '11808_9.txt',\n",
       " '1409_8.txt',\n",
       " '1408_7.txt',\n",
       " '8996_8.txt',\n",
       " '5495_8.txt',\n",
       " '876_7.txt',\n",
       " '5074_10.txt',\n",
       " '2148_10.txt',\n",
       " '6822_7.txt',\n",
       " '12116_9.txt',\n",
       " '3060_10.txt',\n",
       " '1178_10.txt',\n",
       " '5492_10.txt',\n",
       " '7354_7.txt',\n",
       " '1535_9.txt',\n",
       " '5115_10.txt',\n",
       " '2412_10.txt',\n",
       " '4015_7.txt',\n",
       " '7413_9.txt',\n",
       " '8218_7.txt',\n",
       " '10670_10.txt',\n",
       " '8441_10.txt',\n",
       " '5043_7.txt',\n",
       " '8703_10.txt',\n",
       " '7844_10.txt',\n",
       " '1321_10.txt',\n",
       " '214_7.txt',\n",
       " '12265_10.txt',\n",
       " '5756_8.txt',\n",
       " '7106_8.txt',\n",
       " '4513_8.txt',\n",
       " '1483_9.txt',\n",
       " '4853_10.txt',\n",
       " '6884_10.txt',\n",
       " '2823_7.txt',\n",
       " '3246_9.txt',\n",
       " '8128_10.txt',\n",
       " '5507_7.txt',\n",
       " '8643_7.txt',\n",
       " '6331_10.txt',\n",
       " '2587_9.txt',\n",
       " '11471_7.txt',\n",
       " '10365_8.txt',\n",
       " '10054_10.txt',\n",
       " '8105_8.txt',\n",
       " '1232_10.txt',\n",
       " '3838_7.txt',\n",
       " '946_8.txt',\n",
       " '5102_7.txt',\n",
       " '4987_10.txt',\n",
       " '3788_10.txt',\n",
       " '8306_10.txt',\n",
       " '3858_10.txt',\n",
       " '8304_8.txt',\n",
       " '10980_7.txt',\n",
       " '6682_10.txt',\n",
       " '7915_8.txt',\n",
       " '6685_10.txt',\n",
       " '8619_7.txt',\n",
       " '4556_8.txt',\n",
       " '783_10.txt',\n",
       " '1449_9.txt',\n",
       " '7767_8.txt',\n",
       " '4413_8.txt',\n",
       " '3417_10.txt',\n",
       " '12048_10.txt',\n",
       " '4658_8.txt',\n",
       " '9884_10.txt',\n",
       " '3886_10.txt',\n",
       " '11996_10.txt',\n",
       " '894_9.txt',\n",
       " '5017_8.txt',\n",
       " '11859_10.txt',\n",
       " '11427_10.txt',\n",
       " '5889_7.txt',\n",
       " '8426_7.txt',\n",
       " '4972_9.txt',\n",
       " '3249_9.txt',\n",
       " '5720_10.txt',\n",
       " '12431_8.txt',\n",
       " '301_10.txt',\n",
       " '7599_10.txt',\n",
       " '5824_10.txt',\n",
       " '12184_10.txt',\n",
       " '371_9.txt',\n",
       " '2615_9.txt',\n",
       " '7480_10.txt',\n",
       " '3108_8.txt',\n",
       " '3191_8.txt',\n",
       " '1897_10.txt',\n",
       " '6668_8.txt',\n",
       " '235_10.txt',\n",
       " '4242_9.txt',\n",
       " '7431_10.txt',\n",
       " '10672_9.txt',\n",
       " '9892_8.txt',\n",
       " '1915_10.txt',\n",
       " '2174_8.txt',\n",
       " '12384_8.txt',\n",
       " '1753_9.txt',\n",
       " '1403_7.txt',\n",
       " '11579_10.txt',\n",
       " '7755_9.txt',\n",
       " '11708_8.txt',\n",
       " '11676_8.txt',\n",
       " '2201_10.txt',\n",
       " '4112_9.txt',\n",
       " '1898_9.txt',\n",
       " '10867_7.txt',\n",
       " '10407_8.txt',\n",
       " '7684_7.txt',\n",
       " '9955_9.txt',\n",
       " '10037_9.txt',\n",
       " '8187_9.txt',\n",
       " '7073_10.txt',\n",
       " '8177_8.txt',\n",
       " '4474_10.txt',\n",
       " '6158_10.txt',\n",
       " '10085_10.txt',\n",
       " '195_8.txt',\n",
       " '11188_10.txt',\n",
       " '32_10.txt',\n",
       " '11016_7.txt',\n",
       " '4782_9.txt',\n",
       " '3326_8.txt',\n",
       " '12011_10.txt',\n",
       " '10554_7.txt',\n",
       " '7760_10.txt',\n",
       " '11793_8.txt',\n",
       " '11620_8.txt',\n",
       " '2965_9.txt',\n",
       " '11000_10.txt',\n",
       " '7267_7.txt',\n",
       " '8040_9.txt',\n",
       " '8896_10.txt',\n",
       " '5364_10.txt',\n",
       " '805_9.txt',\n",
       " '8776_10.txt',\n",
       " '7191_9.txt',\n",
       " '3068_9.txt',\n",
       " '11067_7.txt',\n",
       " '11730_10.txt',\n",
       " '10839_10.txt',\n",
       " '11774_10.txt',\n",
       " '8877_9.txt',\n",
       " '326_10.txt',\n",
       " '7668_10.txt',\n",
       " '11208_8.txt',\n",
       " '5200_10.txt',\n",
       " '11041_7.txt',\n",
       " '3259_7.txt',\n",
       " '5869_10.txt',\n",
       " '10528_10.txt',\n",
       " '1209_10.txt',\n",
       " '9770_10.txt',\n",
       " '8110_9.txt',\n",
       " '12324_10.txt',\n",
       " '6823_10.txt',\n",
       " '10104_10.txt',\n",
       " '9830_7.txt',\n",
       " '2556_8.txt',\n",
       " '11069_10.txt',\n",
       " '2676_10.txt',\n",
       " '3364_10.txt',\n",
       " '4721_8.txt',\n",
       " '3873_9.txt',\n",
       " '7114_9.txt',\n",
       " '2917_7.txt',\n",
       " '416_8.txt',\n",
       " '8617_9.txt',\n",
       " '2316_10.txt',\n",
       " '175_7.txt',\n",
       " '5748_10.txt',\n",
       " '5205_7.txt',\n",
       " '687_9.txt',\n",
       " '2785_7.txt',\n",
       " '6886_8.txt',\n",
       " '2968_10.txt',\n",
       " '10069_8.txt',\n",
       " '8599_7.txt',\n",
       " '10638_8.txt',\n",
       " '2058_9.txt',\n",
       " '11805_10.txt',\n",
       " '10922_10.txt',\n",
       " '4228_10.txt',\n",
       " '3633_10.txt',\n",
       " '5170_9.txt',\n",
       " '4569_7.txt',\n",
       " '8905_10.txt',\n",
       " '1228_9.txt',\n",
       " '853_9.txt',\n",
       " '865_9.txt',\n",
       " '9779_9.txt',\n",
       " '2132_9.txt',\n",
       " '10244_7.txt',\n",
       " '8730_8.txt',\n",
       " '6961_7.txt',\n",
       " '7104_7.txt',\n",
       " '1533_8.txt',\n",
       " '12480_10.txt',\n",
       " '10446_10.txt',\n",
       " '2631_7.txt',\n",
       " '4766_10.txt',\n",
       " '2770_8.txt',\n",
       " '3129_10.txt',\n",
       " '305_8.txt',\n",
       " '9836_9.txt',\n",
       " '9188_10.txt',\n",
       " '3739_10.txt',\n",
       " '12194_10.txt',\n",
       " '96_10.txt',\n",
       " '3487_9.txt',\n",
       " '11453_9.txt',\n",
       " '11384_7.txt',\n",
       " '5216_8.txt',\n",
       " '7428_10.txt',\n",
       " '7898_10.txt',\n",
       " '12312_10.txt',\n",
       " '9477_9.txt',\n",
       " '4076_10.txt',\n",
       " '6938_9.txt',\n",
       " '8023_7.txt',\n",
       " '8866_9.txt',\n",
       " '462_8.txt',\n",
       " '6191_9.txt',\n",
       " '6568_9.txt',\n",
       " '9075_10.txt',\n",
       " '10816_10.txt',\n",
       " '3213_10.txt',\n",
       " '6935_8.txt',\n",
       " '9882_8.txt',\n",
       " '2613_9.txt',\n",
       " '3206_8.txt',\n",
       " '8356_10.txt',\n",
       " '11749_10.txt',\n",
       " '9012_7.txt',\n",
       " '4551_10.txt',\n",
       " '5806_7.txt',\n",
       " '3390_8.txt',\n",
       " '3871_8.txt',\n",
       " '1731_10.txt',\n",
       " '9057_7.txt',\n",
       " '3771_10.txt',\n",
       " '3868_10.txt',\n",
       " '6863_7.txt',\n",
       " '2788_9.txt',\n",
       " '6648_7.txt',\n",
       " '7626_9.txt',\n",
       " '1042_10.txt',\n",
       " '9150_8.txt',\n",
       " '6872_7.txt',\n",
       " '913_10.txt',\n",
       " '6344_7.txt',\n",
       " '6500_10.txt',\n",
       " '8406_10.txt',\n",
       " '9335_10.txt',\n",
       " '3221_10.txt',\n",
       " '10716_7.txt',\n",
       " '3239_10.txt',\n",
       " '9452_9.txt',\n",
       " '5379_7.txt',\n",
       " '10462_7.txt',\n",
       " '11063_10.txt',\n",
       " '8132_10.txt',\n",
       " '2948_10.txt',\n",
       " '563_10.txt',\n",
       " '10191_10.txt',\n",
       " '9323_10.txt',\n",
       " '10743_9.txt',\n",
       " '1397_7.txt',\n",
       " '1880_10.txt',\n",
       " '6458_8.txt',\n",
       " '6264_7.txt',\n",
       " '2791_10.txt',\n",
       " '7593_7.txt',\n",
       " '12458_7.txt',\n",
       " '7871_9.txt',\n",
       " '6321_7.txt',\n",
       " '7518_9.txt',\n",
       " '1983_10.txt',\n",
       " '3458_10.txt',\n",
       " '10991_9.txt',\n",
       " '7854_10.txt',\n",
       " '7828_10.txt',\n",
       " '3621_8.txt',\n",
       " '6395_9.txt',\n",
       " '4781_8.txt',\n",
       " '12172_7.txt',\n",
       " '11876_10.txt',\n",
       " '2146_9.txt',\n",
       " '10013_7.txt',\n",
       " '6922_8.txt',\n",
       " '7998_9.txt',\n",
       " '4314_10.txt',\n",
       " '4315_9.txt',\n",
       " '11714_10.txt',\n",
       " '5226_10.txt',\n",
       " '9688_9.txt',\n",
       " '9525_8.txt',\n",
       " '9785_7.txt',\n",
       " '5948_8.txt',\n",
       " '885_8.txt',\n",
       " '11239_8.txt',\n",
       " '7133_10.txt',\n",
       " '8182_7.txt',\n",
       " '4871_8.txt',\n",
       " '7352_10.txt',\n",
       " '5807_8.txt',\n",
       " '1341_10.txt',\n",
       " '10028_10.txt',\n",
       " '2922_10.txt',\n",
       " '3061_10.txt',\n",
       " '4489_9.txt',\n",
       " '983_7.txt',\n",
       " '7147_10.txt',\n",
       " '11725_10.txt',\n",
       " '7687_8.txt',\n",
       " '3604_10.txt',\n",
       " '9274_8.txt',\n",
       " '9250_8.txt',\n",
       " '12138_7.txt',\n",
       " '9080_7.txt',\n",
       " '1926_10.txt',\n",
       " '12110_8.txt',\n",
       " '6192_9.txt',\n",
       " '6193_7.txt',\n",
       " '11470_10.txt',\n",
       " '7736_10.txt',\n",
       " '2077_10.txt',\n",
       " '4377_10.txt',\n",
       " '3784_9.txt',\n",
       " '6071_8.txt',\n",
       " '9879_8.txt',\n",
       " '3764_8.txt',\n",
       " '2141_10.txt',\n",
       " '8000_10.txt',\n",
       " '11312_9.txt',\n",
       " '8633_8.txt',\n",
       " '566_8.txt',\n",
       " '11070_9.txt',\n",
       " '1107_10.txt',\n",
       " '1391_7.txt',\n",
       " '3821_9.txt',\n",
       " '201_10.txt',\n",
       " '11772_10.txt',\n",
       " '4179_10.txt',\n",
       " '8739_9.txt',\n",
       " '9663_10.txt',\n",
       " '12395_8.txt',\n",
       " '6510_7.txt',\n",
       " '6681_10.txt',\n",
       " '7670_8.txt',\n",
       " '5079_8.txt',\n",
       " '568_7.txt',\n",
       " '12388_8.txt',\n",
       " '5597_10.txt',\n",
       " '9066_8.txt',\n",
       " '7157_7.txt',\n",
       " '579_10.txt',\n",
       " '4359_10.txt',\n",
       " '11042_7.txt',\n",
       " '11040_7.txt',\n",
       " '2543_10.txt',\n",
       " '6097_10.txt',\n",
       " '10844_9.txt',\n",
       " '11409_9.txt',\n",
       " '11513_8.txt',\n",
       " '7685_10.txt',\n",
       " '6694_10.txt',\n",
       " '8736_10.txt',\n",
       " '5564_10.txt',\n",
       " '2537_7.txt',\n",
       " '12379_8.txt',\n",
       " '8163_8.txt',\n",
       " '11142_8.txt',\n",
       " '2416_10.txt',\n",
       " '4917_8.txt',\n",
       " '3374_7.txt',\n",
       " '3257_9.txt',\n",
       " '4516_10.txt',\n",
       " '7460_10.txt',\n",
       " '3960_10.txt',\n",
       " '12228_8.txt',\n",
       " '8707_10.txt',\n",
       " '713_10.txt',\n",
       " '831_9.txt',\n",
       " '815_7.txt',\n",
       " '5211_8.txt',\n",
       " '3401_8.txt',\n",
       " '2702_9.txt',\n",
       " '154_8.txt',\n",
       " '4096_10.txt',\n",
       " '2711_7.txt',\n",
       " '8651_9.txt',\n",
       " '7641_10.txt',\n",
       " '9494_10.txt',\n",
       " '4459_7.txt',\n",
       " '2500_9.txt',\n",
       " '12058_9.txt',\n",
       " '6493_10.txt',\n",
       " '6168_10.txt',\n",
       " '11181_10.txt',\n",
       " '2261_10.txt',\n",
       " '7728_7.txt',\n",
       " '3760_7.txt',\n",
       " '8761_10.txt',\n",
       " '3265_10.txt',\n",
       " '5729_9.txt',\n",
       " '8606_10.txt',\n",
       " '5563_8.txt',\n",
       " '7379_9.txt',\n",
       " '6411_10.txt',\n",
       " '7511_9.txt',\n",
       " '11796_9.txt',\n",
       " '8667_7.txt',\n",
       " '5885_10.txt',\n",
       " '8_7.txt',\n",
       " '7400_9.txt',\n",
       " '967_7.txt',\n",
       " '10725_9.txt',\n",
       " '760_7.txt',\n",
       " '8224_8.txt',\n",
       " '3849_8.txt',\n",
       " '7462_10.txt',\n",
       " '11585_10.txt',\n",
       " '322_10.txt',\n",
       " '7080_10.txt',\n",
       " '9073_10.txt',\n",
       " '9202_8.txt',\n",
       " '5585_7.txt',\n",
       " '5706_9.txt',\n",
       " '10002_7.txt',\n",
       " '3337_9.txt',\n",
       " '11797_8.txt',\n",
       " '8632_9.txt',\n",
       " '2852_7.txt',\n",
       " '4790_10.txt',\n",
       " '649_10.txt',\n",
       " '5162_9.txt',\n",
       " '7654_10.txt',\n",
       " '12232_8.txt',\n",
       " '1598_8.txt',\n",
       " '4298_10.txt',\n",
       " '10137_7.txt',\n",
       " '4109_10.txt',\n",
       " '2207_9.txt',\n",
       " '10900_8.txt',\n",
       " '5346_7.txt',\n",
       " '5923_7.txt',\n",
       " '4852_8.txt',\n",
       " '11815_10.txt',\n",
       " '8560_10.txt',\n",
       " '9513_10.txt',\n",
       " '1155_10.txt',\n",
       " '6525_7.txt',\n",
       " '362_10.txt',\n",
       " '1924_10.txt',\n",
       " '3331_8.txt',\n",
       " '1937_10.txt',\n",
       " '11352_9.txt',\n",
       " '548_7.txt',\n",
       " '10175_10.txt',\n",
       " '2935_10.txt',\n",
       " '5616_8.txt',\n",
       " '11562_9.txt',\n",
       " '11351_9.txt',\n",
       " '4260_9.txt',\n",
       " '8629_9.txt',\n",
       " '0_9.txt',\n",
       " '4934_8.txt',\n",
       " '12299_7.txt',\n",
       " '6462_10.txt',\n",
       " '7252_8.txt',\n",
       " '10742_9.txt',\n",
       " '1050_9.txt',\n",
       " '11118_10.txt',\n",
       " '11635_8.txt',\n",
       " '1580_7.txt',\n",
       " '1268_7.txt',\n",
       " '4052_8.txt',\n",
       " '3648_8.txt',\n",
       " '11086_7.txt',\n",
       " '7134_10.txt',\n",
       " '903_8.txt',\n",
       " '7937_10.txt',\n",
       " '11131_9.txt',\n",
       " '7816_9.txt',\n",
       " '12394_10.txt',\n",
       " '9661_8.txt',\n",
       " '3433_9.txt',\n",
       " '1693_10.txt',\n",
       " '5868_8.txt',\n",
       " '10981_8.txt',\n",
       " '7566_10.txt',\n",
       " '11544_10.txt',\n",
       " '7804_10.txt',\n",
       " '217_8.txt',\n",
       " '9204_10.txt',\n",
       " '112_10.txt',\n",
       " '806_10.txt',\n",
       " '10451_10.txt',\n",
       " '4467_7.txt',\n",
       " '10116_10.txt',\n",
       " '9102_8.txt',\n",
       " '2018_9.txt',\n",
       " '7801_9.txt',\n",
       " '3354_10.txt',\n",
       " '8937_9.txt',\n",
       " '9295_10.txt',\n",
       " '864_9.txt',\n",
       " '2528_10.txt',\n",
       " '5147_8.txt',\n",
       " '5168_10.txt',\n",
       " '8828_10.txt',\n",
       " '6030_10.txt',\n",
       " '10820_10.txt',\n",
       " '6498_10.txt',\n",
       " '10507_10.txt',\n",
       " '7188_8.txt',\n",
       " '8305_7.txt',\n",
       " '8492_9.txt',\n",
       " '6665_10.txt',\n",
       " '1152_10.txt',\n",
       " '4579_9.txt',\n",
       " '5662_10.txt',\n",
       " '10913_7.txt',\n",
       " '7324_10.txt',\n",
       " '12438_8.txt',\n",
       " '8944_8.txt',\n",
       " '3914_10.txt',\n",
       " '4226_10.txt',\n",
       " '11469_10.txt',\n",
       " '2981_10.txt',\n",
       " '11414_9.txt',\n",
       " '9271_8.txt',\n",
       " '5933_7.txt',\n",
       " '7747_10.txt',\n",
       " '5828_9.txt',\n",
       " '9214_7.txt',\n",
       " '8644_7.txt',\n",
       " '8537_10.txt',\n",
       " '9537_8.txt',\n",
       " '1026_9.txt',\n",
       " '3107_8.txt',\n",
       " '704_10.txt',\n",
       " '8140_10.txt',\n",
       " '5559_7.txt',\n",
       " '1913_10.txt',\n",
       " '1387_8.txt',\n",
       " ...]"
      ]
     },
     "execution_count": 13,
     "metadata": {},
     "output_type": "execute_result"
    }
   ],
   "source": [
    "# pos 디렉토리의 파일 목록\n",
    "\n"
   ]
  },
  {
   "cell_type": "markdown",
   "metadata": {
    "id": "95kkUdRoaeMw"
   },
   "source": [
    "다음으로 `text_dataset_from_directory` 유틸리티를 사용하여 레이블이 지정된 `tf.data.Dataset`를 만듭니다. [tf.data](https://www.tensorflow.org/guide/data)는 데이터 작업을 위한 강력한 도구 모음입니다.\n",
    "\n",
    "머신러닝 실험을 실행할 때 데이터세트를 train, validation 및 test의 세 부분으로 나누는 것이 가장 좋습니다.\n"
   ]
  },
  {
   "cell_type": "markdown",
   "metadata": {},
   "source": [
    "### train 세트\n",
    "\n",
    "IMDB 데이터세트는 이미 훈련과 테스트로 나누어져 있지만 검증 세트가 부족합니다. 아래 `validation_split` 인수를 사용하여 훈련 데이터를 80:20으로 분할하여 검증 세트를 생성해 보겠습니다."
   ]
  },
  {
   "cell_type": "code",
   "execution_count": 14,
   "metadata": {},
   "outputs": [
    {
     "data": {
      "text/plain": [
       "'data/aclImdb_v1/aclImdb/train'"
      ]
     },
     "execution_count": 14,
     "metadata": {},
     "output_type": "execute_result"
    }
   ],
   "source": [
    "train_dir"
   ]
  },
  {
   "cell_type": "code",
   "execution_count": null,
   "metadata": {
    "execution": {
     "iopub.execute_input": "2022-12-14T20:19:32.456545Z",
     "iopub.status.busy": "2022-12-14T20:19:32.456262Z",
     "iopub.status.idle": "2022-12-14T20:19:37.425329Z",
     "shell.execute_reply": "2022-12-14T20:19:37.424557Z"
    },
    "id": "nOrK-MTYaw3C"
   },
   "outputs": [
    {
     "name": "stdout",
     "output_type": "stream",
     "text": [
      "Found 25000 files belonging to 2 classes.\n",
      "Using 20000 files for training.\n"
     ]
    },
    {
     "name": "stderr",
     "output_type": "stream",
     "text": [
      "I0000 00:00:1753397314.406427  142652 gpu_device.cc:2019] Created device /job:localhost/replica:0/task:0/device:GPU:0 with 2051 MB memory:  -> device: 0, name: NVIDIA GeForce RTX 4060 Laptop GPU, pci bus id: 0000:01:00.0, compute capability: 8.9\n"
     ]
    }
   ],
   "source": [
    "batch_size = 32\n",
    "seed = 50\n",
    "\n",
    "\n",
    "\n"
   ]
  },
  {
   "cell_type": "markdown",
   "metadata": {
    "id": "5Y33oxOUpYkh"
   },
   "source": [
    "위에서 볼 수 있듯이 training 폴더에는 25,000개의 예제가 있으며 그 중 80%(또는 20,000개)를 훈련에 사용할 것입니다. \n",
    "\n",
    "`tf.data`를 처음 사용하는 경우 데이터세트를 반복하고 다음과 같이 몇 가지 예를 출력할 수도 있습니다."
   ]
  },
  {
   "cell_type": "code",
   "execution_count": 16,
   "metadata": {
    "execution": {
     "iopub.execute_input": "2022-12-14T20:19:37.429536Z",
     "iopub.status.busy": "2022-12-14T20:19:37.428997Z",
     "iopub.status.idle": "2022-12-14T20:19:37.458934Z",
     "shell.execute_reply": "2022-12-14T20:19:37.458081Z"
    },
    "id": "51wNaPPApk1K"
   },
   "outputs": [
    {
     "name": "stdout",
     "output_type": "stream",
     "text": [
      "Review b'Gee, what a heck of a movie!... I said I wanted to become a specialist in bad movies from all decades, so I decided to start by this one. It was a pretty adequate choice. I entered this adventure to find some lost gems and uncomprehended masterpieces, but I didn\\'t see anything of the sort in this pastel-coloured mess. I haven\\'t really watched many bad films before, but I\\'ve got the feeling this is what\\'s called \"so bad that\\'s good\", probably because it is so unintentionally damn funny! First of all, there are the inaccuracies. There are plot-related inaccuracies, physical inaccuracies, and also psychological inaccuracies. The latter in particular are as insane as Van Damme\\'s ass cheeks inside that blue spandex. Extremely tacky lines exist too and I won\\'t even start to talk about some of the hilarious action moves. There isn\\'t exactly bad acting from everyone involved in that hot mess of a movie, except in one particular case. Geoffrey Lewis looks completely pathetic as Frank, which is an utterly stupid character. And, to tell the truth, I was actually very surprised to see that Van Damme did a decent job playing the twins. He succeeded in achieving a different tone and mood in the two roles that was convincing to me. But the movie was mostly very bad and the sad part is that it was produced by a major motion picture studio... which is now bankrupt.'\n",
      "Label 0\n",
      "Review b'This period melodrama is one of Griffith\\'s earliest claustrophobic films. Characters trapped within a room are prevalent throughout his work and, as time went by, he would become increasingly adept at portraying their helplessness and involving the audience in their terror. In the bluntly titled Sealed Room there is one major difference to the normal plot line, in that there truly is no escape.<br /><br />Griffith achieves the claustrophobic effect here in two ways. First is his use of space. While the typical Biograph short might utilise a dozen or more sets, The Sealed Room features only two adjoining rooms \\xc2\\x96 the king\\'s court and the dove cote that becomes the eponymous tomb. The set design in these shorts is rarely referenced, but here it is crucial. The court is a large interior, with a backdrop hinting at greater depth and showing us a window and a staircase. Actors enter and leave from various directions, suggesting the room is not only spacious but also free and open. By contrast the dove cote\\'s back wall is very close to the camera, and the angles in it suggesting a hexagonal or octagonal shape make it seem even more confined.<br /><br />The second technique on display here is the cross-cutting. Anyone with an interest in Griffith\\'s work will probably know about his heavy use and development of cross-cutting to build excitement or tension. Many will also know that strictly speaking it wasn\\'t his invention. However what makes Griffith\\'s cross-cuts so effective is the way he paces the opposing images so they complement each other. The Sealed Room contains a good example of what I mean. The shots of the masons shifting the heavy bricks have a slow, step-by-step pace to them, with tension building as the wall gets higher. This movement is matched by the shots of the blissfully unaware lovers, in which Marion Leonard tears off flower petals one-by-one. As the couple realise their predicament, their rising panic is complemented by the opposing shot of the king madly thrashing his sword against the wall.<br /><br />At this point, Griffith was yet to realise that the action could be heightened further by introducing a third strand to the cross-cut. The dramatic \"ride-to-the-rescue\", here absent, was later to become a standard climax to Griffith\\'s pictures.'\n",
      "Label 1\n",
      "Review b\"Sandwiched in between San Francisco and Captains Courageous two of Spencer Tracy's greatest parts is this very curious film about war and the effects it has on some people. They Gave Him A Gun stars Spencer Tracy and Franchot Tone in the only film they ever made together and Gladys George as the woman who loves them both.<br /><br />Tracy and Tone are a couple of World War I draftees, Tone is a weak character who almost goes over the hill in boot camp, but Tracy stops him. Tracy is still playing the lovable blowhard, younger Wallace Beery type that MGM envisioned for him when they signed him away from Fox. <br /><br />Over at the front Tone gets an opportunity and takes it when during a fight he manages to get to a church tower that peers down on a German machine gun nest. He's learned to shoot by now and he does a Sergeant York. But Alvin C. York was never changed by the war the way Tone has.<br /><br />Wounded in the fight Tone convalesces at a hospital with Gladys George looking out for him. Tracy goes AWOL himself to visit his pal and he and George get something going. Later on when Tracy is reported missing in action, Tone and George marry. Tracy's brokenhearted when he comes back and learns of the marriage, but takes sit in stride. <br /><br />The rest of the film is dealing with Tone applying the the wartime skills he's learned to the gangster trade. He's a hit-man now and George doesn't really know what he does for a living. I think you can figure the rest out.<br /><br />The part of the film that gave me some trouble is that I can't believe Gladys George couldn't figure it out. She's a street smart girl, her part is very much like the one she played in The Roaring Twenties opposite James Cagney.<br /><br />Speaking of The Roaring Twenties, Humphrey Bogart's character development there is similar to Tone's although he was not the central character of the movie. In fact there are elements of They Gave Him A Gun that are to be found in Taxi Driver and in Clint Eastwood's classic, The Unforgiven. <br /><br />The World War I battle sequences are very well staged by director Woody Van Dyke. For some reason Leonard Maltin panned this film, I think it's a lot better than he gave it credit.\"\n",
      "Label 1\n"
     ]
    },
    {
     "name": "stderr",
     "output_type": "stream",
     "text": [
      "2025-07-25 07:48:36.408217: I tensorflow/core/framework/local_rendezvous.cc:407] Local rendezvous is aborting with status: OUT_OF_RANGE: End of sequence\n"
     ]
    }
   ],
   "source": [
    "# take 로 첫번째 요소 확인\n",
    "for text_batch, label_batch in raw_train_ds.take(1):\n",
    "  for i in range(3):\n",
    "    print(\"Review\", text_batch.numpy()[i])\n",
    "    print(\"Label\", label_batch.numpy()[i])"
   ]
  },
  {
   "cell_type": "markdown",
   "metadata": {
    "id": "JWq1SUIrp1a-"
   },
   "source": [
    "리뷰에는 `<br/>`와 같은 간헐적 HTML 태그와 구두점을 포함한 원시 텍스트가 포함되어 있다\n",
    "\n",
    "레이블은 0 또는 1입니다. 이들 중 어느 것이 긍정적이고 부정적인 영화 리뷰에 해당하는지 확인하려면 데이터세트에서 `class_names` 속성을 확인할 수 있습니다.\n"
   ]
  },
  {
   "cell_type": "code",
   "execution_count": 17,
   "metadata": {
    "execution": {
     "iopub.execute_input": "2022-12-14T20:19:37.462876Z",
     "iopub.status.busy": "2022-12-14T20:19:37.462169Z",
     "iopub.status.idle": "2022-12-14T20:19:37.466281Z",
     "shell.execute_reply": "2022-12-14T20:19:37.465646Z"
    },
    "id": "MlICTG8spyO2"
   },
   "outputs": [
    {
     "name": "stdout",
     "output_type": "stream",
     "text": [
      "0 : neg\n",
      "1 : pos\n"
     ]
    }
   ],
   "source": [
    "# 레이블\n",
    "print(\"0 :\", raw_train_ds.class_names[0])\n",
    "print(\"1 :\", raw_train_ds.class_names[1])"
   ]
  },
  {
   "cell_type": "markdown",
   "metadata": {
    "id": "pbdO39vYqdJr"
   },
   "source": [
    "### 검증 및 테스트 데이터세트\n",
    "\n",
    "\n",
    " 위해 훈련 세트의 나머지 5,000개 리뷰를 사용합니다."
   ]
  },
  {
   "cell_type": "markdown",
   "metadata": {
    "id": "SzxazN8Hq1pF"
   },
   "source": [
    "참고: `validation_split` 및 `subset` 인수를 사용할 때 검증 및 훈련 분할이 겹치지 않도록 임의 시드를 지정하거나 `shuffle=False`를 사용한다"
   ]
  },
  {
   "cell_type": "code",
   "execution_count": null,
   "metadata": {
    "execution": {
     "iopub.execute_input": "2022-12-14T20:19:37.469768Z",
     "iopub.status.busy": "2022-12-14T20:19:37.469490Z",
     "iopub.status.idle": "2022-12-14T20:19:38.781205Z",
     "shell.execute_reply": "2022-12-14T20:19:38.780484Z"
    },
    "id": "JsMwwhOoqjKF"
   },
   "outputs": [
    {
     "name": "stdout",
     "output_type": "stream",
     "text": [
      "Found 25000 files belonging to 2 classes.\n",
      "Using 5000 files for validation.\n"
     ]
    }
   ],
   "source": [
    "# validation\n",
    "\n",
    "\n"
   ]
  },
  {
   "cell_type": "code",
   "execution_count": null,
   "metadata": {
    "execution": {
     "iopub.execute_input": "2022-12-14T20:19:38.784689Z",
     "iopub.status.busy": "2022-12-14T20:19:38.784102Z",
     "iopub.status.idle": "2022-12-14T20:19:40.088837Z",
     "shell.execute_reply": "2022-12-14T20:19:40.088068Z"
    },
    "id": "rdSr0Nt3q_ns"
   },
   "outputs": [
    {
     "name": "stdout",
     "output_type": "stream",
     "text": [
      "Found 25000 files belonging to 2 classes.\n"
     ]
    }
   ],
   "source": [
    "# test 세트\n",
    "\n",
    "\n",
    "\n"
   ]
  },
  {
   "cell_type": "markdown",
   "metadata": {
    "id": "qJmTiO0IYAjm"
   },
   "source": [
    "## 훈련을 위한 데이터세트 준비하기\n"
   ]
  },
  {
   "cell_type": "markdown",
   "metadata": {},
   "source": [
    "`tf.keras.layers.TextVectorization` 레이어를 사용하여 데이터를 표준화, 토큰화 및 벡터화합니다.\n",
    "\n",
    " - 표준화는 일반적으로 구두점이나 HTML 요소를 제거하여 데이터세트를 단순화하기 위해 텍스트를 전처리하는 것을 말합니다. \n",
    " - 토큰화는 문자열을 여러 토큰으로 분할하는 것을 말합니다(예: 화이트스페이스에서 분할하여 문장을 개별 단어로 분할). \n",
    " - 벡터화는 토큰을 숫자로 변환하여 신경망에 공급될 수 있도록 하는 것을 말합니다. \n"
   ]
  },
  {
   "cell_type": "markdown",
   "metadata": {},
   "source": [
    "위에서 볼 수 있듯이 리뷰에는 `<br />`와 같은 다양한 HTML 태그가 포함되어 있습니다. 이러한 태그는 `TextVectorization` 레이어의 기본 표준화 도구로 제거되지 않습니다(텍스트를 소문자로 변환하고 기본적으로 구두점을 제거하지만 HTML은 제거하지 않음). \n",
    "\n",
    "HTML을 제거하기 위해 사용자 정의 표준화 함수를 작성합니다."
   ]
  },
  {
   "cell_type": "code",
   "execution_count": 20,
   "metadata": {
    "execution": {
     "iopub.execute_input": "2022-12-14T20:19:40.093078Z",
     "iopub.status.busy": "2022-12-14T20:19:40.092490Z",
     "iopub.status.idle": "2022-12-14T20:19:40.096731Z",
     "shell.execute_reply": "2022-12-14T20:19:40.096090Z"
    },
    "id": "SDRI_s_tX1Hk"
   },
   "outputs": [],
   "source": [
    "def custom_standardization(input_data):\n",
    "  lowercase = tf.strings.lower(input_data)\n",
    "  stripped_html = tf.strings.regex_replace(lowercase, '<br />', ' ')\n",
    "  return tf.strings.regex_replace(stripped_html,\n",
    "                                  '[%s]' % re.escape(string.punctuation),\n",
    "                                  '')"
   ]
  },
  {
   "cell_type": "markdown",
   "metadata": {
    "id": "d2d3Aw8dsUux"
   },
   "source": [
    "다음으로 `TextVectorization` 레이어를 만듭니다. 이 레이어를 사용하여 데이터를 표준화, 토큰화 및 벡터화합니다. \n",
    "\n",
    " - 각 토큰에 대해 고유한 정수 인덱스를 생성하도록 `output_mode`를 `int`로 설정합니다.\n",
    " - 기본 분할 함수와 위에서 정의한 사용자 지정 표준화 함수를 사용하고 있습니다.\n",
    " - 레이어가 텍스트 시퀀스를 정확히 `sequence_length` 값으로 채우거나 자르도록 합니다."
   ]
  },
  {
   "cell_type": "code",
   "execution_count": null,
   "metadata": {
    "execution": {
     "iopub.execute_input": "2022-12-14T20:19:40.100300Z",
     "iopub.status.busy": "2022-12-14T20:19:40.099683Z",
     "iopub.status.idle": "2022-12-14T20:19:40.114008Z",
     "shell.execute_reply": "2022-12-14T20:19:40.113318Z"
    },
    "id": "-c76RvSzsMnX"
   },
   "outputs": [],
   "source": [
    "# TextVectorization 레이어에서 데이터를 표준화, 토큰화, 벡터화\n",
    "max_features = 10000\n",
    "sequence_length = 250\n",
    "\n",
    "\n",
    "\n",
    "\n"
   ]
  },
  {
   "cell_type": "markdown",
   "metadata": {
    "id": "vlFOpfF6scT6"
   },
   "source": [
    "다음으로, 전처리 레이어의 상태를 데이터세트에 맞추기 위해 `adapt`를 호출합니다. \n",
    " - 모델이 문자열 인덱스를 정수로 빌드합니다.\n",
    " - adapt를 호출할 때 훈련 데이터만 사용하는 것이 중요합니다(테스트세트를 사용하면 정보가 누출됨)."
   ]
  },
  {
   "cell_type": "code",
   "execution_count": null,
   "metadata": {
    "execution": {
     "iopub.execute_input": "2022-12-14T20:19:40.118021Z",
     "iopub.status.busy": "2022-12-14T20:19:40.117340Z",
     "iopub.status.idle": "2022-12-14T20:19:42.494818Z",
     "shell.execute_reply": "2022-12-14T20:19:42.493788Z"
    },
    "id": "GH4_2ZGJsa_X"
   },
   "outputs": [
    {
     "name": "stderr",
     "output_type": "stream",
     "text": [
      "2025-07-25 07:48:51.615171: I tensorflow/core/framework/local_rendezvous.cc:407] Local rendezvous is aborting with status: OUT_OF_RANGE: End of sequence\n"
     ]
    }
   ],
   "source": [
    "# adapt로 문자열 인덱스\n",
    "\n"
   ]
  },
  {
   "cell_type": "markdown",
   "metadata": {
    "id": "SHQVEFzNt-K_"
   },
   "source": [
    "이 레이어를 사용하여 일부 데이터를 전처리한 결과를 확인하는 함수를 만들어 보겠습니다."
   ]
  },
  {
   "cell_type": "code",
   "execution_count": 23,
   "metadata": {
    "execution": {
     "iopub.execute_input": "2022-12-14T20:19:42.499800Z",
     "iopub.status.busy": "2022-12-14T20:19:42.499037Z",
     "iopub.status.idle": "2022-12-14T20:19:42.503069Z",
     "shell.execute_reply": "2022-12-14T20:19:42.502255Z"
    },
    "id": "SCIg_T50wOCU"
   },
   "outputs": [],
   "source": [
    "def vectorize_text(text, label):\n",
    "  text = tf.expand_dims(text, -1)\n",
    "  return vectorize_layer(text), label"
   ]
  },
  {
   "cell_type": "markdown",
   "metadata": {},
   "source": [
    "td.data 에서 하나의 샘플 추출"
   ]
  },
  {
   "cell_type": "code",
   "execution_count": null,
   "metadata": {
    "execution": {
     "iopub.execute_input": "2022-12-14T20:19:42.506809Z",
     "iopub.status.busy": "2022-12-14T20:19:42.506059Z",
     "iopub.status.idle": "2022-12-14T20:19:42.570333Z",
     "shell.execute_reply": "2022-12-14T20:19:42.569615Z"
    },
    "id": "XULcm6B3xQIO"
   },
   "outputs": [
    {
     "name": "stdout",
     "output_type": "stream",
     "text": [
      "Review tf.Tensor(b\"We showed this movie at the local Film Society, and the art-house crowd had the time of their cinematic lives. It's tasteless, groovy and very funny in a sixties kind of way. The Kraft Kitchen recipe sketch had them laughing like maniacs. The rest is a mixed bag, but the highs definitely beat the lows. By the way, whatever happened to Ken Shapiro??\", shape=(), dtype=string)\n"
     ]
    }
   ],
   "source": [
    "# 하나의 배치를 추출 ( 32 reviews and labels)\n",
    "\n"
   ]
  },
  {
   "cell_type": "code",
   "execution_count": null,
   "metadata": {},
   "outputs": [
    {
     "name": "stdout",
     "output_type": "stream",
     "text": [
      "Label pos\n",
      "Vectorized review (<tf.Tensor: shape=(1, 250), dtype=int64, numpy=\n",
      "array([[  71, 1144,   11,   17,   31,    2,  681,   19,  970,    3,    2,\n",
      "        5504, 2397,   66,    2,   59,    5,   64, 1326,  458,   29, 5593,\n",
      "           1,    3,   52,  157,    8,    4, 4713,  238,    5,   94,    2,\n",
      "           1, 4118, 9063, 5660,   66,   92, 1055,   38,    1,    2,  346,\n",
      "           7,    4, 1727, 3113,   18,    2,    1,  387, 1593,    2,    1,\n",
      "          32,    2,   94,  844,  562,    6, 3408,    1,    0,    0,    0,\n",
      "           0,    0,    0,    0,    0,    0,    0,    0,    0,    0,    0,\n",
      "           0,    0,    0,    0,    0,    0,    0,    0,    0,    0,    0,\n",
      "           0,    0,    0,    0,    0,    0,    0,    0,    0,    0,    0,\n",
      "           0,    0,    0,    0,    0,    0,    0,    0,    0,    0,    0,\n",
      "           0,    0,    0,    0,    0,    0,    0,    0,    0,    0,    0,\n",
      "           0,    0,    0,    0,    0,    0,    0,    0,    0,    0,    0,\n",
      "           0,    0,    0,    0,    0,    0,    0,    0,    0,    0,    0,\n",
      "           0,    0,    0,    0,    0,    0,    0,    0,    0,    0,    0,\n",
      "           0,    0,    0,    0,    0,    0,    0,    0,    0,    0,    0,\n",
      "           0,    0,    0,    0,    0,    0,    0,    0,    0,    0,    0,\n",
      "           0,    0,    0,    0,    0,    0,    0,    0,    0,    0,    0,\n",
      "           0,    0,    0,    0,    0,    0,    0,    0,    0,    0,    0,\n",
      "           0,    0,    0,    0,    0,    0,    0,    0,    0,    0,    0,\n",
      "           0,    0,    0,    0,    0,    0,    0,    0,    0,    0,    0,\n",
      "           0,    0,    0,    0,    0,    0,    0,    0,    0,    0,    0,\n",
      "           0,    0,    0,    0,    0,    0,    0,    0,    0,    0,    0,\n",
      "           0,    0,    0,    0,    0,    0,    0,    0]])>, <tf.Tensor: shape=(), dtype=int32, numpy=1>)\n"
     ]
    }
   ],
   "source": [
    "print(\"Label\",  )\n",
    "print(\"Vectorized review\", )"
   ]
  },
  {
   "cell_type": "markdown",
   "metadata": {
    "id": "6u5EX0hxyNZT"
   },
   "source": [
    "위에서 볼 수 있듯이 각 토큰은 정수로 대체되었습니다. 레이어에서 `.get_vocabulary()`를 호출하여 각 정수에 해당하는 토큰(문자열)을 조회할 수 있습니다."
   ]
  },
  {
   "cell_type": "code",
   "execution_count": null,
   "metadata": {
    "execution": {
     "iopub.execute_input": "2022-12-14T20:19:42.574388Z",
     "iopub.status.busy": "2022-12-14T20:19:42.573766Z",
     "iopub.status.idle": "2022-12-14T20:19:42.621457Z",
     "shell.execute_reply": "2022-12-14T20:19:42.620773Z"
    },
    "id": "kRq9hTQzhVhW"
   },
   "outputs": [
    {
     "name": "stdout",
     "output_type": "stream",
     "text": [
      "1287 --->  london\n",
      " 313 --->  special\n",
      "Vocabulary size: 10000\n"
     ]
    }
   ],
   "source": [
    "print(\"1287 ---> \",   )\n",
    "print(\" 313 ---> \",    )\n",
    "print('Vocabulary size: {}'.format(len(vectorize_layer.get_vocabulary())))"
   ]
  },
  {
   "cell_type": "markdown",
   "metadata": {
    "id": "XD2H6utRydGv"
   },
   "source": [
    "모델을 훈련할 준비가 거의 되었습니다. 최종 전처리 단계로 이전에 생성한 TextVectorization 레이어를 훈련, 검증 및 테스트 데이터세트에 적용합니다."
   ]
  },
  {
   "cell_type": "code",
   "execution_count": null,
   "metadata": {
    "execution": {
     "iopub.execute_input": "2022-12-14T20:19:42.625295Z",
     "iopub.status.busy": "2022-12-14T20:19:42.624581Z",
     "iopub.status.idle": "2022-12-14T20:19:42.764864Z",
     "shell.execute_reply": "2022-12-14T20:19:42.764065Z"
    },
    "id": "2zhmpeViI1iG"
   },
   "outputs": [],
   "source": [
    "\n",
    "\n",
    "\n"
   ]
  },
  {
   "cell_type": "markdown",
   "metadata": {
    "id": "YsVQyPMizjuO"
   },
   "source": [
    "### 성능을 높이도록 데이터세트 구성하기\n",
    "\n",
    "I/O 성능을 위해 데이터를 로드할 때 사용해야 하는 두 가지 중요한 메서드입니다.\n",
    "\n",
    "1. `.cache()`\n",
    "\n",
    "    데이터가 디스크에서 로드된 후 메모리에 데이터를 보관합니다. 이렇게 하면 모델을 훈련하는 동안 데이터세트로 인해 병목 현상이 발생하지 않습니다. 데이터세트가 너무 커서 메모리에 맞지 않는 경우, 이 메서드를 사용하여 성능이 뛰어난 온 디스크 캐시를 생성할 수도 있습니다. 많은 작은 파일보다 읽기가 더 효율적입니다.\n",
    "\n",
    "2. `.prefetch()`\n",
    "\n",
    "    훈련 중에 데이터 전처리 및 모델 실행과 겹칩니다.\n",
    "\n",
    "[데이터 성능 가이드](https://www.tensorflow.org/guide/data_performance)에서 두 가지 메서드와 데이터를 디스크에 캐싱하는 방법에 관해 자세히 알아볼 수 있습니다."
   ]
  },
  {
   "cell_type": "code",
   "execution_count": null,
   "metadata": {
    "execution": {
     "iopub.execute_input": "2022-12-14T20:19:42.769459Z",
     "iopub.status.busy": "2022-12-14T20:19:42.768773Z",
     "iopub.status.idle": "2022-12-14T20:19:42.777705Z",
     "shell.execute_reply": "2022-12-14T20:19:42.777073Z"
    },
    "id": "wMcs_H7izm5m"
   },
   "outputs": [],
   "source": [
    "\n",
    "\n",
    "\n"
   ]
  },
  {
   "cell_type": "markdown",
   "metadata": {
    "id": "LLC02j2g-llC"
   },
   "source": [
    "## 모델 생성\n",
    "\n",
    "이제 신경망을 만들 차례입니다."
   ]
  },
  {
   "cell_type": "markdown",
   "metadata": {},
   "source": [
    "embedding dimesion 을 결정한다.\n",
    " - embedding_dim 은 **사용자가 직접 설정해야 하는 하이퍼파라미터(hyperparameter)**.\n",
    " - 32, 64, 128, 256과 같은 값을 많이 사용\n",
    " - 데이터셋이 크고 복잡할수록: 더 높은 embedding_dim\n",
    " - 데이터셋이 작거나 단순할수록: 너무 높은 embedding_dim은 오버피팅을 유발"
   ]
  },
  {
   "cell_type": "code",
   "execution_count": 50,
   "metadata": {
    "execution": {
     "iopub.execute_input": "2022-12-14T20:19:42.781503Z",
     "iopub.status.busy": "2022-12-14T20:19:42.780980Z",
     "iopub.status.idle": "2022-12-14T20:19:42.784337Z",
     "shell.execute_reply": "2022-12-14T20:19:42.783705Z"
    },
    "id": "dkQP6in8yUBR"
   },
   "outputs": [],
   "source": [
    "embedding_dim = 16"
   ]
  },
  {
   "cell_type": "code",
   "execution_count": null,
   "metadata": {
    "execution": {
     "iopub.execute_input": "2022-12-14T20:19:42.787859Z",
     "iopub.status.busy": "2022-12-14T20:19:42.787346Z",
     "iopub.status.idle": "2022-12-14T20:19:42.850162Z",
     "shell.execute_reply": "2022-12-14T20:19:42.849457Z"
    },
    "id": "xpKOoWgu-llD"
   },
   "outputs": [
    {
     "data": {
      "text/html": [
       "<pre style=\"white-space:pre;overflow-x:auto;line-height:normal;font-family:Menlo,'DejaVu Sans Mono',consolas,'Courier New',monospace\"><span style=\"font-weight: bold\">Model: \"sequential_3\"</span>\n",
       "</pre>\n"
      ],
      "text/plain": [
       "\u001b[1mModel: \"sequential_3\"\u001b[0m\n"
      ]
     },
     "metadata": {},
     "output_type": "display_data"
    },
    {
     "data": {
      "text/html": [
       "<pre style=\"white-space:pre;overflow-x:auto;line-height:normal;font-family:Menlo,'DejaVu Sans Mono',consolas,'Courier New',monospace\">┏━━━━━━━━━━━━━━━━━━━━━━━━━━━━━━━━━┳━━━━━━━━━━━━━━━━━━━━━━━━┳━━━━━━━━━━━━━━━┓\n",
       "┃<span style=\"font-weight: bold\"> Layer (type)                    </span>┃<span style=\"font-weight: bold\"> Output Shape           </span>┃<span style=\"font-weight: bold\">       Param # </span>┃\n",
       "┡━━━━━━━━━━━━━━━━━━━━━━━━━━━━━━━━━╇━━━━━━━━━━━━━━━━━━━━━━━━╇━━━━━━━━━━━━━━━┩\n",
       "│ embedding_3 (<span style=\"color: #0087ff; text-decoration-color: #0087ff\">Embedding</span>)         │ ?                      │   <span style=\"color: #00af00; text-decoration-color: #00af00\">0</span> (unbuilt) │\n",
       "├─────────────────────────────────┼────────────────────────┼───────────────┤\n",
       "│ dropout_5 (<span style=\"color: #0087ff; text-decoration-color: #0087ff\">Dropout</span>)             │ ?                      │             <span style=\"color: #00af00; text-decoration-color: #00af00\">0</span> │\n",
       "├─────────────────────────────────┼────────────────────────┼───────────────┤\n",
       "│ global_average_pooling1d_3      │ ?                      │             <span style=\"color: #00af00; text-decoration-color: #00af00\">0</span> │\n",
       "│ (<span style=\"color: #0087ff; text-decoration-color: #0087ff\">GlobalAveragePooling1D</span>)        │                        │               │\n",
       "├─────────────────────────────────┼────────────────────────┼───────────────┤\n",
       "│ dropout_6 (<span style=\"color: #0087ff; text-decoration-color: #0087ff\">Dropout</span>)             │ ?                      │             <span style=\"color: #00af00; text-decoration-color: #00af00\">0</span> │\n",
       "├─────────────────────────────────┼────────────────────────┼───────────────┤\n",
       "│ dense_6 (<span style=\"color: #0087ff; text-decoration-color: #0087ff\">Dense</span>)                 │ ?                      │   <span style=\"color: #00af00; text-decoration-color: #00af00\">0</span> (unbuilt) │\n",
       "└─────────────────────────────────┴────────────────────────┴───────────────┘\n",
       "</pre>\n"
      ],
      "text/plain": [
       "┏━━━━━━━━━━━━━━━━━━━━━━━━━━━━━━━━━┳━━━━━━━━━━━━━━━━━━━━━━━━┳━━━━━━━━━━━━━━━┓\n",
       "┃\u001b[1m \u001b[0m\u001b[1mLayer (type)                   \u001b[0m\u001b[1m \u001b[0m┃\u001b[1m \u001b[0m\u001b[1mOutput Shape          \u001b[0m\u001b[1m \u001b[0m┃\u001b[1m \u001b[0m\u001b[1m      Param #\u001b[0m\u001b[1m \u001b[0m┃\n",
       "┡━━━━━━━━━━━━━━━━━━━━━━━━━━━━━━━━━╇━━━━━━━━━━━━━━━━━━━━━━━━╇━━━━━━━━━━━━━━━┩\n",
       "│ embedding_3 (\u001b[38;5;33mEmbedding\u001b[0m)         │ ?                      │   \u001b[38;5;34m0\u001b[0m (unbuilt) │\n",
       "├─────────────────────────────────┼────────────────────────┼───────────────┤\n",
       "│ dropout_5 (\u001b[38;5;33mDropout\u001b[0m)             │ ?                      │             \u001b[38;5;34m0\u001b[0m │\n",
       "├─────────────────────────────────┼────────────────────────┼───────────────┤\n",
       "│ global_average_pooling1d_3      │ ?                      │             \u001b[38;5;34m0\u001b[0m │\n",
       "│ (\u001b[38;5;33mGlobalAveragePooling1D\u001b[0m)        │                        │               │\n",
       "├─────────────────────────────────┼────────────────────────┼───────────────┤\n",
       "│ dropout_6 (\u001b[38;5;33mDropout\u001b[0m)             │ ?                      │             \u001b[38;5;34m0\u001b[0m │\n",
       "├─────────────────────────────────┼────────────────────────┼───────────────┤\n",
       "│ dense_6 (\u001b[38;5;33mDense\u001b[0m)                 │ ?                      │   \u001b[38;5;34m0\u001b[0m (unbuilt) │\n",
       "└─────────────────────────────────┴────────────────────────┴───────────────┘\n"
      ]
     },
     "metadata": {},
     "output_type": "display_data"
    },
    {
     "data": {
      "text/html": [
       "<pre style=\"white-space:pre;overflow-x:auto;line-height:normal;font-family:Menlo,'DejaVu Sans Mono',consolas,'Courier New',monospace\"><span style=\"font-weight: bold\"> Total params: </span><span style=\"color: #00af00; text-decoration-color: #00af00\">0</span> (0.00 B)\n",
       "</pre>\n"
      ],
      "text/plain": [
       "\u001b[1m Total params: \u001b[0m\u001b[38;5;34m0\u001b[0m (0.00 B)\n"
      ]
     },
     "metadata": {},
     "output_type": "display_data"
    },
    {
     "data": {
      "text/html": [
       "<pre style=\"white-space:pre;overflow-x:auto;line-height:normal;font-family:Menlo,'DejaVu Sans Mono',consolas,'Courier New',monospace\"><span style=\"font-weight: bold\"> Trainable params: </span><span style=\"color: #00af00; text-decoration-color: #00af00\">0</span> (0.00 B)\n",
       "</pre>\n"
      ],
      "text/plain": [
       "\u001b[1m Trainable params: \u001b[0m\u001b[38;5;34m0\u001b[0m (0.00 B)\n"
      ]
     },
     "metadata": {},
     "output_type": "display_data"
    },
    {
     "data": {
      "text/html": [
       "<pre style=\"white-space:pre;overflow-x:auto;line-height:normal;font-family:Menlo,'DejaVu Sans Mono',consolas,'Courier New',monospace\"><span style=\"font-weight: bold\"> Non-trainable params: </span><span style=\"color: #00af00; text-decoration-color: #00af00\">0</span> (0.00 B)\n",
       "</pre>\n"
      ],
      "text/plain": [
       "\u001b[1m Non-trainable params: \u001b[0m\u001b[38;5;34m0\u001b[0m (0.00 B)\n"
      ]
     },
     "metadata": {},
     "output_type": "display_data"
    }
   ],
   "source": [
    "\n",
    "\n",
    "\n",
    "\n",
    "\n",
    "\n",
    "\n"
   ]
  },
  {
   "cell_type": "markdown",
   "metadata": {
    "id": "6PbKQ6mucuKL"
   },
   "source": [
    "층을 순서대로 쌓아 분류기(classifier)를 만듭니다:\n",
    "\n",
    "1. 첫 번째 레이어는 `Embedding` 레이어입니다. \n",
    "    - 이 레이어는 정수로 인코딩된 리뷰를 입력 받고 각 단어 인덱스에 해당하는 임베딩 벡터를 찾습니다. \n",
    "    - 이들 벡터는 출력 배열에 차원을 추가합니다. 최종 차원은 `(batch, sequence, embedding)`이 됩니다. \n",
    "    - [단어 임베딩](https://www.tensorflow.org/text/guide/word_embeddings) 튜토리얼을 확인하세요.\n",
    "2. `GlobalAveragePooling1D` 층\n",
    "    - `sequence` 차원에 대해 평균을 계산하여 각 샘플에 대해 고정된 길이의 출력 벡터를 반환합니다. \n",
    "    - 이는 길이가 다른 입력을 다루는 가장 간단한 방법입니다.\n",
    "4. 출력 노드는 `sigmoid` 활성화 함수를 사용하여 0과 1 사이의 실수를 출력합니다. 이 값은 확률 또는 신뢰도를 나타냅니다."
   ]
  },
  {
   "cell_type": "markdown",
   "metadata": {
    "id": "L4EqVWg4-llM"
   },
   "source": [
    "### 손실 함수와 옵티마이저\n",
    "\n",
    "모델이 훈련하려면 손실 함수(loss function)과 옵티마이저(optimizer)가 필요합니다. 이 예제는 이진 분류 문제이고 모델이 확률을 출력하므로(출력층의 유닛이 하나이고 `sigmoid` 활성화 함수를 사용합니다), `binary_crossentropy` 손실 함수를 사용하겠습니다.\n",
    "\n",
    "이제 최적화 기와 손실 함수를 사용하도록 모델을 구성합니다."
   ]
  },
  {
   "cell_type": "code",
   "execution_count": null,
   "metadata": {
    "execution": {
     "iopub.execute_input": "2022-12-14T20:19:42.859610Z",
     "iopub.status.busy": "2022-12-14T20:19:42.858866Z",
     "iopub.status.idle": "2022-12-14T20:19:42.875293Z",
     "shell.execute_reply": "2022-12-14T20:19:42.874587Z"
    },
    "id": "Mr0GP-cQ-llN"
   },
   "outputs": [],
   "source": [
    "# \n",
    "\n",
    "\n",
    "\n"
   ]
  },
  {
   "cell_type": "markdown",
   "metadata": {},
   "source": [
    "`from_logits=True`\n",
    " - 마지막 레이어 활성화 함수를 통과하기 전의 원시 출력값을 \"로짓(logits)\n",
    " - True: BinaryCrossentropy 손실 함수는 모델의 출력(예측값)이 로짓(logits)이라고 가정합니다.\n",
    " - 즉, 모델의 마지막 레이어에 sigmoid 활성화 함수를 적용하지 않았다는 뜻입니다.\n",
    " - 손실 함수 내부적으로 예측된 로짓 값에 시그모이드 함수를 적용하여 확률 값으로 변환해 실제 라벨과의 교차 엔트로피를 계산합니다."
   ]
  },
  {
   "cell_type": "markdown",
   "metadata": {
    "id": "35jv_fzP-llU"
   },
   "source": [
    "### 모델 훈련하기\n",
    "\n",
    "`dataset` 개체를 fit 메서드에 전달하여 모델을 훈련합니다."
   ]
  },
  {
   "cell_type": "code",
   "execution_count": null,
   "metadata": {
    "execution": {
     "iopub.execute_input": "2022-12-14T20:19:42.879122Z",
     "iopub.status.busy": "2022-12-14T20:19:42.878584Z",
     "iopub.status.idle": "2022-12-14T20:20:49.144887Z",
     "shell.execute_reply": "2022-12-14T20:20:49.144132Z"
    },
    "id": "tXSGrjWZ-llW"
   },
   "outputs": [
    {
     "name": "stdout",
     "output_type": "stream",
     "text": [
      "Epoch 1/20\n",
      "\u001b[1m625/625\u001b[0m \u001b[32m━━━━━━━━━━━━━━━━━━━━\u001b[0m\u001b[37m\u001b[0m \u001b[1m8s\u001b[0m 8ms/step - binary_accuracy: 0.4975 - loss: 0.6819 - val_binary_accuracy: 0.5600 - val_loss: 0.6174\n",
      "Epoch 2/20\n",
      "\u001b[1m625/625\u001b[0m \u001b[32m━━━━━━━━━━━━━━━━━━━━\u001b[0m\u001b[37m\u001b[0m \u001b[1m6s\u001b[0m 9ms/step - binary_accuracy: 0.6221 - loss: 0.5829 - val_binary_accuracy: 0.7492 - val_loss: 0.5022\n",
      "Epoch 3/20\n",
      "\u001b[1m625/625\u001b[0m \u001b[32m━━━━━━━━━━━━━━━━━━━━\u001b[0m\u001b[37m\u001b[0m \u001b[1m4s\u001b[0m 7ms/step - binary_accuracy: 0.7694 - loss: 0.4688 - val_binary_accuracy: 0.7878 - val_loss: 0.4283\n",
      "Epoch 4/20\n",
      "\u001b[1m625/625\u001b[0m \u001b[32m━━━━━━━━━━━━━━━━━━━━\u001b[0m\u001b[37m\u001b[0m \u001b[1m4s\u001b[0m 6ms/step - binary_accuracy: 0.8257 - loss: 0.3943 - val_binary_accuracy: 0.8080 - val_loss: 0.3870\n",
      "Epoch 5/20\n",
      "\u001b[1m625/625\u001b[0m \u001b[32m━━━━━━━━━━━━━━━━━━━━\u001b[0m\u001b[37m\u001b[0m \u001b[1m4s\u001b[0m 6ms/step - binary_accuracy: 0.8531 - loss: 0.3470 - val_binary_accuracy: 0.8248 - val_loss: 0.3615\n",
      "Epoch 6/20\n",
      "\u001b[1m625/625\u001b[0m \u001b[32m━━━━━━━━━━━━━━━━━━━━\u001b[0m\u001b[37m\u001b[0m \u001b[1m4s\u001b[0m 7ms/step - binary_accuracy: 0.8691 - loss: 0.3152 - val_binary_accuracy: 0.8346 - val_loss: 0.3448\n",
      "Epoch 7/20\n",
      "\u001b[1m625/625\u001b[0m \u001b[32m━━━━━━━━━━━━━━━━━━━━\u001b[0m\u001b[37m\u001b[0m \u001b[1m4s\u001b[0m 6ms/step - binary_accuracy: 0.8815 - loss: 0.2891 - val_binary_accuracy: 0.8424 - val_loss: 0.3331\n",
      "Epoch 8/20\n",
      "\u001b[1m625/625\u001b[0m \u001b[32m━━━━━━━━━━━━━━━━━━━━\u001b[0m\u001b[37m\u001b[0m \u001b[1m4s\u001b[0m 7ms/step - binary_accuracy: 0.8892 - loss: 0.2690 - val_binary_accuracy: 0.8442 - val_loss: 0.3260\n",
      "Epoch 9/20\n",
      "\u001b[1m625/625\u001b[0m \u001b[32m━━━━━━━━━━━━━━━━━━━━\u001b[0m\u001b[37m\u001b[0m \u001b[1m4s\u001b[0m 7ms/step - binary_accuracy: 0.9000 - loss: 0.2519 - val_binary_accuracy: 0.8498 - val_loss: 0.3203\n",
      "Epoch 10/20\n",
      "\u001b[1m625/625\u001b[0m \u001b[32m━━━━━━━━━━━━━━━━━━━━\u001b[0m\u001b[37m\u001b[0m \u001b[1m6s\u001b[0m 9ms/step - binary_accuracy: 0.9045 - loss: 0.2365 - val_binary_accuracy: 0.8528 - val_loss: 0.3161\n",
      "Epoch 11/20\n",
      "\u001b[1m625/625\u001b[0m \u001b[32m━━━━━━━━━━━━━━━━━━━━\u001b[0m\u001b[37m\u001b[0m \u001b[1m5s\u001b[0m 7ms/step - binary_accuracy: 0.9091 - loss: 0.2225 - val_binary_accuracy: 0.8464 - val_loss: 0.3176\n",
      "Epoch 12/20\n",
      "\u001b[1m625/625\u001b[0m \u001b[32m━━━━━━━━━━━━━━━━━━━━\u001b[0m\u001b[37m\u001b[0m \u001b[1m5s\u001b[0m 7ms/step - binary_accuracy: 0.9135 - loss: 0.2128 - val_binary_accuracy: 0.8538 - val_loss: 0.3143\n",
      "Epoch 13/20\n",
      "\u001b[1m625/625\u001b[0m \u001b[32m━━━━━━━━━━━━━━━━━━━━\u001b[0m\u001b[37m\u001b[0m \u001b[1m5s\u001b[0m 8ms/step - binary_accuracy: 0.9193 - loss: 0.2037 - val_binary_accuracy: 0.8570 - val_loss: 0.3134\n",
      "Epoch 14/20\n",
      "\u001b[1m625/625\u001b[0m \u001b[32m━━━━━━━━━━━━━━━━━━━━\u001b[0m\u001b[37m\u001b[0m \u001b[1m5s\u001b[0m 7ms/step - binary_accuracy: 0.9218 - loss: 0.1936 - val_binary_accuracy: 0.8612 - val_loss: 0.3131\n",
      "Epoch 15/20\n",
      "\u001b[1m625/625\u001b[0m \u001b[32m━━━━━━━━━━━━━━━━━━━━\u001b[0m\u001b[37m\u001b[0m \u001b[1m4s\u001b[0m 6ms/step - binary_accuracy: 0.9279 - loss: 0.1837 - val_binary_accuracy: 0.8584 - val_loss: 0.3164\n",
      "Epoch 16/20\n",
      "\u001b[1m625/625\u001b[0m \u001b[32m━━━━━━━━━━━━━━━━━━━━\u001b[0m\u001b[37m\u001b[0m \u001b[1m4s\u001b[0m 7ms/step - binary_accuracy: 0.9331 - loss: 0.1764 - val_binary_accuracy: 0.8586 - val_loss: 0.3173\n",
      "Epoch 17/20\n",
      "\u001b[1m625/625\u001b[0m \u001b[32m━━━━━━━━━━━━━━━━━━━━\u001b[0m\u001b[37m\u001b[0m \u001b[1m6s\u001b[0m 9ms/step - binary_accuracy: 0.9360 - loss: 0.1682 - val_binary_accuracy: 0.8588 - val_loss: 0.3204\n",
      "Epoch 18/20\n",
      "\u001b[1m625/625\u001b[0m \u001b[32m━━━━━━━━━━━━━━━━━━━━\u001b[0m\u001b[37m\u001b[0m \u001b[1m4s\u001b[0m 7ms/step - binary_accuracy: 0.9375 - loss: 0.1629 - val_binary_accuracy: 0.8606 - val_loss: 0.3228\n",
      "Epoch 19/20\n",
      "\u001b[1m625/625\u001b[0m \u001b[32m━━━━━━━━━━━━━━━━━━━━\u001b[0m\u001b[37m\u001b[0m \u001b[1m4s\u001b[0m 7ms/step - binary_accuracy: 0.9414 - loss: 0.1544 - val_binary_accuracy: 0.8650 - val_loss: 0.3238\n",
      "Epoch 20/20\n",
      "\u001b[1m625/625\u001b[0m \u001b[32m━━━━━━━━━━━━━━━━━━━━\u001b[0m\u001b[37m\u001b[0m \u001b[1m5s\u001b[0m 7ms/step - binary_accuracy: 0.9468 - loss: 0.1470 - val_binary_accuracy: 0.8626 - val_loss: 0.3299\n"
     ]
    }
   ],
   "source": [
    "\n",
    "\n",
    "\n",
    "\n",
    "\n"
   ]
  },
  {
   "cell_type": "markdown",
   "metadata": {
    "id": "9EEGuDVuzb5r"
   },
   "source": [
    "### 모델 평가하기\n",
    "\n",
    "모델의 성능을 확인해 보죠. 두 개의 값이 반환됩니다. 손실(오차를 나타내는 숫자이므로 낮을수록 좋습니다)과 정확도입니다."
   ]
  },
  {
   "cell_type": "code",
   "execution_count": null,
   "metadata": {
    "execution": {
     "iopub.execute_input": "2022-12-14T20:20:49.149216Z",
     "iopub.status.busy": "2022-12-14T20:20:49.148750Z",
     "iopub.status.idle": "2022-12-14T20:20:50.802300Z",
     "shell.execute_reply": "2022-12-14T20:20:50.801378Z"
    },
    "id": "zOMKywn4zReN"
   },
   "outputs": [
    {
     "name": "stdout",
     "output_type": "stream",
     "text": [
      "\u001b[1m 10/782\u001b[0m \u001b[37m━━━━━━━━━━━━━━━━━━━━\u001b[0m \u001b[1m4s\u001b[0m 6ms/step - binary_accuracy: 0.8637 - loss: 0.3619  "
     ]
    },
    {
     "name": "stdout",
     "output_type": "stream",
     "text": [
      "\u001b[1m782/782\u001b[0m \u001b[32m━━━━━━━━━━━━━━━━━━━━\u001b[0m\u001b[37m\u001b[0m \u001b[1m4s\u001b[0m 5ms/step - binary_accuracy: 0.8509 - loss: 0.3442\n",
      "Loss:  0.3470311462879181\n",
      "Accuracy:  0.8492400050163269\n"
     ]
    }
   ],
   "source": [
    "\n",
    "print(\"Loss: \", loss)\n",
    "print(\"Accuracy: \", accuracy)"
   ]
  },
  {
   "cell_type": "markdown",
   "metadata": {
    "id": "z1iEXVTR0Z2t"
   },
   "source": [
    "이 상당히 단순한 접근 방식은 약 86%의 정확도를 달성합니다."
   ]
  },
  {
   "cell_type": "markdown",
   "metadata": {
    "id": "ldbQqCw2Xc1W"
   },
   "source": [
    "### 정확도와 손실 그래프 그리기\n",
    "\n",
    "`model.fit()`은 훈련 중에 발생한 모든 것을 가진 사전을 포함하는 `History` 객체를 반환합니다."
   ]
  },
  {
   "cell_type": "markdown",
   "metadata": {
    "id": "1_CH32qJXruI"
   },
   "source": [
    "네 개의 항목이 있습니다. 훈련과 검증 단계에서 모니터링하는 지표들입니다. 훈련 손실과 검증 손실을 그래프로 그려 보고, 훈련 정확도와 검증 정확도도 그래프로 그려서 비교해 보겠습니다:"
   ]
  },
  {
   "cell_type": "code",
   "execution_count": 56,
   "metadata": {
    "execution": {
     "iopub.execute_input": "2022-12-14T20:20:50.814544Z",
     "iopub.status.busy": "2022-12-14T20:20:50.813963Z",
     "iopub.status.idle": "2022-12-14T20:20:50.964782Z",
     "shell.execute_reply": "2022-12-14T20:20:50.964092Z"
    },
    "id": "2SEMeQ5YXs8z"
   },
   "outputs": [
    {
     "data": {
      "image/png": "[encoded data removed]",
      "text/plain": [
       "<Figure size 1200x400 with 2 Axes>"
      ]
     },
     "metadata": {},
     "output_type": "display_data"
    }
   ],
   "source": [
    "plt.figure(figsize=(12, 4))\n",
    "\n",
    "plt.subplot(1, 2, 1)\n",
    "plt.plot(history.history['loss'], 'b-', label='loss')\n",
    "plt.plot(history.history['val_loss'], 'r--', label='val_loss')\n",
    "plt.xlabel('Epoch')\n",
    "plt.legend()\n",
    "\n",
    "plt.subplot(1, 2, 2)\n",
    "plt.plot(history.history['binary_accuracy'], 'g-', label='accuracy')\n",
    "plt.plot(history.history['val_binary_accuracy'], 'k--', label='val_accuracy')\n",
    "plt.xlabel('Epoch')\n",
    "plt.ylim(0.7, 1)\n",
    "plt.legend()\n",
    "\n",
    "plt.show()"
   ]
  },
  {
   "cell_type": "markdown",
   "metadata": {},
   "source": [
    "## \"실습\" 과적합 방지\n",
    "\n",
    "- 규제를 추가해 보자\n",
    "- Earlystopping 을 추가해 보자"
   ]
  },
  {
   "cell_type": "markdown",
   "metadata": {
    "id": "-to23J3Vy5d3"
   },
   "source": [
    "## 모델 내보내기\n",
    "\n",
    "학습된 모델을 실제 추론(Inference) 단계에서 사용하기에 더 적합하고 독립적인 형태로 제공하기 위해서 학습한 모델이 새 데이터를 처리해 추론할 할 수 있도록 하려면  방금 훈련한 가중치를 사용하여 새 모델을 만들 수 있습니다.\n",
    " - vectorize_layer\n",
    "    + 모델 학습 과정에서는 이미 텍스트가 정수 시퀀스(벡터화된 형태)로 변환된 상태\n",
    "    + 그러므로 model 자체는 원시 텍스트를 직접 처리할 수 없어서 vectorizer 를 추가해 준다"
   ]
  },
  {
   "cell_type": "code",
   "execution_count": null,
   "metadata": {
    "execution": {
     "iopub.execute_input": "2022-12-14T20:20:51.110444Z",
     "iopub.status.busy": "2022-12-14T20:20:51.109782Z",
     "iopub.status.idle": "2022-12-14T20:20:54.259636Z",
     "shell.execute_reply": "2022-12-14T20:20:54.258851Z"
    },
    "id": "FWXsMvryuZuq"
   },
   "outputs": [
    {
     "name": "stdout",
     "output_type": "stream",
     "text": [
      "\u001b[1m782/782\u001b[0m \u001b[32m━━━━━━━━━━━━━━━━━━━━\u001b[0m\u001b[37m\u001b[0m \u001b[1m11s\u001b[0m 11ms/step - accuracy: 0.8541 - loss: 0.3849\n",
      "0.8566799759864807\n"
     ]
    }
   ],
   "source": [
    "\n",
    "\n",
    "\n",
    "\n",
    "\n",
    "\n",
    "\n"
   ]
  },
  {
   "cell_type": "markdown",
   "metadata": {
    "id": "TwQgoN88LoEF"
   },
   "source": [
    "### 새로운 데이터로 추론하기\n",
    "\n",
    "새로운 예에 대한 예측을 얻으려면 간단히 `model.predict()`를 호출하면 됩니다."
   ]
  },
  {
   "cell_type": "code",
   "execution_count": null,
   "metadata": {
    "execution": {
     "iopub.execute_input": "2022-12-14T20:20:54.263501Z",
     "iopub.status.busy": "2022-12-14T20:20:54.262920Z",
     "iopub.status.idle": "2022-12-14T20:20:54.450233Z",
     "shell.execute_reply": "2022-12-14T20:20:54.449500Z"
    },
    "id": "QW355HH5L49K"
   },
   "outputs": [],
   "source": [
    "\n",
    "\n",
    "\n",
    "\n",
    "\n"
   ]
  },
  {
   "cell_type": "markdown",
   "metadata": {},
   "source": [
    "predict 를 하면 각 문장의 긍정 클래스 확률이 출력된다."
   ]
  },
  {
   "cell_type": "code",
   "execution_count": null,
   "metadata": {},
   "outputs": [
    {
     "name": "stdout",
     "output_type": "stream",
     "text": [
      "\u001b[1m1/1\u001b[0m \u001b[32m━━━━━━━━━━━━━━━━━━━━\u001b[0m\u001b[37m\u001b[0m \u001b[1m0s\u001b[0m 164ms/step\n"
     ]
    },
    {
     "data": {
      "text/plain": [
       "array([[0.38466096],\n",
       "       [0.16048504],\n",
       "       [0.10476626]], dtype=float32)"
      ]
     },
     "execution_count": 45,
     "metadata": {},
     "output_type": "execute_result"
    }
   ],
   "source": [
    "\n",
    "\n"
   ]
  },
  {
   "cell_type": "markdown",
   "metadata": {},
   "source": [
    "### 모델 저장과 탑재"
   ]
  },
  {
   "cell_type": "markdown",
   "metadata": {},
   "source": [
    "여기서 저장은 SavedModel 형식(TensorFlow 2.x의 기본)으로  폴더에 모델의 구조와 가중치만 저장합니다.\n",
    " - 최신 kearas 3.x 에서는 SavedModel 형식으로 저장하려면 이제 model.export() 메서드를 사용"
   ]
  },
  {
   "cell_type": "code",
   "execution_count": null,
   "metadata": {},
   "outputs": [
    {
     "name": "stdout",
     "output_type": "stream",
     "text": [
      "INFO:tensorflow:Assets written to: models/imdb_entiment_model/assets\n"
     ]
    },
    {
     "name": "stderr",
     "output_type": "stream",
     "text": [
      "INFO:tensorflow:Assets written to: models/imdb_entiment_model/assets\n"
     ]
    },
    {
     "name": "stdout",
     "output_type": "stream",
     "text": [
      "Saved artifact at 'models/imdb_entiment_model'. The following endpoints are available:\n",
      "\n",
      "* Endpoint 'serve'\n",
      "  args_0 (POSITIONAL_ONLY): TensorSpec(shape=(None,), dtype=tf.string, name='keras_tensor_6')\n",
      "Output Type:\n",
      "  TensorSpec(shape=(None, 1), dtype=tf.float32, name=None)\n",
      "Captures:\n",
      "  132374743346512: TensorSpec(shape=(), dtype=tf.resource, name=None)\n",
      "  132374743345360: TensorSpec(shape=(), dtype=tf.int64, name=None)\n",
      "  132378415221456: TensorSpec(shape=(), dtype=tf.string, name=None)\n",
      "  132374743342288: TensorSpec(shape=(), dtype=tf.int64, name=None)\n",
      "  132374732997648: TensorSpec(shape=(), dtype=tf.resource, name=None)\n",
      "  132374732999952: TensorSpec(shape=(), dtype=tf.resource, name=None)\n",
      "  132374733001296: TensorSpec(shape=(), dtype=tf.resource, name=None)\n",
      "모델 저장 완료.\n"
     ]
    }
   ],
   "source": [
    "# 1. 모델 저장 경로 설정\n",
    "\n",
    "\n",
    "# 2. export_model 저장\n",
    "# SavedModel 형식으로 저장하는 것이 권장됩니다.\n",
    "\n",
    "\n",
    "\n"
   ]
  },
  {
   "cell_type": "markdown",
   "metadata": {},
   "source": [
    "Keras 3.0에서 SavedModel을 탑재시 keras.layers.TFSMLayer를 사용하여 SavedModel을 로드해야 합니다."
   ]
  },
  {
   "cell_type": "code",
   "execution_count": 47,
   "metadata": {},
   "outputs": [
    {
     "data": {
      "text/plain": [
       "'models/imdb_entiment_model'"
      ]
     },
     "execution_count": 47,
     "metadata": {},
     "output_type": "execute_result"
    }
   ],
   "source": [
    "save_path"
   ]
  },
  {
   "cell_type": "code",
   "execution_count": null,
   "metadata": {},
   "outputs": [
    {
     "name": "stdout",
     "output_type": "stream",
     "text": [
      "'models/imdb_entiment_model' 경로에서 모델을 불러오는 중입니다...\n",
      "모델 불러오기 완료.\n"
     ]
    }
   ],
   "source": [
    "# # 3. 저장된 모델 다시 불러오기\n",
    "print(f\"'{save_path}' 경로에서 모델을 불러오는 중입니다...\")\n",
    "# TFSMLayer를 사용하여 SavedModel을 로드합니다.\n",
    "# call_endpoint는 SavedModel의 서빙 엔드포인트 이름이며, 기본적으로 'serving_default'입니다.\n",
    "\n",
    "\n",
    "print(\"모델 불러오기 완료.\")"
   ]
  },
  {
   "cell_type": "code",
   "execution_count": null,
   "metadata": {},
   "outputs": [],
   "source": [
    "new_reviews = tf.constant([\n",
    "    \"This movie was absolutely fantastic! I loved every moment of it.\",\n",
    "    \"It was okay, not great, not terrible.\",\n",
    "    \"Worst film ever. A complete waste of time and money.\"\n",
    "])"
   ]
  },
  {
   "cell_type": "markdown",
   "metadata": {},
   "source": [
    "TFSMLayer는 모델처럼 직접 호출하거나 predict 메서드를 사용할 수 있습니다. TFSMLayer는 입력과 출력의 배치를 자동으로 처리합니다.\n"
   ]
  },
  {
   "cell_type": "code",
   "execution_count": null,
   "metadata": {},
   "outputs": [
    {
     "name": "stdout",
     "output_type": "stream",
     "text": [
      "\n",
      "불러온 모델로 예측 수행:\n"
     ]
    }
   ],
   "source": [
    "print(\"\\n불러온 모델로 예측 수행:\")\n",
    "\n",
    "\n"
   ]
  },
  {
   "cell_type": "code",
   "execution_count": null,
   "metadata": {},
   "outputs": [
    {
     "data": {
      "text/plain": [
       "{'output_0': <tf.Tensor: shape=(3, 1), dtype=float32, numpy=\n",
       " array([[0.5398368 ],\n",
       "        [0.10134336],\n",
       "        [0.00645634]], dtype=float32)>}"
      ]
     },
     "execution_count": 51,
     "metadata": {},
     "output_type": "execute_result"
    }
   ],
   "source": [
    "\n"
   ]
  },
  {
   "cell_type": "code",
   "execution_count": 52,
   "metadata": {},
   "outputs": [
    {
     "name": "stdout",
     "output_type": "stream",
     "text": [
      "예측 결과 (긍정 확률):\n",
      "  리뷰: \"This movie was absolutely fantastic! I loved every moment of it.\"\n",
      "  예측 확률: 0.5398\n",
      "  -> 분류: 긍정\n",
      "------------------------------\n",
      "  리뷰: \"It was okay, not great, not terrible.\"\n",
      "  예측 확률: 0.1013\n",
      "  -> 분류: 부정\n",
      "------------------------------\n",
      "  리뷰: \"Worst film ever. A complete waste of time and money.\"\n",
      "  예측 확률: 0.0065\n",
      "  -> 분류: 부정\n",
      "------------------------------\n"
     ]
    }
   ],
   "source": [
    "\n",
    "# 결과 출력\n",
    "print(\"예측 결과 (긍정 확률):\")\n",
    "for i, pred in enumerate(predictions['output_0']):\n",
    "    review = new_reviews.numpy()[i].decode('utf-8')\n",
    "    print(f\"  리뷰: \\\"{review}\\\"\")\n",
    "    print(f\"  예측 확률: {pred.numpy()[0]:.4f}\") # tf.Tensor 값을 NumPy로 변환하여 출력\n",
    "    if pred.numpy()[0] > 0.5:\n",
    "        print(\"  -> 분류: 긍정\")\n",
    "    else:\n",
    "        print(\"  -> 분류: 부정\")\n",
    "    print(\"-\" * 30)"
   ]
  },
  {
   "cell_type": "markdown",
   "metadata": {},
   "source": [
    "# \"실습\" Dense 층 추가\n",
    "\n",
    "- 새 모델에 dense 레이어를 추가한다\n",
    "   + dense 의 parameter 를 32, 8 로 테스트 해본다\n",
    "   + dense 이후의 dropout 비율을 조절해 본다\n",
    "- epochs 를 증가시키고 EarlyStopping 을 적용한다."
   ]
  },
  {
   "cell_type": "markdown",
   "metadata": {},
   "source": [
    "> GlobalAveragePooling1D 레이어가 Embedding 레이어의 출력을 직접 받아서 시퀀스 차원을 제거하고 각 샘플당 하나의 고정된 벡터를 만듭니다. 이 고정된 벡터에 Dense 레이어를 적용하는 것이 일반적입니다."
   ]
  },
  {
   "cell_type": "code",
   "execution_count": null,
   "metadata": {},
   "outputs": [
    {
     "data": {
      "text/html": [
       "<pre style=\"white-space:pre;overflow-x:auto;line-height:normal;font-family:Menlo,'DejaVu Sans Mono',consolas,'Courier New',monospace\"><span style=\"font-weight: bold\">Model: \"sequential_2\"</span>\n",
       "</pre>\n"
      ],
      "text/plain": [
       "\u001b[1mModel: \"sequential_2\"\u001b[0m\n"
      ]
     },
     "metadata": {},
     "output_type": "display_data"
    },
    {
     "data": {
      "text/html": [
       "<pre style=\"white-space:pre;overflow-x:auto;line-height:normal;font-family:Menlo,'DejaVu Sans Mono',consolas,'Courier New',monospace\">┏━━━━━━━━━━━━━━━━━━━━━━━━━━━━━━━━━┳━━━━━━━━━━━━━━━━━━━━━━━━┳━━━━━━━━━━━━━━━┓\n",
       "┃<span style=\"font-weight: bold\"> Layer (type)                    </span>┃<span style=\"font-weight: bold\"> Output Shape           </span>┃<span style=\"font-weight: bold\">       Param # </span>┃\n",
       "┡━━━━━━━━━━━━━━━━━━━━━━━━━━━━━━━━━╇━━━━━━━━━━━━━━━━━━━━━━━━╇━━━━━━━━━━━━━━━┩\n",
       "│ embedding_2 (<span style=\"color: #0087ff; text-decoration-color: #0087ff\">Embedding</span>)         │ ?                      │   <span style=\"color: #00af00; text-decoration-color: #00af00\">0</span> (unbuilt) │\n",
       "├─────────────────────────────────┼────────────────────────┼───────────────┤\n",
       "│ dropout_4 (<span style=\"color: #0087ff; text-decoration-color: #0087ff\">Dropout</span>)             │ ?                      │             <span style=\"color: #00af00; text-decoration-color: #00af00\">0</span> │\n",
       "├─────────────────────────────────┼────────────────────────┼───────────────┤\n",
       "│ global_average_pooling1d_2      │ ?                      │             <span style=\"color: #00af00; text-decoration-color: #00af00\">0</span> │\n",
       "│ (<span style=\"color: #0087ff; text-decoration-color: #0087ff\">GlobalAveragePooling1D</span>)        │                        │               │\n",
       "├─────────────────────────────────┼────────────────────────┼───────────────┤\n",
       "│ dense_4 (<span style=\"color: #0087ff; text-decoration-color: #0087ff\">Dense</span>)                 │ ?                      │   <span style=\"color: #00af00; text-decoration-color: #00af00\">0</span> (unbuilt) │\n",
       "├─────────────────────────────────┼────────────────────────┼───────────────┤\n",
       "│ dense_5 (<span style=\"color: #0087ff; text-decoration-color: #0087ff\">Dense</span>)                 │ ?                      │   <span style=\"color: #00af00; text-decoration-color: #00af00\">0</span> (unbuilt) │\n",
       "└─────────────────────────────────┴────────────────────────┴───────────────┘\n",
       "</pre>\n"
      ],
      "text/plain": [
       "┏━━━━━━━━━━━━━━━━━━━━━━━━━━━━━━━━━┳━━━━━━━━━━━━━━━━━━━━━━━━┳━━━━━━━━━━━━━━━┓\n",
       "┃\u001b[1m \u001b[0m\u001b[1mLayer (type)                   \u001b[0m\u001b[1m \u001b[0m┃\u001b[1m \u001b[0m\u001b[1mOutput Shape          \u001b[0m\u001b[1m \u001b[0m┃\u001b[1m \u001b[0m\u001b[1m      Param #\u001b[0m\u001b[1m \u001b[0m┃\n",
       "┡━━━━━━━━━━━━━━━━━━━━━━━━━━━━━━━━━╇━━━━━━━━━━━━━━━━━━━━━━━━╇━━━━━━━━━━━━━━━┩\n",
       "│ embedding_2 (\u001b[38;5;33mEmbedding\u001b[0m)         │ ?                      │   \u001b[38;5;34m0\u001b[0m (unbuilt) │\n",
       "├─────────────────────────────────┼────────────────────────┼───────────────┤\n",
       "│ dropout_4 (\u001b[38;5;33mDropout\u001b[0m)             │ ?                      │             \u001b[38;5;34m0\u001b[0m │\n",
       "├─────────────────────────────────┼────────────────────────┼───────────────┤\n",
       "│ global_average_pooling1d_2      │ ?                      │             \u001b[38;5;34m0\u001b[0m │\n",
       "│ (\u001b[38;5;33mGlobalAveragePooling1D\u001b[0m)        │                        │               │\n",
       "├─────────────────────────────────┼────────────────────────┼───────────────┤\n",
       "│ dense_4 (\u001b[38;5;33mDense\u001b[0m)                 │ ?                      │   \u001b[38;5;34m0\u001b[0m (unbuilt) │\n",
       "├─────────────────────────────────┼────────────────────────┼───────────────┤\n",
       "│ dense_5 (\u001b[38;5;33mDense\u001b[0m)                 │ ?                      │   \u001b[38;5;34m0\u001b[0m (unbuilt) │\n",
       "└─────────────────────────────────┴────────────────────────┴───────────────┘\n"
      ]
     },
     "metadata": {},
     "output_type": "display_data"
    },
    {
     "data": {
      "text/html": [
       "<pre style=\"white-space:pre;overflow-x:auto;line-height:normal;font-family:Menlo,'DejaVu Sans Mono',consolas,'Courier New',monospace\"><span style=\"font-weight: bold\"> Total params: </span><span style=\"color: #00af00; text-decoration-color: #00af00\">0</span> (0.00 B)\n",
       "</pre>\n"
      ],
      "text/plain": [
       "\u001b[1m Total params: \u001b[0m\u001b[38;5;34m0\u001b[0m (0.00 B)\n"
      ]
     },
     "metadata": {},
     "output_type": "display_data"
    },
    {
     "data": {
      "text/html": [
       "<pre style=\"white-space:pre;overflow-x:auto;line-height:normal;font-family:Menlo,'DejaVu Sans Mono',consolas,'Courier New',monospace\"><span style=\"font-weight: bold\"> Trainable params: </span><span style=\"color: #00af00; text-decoration-color: #00af00\">0</span> (0.00 B)\n",
       "</pre>\n"
      ],
      "text/plain": [
       "\u001b[1m Trainable params: \u001b[0m\u001b[38;5;34m0\u001b[0m (0.00 B)\n"
      ]
     },
     "metadata": {},
     "output_type": "display_data"
    },
    {
     "data": {
      "text/html": [
       "<pre style=\"white-space:pre;overflow-x:auto;line-height:normal;font-family:Menlo,'DejaVu Sans Mono',consolas,'Courier New',monospace\"><span style=\"font-weight: bold\"> Non-trainable params: </span><span style=\"color: #00af00; text-decoration-color: #00af00\">0</span> (0.00 B)\n",
       "</pre>\n"
      ],
      "text/plain": [
       "\u001b[1m Non-trainable params: \u001b[0m\u001b[38;5;34m0\u001b[0m (0.00 B)\n"
      ]
     },
     "metadata": {},
     "output_type": "display_data"
    }
   ],
   "source": [
    "\n",
    "\n",
    "\n",
    "\n"
   ]
  },
  {
   "cell_type": "code",
   "execution_count": null,
   "metadata": {},
   "outputs": [],
   "source": [
    "\n",
    "\n",
    "\n"
   ]
  },
  {
   "cell_type": "code",
   "execution_count": null,
   "metadata": {},
   "outputs": [
    {
     "data": {
      "application/vnd.jupyter.widget-view+json": {
       "model_id": "bcaf629242dc414b96f392a12fe0c530",
       "version_major": 2,
       "version_minor": 0
      },
      "text/plain": [
       "0epoch [00:00, ?epoch/s]"
      ]
     },
     "metadata": {},
     "output_type": "display_data"
    }
   ],
   "source": [
    "from tqdm.keras import TqdmCallback\n",
    "from keras.callbacks import EarlyStopping\n",
    "\n",
    "\n",
    "\n"
   ]
  },
  {
   "cell_type": "code",
   "execution_count": null,
   "metadata": {},
   "outputs": [
    {
     "name": "stdout",
     "output_type": "stream",
     "text": [
      "\u001b[1m  1/782\u001b[0m \u001b[37m━━━━━━━━━━━━━━━━━━━━\u001b[0m \u001b[1m11s\u001b[0m 15ms/step - binary_accuracy: 0.7812 - loss: 0.6747"
     ]
    },
    {
     "name": "stdout",
     "output_type": "stream",
     "text": [
      "\u001b[1m782/782\u001b[0m \u001b[32m━━━━━━━━━━━━━━━━━━━━\u001b[0m\u001b[37m\u001b[0m \u001b[1m4s\u001b[0m 5ms/step - binary_accuracy: 0.8240 - loss: 0.4719\n",
      "Loss:  0.47737032175064087\n",
      "Accuracy:  0.8236799836158752\n"
     ]
    }
   ],
   "source": [
    "\n",
    "\n",
    "print(\"Loss: \", loss)\n",
    "print(\"Accuracy: \", accuracy)"
   ]
  },
  {
   "cell_type": "code",
   "execution_count": null,
   "metadata": {},
   "outputs": [
    {
     "data": {
      "image/png": "[encoded data removed]",
      "text/plain": [
       "<Figure size 1200x400 with 2 Axes>"
      ]
     },
     "metadata": {},
     "output_type": "display_data"
    }
   ],
   "source": [
    "plt.figure(figsize=(12, 4))\n",
    "\n",
    "plt.subplot(1, 2, 1)\n",
    "plt.plot(history2.history['loss'], 'b-', label='loss')\n",
    "plt.plot(history2.history['val_loss'], 'r--', label='val_loss')\n",
    "plt.xlabel('Epoch')\n",
    "plt.legend()\n",
    "\n",
    "plt.subplot(1, 2, 2)\n",
    "plt.plot(history2.history['binary_accuracy'], 'g-', label='accuracy')\n",
    "plt.plot(history2.history['val_binary_accuracy'], 'k--', label='val_accuracy')\n",
    "plt.xlabel('Epoch')\n",
    "plt.ylim(0.7, 1)\n",
    "plt.legend()\n",
    "\n",
    "plt.show()"
   ]
  },
  {
   "cell_type": "markdown",
   "metadata": {},
   "source": [
    "---"
   ]
  },
  {
   "cell_type": "markdown",
   "metadata": {
    "id": "F0T5SIwSm7uc"
   },
   "source": [
    "## 더 알아보기\n",
    "\n",
    "이 튜토리얼은 텍스트 분류를 처음부터 알아보았습니다. 일반적인 텍스트 분류 워크플로에 대해 자세히 알아보려면 Google Developers의 [텍스트 분류 가이드](https://developers.google.com/machine-learning/guides/text-classification/)를 확인하세요.\n"
   ]
  }
 ],
 "metadata": {
  "accelerator": "GPU",
  "colab": {
   "collapsed_sections": [],
   "name": "text_classification.ipynb",
   "toc_visible": true
  },
  "kernelspec": {
   "display_name": "DL_P312",
   "language": "python",
   "name": "python3"
  },
  "language_info": {
   "codemirror_mode": {
    "name": "ipython",
    "version": 3
   },
   "file_extension": ".py",
   "mimetype": "text/x-python",
   "name": "python",
   "nbconvert_exporter": "python",
   "pygments_lexer": "ipython3",
   "version": "3.12.11"
  }
 },
 "nbformat": 4,
 "nbformat_minor": 0
}
