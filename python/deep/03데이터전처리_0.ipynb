{
 "cells": [
  {
   "cell_type": "markdown",
   "id": "6fb03ec2",
   "metadata": {},
   "source": [
    "# 03. 데이터 전 처리하기"
   ]
  },
  {
   "cell_type": "code",
   "execution_count": 1,
   "id": "33ffca73",
   "metadata": {},
   "outputs": [
    {
     "name": "stdout",
     "output_type": "stream",
     "text": [
      "\n",
      "System:\n",
      "    python: 3.12.11 | packaged by Anaconda, Inc. | (main, Jun  5 2025, 12:58:53) [MSC v.1929 64 bit (AMD64)]\n",
      "executable: c:\\Users\\ksa\\stenv\\python.exe\n",
      "   machine: Windows-11-10.0.26100-SP0\n",
      "\n",
      "Python dependencies:\n",
      "      sklearn: 1.7.0\n",
      "          pip: 25.1\n",
      "   setuptools: 78.1.1\n",
      "        numpy: 2.3.1\n",
      "        scipy: 1.16.0\n",
      "       Cython: None\n",
      "       pandas: 2.3.1\n",
      "   matplotlib: 3.10.3\n",
      "       joblib: 1.5.1\n",
      "threadpoolctl: 3.6.0\n",
      "\n",
      "Built with OpenMP: True\n",
      "\n",
      "threadpoolctl info:\n",
      "       user_api: blas\n",
      "   internal_api: openblas\n",
      "    num_threads: 8\n",
      "         prefix: libscipy_openblas\n",
      "       filepath: C:\\Users\\ksa\\stenv\\Lib\\site-packages\\numpy.libs\\libscipy_openblas64_-13e2df515630b4a41f92893938845698.dll\n",
      "        version: 0.3.29\n",
      "threading_layer: pthreads\n",
      "   architecture: SkylakeX\n",
      "\n",
      "       user_api: openmp\n",
      "   internal_api: openmp\n",
      "    num_threads: 8\n",
      "         prefix: vcomp\n",
      "       filepath: C:\\Users\\ksa\\stenv\\Lib\\site-packages\\sklearn\\.libs\\vcomp140.dll\n",
      "        version: None\n",
      "\n",
      "       user_api: blas\n",
      "   internal_api: openblas\n",
      "    num_threads: 8\n",
      "         prefix: libscipy_openblas\n",
      "       filepath: C:\\Users\\ksa\\stenv\\Lib\\site-packages\\scipy.libs\\libscipy_openblas-f07f5a5d207a3a47104dca54d6d0c86a.dll\n",
      "        version: 0.3.28\n",
      "threading_layer: pthreads\n",
      "   architecture: SkylakeX\n"
     ]
    }
   ],
   "source": [
    "import numpy as np\n",
    "import pandas as pd\n",
    "from sklearn import show_versions\n",
    "show_versions()"
   ]
  },
  {
   "cell_type": "markdown",
   "id": "0d43849f",
   "metadata": {},
   "source": [
    "### 데이터의 특징 이해\n",
    "\n",
    "ML알고리즘은 데이터 기반이므로 어떤 데이터를 입력하느냐에 따라 결과도 달라질 수 있다.\n",
    "\n",
    "**[Garbage In, Garbage Out]**\n",
    "\n",
    "- 결손값 NaN, Null 값은 고정된 다른 값으로 변환해야 한다.\n",
    "- 사이킷런 알고리즘은 문자열 값을 입력으로 사용하지 않는다.\n",
    "    - 숫자로 인코딩 되야 한다.\n",
    "- 문자는 카테고리형 피처와 텍스트형 피처가 있을 수 있다.\n",
    "    - 카테고리형은 코드 값으로\n",
    "    - 텍스트형은 피처 벡터화 등 기법\n",
    "\n",
    "\n",
    "데이터 세트에는 Gender, Married, Dependents, Self_Employed 과 Education과 같은 서로 다른 특징을 가질 수 있다. 이러한 모든 범주형 특성은 문자열 값이지만, 실제로 일어나는 일은 Logistic Regression, kNN 같은 거리 기반 방법, sklearn에서 SVM, Tree 기반 방법 등은 학습자들이 숫자 배열을 필요로 한다는 것입니다. 문자열 값이 있는 기능은 이러한 학습자가 처리할 수 없다.\n",
    "\n"
   ]
  },
  {
   "cell_type": "markdown",
   "id": "164c56b1",
   "metadata": {},
   "source": [
    "\n",
    "### 데이터 전 처리의 역할\n",
    "1. 머신러닝의 입력 형태로 **데이터 변환 (특성 엔지니어링)**\n",
    "    - 대부분의 머신러닝 모델은 숫자 데이터를, 일반적으로 **행렬 형태**로 입력받는다.\n",
    "    - 그러므로 전 처리를 통해 일반 데이터를 머신러닝 모델이 이해할 수 있는 **수치형 자료**로 변환해 주어야 한다.\n",
    "2. 결측값 및 이상치를 처리하여 **데이터 정제**\n",
    "    - NaN과 outlier 제거\n",
    "3. 학습용 및 평가용 **데이터 분리**\n",
    "    - 원본 데이터를 학습용 데이터와 평가용 데이터로 분리\n",
    "    - 원본 데이터 전체를 학습용 데이터로 사용할 경우, 과적합 문제가 발생할 수 있다.\n",
    "\n"
   ]
  },
  {
   "cell_type": "markdown",
   "id": "0c203a7b",
   "metadata": {},
   "source": [
    "# 1. 범주형 자료 전 처리\n"
   ]
  },
  {
   "cell_type": "markdown",
   "id": "9e245790",
   "metadata": {},
   "source": [
    "### 대표적인 범주형의 One-Hot 인코딩\n",
    "\n",
    "\n",
    "- 명목형 자료\n",
    "  - 원-핫 인코딩으로 범주형을 변환\n",
    "  - **수치 맵핑 방식**\n",
    "    - 범주가 2개인 경우, 범주를 0, 1로 맵핑 `예) male 0, female 1`\n",
    "    - 범주가 3개 이상인 경우, 수치의 크기 간격을 같게 하여 수치 맵핑 `예) S는 0, Q는 1, C는 2 (Embarked)`\n",
    "  - **더미(Dummy) 기법**\n",
    "    - 가변수(Dummy variable)를 사용해 각 범주를 0 또는 1로 변환\n",
    "    - `예) Sex를 Sex_female과 Sex_male의 범주로 나누면, 남자는 Sex_female이 0, Sex_male이 1`\n",
    "    - `Embarked를 Embarked_S, Embarked_Q, Embarked_C로 나누면, Q는 Embarked_S가 0, Embarked_Q가 1, Embarked_C가 0`\n",
    "\n",
    "- 순서형 자료\n",
    "  - 수치 맵핑 방식\n",
    "    - 수치에 맵핑하여 변환하지만, 수치 간 크기 차이는 커스텀 가능\n",
    "      - `예) 없음은 0, 조금 많음은 4, 매우 많음은 10`\n",
    "    - 크기 차이가 머신러닝 결과에 영향을 끼칠 수 있음\n",
    "\n"
   ]
  },
  {
   "cell_type": "markdown",
   "id": "05975044",
   "metadata": {},
   "source": [
    "### 명목형 자료 변환하기 - 수치 맵핑\n",
    "\n",
    "명목형 단어를 대응하는 숫자로 변환한다.\n",
    "\n",
    "예) setona -> 0, A학점 -> 95~98"
   ]
  },
  {
   "cell_type": "code",
   "execution_count": null,
   "id": "70a4ef2f",
   "metadata": {},
   "outputs": [
    {
     "name": "stdout",
     "output_type": "stream",
     "text": [
      "변환 전: \n",
      " 0      male\n",
      "1    female\n",
      "2    female\n",
      "3    female\n",
      "4      male\n",
      "Name: Sex, dtype: object\n"
     ]
    }
   ],
   "source": [
    "import pandas as pd\n",
    "# 데이터 읽기\n",
    "titanic = pd.read_csv('./data/titanic.csv')\n",
    "print('변환 전: \\n',titanic['Sex'].head())\n"
   ]
  },
  {
   "cell_type": "code",
   "execution_count": 4,
   "id": "9e4da52b",
   "metadata": {},
   "outputs": [
    {
     "name": "stdout",
     "output_type": "stream",
     "text": [
      "변환 전: \n",
      " 0      male\n",
      "1    female\n",
      "2    female\n",
      "3    female\n",
      "4      male\n",
      "Name: sex, dtype: object\n"
     ]
    }
   ],
   "source": [
    "import pandas as pd\n",
    "# 데이터 읽기\n",
    "titanic = pd.read_csv('../csv/titanic.csv')\n",
    "print('변환 전: \\n',titanic['sex'].head())"
   ]
  },
  {
   "cell_type": "code",
   "execution_count": null,
   "id": "547d3730",
   "metadata": {},
   "outputs": [
    {
     "name": "stdout",
     "output_type": "stream",
     "text": [
      "\n",
      "변환 후: \n",
      " 0    0\n",
      "1    1\n",
      "2    1\n",
      "3    1\n",
      "4    0\n",
      "Name: Sex, dtype: int64\n"
     ]
    },
    {
     "name": "stderr",
     "output_type": "stream",
     "text": [
      "/tmp/ipykernel_1342/4044188407.py:2: FutureWarning: Downcasting behavior in `replace` is deprecated and will be removed in a future version. To retain the old behavior, explicitly call `result.infer_objects(copy=False)`. To opt-in to the future behavior, set `pd.set_option('future.no_silent_downcasting', True)`\n",
      "  titanic = titanic.replace({'male':0, 'female':1})\n"
     ]
    }
   ],
   "source": [
    "# 1. replace를 사용하여 male -> 0, female -> 1로 변환합니다.\n",
    "\n",
    "\n",
    "# 변환한 성별 데이터를 출력합니다.\n",
    "\n"
   ]
  },
  {
   "cell_type": "code",
   "execution_count": 6,
   "id": "d5e7ee53",
   "metadata": {},
   "outputs": [
    {
     "data": {
      "text/plain": [
       "0      S\n",
       "1      C\n",
       "2      S\n",
       "3      S\n",
       "4      S\n",
       "      ..\n",
       "886    S\n",
       "887    S\n",
       "888    S\n",
       "889    C\n",
       "890    Q\n",
       "Name: embarked, Length: 891, dtype: object"
      ]
     },
     "execution_count": 6,
     "metadata": {},
     "output_type": "execute_result"
    }
   ],
   "source": [
    "titanic['embarked']"
   ]
  },
  {
   "cell_type": "markdown",
   "id": "c989c73d",
   "metadata": {},
   "source": [
    "### 명목형 자료 변환하기 - 더미 방식"
   ]
  },
  {
   "cell_type": "code",
   "execution_count": null,
   "id": "6dd2b765",
   "metadata": {},
   "outputs": [
    {
     "name": "stdout",
     "output_type": "stream",
     "text": [
      "변환 전: \n",
      " 0    S\n",
      "1    C\n",
      "2    S\n",
      "3    S\n",
      "4    S\n",
      "Name: Embarked, dtype: object\n"
     ]
    }
   ],
   "source": [
    "# 데이터 읽기\n",
    "\n",
    "# Embarked 컬럼\n",
    "\n"
   ]
  },
  {
   "cell_type": "code",
   "execution_count": 7,
   "id": "b861b394",
   "metadata": {},
   "outputs": [
    {
     "data": {
      "text/plain": [
       "array(['S', 'C', 'Q', nan], dtype=object)"
      ]
     },
     "execution_count": 7,
     "metadata": {},
     "output_type": "execute_result"
    }
   ],
   "source": [
    "titanic['embarked'].unique()"
   ]
  },
  {
   "cell_type": "code",
   "execution_count": null,
   "id": "67f0c187",
   "metadata": {},
   "outputs": [
    {
     "name": "stdout",
     "output_type": "stream",
     "text": [
      "\n",
      "변환 후: \n",
      "    Embarked_C  Embarked_Q  Embarked_S\n",
      "0       False       False        True\n",
      "1        True       False       False\n",
      "2       False       False        True\n",
      "3       False       False        True\n",
      "4       False       False        True\n"
     ]
    }
   ],
   "source": [
    "# get_dummies를 사용하여 변환합니다.\n",
    "\n",
    "# 변환한 Embarked 데이터를 출력합니다.\n",
    "print('\\n변환 후: \\n',dummies.head())"
   ]
  },
  {
   "cell_type": "markdown",
   "id": "1c097ebd",
   "metadata": {},
   "source": [
    "다른 컬럼을 get_dummies 로 변환"
   ]
  },
  {
   "cell_type": "code",
   "execution_count": null,
   "id": "bcd69a71",
   "metadata": {},
   "outputs": [
    {
     "data": {
      "text/html": [
       "<div>\n",
       "<style scoped>\n",
       "    .dataframe tbody tr th:only-of-type {\n",
       "        vertical-align: middle;\n",
       "    }\n",
       "\n",
       "    .dataframe tbody tr th {\n",
       "        vertical-align: top;\n",
       "    }\n",
       "\n",
       "    .dataframe thead th {\n",
       "        text-align: right;\n",
       "    }\n",
       "</style>\n",
       "<table border=\"1\" class=\"dataframe\">\n",
       "  <thead>\n",
       "    <tr style=\"text-align: right;\">\n",
       "      <th></th>\n",
       "      <th>Sex_female</th>\n",
       "      <th>Sex_male</th>\n",
       "    </tr>\n",
       "  </thead>\n",
       "  <tbody>\n",
       "    <tr>\n",
       "      <th>0</th>\n",
       "      <td>False</td>\n",
       "      <td>True</td>\n",
       "    </tr>\n",
       "    <tr>\n",
       "      <th>1</th>\n",
       "      <td>True</td>\n",
       "      <td>False</td>\n",
       "    </tr>\n",
       "    <tr>\n",
       "      <th>2</th>\n",
       "      <td>True</td>\n",
       "      <td>False</td>\n",
       "    </tr>\n",
       "    <tr>\n",
       "      <th>3</th>\n",
       "      <td>True</td>\n",
       "      <td>False</td>\n",
       "    </tr>\n",
       "    <tr>\n",
       "      <th>4</th>\n",
       "      <td>False</td>\n",
       "      <td>True</td>\n",
       "    </tr>\n",
       "    <tr>\n",
       "      <th>...</th>\n",
       "      <td>...</td>\n",
       "      <td>...</td>\n",
       "    </tr>\n",
       "    <tr>\n",
       "      <th>886</th>\n",
       "      <td>False</td>\n",
       "      <td>True</td>\n",
       "    </tr>\n",
       "    <tr>\n",
       "      <th>887</th>\n",
       "      <td>True</td>\n",
       "      <td>False</td>\n",
       "    </tr>\n",
       "    <tr>\n",
       "      <th>888</th>\n",
       "      <td>True</td>\n",
       "      <td>False</td>\n",
       "    </tr>\n",
       "    <tr>\n",
       "      <th>889</th>\n",
       "      <td>False</td>\n",
       "      <td>True</td>\n",
       "    </tr>\n",
       "    <tr>\n",
       "      <th>890</th>\n",
       "      <td>False</td>\n",
       "      <td>True</td>\n",
       "    </tr>\n",
       "  </tbody>\n",
       "</table>\n",
       "<p>891 rows × 2 columns</p>\n",
       "</div>"
      ],
      "text/plain": [
       "     Sex_female  Sex_male\n",
       "0         False      True\n",
       "1          True     False\n",
       "2          True     False\n",
       "3          True     False\n",
       "4         False      True\n",
       "..          ...       ...\n",
       "886       False      True\n",
       "887        True     False\n",
       "888        True     False\n",
       "889       False      True\n",
       "890       False      True\n",
       "\n",
       "[891 rows x 2 columns]"
      ]
     },
     "execution_count": 6,
     "metadata": {},
     "output_type": "execute_result"
    }
   ],
   "source": []
  },
  {
   "cell_type": "code",
   "execution_count": 5,
   "id": "dd43defc",
   "metadata": {},
   "outputs": [
    {
     "name": "stderr",
     "output_type": "stream",
     "text": [
      "C:\\Users\\ksa\\AppData\\Local\\Temp\\ipykernel_11400\\1922092338.py:1: FutureWarning: Downcasting behavior in `replace` is deprecated and will be removed in a future version. To retain the old behavior, explicitly call `result.infer_objects(copy=False)`. To opt-in to the future behavior, set `pd.set_option('future.no_silent_downcasting', True)`\n",
      "  titanic['sex'].replace({'male':0, 'female':1})\n"
     ]
    },
    {
     "data": {
      "text/plain": [
       "0      0\n",
       "1      1\n",
       "2      1\n",
       "3      1\n",
       "4      0\n",
       "      ..\n",
       "886    0\n",
       "887    1\n",
       "888    1\n",
       "889    0\n",
       "890    0\n",
       "Name: sex, Length: 891, dtype: int64"
      ]
     },
     "execution_count": 5,
     "metadata": {},
     "output_type": "execute_result"
    }
   ],
   "source": [
    "titanic['sex'].replace({'male':0, 'female':1})"
   ]
  },
  {
   "cell_type": "code",
   "execution_count": 9,
   "id": "58550493",
   "metadata": {},
   "outputs": [
    {
     "data": {
      "text/html": [
       "<div>\n",
       "<style scoped>\n",
       "    .dataframe tbody tr th:only-of-type {\n",
       "        vertical-align: middle;\n",
       "    }\n",
       "\n",
       "    .dataframe tbody tr th {\n",
       "        vertical-align: top;\n",
       "    }\n",
       "\n",
       "    .dataframe thead th {\n",
       "        text-align: right;\n",
       "    }\n",
       "</style>\n",
       "<table border=\"1\" class=\"dataframe\">\n",
       "  <thead>\n",
       "    <tr style=\"text-align: right;\">\n",
       "      <th></th>\n",
       "      <th>embarked_C</th>\n",
       "      <th>embarked_Q</th>\n",
       "      <th>embarked_S</th>\n",
       "    </tr>\n",
       "  </thead>\n",
       "  <tbody>\n",
       "    <tr>\n",
       "      <th>0</th>\n",
       "      <td>False</td>\n",
       "      <td>False</td>\n",
       "      <td>True</td>\n",
       "    </tr>\n",
       "    <tr>\n",
       "      <th>1</th>\n",
       "      <td>True</td>\n",
       "      <td>False</td>\n",
       "      <td>False</td>\n",
       "    </tr>\n",
       "    <tr>\n",
       "      <th>2</th>\n",
       "      <td>False</td>\n",
       "      <td>False</td>\n",
       "      <td>True</td>\n",
       "    </tr>\n",
       "    <tr>\n",
       "      <th>3</th>\n",
       "      <td>False</td>\n",
       "      <td>False</td>\n",
       "      <td>True</td>\n",
       "    </tr>\n",
       "    <tr>\n",
       "      <th>4</th>\n",
       "      <td>False</td>\n",
       "      <td>False</td>\n",
       "      <td>True</td>\n",
       "    </tr>\n",
       "    <tr>\n",
       "      <th>...</th>\n",
       "      <td>...</td>\n",
       "      <td>...</td>\n",
       "      <td>...</td>\n",
       "    </tr>\n",
       "    <tr>\n",
       "      <th>886</th>\n",
       "      <td>False</td>\n",
       "      <td>False</td>\n",
       "      <td>True</td>\n",
       "    </tr>\n",
       "    <tr>\n",
       "      <th>887</th>\n",
       "      <td>False</td>\n",
       "      <td>False</td>\n",
       "      <td>True</td>\n",
       "    </tr>\n",
       "    <tr>\n",
       "      <th>888</th>\n",
       "      <td>False</td>\n",
       "      <td>False</td>\n",
       "      <td>True</td>\n",
       "    </tr>\n",
       "    <tr>\n",
       "      <th>889</th>\n",
       "      <td>True</td>\n",
       "      <td>False</td>\n",
       "      <td>False</td>\n",
       "    </tr>\n",
       "    <tr>\n",
       "      <th>890</th>\n",
       "      <td>False</td>\n",
       "      <td>True</td>\n",
       "      <td>False</td>\n",
       "    </tr>\n",
       "  </tbody>\n",
       "</table>\n",
       "<p>891 rows × 3 columns</p>\n",
       "</div>"
      ],
      "text/plain": [
       "     embarked_C  embarked_Q  embarked_S\n",
       "0         False       False        True\n",
       "1          True       False       False\n",
       "2         False       False        True\n",
       "3         False       False        True\n",
       "4         False       False        True\n",
       "..          ...         ...         ...\n",
       "886       False       False        True\n",
       "887       False       False        True\n",
       "888       False       False        True\n",
       "889        True       False       False\n",
       "890       False        True       False\n",
       "\n",
       "[891 rows x 3 columns]"
      ]
     },
     "execution_count": 9,
     "metadata": {},
     "output_type": "execute_result"
    }
   ],
   "source": [
    "pd.get_dummies(titanic[['embarked']])"
   ]
  },
  {
   "cell_type": "code",
   "execution_count": 11,
   "id": "2a423b2d",
   "metadata": {},
   "outputs": [
    {
     "data": {
      "text/html": [
       "<div>\n",
       "<style scoped>\n",
       "    .dataframe tbody tr th:only-of-type {\n",
       "        vertical-align: middle;\n",
       "    }\n",
       "\n",
       "    .dataframe tbody tr th {\n",
       "        vertical-align: top;\n",
       "    }\n",
       "\n",
       "    .dataframe thead th {\n",
       "        text-align: right;\n",
       "    }\n",
       "</style>\n",
       "<table border=\"1\" class=\"dataframe\">\n",
       "  <thead>\n",
       "    <tr style=\"text-align: right;\">\n",
       "      <th></th>\n",
       "      <th>sex_female</th>\n",
       "      <th>sex_male</th>\n",
       "    </tr>\n",
       "  </thead>\n",
       "  <tbody>\n",
       "    <tr>\n",
       "      <th>0</th>\n",
       "      <td>False</td>\n",
       "      <td>True</td>\n",
       "    </tr>\n",
       "    <tr>\n",
       "      <th>1</th>\n",
       "      <td>True</td>\n",
       "      <td>False</td>\n",
       "    </tr>\n",
       "    <tr>\n",
       "      <th>2</th>\n",
       "      <td>True</td>\n",
       "      <td>False</td>\n",
       "    </tr>\n",
       "    <tr>\n",
       "      <th>3</th>\n",
       "      <td>True</td>\n",
       "      <td>False</td>\n",
       "    </tr>\n",
       "    <tr>\n",
       "      <th>4</th>\n",
       "      <td>False</td>\n",
       "      <td>True</td>\n",
       "    </tr>\n",
       "    <tr>\n",
       "      <th>...</th>\n",
       "      <td>...</td>\n",
       "      <td>...</td>\n",
       "    </tr>\n",
       "    <tr>\n",
       "      <th>886</th>\n",
       "      <td>False</td>\n",
       "      <td>True</td>\n",
       "    </tr>\n",
       "    <tr>\n",
       "      <th>887</th>\n",
       "      <td>True</td>\n",
       "      <td>False</td>\n",
       "    </tr>\n",
       "    <tr>\n",
       "      <th>888</th>\n",
       "      <td>True</td>\n",
       "      <td>False</td>\n",
       "    </tr>\n",
       "    <tr>\n",
       "      <th>889</th>\n",
       "      <td>False</td>\n",
       "      <td>True</td>\n",
       "    </tr>\n",
       "    <tr>\n",
       "      <th>890</th>\n",
       "      <td>False</td>\n",
       "      <td>True</td>\n",
       "    </tr>\n",
       "  </tbody>\n",
       "</table>\n",
       "<p>891 rows × 2 columns</p>\n",
       "</div>"
      ],
      "text/plain": [
       "     sex_female  sex_male\n",
       "0         False      True\n",
       "1          True     False\n",
       "2          True     False\n",
       "3          True     False\n",
       "4         False      True\n",
       "..          ...       ...\n",
       "886       False      True\n",
       "887        True     False\n",
       "888        True     False\n",
       "889       False      True\n",
       "890       False      True\n",
       "\n",
       "[891 rows x 2 columns]"
      ]
     },
     "execution_count": 11,
     "metadata": {},
     "output_type": "execute_result"
    }
   ],
   "source": [
    "pd.get_dummies(titanic[['sex']])"
   ]
  },
  {
   "cell_type": "code",
   "execution_count": 10,
   "id": "60d9f899",
   "metadata": {},
   "outputs": [
    {
     "data": {
      "text/html": [
       "<div>\n",
       "<style scoped>\n",
       "    .dataframe tbody tr th:only-of-type {\n",
       "        vertical-align: middle;\n",
       "    }\n",
       "\n",
       "    .dataframe tbody tr th {\n",
       "        vertical-align: top;\n",
       "    }\n",
       "\n",
       "    .dataframe thead th {\n",
       "        text-align: right;\n",
       "    }\n",
       "</style>\n",
       "<table border=\"1\" class=\"dataframe\">\n",
       "  <thead>\n",
       "    <tr style=\"text-align: right;\">\n",
       "      <th></th>\n",
       "      <th>C</th>\n",
       "      <th>Q</th>\n",
       "      <th>S</th>\n",
       "    </tr>\n",
       "  </thead>\n",
       "  <tbody>\n",
       "    <tr>\n",
       "      <th>0</th>\n",
       "      <td>False</td>\n",
       "      <td>False</td>\n",
       "      <td>True</td>\n",
       "    </tr>\n",
       "    <tr>\n",
       "      <th>1</th>\n",
       "      <td>True</td>\n",
       "      <td>False</td>\n",
       "      <td>False</td>\n",
       "    </tr>\n",
       "    <tr>\n",
       "      <th>2</th>\n",
       "      <td>False</td>\n",
       "      <td>False</td>\n",
       "      <td>True</td>\n",
       "    </tr>\n",
       "    <tr>\n",
       "      <th>3</th>\n",
       "      <td>False</td>\n",
       "      <td>False</td>\n",
       "      <td>True</td>\n",
       "    </tr>\n",
       "    <tr>\n",
       "      <th>4</th>\n",
       "      <td>False</td>\n",
       "      <td>False</td>\n",
       "      <td>True</td>\n",
       "    </tr>\n",
       "    <tr>\n",
       "      <th>...</th>\n",
       "      <td>...</td>\n",
       "      <td>...</td>\n",
       "      <td>...</td>\n",
       "    </tr>\n",
       "    <tr>\n",
       "      <th>886</th>\n",
       "      <td>False</td>\n",
       "      <td>False</td>\n",
       "      <td>True</td>\n",
       "    </tr>\n",
       "    <tr>\n",
       "      <th>887</th>\n",
       "      <td>False</td>\n",
       "      <td>False</td>\n",
       "      <td>True</td>\n",
       "    </tr>\n",
       "    <tr>\n",
       "      <th>888</th>\n",
       "      <td>False</td>\n",
       "      <td>False</td>\n",
       "      <td>True</td>\n",
       "    </tr>\n",
       "    <tr>\n",
       "      <th>889</th>\n",
       "      <td>True</td>\n",
       "      <td>False</td>\n",
       "      <td>False</td>\n",
       "    </tr>\n",
       "    <tr>\n",
       "      <th>890</th>\n",
       "      <td>False</td>\n",
       "      <td>True</td>\n",
       "      <td>False</td>\n",
       "    </tr>\n",
       "  </tbody>\n",
       "</table>\n",
       "<p>891 rows × 3 columns</p>\n",
       "</div>"
      ],
      "text/plain": [
       "         C      Q      S\n",
       "0    False  False   True\n",
       "1     True  False  False\n",
       "2    False  False   True\n",
       "3    False  False   True\n",
       "4    False  False   True\n",
       "..     ...    ...    ...\n",
       "886  False  False   True\n",
       "887  False  False   True\n",
       "888  False  False   True\n",
       "889   True  False  False\n",
       "890  False   True  False\n",
       "\n",
       "[891 rows x 3 columns]"
      ]
     },
     "execution_count": 10,
     "metadata": {},
     "output_type": "execute_result"
    }
   ],
   "source": [
    "pd.get_dummies(titanic['embarked'])"
   ]
  },
  {
   "cell_type": "markdown",
   "id": "41009132",
   "metadata": {},
   "source": [
    "### \"실습\" bmi2000.csv 명목형 전처리"
   ]
  },
  {
   "cell_type": "code",
   "execution_count": 12,
   "id": "9c7b25d3",
   "metadata": {},
   "outputs": [
    {
     "data": {
      "text/html": [
       "<div>\n",
       "<style scoped>\n",
       "    .dataframe tbody tr th:only-of-type {\n",
       "        vertical-align: middle;\n",
       "    }\n",
       "\n",
       "    .dataframe tbody tr th {\n",
       "        vertical-align: top;\n",
       "    }\n",
       "\n",
       "    .dataframe thead th {\n",
       "        text-align: right;\n",
       "    }\n",
       "</style>\n",
       "<table border=\"1\" class=\"dataframe\">\n",
       "  <thead>\n",
       "    <tr style=\"text-align: right;\">\n",
       "      <th></th>\n",
       "      <th>height</th>\n",
       "      <th>weight</th>\n",
       "      <th>label</th>\n",
       "    </tr>\n",
       "  </thead>\n",
       "  <tbody>\n",
       "    <tr>\n",
       "      <th>0</th>\n",
       "      <td>164</td>\n",
       "      <td>70</td>\n",
       "      <td>fat</td>\n",
       "    </tr>\n",
       "    <tr>\n",
       "      <th>1</th>\n",
       "      <td>182</td>\n",
       "      <td>60</td>\n",
       "      <td>thin</td>\n",
       "    </tr>\n",
       "    <tr>\n",
       "      <th>2</th>\n",
       "      <td>186</td>\n",
       "      <td>74</td>\n",
       "      <td>normal</td>\n",
       "    </tr>\n",
       "    <tr>\n",
       "      <th>3</th>\n",
       "      <td>120</td>\n",
       "      <td>99</td>\n",
       "      <td>fat</td>\n",
       "    </tr>\n",
       "    <tr>\n",
       "      <th>4</th>\n",
       "      <td>189</td>\n",
       "      <td>69</td>\n",
       "      <td>normal</td>\n",
       "    </tr>\n",
       "    <tr>\n",
       "      <th>...</th>\n",
       "      <td>...</td>\n",
       "      <td>...</td>\n",
       "      <td>...</td>\n",
       "    </tr>\n",
       "    <tr>\n",
       "      <th>19995</th>\n",
       "      <td>154</td>\n",
       "      <td>67</td>\n",
       "      <td>fat</td>\n",
       "    </tr>\n",
       "    <tr>\n",
       "      <th>19996</th>\n",
       "      <td>131</td>\n",
       "      <td>42</td>\n",
       "      <td>normal</td>\n",
       "    </tr>\n",
       "    <tr>\n",
       "      <th>19997</th>\n",
       "      <td>158</td>\n",
       "      <td>99</td>\n",
       "      <td>fat</td>\n",
       "    </tr>\n",
       "    <tr>\n",
       "      <th>19998</th>\n",
       "      <td>145</td>\n",
       "      <td>66</td>\n",
       "      <td>fat</td>\n",
       "    </tr>\n",
       "    <tr>\n",
       "      <th>19999</th>\n",
       "      <td>134</td>\n",
       "      <td>80</td>\n",
       "      <td>fat</td>\n",
       "    </tr>\n",
       "  </tbody>\n",
       "</table>\n",
       "<p>20000 rows × 3 columns</p>\n",
       "</div>"
      ],
      "text/plain": [
       "       height  weight   label\n",
       "0         164      70     fat\n",
       "1         182      60    thin\n",
       "2         186      74  normal\n",
       "3         120      99     fat\n",
       "4         189      69  normal\n",
       "...       ...     ...     ...\n",
       "19995     154      67     fat\n",
       "19996     131      42  normal\n",
       "19997     158      99     fat\n",
       "19998     145      66     fat\n",
       "19999     134      80     fat\n",
       "\n",
       "[20000 rows x 3 columns]"
      ]
     },
     "execution_count": 12,
     "metadata": {},
     "output_type": "execute_result"
    }
   ],
   "source": [
    "# bmi20000.csv\n",
    "bmi=pd.read_csv('./data/bmi20000.csv')\n",
    "bmi"
   ]
  },
  {
   "cell_type": "code",
   "execution_count": 15,
   "id": "b1539793",
   "metadata": {},
   "outputs": [
    {
     "name": "stderr",
     "output_type": "stream",
     "text": [
      "C:\\Users\\ksa\\AppData\\Local\\Temp\\ipykernel_11400\\3833561422.py:1: FutureWarning: Downcasting behavior in `replace` is deprecated and will be removed in a future version. To retain the old behavior, explicitly call `result.infer_objects(copy=False)`. To opt-in to the future behavior, set `pd.set_option('future.no_silent_downcasting', True)`\n",
      "  bmi['label'].replace({'thin':0, 'normal':1, 'fat':2})\n"
     ]
    },
    {
     "data": {
      "text/html": [
       "<div>\n",
       "<style scoped>\n",
       "    .dataframe tbody tr th:only-of-type {\n",
       "        vertical-align: middle;\n",
       "    }\n",
       "\n",
       "    .dataframe tbody tr th {\n",
       "        vertical-align: top;\n",
       "    }\n",
       "\n",
       "    .dataframe thead th {\n",
       "        text-align: right;\n",
       "    }\n",
       "</style>\n",
       "<table border=\"1\" class=\"dataframe\">\n",
       "  <thead>\n",
       "    <tr style=\"text-align: right;\">\n",
       "      <th></th>\n",
       "      <th>label_fat</th>\n",
       "      <th>label_normal</th>\n",
       "      <th>label_thin</th>\n",
       "    </tr>\n",
       "  </thead>\n",
       "  <tbody>\n",
       "    <tr>\n",
       "      <th>0</th>\n",
       "      <td>True</td>\n",
       "      <td>False</td>\n",
       "      <td>False</td>\n",
       "    </tr>\n",
       "    <tr>\n",
       "      <th>1</th>\n",
       "      <td>False</td>\n",
       "      <td>False</td>\n",
       "      <td>True</td>\n",
       "    </tr>\n",
       "    <tr>\n",
       "      <th>2</th>\n",
       "      <td>False</td>\n",
       "      <td>True</td>\n",
       "      <td>False</td>\n",
       "    </tr>\n",
       "    <tr>\n",
       "      <th>3</th>\n",
       "      <td>True</td>\n",
       "      <td>False</td>\n",
       "      <td>False</td>\n",
       "    </tr>\n",
       "    <tr>\n",
       "      <th>4</th>\n",
       "      <td>False</td>\n",
       "      <td>True</td>\n",
       "      <td>False</td>\n",
       "    </tr>\n",
       "    <tr>\n",
       "      <th>...</th>\n",
       "      <td>...</td>\n",
       "      <td>...</td>\n",
       "      <td>...</td>\n",
       "    </tr>\n",
       "    <tr>\n",
       "      <th>19995</th>\n",
       "      <td>True</td>\n",
       "      <td>False</td>\n",
       "      <td>False</td>\n",
       "    </tr>\n",
       "    <tr>\n",
       "      <th>19996</th>\n",
       "      <td>False</td>\n",
       "      <td>True</td>\n",
       "      <td>False</td>\n",
       "    </tr>\n",
       "    <tr>\n",
       "      <th>19997</th>\n",
       "      <td>True</td>\n",
       "      <td>False</td>\n",
       "      <td>False</td>\n",
       "    </tr>\n",
       "    <tr>\n",
       "      <th>19998</th>\n",
       "      <td>True</td>\n",
       "      <td>False</td>\n",
       "      <td>False</td>\n",
       "    </tr>\n",
       "    <tr>\n",
       "      <th>19999</th>\n",
       "      <td>True</td>\n",
       "      <td>False</td>\n",
       "      <td>False</td>\n",
       "    </tr>\n",
       "  </tbody>\n",
       "</table>\n",
       "<p>20000 rows × 3 columns</p>\n",
       "</div>"
      ],
      "text/plain": [
       "       label_fat  label_normal  label_thin\n",
       "0           True         False       False\n",
       "1          False         False        True\n",
       "2          False          True       False\n",
       "3           True         False       False\n",
       "4          False          True       False\n",
       "...          ...           ...         ...\n",
       "19995       True         False       False\n",
       "19996      False          True       False\n",
       "19997       True         False       False\n",
       "19998       True         False       False\n",
       "19999       True         False       False\n",
       "\n",
       "[20000 rows x 3 columns]"
      ]
     },
     "execution_count": 15,
     "metadata": {},
     "output_type": "execute_result"
    }
   ],
   "source": [
    "bmi['label'].replace({'thin':0, 'normal':1, 'fat':2})\n",
    "pd.get_dummies(bmi[['label']])"
   ]
  },
  {
   "cell_type": "markdown",
   "id": "9353dc74",
   "metadata": {},
   "source": [
    "# 2. 수치형 자료 전 처리\n",
    "\n",
    "- **수치형 자료** : 크기를 갖는 수치형 값으로 이루어진 데이터\n",
    "- 머신러닝의 입력으로 바로 사용할 수 있으나, 모델의 성능을 높이기 위해 데이터 변환이 필요\n"
   ]
  },
  {
   "cell_type": "markdown",
   "id": "afb4a9c9",
   "metadata": {},
   "source": [
    "### 대표적인 수치형 자료의 스케일링\n",
    "\n",
    "수치형 자료의 경우 다른 수치형 자료와 범위를 맞추기 위해 스케일링을 통한 정규화 또는 표준화를 수행한다. **스케일링(Scaling)**은 변수 값의 범위 및 크기를 일정 범위로 변환하는 방식으로 변수(feature) 간의 범위가 차이가 나면 사용한다.  min-max scale, 정규화 스케일, 표준화 스케일링 등이 있다.\n",
    "\n",
    "- **정규화(Normalization)**\n",
    "  - **최소-최대 정규화(Min-Max Normalization)**\n",
    "  - $X^\\prime = \\frac{X - X_{min}}{X_{max}-X_{min}}$<br>\n",
    "  - 데이터를 모두 최소 0, 최대 1의 값으로 변환하는 것 (서로 다른 Feature의 scale를 통일하기 위해 변환)\n",
    "\n",
    "- **표준화(Standardization)**\n",
    "  - **Z-Score Scaling**\n",
    "    - $X^\\prime = \\frac{x-\\bar{x}}{\\sigma}$\n",
    "    - 데이터를 평균이 0, 분산이 1인 가우시안 정규분포로 만들어 주는 것\n",
    "\n"
   ]
  },
  {
   "cell_type": "markdown",
   "id": "7d52002e",
   "metadata": {},
   "source": [
    "### Min-Max scale\n",
    "\n",
    "모든 특성이 0와 1 사이에 위치하도록 데이터를 변경한다. 2차원 데이터  경우 모든 데이터가 x축의 0과 1사이에 사각 영역에 담기게 된다.\n",
    "\n",
    "$$X^\\prime = \\frac{X - X_{min}}{X_{max}-X_{min}}\n",
    "$$\n",
    "\n",
    "\n"
   ]
  },
  {
   "cell_type": "code",
   "execution_count": null,
   "id": "83a3ea6c",
   "metadata": {},
   "outputs": [],
   "source": [
    "import pandas as pd\n",
    "\n",
    "# min-max scaling\n",
    "\n",
    "\n",
    "\n"
   ]
  },
  {
   "cell_type": "code",
   "execution_count": null,
   "id": "be9fc3b6",
   "metadata": {},
   "outputs": [
    {
     "name": "stdout",
     "output_type": "stream",
     "text": [
      "변환 전: \n",
      " 0     7.2500\n",
      "1    71.2833\n",
      "2     7.9250\n",
      "3    53.1000\n",
      "4     8.0500\n",
      "Name: Fare, dtype: float64\n"
     ]
    }
   ],
   "source": [
    "# 데이터를 읽어 옵니다.\n",
    "\n",
    "print('변환 전: \\n',titanic['Fare'].head())\n"
   ]
  },
  {
   "cell_type": "markdown",
   "id": "eae286ea",
   "metadata": {},
   "source": [
    "정규화 작업을 하면 데이터의 범위가 0~1 사이로 변환된다."
   ]
  },
  {
   "cell_type": "code",
   "execution_count": null,
   "id": "661c57f5",
   "metadata": {},
   "outputs": [
    {
     "name": "stdout",
     "output_type": "stream",
     "text": [
      "\n",
      "변환 후: \n",
      " 0    0.014151\n",
      "1    0.139136\n",
      "2    0.015469\n",
      "3    0.103644\n",
      "4    0.015713\n",
      "Name: Fare, dtype: float64\n"
     ]
    }
   ],
   "source": [
    "# minmax 함수를 사용하여 정규화합니다.\n",
    "\n",
    "\n",
    "# 변환한 Fare 데이터를 출력합니다.\n",
    "\n"
   ]
  },
  {
   "cell_type": "markdown",
   "id": "e91c9ef1",
   "metadata": {},
   "source": [
    "Sklearn은 [MinMaxScaler](https://scikit-learn.org/stable/modules/generated/sklearn.preprocessing.MinMaxScaler.html)를 통해 피처의 특성/속성이 다른 데이터를 0에서 1 사이로 축소할 수 있는 도구를 제공합니다. \n",
    "\n",
    " - ML알고리즘에서 사용할 데이터 분포가 가우시안 분포가 아닌 경우 최소/최대 값 범위를 다루도록 할 수 있다."
   ]
  },
  {
   "cell_type": "code",
   "execution_count": 16,
   "id": "b0396c93",
   "metadata": {},
   "outputs": [],
   "source": [
    "from sklearn.preprocessing import MinMaxScaler"
   ]
  },
  {
   "cell_type": "markdown",
   "id": "a38b64f1",
   "metadata": {},
   "source": [
    "### 수치형 자료 변환하기 - 표준화\n",
    "\n",
    "**Z-Score Scaling** 라고도 하며  데이터를 평균이 0, 분산이 1인 가우시안 정규분포로 만들어 주는 것\n",
    "\n",
    "$$X^\\prime = \\frac{x-\\bar{x}}{\\sigma}$$\n",
    "\n",
    "\n",
    "\n"
   ]
  },
  {
   "cell_type": "code",
   "execution_count": null,
   "id": "99e74bf3",
   "metadata": {},
   "outputs": [
    {
     "name": "stdout",
     "output_type": "stream",
     "text": [
      "변환 전: \n",
      " 0     7.2500\n",
      "1    71.2833\n",
      "2     7.9250\n",
      "3    53.1000\n",
      "4     8.0500\n",
      "Name: Fare, dtype: float64\n"
     ]
    }
   ],
   "source": [
    "# 표준화를 수행하는 함수를 구현합니다.\n",
    "\n",
    "\n",
    "    \n",
    "# 데이터를 읽어 옵니다.\n",
    "\n",
    "print('변환 전: \\n',titanic['Fare'].head())"
   ]
  },
  {
   "cell_type": "code",
   "execution_count": null,
   "id": "6e56813e",
   "metadata": {},
   "outputs": [
    {
     "name": "stdout",
     "output_type": "stream",
     "text": [
      "\n",
      "변환 후: \n",
      " 0   -0.502163\n",
      "1    0.786404\n",
      "2   -0.488580\n",
      "3    0.420494\n",
      "4   -0.486064\n",
      "Name: Fare, dtype: float64\n"
     ]
    }
   ],
   "source": [
    "# standard 함수를 사용하여 표준화합니다.\n",
    "\n",
    "\n",
    "# 변환한 Fare 데이터를 출력합니다.\n",
    "\n"
   ]
  },
  {
   "cell_type": "markdown",
   "id": "0659b5d0",
   "metadata": {},
   "source": [
    "# 3. 데이터 정제 및 분리하기\n"
   ]
  },
  {
   "cell_type": "markdown",
   "id": "28fd1505",
   "metadata": {},
   "source": [
    "## 데이터 Cleansing"
   ]
  },
  {
   "cell_type": "markdown",
   "id": "0e0805a2",
   "metadata": {},
   "source": [
    "#### 결측값(Missing data) 처리하기\n",
    "\n",
    "값이 없는 경우\n",
    "\n",
    "- 일반적인 머신러닝 모델의 입력 값으로 결측값을 사용할 수 없음\n",
    "- 따라서 **Null, None, NaN** 등의 결측값을 처리해야 함\n",
    "- 이것이 곧 '데이터 정제'의 과정임\n",
    "- 대표적인 결측값 처리 방식\n",
    "  1. 결측값이 존재하는 **샘플 삭제**\n",
    "  2. 결측값이 많이 존재하는 **변수 삭제**\n",
    "  3. 결측값을 **다른 값으로 대체**\n",
    "\n"
   ]
  },
  {
   "cell_type": "markdown",
   "id": "44a94a1c",
   "metadata": {},
   "source": [
    "결측값이 있는 데이터는 일반적으로 머신러닝의 입력으로 사용할 수 없습니다. 그렇기에 데이터 전 처리 과정에서는 삭제 또는 대체 방식으로 결측값을 처리합니다.\n",
    "- **`drop(columns = ['feature'])`** : pandas의 DataFrame에서 특정 변수(columns)를 삭제하기 위해 사용\n",
    "- **`dropna()`** : DataFrame에서 결측값이 있는 샘플을 제거하기 위해서 사용 (NaN 제거)\n",
    "\n"
   ]
  },
  {
   "cell_type": "code",
   "execution_count": null,
   "id": "9aa826c2",
   "metadata": {},
   "outputs": [
    {
     "name": "stdout",
     "output_type": "stream",
     "text": [
      "<class 'pandas.core.frame.DataFrame'>\n",
      "RangeIndex: 891 entries, 0 to 890\n",
      "Data columns (total 12 columns):\n",
      " #   Column       Non-Null Count  Dtype  \n",
      "---  ------       --------------  -----  \n",
      " 0   PassengerId  891 non-null    int64  \n",
      " 1   Survived     891 non-null    int64  \n",
      " 2   Pclass       891 non-null    int64  \n",
      " 3   Name         891 non-null    object \n",
      " 4   Sex          891 non-null    object \n",
      " 5   Age          714 non-null    float64\n",
      " 6   SibSp        891 non-null    int64  \n",
      " 7   Parch        891 non-null    int64  \n",
      " 8   Ticket       891 non-null    object \n",
      " 9   Fare         891 non-null    float64\n",
      " 10  Cabin        204 non-null    object \n",
      " 11  Embarked     889 non-null    object \n",
      "dtypes: float64(2), int64(5), object(5)\n",
      "memory usage: 83.7+ KB\n",
      "None \n",
      "\n"
     ]
    }
   ],
   "source": [
    "# 데이터를 읽어 옵니다.\n",
    "\n",
    "# info\n"
   ]
  },
  {
   "cell_type": "code",
   "execution_count": null,
   "id": "0d85c6a1",
   "metadata": {},
   "outputs": [
    {
     "data": {
      "text/plain": [
       "PassengerId      0\n",
       "Survived         0\n",
       "Pclass           0\n",
       "Name             0\n",
       "Sex              0\n",
       "Age            177\n",
       "SibSp            0\n",
       "Parch            0\n",
       "Ticket           0\n",
       "Fare             0\n",
       "Cabin          687\n",
       "Embarked         2\n",
       "dtype: int64"
      ]
     },
     "execution_count": 18,
     "metadata": {},
     "output_type": "execute_result"
    }
   ],
   "source": [
    "# 각 피처(컬럼)의 NaN 현황\n",
    "\n"
   ]
  },
  {
   "cell_type": "code",
   "execution_count": null,
   "id": "b7c28a1c",
   "metadata": {},
   "outputs": [
    {
     "name": "stdout",
     "output_type": "stream",
     "text": [
      "Cabin 변수 제거\n",
      "<class 'pandas.core.frame.DataFrame'>\n",
      "RangeIndex: 891 entries, 0 to 890\n",
      "Data columns (total 11 columns):\n",
      " #   Column       Non-Null Count  Dtype  \n",
      "---  ------       --------------  -----  \n",
      " 0   PassengerId  891 non-null    int64  \n",
      " 1   Survived     891 non-null    int64  \n",
      " 2   Pclass       891 non-null    int64  \n",
      " 3   Name         891 non-null    object \n",
      " 4   Sex          891 non-null    object \n",
      " 5   Age          714 non-null    float64\n",
      " 6   SibSp        891 non-null    int64  \n",
      " 7   Parch        891 non-null    int64  \n",
      " 8   Ticket       891 non-null    object \n",
      " 9   Fare         891 non-null    float64\n",
      " 10  Embarked     889 non-null    object \n",
      "dtypes: float64(2), int64(5), object(4)\n",
      "memory usage: 76.7+ KB\n",
      "None \n",
      "\n"
     ]
    }
   ],
   "source": [
    "# 1. Cabin 변수를 제거합니다.\n",
    "\n",
    "# Cabin 변수를 제거 후 결측값이 어디에 남아 있는지 확인합니다.\n",
    "\n",
    "\n"
   ]
  },
  {
   "cell_type": "code",
   "execution_count": null,
   "id": "9d2deff3",
   "metadata": {},
   "outputs": [
    {
     "name": "stdout",
     "output_type": "stream",
     "text": [
      "결측값이 존재하는 샘플 제거\n",
      "<class 'pandas.core.frame.DataFrame'>\n",
      "Index: 712 entries, 0 to 890\n",
      "Data columns (total 11 columns):\n",
      " #   Column       Non-Null Count  Dtype  \n",
      "---  ------       --------------  -----  \n",
      " 0   PassengerId  712 non-null    int64  \n",
      " 1   Survived     712 non-null    int64  \n",
      " 2   Pclass       712 non-null    int64  \n",
      " 3   Name         712 non-null    object \n",
      " 4   Sex          712 non-null    object \n",
      " 5   Age          712 non-null    float64\n",
      " 6   SibSp        712 non-null    int64  \n",
      " 7   Parch        712 non-null    int64  \n",
      " 8   Ticket       712 non-null    object \n",
      " 9   Fare         712 non-null    float64\n",
      " 10  Embarked     712 non-null    object \n",
      "dtypes: float64(2), int64(5), object(4)\n",
      "memory usage: 66.8+ KB\n",
      "None\n"
     ]
    }
   ],
   "source": [
    "# 2. 결측값이 존재하는 샘플 제거합니다.\n",
    "\n",
    "\n",
    "# 결측값이 존재하는지 확인합니다.\n",
    "print('결측값이 존재하는 샘플 제거')\n",
    "\n"
   ]
  },
  {
   "cell_type": "markdown",
   "id": "8c33f7e4",
   "metadata": {},
   "source": [
    "#### 이상치(Outlier) 처리하기\n",
    "\n",
    "이상치/극단치는 데이터의 표준편차 범위 보다 아주 작은 값이나 아주 큰 값\n",
    "- 이상치가 있으면, 모델의 성능을 저하할 수 있음\n",
    "- 이상치는 일반적으로 전 처리 과정에서 제거하며, 어떤 값이 이상치인지 판단하는 기준이 중요함\n",
    "- 이상치 판단 기준 방법\n",
    "  1. 통계 지표(카이제곱 검정, IQR 지표 등)를 사용하여 판단\n",
    "  2. 데이터 분포를 보고 직접 판단\n",
    "  3. 머신러닝 기법을 사용하여 이상치 분류\n",
    "\n"
   ]
  },
  {
   "cell_type": "markdown",
   "id": "df3226cb",
   "metadata": {},
   "source": [
    "\n",
    "이상치가 존재하는 데이터를 머신러닝에 사용하게 된다면 성능 저하를 야기할 수 있습니다. 그렇기에 데이터 전 처리 과정에서는 이상치를 판별하고 처리합니다.\n",
    "\n"
   ]
  },
  {
   "cell_type": "markdown",
   "id": "342af98e",
   "metadata": {},
   "source": [
    "결측값이 제거된 상태:"
   ]
  },
  {
   "cell_type": "code",
   "execution_count": null,
   "id": "ee402cd4",
   "metadata": {},
   "outputs": [
    {
     "name": "stdout",
     "output_type": "stream",
     "text": [
      "소수점을 갖는 Age 변수 이상치\n",
      "57     28.50\n",
      "78      0.83\n",
      "111    14.50\n",
      "116    70.50\n",
      "122    32.50\n",
      "123    32.50\n",
      "148    36.50\n",
      "152    55.50\n",
      "153    40.50\n",
      "203    45.50\n",
      "227    20.50\n",
      "296    23.50\n",
      "305     0.92\n",
      "331    45.50\n",
      "469     0.75\n",
      "525    40.50\n",
      "644     0.75\n",
      "676    24.50\n",
      "735    28.50\n",
      "755     0.67\n",
      "767    30.50\n",
      "803     0.42\n",
      "814    30.50\n",
      "831     0.83\n",
      "843    34.50\n",
      "Name: Age, dtype: float64\n",
      "이상치 처리 전 샘플 개수: 712\n",
      "이상치 개수: 25\n"
     ]
    }
   ],
   "source": [
    "#데이터를 읽어 옵니다.\n",
    "titanic = pd.read_csv('./data/titanic.csv')\n",
    "\n",
    "# (Age 값 - 내림 Age 값)이 0보다 크다면 소수점을 갖는 데이터로 분류합니다.\n",
    "\n",
    "\n"
   ]
  },
  {
   "cell_type": "code",
   "execution_count": null,
   "id": "d07bf149",
   "metadata": {},
   "outputs": [
    {
     "name": "stdout",
     "output_type": "stream",
     "text": [
      "이상치 처리 후 샘플 개수: 687\n"
     ]
    }
   ],
   "source": [
    "# 이상치를 처리합니다.\n",
    "\n"
   ]
  },
  {
   "cell_type": "markdown",
   "id": "41bed5d3",
   "metadata": {},
   "source": [
    "## 지도학습 데이터 분리\n"
   ]
  },
  {
   "cell_type": "markdown",
   "id": "9ebd38fc",
   "metadata": {},
   "source": [
    "#### 데이터 분리가 필요한 이유\n",
    "- 머신러닝 모델을 평가하기 위해서는 학습에 사용하지 않은 평가용 데이터가 필요\n",
    "- 약 7:3 ~ 8:2 비율로 학습용, 평가용 데이터를 분리함\n",
    "\n"
   ]
  },
  {
   "cell_type": "markdown",
   "id": "f74a6caa",
   "metadata": {},
   "source": [
    "지도학습의 경우 feature 데이터와 label 데이터를 분리하여 저장\n",
    "\n",
    "- **Feature 데이터** : label을 예측하기 위한 입력 값\n",
    "\n",
    "- **Label 데이터** : 예측해야 할 대상이 되는 데이터\n",
    "  - `예) '공부 시간(feature)'에 따른 '시험 점수(label)'`\n",
    "  - `예) titanic 데이터에서 feature data는 나이, 가족 정보, 표 가격 등이고 label data는 '생존 여부'`\n"
   ]
  },
  {
   "cell_type": "markdown",
   "id": "1a845971",
   "metadata": {},
   "source": [
    "scikitlearn의 **`train_test_split()`** 사용\n",
    "\n",
    "\n",
    "- `train_test_split()` : sklearn 라이브러리의 학습용, 평가용 데이터 분리 메소드\n",
    "  - `X_train, X_test, y_train, y_test = train_test_split(feature 데이터, label 데이터, test_size = 0~1 값, random_state = 랜덤 시드 값)`\n",
    "\n",
    "\n"
   ]
  },
  {
   "cell_type": "markdown",
   "id": "c9adc377",
   "metadata": {},
   "source": [
    "## 실습: titanic 데이터 분할과 학습\n",
    "\n"
   ]
  },
  {
   "cell_type": "code",
   "execution_count": null,
   "id": "4ec37b97",
   "metadata": {},
   "outputs": [
    {
     "name": "stdout",
     "output_type": "stream",
     "text": [
      "전체 샘플 데이터 개수: 687\n",
      "X 데이터 개수: 687\n",
      "y 데이터 개수: 687\n",
      "학습용 데이터 개수: 480\n",
      "평가용 데이터 개수: 207\n"
     ]
    }
   ],
   "source": [
    "import pandas as pd\n",
    "import numpy as np\n",
    "from sklearn.model_selection import train_test_split\n",
    "\n",
    "# 데이터를 읽어옵니다.\n",
    "\n",
    "\n",
    "# Cabin 변수를 제거합니다.\n",
    "\n",
    "\n",
    "# 결측값이 존재하는 샘플을 제거합니다.\n",
    "\n",
    "\n",
    "# 이상치를 처리합니다.\n",
    "\n",
    "# 전체 샘플 데이터 개수: 687\n",
    "\n",
    "# 1. feature 데이터와 label 데이터를 분리합니다.\n",
    "\n",
    "#X 데이터 개수: 687\n",
    "# y 데이터 개수: 687\n",
    "\n",
    "#2. 학습용, 평가용 데이터로 분리합니다.\n",
    "\n",
    "\n",
    "\n",
    "# 분리한 데이터의 개수를 출력합니다.\n",
    "\n"
   ]
  },
  {
   "cell_type": "markdown",
   "id": "14cdb58e",
   "metadata": {},
   "source": []
  }
 ],
 "metadata": {
  "kernelspec": {
   "display_name": "Python 3",
   "language": "python",
   "name": "python3"
  },
  "language_info": {
   "codemirror_mode": {
    "name": "ipython",
    "version": 3
   },
   "file_extension": ".py",
   "mimetype": "text/x-python",
   "name": "python",
   "nbconvert_exporter": "python",
   "pygments_lexer": "ipython3",
   "version": "3.12.11"
  }
 },
 "nbformat": 4,
 "nbformat_minor": 5
}
