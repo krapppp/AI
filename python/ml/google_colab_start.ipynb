{
 "cells": [
  {
   "cell_type": "markdown",
   "metadata": {
    "id": "sbTOLTwnDyBu",
    "tags": []
   },
   "source": [
    "# 구글 Colab 사용하기\n",
    "\n",
    "구글 드라이브 기반 Juputer Noteook  서비스 (2017년 10월 공개)\n",
    "\n",
    "\"Google Drive + Jupyter Notebook\"\n",
    "\n",
    "![Google Colaboratory](https://i.imgur.com/sb1REE1.png)\n",
    "\n"
   ]
  },
  {
   "cell_type": "markdown",
   "metadata": {
    "id": "HhHqW3StKn0j"
   },
   "source": [
    "# 상세 소개\n",
    "https://colab.research.google.com (접속하면 바로 사용가능)\n",
    "\n",
    "1. Jupyter Notebook 기능 포함 (파이썬 실행, 마크다운, 수식, 차트 표현 등)\n",
    "1. 구글 드라이브의 문서 생성과 공유, Github 연계 지원\n",
    "1. 최신 파이썬, 텐서플로우 지원\n",
    "1. 구글 클라우드(GCP)기반, 가상머신 서비스인 구글 컴퓨트 엔진(GCE)\n",
    "1. 딥러닝을 위한 GPU, TPU 지원\n",
    "1. 사이킷런, 텐서플로우 포함 대부분 파이썬 라이브러리 사전 설치 제공\n",
    "\n"
   ]
  },
  {
   "cell_type": "markdown",
   "metadata": {},
   "source": [
    "예제/구글드라이브/깃헙 과 업로드 가능\n",
    "\n",
    "![](https://i.imgur.com/3cpyxB6.png)"
   ]
  },
  {
   "cell_type": "markdown",
   "metadata": {},
   "source": [
    "Locate In Drive\n",
    "\n",
    "사용중인 노트북은 Google Drive 에서 확인 가능하다.\n",
    "\n",
    "![](https://i.imgur.com/KY3qFpn.png)"
   ]
  },
  {
   "cell_type": "markdown",
   "metadata": {},
   "source": [
    "# 사용\n",
    "\n"
   ]
  },
  {
   "cell_type": "markdown",
   "metadata": {},
   "source": [
    "https://colab.research.google.com (접속하면 바로 소개문서 노트북)\n",
    "\n",
    "1. Jupyter Notebook 기능 포함 (파이썬 실행, 마크다운, 수식, 차트 표현 등)\n",
    "1. 구글 드라이브의 문서 생성과 공유 기능 (닥스 문서와 동일한 방법으로 생성, 공유)\n",
    "1. Github 연계\n",
    "1. 구글 코랩이 2020년 2월 유료화 정책을 시작(https://colab.research.google.com/signup)하면서 무료 버전에 고용량 RAM 모드를 지원하지 않게 되었습니다."
   ]
  },
  {
   "cell_type": "markdown",
   "metadata": {},
   "source": [
    "## Google Drive 에서 Colab 연결"
   ]
  },
  {
   "cell_type": "markdown",
   "metadata": {},
   "source": [
    "<img src='https://i.imgur.com/dsvfVQu.png'>"
   ]
  },
  {
   "cell_type": "markdown",
   "metadata": {},
   "source": [
    "# 환경 설정 정보\n",
    "\n",
    "* CPU, 메모리, OS, HDD, GPU (K80)\n",
    "* scipy, numpy, pandas 등 대부분의 파이썬 패키지들이 설치되어 있으며\n",
    "* scikit-learn, tensorflow, keras 등 머신러닝/딥러닝 라이브러리도 설치\n"
   ]
  },
  {
   "cell_type": "code",
   "execution_count": null,
   "metadata": {},
   "outputs": [],
   "source": [
    "# 디스크 용량\n",
    "! df -h"
   ]
  },
  {
   "cell_type": "code",
   "execution_count": null,
   "metadata": {},
   "outputs": [],
   "source": [
    "# CPU\n",
    "! cat /proc/cpuinfo"
   ]
  },
  {
   "cell_type": "code",
   "execution_count": null,
   "metadata": {},
   "outputs": [],
   "source": [
    "# 메모리\n",
    "! cat /proc/meminfo"
   ]
  },
  {
   "cell_type": "code",
   "execution_count": null,
   "metadata": {},
   "outputs": [],
   "source": [
    "# 파이썬\n",
    "import sys\n",
    "sys.version_info  "
   ]
  },
  {
   "cell_type": "code",
   "execution_count": null,
   "metadata": {},
   "outputs": [],
   "source": [
    "# OS 플랫폼\n",
    "import platform\n",
    "platform.platform()\n"
   ]
  },
  {
   "cell_type": "code",
   "execution_count": null,
   "metadata": {},
   "outputs": [],
   "source": [
    "# 설치된 파이썬 패키지 목록\n",
    "import pkg_resources\n",
    "dists = [d for d in pkg_resources.working_set]\n",
    "dists"
   ]
  },
  {
   "cell_type": "code",
   "execution_count": null,
   "metadata": {},
   "outputs": [],
   "source": [
    "! pip list"
   ]
  },
  {
   "cell_type": "markdown",
   "metadata": {},
   "source": [
    "## 수식\n",
    "```\n",
    "$$c = \\sqrt{a^2 + b^2}$$\n",
    "```\n",
    "$$c = \\sqrt{a^2 + b^2}$$\n",
    "\n",
    "```\n",
    "$$N(\\mu ,\\sigma )$$\n",
    "```\n",
    "$$N(\\mu ,\\sigma )$$"
   ]
  },
  {
   "cell_type": "markdown",
   "metadata": {},
   "source": [
    "# 간단한 차트 그리기"
   ]
  },
  {
   "cell_type": "code",
   "execution_count": null,
   "metadata": {},
   "outputs": [],
   "source": []
  },
  {
   "cell_type": "code",
   "execution_count": null,
   "metadata": {},
   "outputs": [],
   "source": [
    "import numpy as np\n",
    "\n",
    "data = np.random.randint(-100, 100, 50)\n",
    "data"
   ]
  },
  {
   "cell_type": "code",
   "execution_count": null,
   "metadata": {},
   "outputs": [],
   "source": [
    "import matplotlib.pyplot as plt\n",
    "\n",
    "plt.plot(data.cumsum())\n",
    "plt.show()"
   ]
  },
  {
   "cell_type": "markdown",
   "metadata": {},
   "source": [
    "## curl 명령으로 파일 가져오기\n",
    "\n",
    "이미지를 wget 명령으로 가져와 보자\n",
    "\n",
    "! 를 쓰고 명령을 써준다. \n",
    "\n",
    "아래 예는 curl 명령으로 특정 URL의 이미지를 저장하는 예 이다.\n",
    "\n",
    "```\n",
    "! curl -o cat.jpg https://amp.businessinsider.com/images/5a69a3d400d0efc1008b4754-960-480.jpg\n",
    "\n",
    "! ls -l\n",
    "```"
   ]
  },
  {
   "cell_type": "markdown",
   "metadata": {},
   "source": [
    "# TensorFlow 2.0\n",
    "\n",
    "https://www.tensorflow.org/install?hl=ko"
   ]
  },
  {
   "cell_type": "code",
   "execution_count": null,
   "metadata": {},
   "outputs": [],
   "source": [
    "# Requires the latest pip\n",
    "!pip install --upgrade pip"
   ]
  },
  {
   "cell_type": "code",
   "execution_count": null,
   "metadata": {},
   "outputs": [],
   "source": [
    "\n",
    "# Current stable release for CPU and GPU\n",
    "!pip install tensorflow"
   ]
  },
  {
   "cell_type": "code",
   "execution_count": null,
   "metadata": {},
   "outputs": [],
   "source": [
    "# GPU 사용 가능 확인 ( \"/device:GPU:0\" 문자열이 반환되면 GPU 사용 가능함 의미)\n",
    "\n",
    "import tensorflow as tf\n",
    "device_name = tf.test.gpu_device_name()\n",
    "device_name"
   ]
  },
  {
   "cell_type": "code",
   "execution_count": null,
   "metadata": {},
   "outputs": [],
   "source": []
  },
  {
   "cell_type": "code",
   "execution_count": null,
   "metadata": {},
   "outputs": [],
   "source": []
  },
  {
   "cell_type": "code",
   "execution_count": null,
   "metadata": {
    "id": "BLSSS0fWx68Y"
   },
   "outputs": [],
   "source": [
    "import tensorflow as tf\n",
    "import numpy as np\n",
    "\n",
    "print(tf.__version__, np.__version__)"
   ]
  },
  {
   "cell_type": "markdown",
   "metadata": {
    "id": "1RqXgtgGOkhx"
   },
   "source": [
    "# GPU 사용하기\n",
    "* 노트를 생성한 뒤에 메뉴에서 \"런타임 / 런타임 유형 변경\" 선택 (그림) <br> 무료 하드웨어 가속기(GPU) 사용도 가능\n",
    "\n",
    "<img src=\"https://i.imgur.com/YfSBWIi.png\" >\n"
   ]
  },
  {
   "cell_type": "code",
   "execution_count": null,
   "metadata": {
    "id": "uROn6KXy0cGQ"
   },
   "outputs": [],
   "source": []
  },
  {
   "cell_type": "markdown",
   "metadata": {
    "id": "xymHrLcH0tOq"
   },
   "source": [
    "새 노트북 만들기\n",
    "노트북 이름 바꾸기\n",
    "노트북 파일 위치 확인\n",
    "코드 입력하고 실행하기 (Shift + Enter)\n"
   ]
  },
  {
   "cell_type": "markdown",
   "metadata": {},
   "source": [
    "# Google Drive: 업로드, 다운로드\n"
   ]
  },
  {
   "cell_type": "markdown",
   "metadata": {
    "id": "YmNWtCdX1Hak",
    "tags": []
   },
   "source": [
    "## API 파일 업로드, 다운로드\n",
    "\n",
    "Google Colab 화면 왼쪽을  펼치면,  [목차] [코드 스니펫] 이 나오고 코드 스니펫에서 옮겨옴\n",
    "\n",
    "![](https://i.imgur.com/E2wjgvZ.png)"
   ]
  },
  {
   "cell_type": "markdown",
   "metadata": {
    "id": "hb7drp6y132O"
   },
   "source": []
  },
  {
   "cell_type": "code",
   "execution_count": null,
   "metadata": {
    "id": "rnB9X2Mi16SM"
   },
   "outputs": [],
   "source": [
    "# cat.jpg 다운로드\n",
    "from google.colab import files\n",
    "\n",
    "files.download('cat.jpg')"
   ]
  },
  {
   "cell_type": "markdown",
   "metadata": {
    "id": "YX0V7o4g19HF"
   },
   "source": [
    "업로드는 아래와 같이 한다. (이 코드는 Colab의 [코스 스니펫]에 있다)"
   ]
  },
  {
   "cell_type": "code",
   "execution_count": null,
   "metadata": {
    "id": "gTdah_0f1-Oo"
   },
   "outputs": [],
   "source": [
    "from google.colab import files\n",
    "\n",
    "uploaded = files.upload()\n",
    "\n",
    "for fn in uploaded.keys():\n",
    "  print('User uploaded file \"{name}\" with length {length} bytes'.format(\n",
    "      name=fn, length=len(uploaded[fn])))"
   ]
  },
  {
   "cell_type": "markdown",
   "metadata": {
    "id": "k9OqMIxj2CMD"
   },
   "source": [
    "## 구글 Drive와 연결(mount)하기\n",
    "\n",
    "파일 탐색기에서 구글 드라이브 선택하면 아래 같이 코드가 추가된다.\n",
    "\n",
    "<img src='https://i.imgur.com/fV3b5K4.png'>\n",
    "\n",
    "```python\n",
    "from google.colab import drive\n",
    "drive.mount('/content/drive')\n",
    "```"
   ]
  },
  {
   "cell_type": "code",
   "execution_count": null,
   "metadata": {
    "id": "0fp7z9pu2BF2"
   },
   "outputs": [],
   "source": [
    "from google.colab import drive\n",
    "drive.mount('/gdrive')"
   ]
  },
  {
   "cell_type": "markdown",
   "metadata": {
    "id": "1fZ-qZwLRSWa"
   },
   "source": [
    "마운트한 구글드라이드 `drive` 폴더는 `drive/MyDrive/` 로 접근한다."
   ]
  },
  {
   "cell_type": "code",
   "execution_count": 7,
   "metadata": {
    "colab": {
     "base_uri": "https://localhost:8080/"
    },
    "id": "MTIXyb8t2Gke",
    "outputId": "ac0415f8-6ec5-4fc4-dfc4-aded6aa531f2"
   },
   "outputs": [
    {
     "name": "stdout",
     "output_type": "stream",
     "text": [
      "Hello Google Drive!"
     ]
    }
   ],
   "source": [
    "with open('drive/MyDrive/datasets/foo.txt', 'w') as f:\n",
    "  f.write('Hello Google Drive!')\n",
    "  \n",
    "!cat \"drive/MyDrive/datasets/foo.txt\""
   ]
  },
  {
   "cell_type": "markdown",
   "metadata": {
    "id": "VM_SH-1ym6ZA"
   },
   "source": [
    "# FinanceDataReader 설치와 활용\n",
    "오픈소스 금융 데이터 크롤링 라이브러리 (한국 주식 가격, 미국주식 가격, 지수, 환율, 종목 리스팅 등) \n",
    "* [소스코드 (github)](https://github.com/FinanceData/FinanceDataReader) \n",
    "* [사용자 안내서](https://github.com/FinanceData/FinanceDataReader/wiki/Users-Guide)\n"
   ]
  },
  {
   "cell_type": "code",
   "execution_count": null,
   "metadata": {
    "id": "FXZSGr5Pm5fs"
   },
   "outputs": [],
   "source": [
    "# 설치\n",
    "! pip install finance-datareader "
   ]
  },
  {
   "cell_type": "code",
   "execution_count": null,
   "metadata": {
    "id": "39JBY-vdnMht"
   },
   "outputs": [],
   "source": [
    "import FinanceDataReader as fdr\n",
    "\n",
    "# 셀트리온, 2017년~현재 종가 차트\n",
    "df = fdr.DataReader('068270', '2017')\n",
    "df['Close'].plot(figsize=(16,6))"
   ]
  },
  {
   "cell_type": "markdown",
   "metadata": {
    "id": "GKrMJc4vIekh"
   },
   "source": [
    "# 케라스 MNIST(손글씨 인식)\n",
    "\n",
    "https://elitedatascience.com/keras-tutorial-deep-learning-in-python"
   ]
  },
  {
   "cell_type": "code",
   "execution_count": null,
   "metadata": {
    "id": "PNrNBrQ0uJYc"
   },
   "outputs": [],
   "source": [
    "from tensorflow.keras.models import Sequential\n",
    "from tensorflow.keras.layers import Dense, Dropout, Activation, Flatten\n",
    "from tensorflow.keras.layers import Convolution2D, MaxPooling2D\n",
    "from tensorflow.keras.datasets import mnist\n",
    "from tensorflow.keras.utils import to_categorical\n",
    "\n",
    "import matplotlib.pyplot as plt\n",
    "from datetime import  datetime\n",
    "\n",
    "(X_train, y_train), (X_test, y_test) = mnist.load_data()\n",
    "\n",
    "print(\"X_train shape\", X_train.shape)\n",
    "print(\"y_train shape\", y_train.shape)"
   ]
  },
  {
   "cell_type": "code",
   "execution_count": null,
   "metadata": {
    "id": "pmddnJc1_d4G"
   },
   "outputs": [],
   "source": [
    "\n",
    "for i in range(9):\n",
    "    plt.subplot(3,3,i+1)\n",
    "    plt.imshow(X_train[i], cmap='gray', interpolation='none')\n",
    "    plt.title(\"Class {}\".format(y_train[i]))"
   ]
  },
  {
   "cell_type": "code",
   "execution_count": null,
   "metadata": {
    "id": "TzC9WhFHLIl3"
   },
   "outputs": [],
   "source": [
    "X_train = X_train.reshape(X_train.shape[0], 1, 28, 28)\n",
    "X_test = X_test.reshape(X_test.shape[0], 1, 28, 28)\n",
    "X_train = X_train.astype('float32')\n",
    "X_test = X_test.astype('float32')\n",
    "X_train /= 255\n",
    "X_test /= 255\n",
    " \n",
    "Y_train = to_categorical(y_train, 10)\n",
    "Y_test = to_categorical(y_test, 10)\n",
    " \n",
    "model = Sequential()\n",
    "model.add(Convolution2D(32, (3, 3), activation='relu', \n",
    "                        input_shape=(1,28,28), \n",
    "                        data_format='channels_first'))\n",
    "model.add(Convolution2D(32, (3, 3), activation='relu'))\n",
    "model.add(MaxPooling2D(pool_size=(2,2)))\n",
    "model.add(Dropout(0.25))\n",
    " \n",
    "model.add(Flatten())\n",
    "model.add(Dense(128, activation='relu'))\n",
    "model.add(Dropout(0.5))\n",
    "model.add(Dense(10, activation='softmax'))\n",
    " \n",
    "model.compile(loss='categorical_crossentropy',\n",
    "              optimizer='adam',\n",
    "              metrics=['accuracy'])\n",
    " \n",
    "start = datetime.now()\n",
    "model.fit(X_train, Y_train, \n",
    "          batch_size=32, epochs=10, verbose=1)\n",
    "\n",
    "print('Elapsed time :', datetime.now() - start)"
   ]
  },
  {
   "cell_type": "code",
   "execution_count": null,
   "metadata": {
    "id": "N9sMJI8NNEWt"
   },
   "outputs": [],
   "source": [
    "score = model.evaluate(X_test, Y_test, verbose=0)\n",
    "\n",
    "print('Test score:', score[0])\n",
    "print('Test accuracy:', score[1])"
   ]
  },
  {
   "cell_type": "markdown",
   "metadata": {
    "id": "tXhGQFI-NuPn"
   },
   "source": [
    "# 구글 Colab 요약\n",
    "\n",
    "* 사양: 30G 저장공간, 2.3GHz CPU, 13G 메모리 (우분투 18.04)\n",
    "- 무료 제공시 사용량 한도를 동적으로 변경\n",
    "    - ex) 어제 GPU 할당량 다 사용시, 다음에 동적으로 용량이 제한\n",
    "* Tensorflow, SciKit learn 등 다양한 라이브러리 기본 설치 + GPU 지원\n",
    "* CNN 예제 GPU 미사용시 46분 57초, GPU사용시 3분 42초 소요 (10배 이상 빠르다) \n",
    "* 필요한 패키지 추가 설치 가능 (pip)\n",
    "* 구글 드라이브의 공유와 동시 편집기능은 협업에 매우 유용\n",
    "* Colab pro 경험: https://aigong.tistory.com/444"
   ]
  },
  {
   "cell_type": "markdown",
   "metadata": {
    "id": "B-vGPr5kNuR6"
   },
   "source": [
    "\n",
    "---\n"
   ]
  }
 ],
 "metadata": {
  "accelerator": "GPU",
  "colab": {
   "collapsed_sections": [],
   "name": "0-google-colab.ipynb",
   "provenance": []
  },
  "kernelspec": {
   "display_name": "Python 3 (ipykernel)",
   "language": "python",
   "name": "python3"
  },
  "language_info": {
   "codemirror_mode": {
    "name": "ipython",
    "version": 3
   },
   "file_extension": ".py",
   "mimetype": "text/x-python",
   "name": "python",
   "nbconvert_exporter": "python",
   "pygments_lexer": "ipython3",
   "version": "3.10.6"
  }
 },
 "nbformat": 4,
 "nbformat_minor": 4
}
