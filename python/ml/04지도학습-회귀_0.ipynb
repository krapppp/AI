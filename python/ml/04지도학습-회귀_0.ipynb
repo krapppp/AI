{
 "cells": [
  {
   "cell_type": "markdown",
   "id": "bc4c7d4f",
   "metadata": {},
   "source": [
    "`04지도학습_회귀_.pdf`\n"
   ]
  },
  {
   "cell_type": "markdown",
   "id": "a8ba3110",
   "metadata": {},
   "source": [
    "# 1. 지도학습 (Supervised Learning)\n",
    "\n",
    "지도학습 (Supervised Learning) 은 학습 데이터를 이용해 해석용 모델을 만들고 그것을 바탕으로 새로운 데이터를 추정(predict)하는 것이다. \n",
    " - 보통 분류Classifiction, 회귀Regression 및 신경망을 활용한다.\n",
    " - 특징을 가진 데이터와 정답(목적)을  나타내는 데이터를 선정해 학습\n",
    " - 이미 알려진 사례로 일반화된 모델을 만들어 의사 결정 프로세스를 자동화하는 것\n",
    "\n"
   ]
  },
  {
   "cell_type": "markdown",
   "id": "07ba3318",
   "metadata": {},
   "source": [
    "### 데이터\n",
    "지도학습 모델을 훈련하기 위해서 Label(target)을 사용한다.\n",
    "\n",
    "- 학습용 데이터 (Training Set)목적\n",
    "  - 모델이 패턴을 학습하고 예측 규칙을 만드는 데 사용되는 데이터.\n",
    "  - 인공지능 모델은 학습용 데이터를 통해 입력과 출력 간의 관계 학습. \n",
    "  - 예) 고양이, 개인지 분류 모델은 고양이/개 이미지와 레이블(고양이/개)을 학습하여 이미지의 특징을 보고 분류하는 방법을 익힌다.\n",
    "\n",
    "- 테스트용 데이터 (Test Set)목적\n",
    "  - 학습된 모델이 이전에 본 적 없는 새로운 데이터에 대해 얼마나 잘 작동하는지, 즉 일반화 성능을 평가하기 위해 사용되는 데이터입니다.\n",
    "  - 모델 성능 평가: 학습이 완료된 모델은 테스트용 데이터를 사용하여 예측을 수행하고, 이 예측이 실제 레이블과 얼마나 일치하는지 비교하여 정확도(Accuracy), 정밀도(Precision), 재현율(Recall), F1-점수(F1-score) 등의 지표로 성능을 평가합니다."
   ]
  },
  {
   "cell_type": "markdown",
   "id": "ccbb3840",
   "metadata": {},
   "source": [
    "### 주요 지도학습 알고리즘과 분류 및 회귀 문제 여부\n",
    "\n",
    "주요 지도학습 알고리즘\n"
   ]
  },
  {
   "cell_type": "markdown",
   "id": "05e5acf7",
   "metadata": {},
   "source": [
    "<img src='https://i.imgur.com/E7HrgBu.jpeg' width=500>"
   ]
  },
  {
   "cell_type": "code",
   "execution_count": 1,
   "id": "b2fb4c0e",
   "metadata": {},
   "outputs": [
    {
     "data": {
      "text/plain": [
       "'2.3.1'"
      ]
     },
     "execution_count": 1,
     "metadata": {},
     "output_type": "execute_result"
    }
   ],
   "source": [
    "# NumPy 1.19x, 1.21 에서 테스트, 2021/10\n",
    "import numpy as np\n",
    "import pandas as pd\n",
    "\n",
    "np.__version__"
   ]
  },
  {
   "cell_type": "code",
   "execution_count": 19,
   "id": "42c105c5",
   "metadata": {},
   "outputs": [
    {
     "data": {
      "text/plain": [
       "Text(0.5, 1.0, '한글 타이틀...')"
      ]
     },
     "execution_count": 19,
     "metadata": {},
     "output_type": "execute_result"
    }
   ],
   "source": [
    "import matplotlib.pyplot as plt\n",
    "# import matplotlib.pylab as plt\n",
    "import matplotlib.font_manager as fm\n",
    "%matplotlib inline\n",
    "\n",
    "plt.rcParams['font.family'] = 'Malgun Gothic'\n",
    "# plt.rcParams['font.family'] = 'AppleGothic'  # Mac (AppleGothic 또는 AppleSDGothicNeo)\n",
    "# plt.rcParams['font.family'] = 'NanumGothic' # Linux (NanumGothic 또는 다른 설치된 한글 폰트)\n",
    "\n",
    "# plt.rcParams['axes.unicode_minus'] = False #glypy 8722: Axes에 - 표시 안되는 것\n",
    "plt.title('한글 타이틀...')"
   ]
  },
  {
   "cell_type": "markdown",
   "id": "abe42ba3",
   "metadata": {},
   "source": [
    "# 2. 회귀 개념 알아보기\n",
    "\n",
    "**회귀 분석(Regression analysis)** 이란\n",
    "\n",
    "- 데이터를 **가장 잘 설명하는 모델**을 찾아 입력값에 따른 미래 결과값을 예측하는 알고리즘\n",
    "  - 관찰된 연속형 변수들에 대해 두 변수 사이의 모형을 구한뒤 적합도를 측정해 내는 분석 방법 (위키백과)\n",
    "\n"
   ]
  },
  {
   "cell_type": "markdown",
   "id": "90e9dfaf",
   "metadata": {},
   "source": [
    "- `예) 평균 기온에 따른 아이스크림 판매량`\n",
    "  - $X$ : 평균 기온, $y$ : 아이스크림 판매량 (데이터)\n",
    "  - $y = \\beta_0 + \\beta_1 X$ (가정)\n",
    "    - 이 직선이 곧 데이터를 가장 잘 설명(= 실제에 근사)하는 모델 \n",
    "    - 각 데이터의 실제 값과 모델이 예측하는 값의 차이를 최소한으로 하는 선을 찾자.\n",
    "      - 즉, 적절한 $\\beta_0$ 와 $\\beta_1$ 을 찾으면 된다.\n"
   ]
  },
  {
   "cell_type": "markdown",
   "id": "37732c20",
   "metadata": {},
   "source": [
    "### 머신러닝 모델의 손실 함수 (Loss Function)\n",
    "\n",
    "손실 함수는 머신러닝 모델의 예측값과 실제 정답(참값) 사이의 차이를 정량적으로 측정하는 함수입니다. 즉, \"우리 모델이 얼마나 틀렸는가?\"를 수치화하여 알려주는 지표입니다. 이 손실 함수의 값이 작을수록 모델의 예측이 정답에 가깝고, 모델의 성능이 좋다고 판단합니다.\n",
    "\n",
    "손실함수는 회귀 문제, 분류 문제에 따라 종류가 달라진다."
   ]
  },
  {
   "cell_type": "markdown",
   "id": "c4ee283f",
   "metadata": {},
   "source": [
    "- 예) 손실함수 평균제곱의 합\n",
    "  - 실제 값과 예측 값 차이의 제곱의 합\n",
    "  - $\\text{MSE} = \\frac{1}{n} \\sum_{i=1}^{n} (y_i - \\hat{y_i})^2$\n",
    "    - 손실이 작을수록 좋은 모델이다.\n",
    "\n"
   ]
  },
  {
   "cell_type": "markdown",
   "id": "03db5009",
   "metadata": {},
   "source": [
    "#### 회귀문제 손실함수\n",
    "\n",
    "1. 평균제곱오차 Mean Squared Error, MSE\n",
    "\n",
    "예측값과 실제 값의 차이를 제곱해서 평균을 낸 값으로 오차가 클수록 더 큰 패널티를 부여한다. 단, 이상치에 민감하다는 단점이 있다.\n",
    "\n",
    "$$\n",
    "\\text{MSE} = \\frac{1}{n} \\sum_{i=1}^{n} (y_i - \\hat{y_i})^2\n",
    "$$"
   ]
  },
  {
   "cell_type": "markdown",
   "id": "28c85b43",
   "metadata": {},
   "source": [
    "2. 평균절대오차 Mean Absolute Error, MAE\n",
    "\n",
    "예측값과 실제 값의 차이의 절대값을 평균한 값으로 MSE 보다 이상치에 덜 민감하다.\n",
    "\n",
    "$$\n",
    "\\text{MAE} = \\frac{1}{n} \\sum_{i=1}^{n} |y_i - \\hat{y_i}|\n",
    "$$"
   ]
  },
  {
   "cell_type": "markdown",
   "id": "ae460564",
   "metadata": {},
   "source": [
    "#### 분류 (Classification)의 손실함수:\n",
    "\n",
    " - 교차 엔트로피 (Cross-Entropy): 주로 분류 문제에서 사용되며, 예측된 확률 분포와 실제 정답 분포 간의 차이를 측정합니다. 모델이 특정 클래스에 속할 확률을 얼마나 정확하게 예측했는지를 나타냅니다.\n",
    " - 이진 교차 엔트로피 (Binary Cross-Entropy): 이진 분류 (예: 스팸/정상)에 사용됩니다.\n",
    " - 범주형 교차 엔트로피 (Categorical Cross-Entropy): 다중 클래스 분류 (예: 개/고양이/새)에 사용됩니다."
   ]
  },
  {
   "cell_type": "markdown",
   "id": "9bf005d9",
   "metadata": {},
   "source": [
    "### 손실함수 최적화 하기\n",
    "\n",
    "손실 함수의 값을 최소화하는 모델의 파라미터(가중치, 편향 등)를 찾아가는 최적화 알고리즘을 사용한다.\n",
    "\n",
    "- ![image](https://user-images.githubusercontent.com/61646760/140517279-bd8734c9-c3e0-46d7-9a62-c175adc4778f.png)\n",
    "    - ![image](https://user-images.githubusercontent.com/61646760/140517368-aad92e73-10c4-41bf-9571-7f88b6b77afd.png) (arguments of minimum) : 함수 ![image](https://user-images.githubusercontent.com/61646760/140516833-752063c9-6072-4a16-81d8-9d0c50d3d555.png)를 최솟값으로 만드는 정의역(![image](https://user-images.githubusercontent.com/61646760/140516872-37a9d24e-4c30-4fb0-ad9e-182726014faa.png))의 값\n",
    " - ![image](https://user-images.githubusercontent.com/61646760/140510991-70ef4523-52e2-4360-87eb-093d55107db8.png) (y 절편), ![image](https://user-images.githubusercontent.com/61646760/140511012-753ddb9d-d758-4522-9853-280250a50d2a.png) (기울기) 값을 조절하여 Loss 함수의 크기를 작게 할 수 있다.\n",
    "\n",
    " - Loss 함수의 크기를 작게 하는 ![image](https://user-images.githubusercontent.com/61646760/140510991-70ef4523-52e2-4360-87eb-093d55107db8.png) (y 절편), ![image](https://user-images.githubusercontent.com/61646760/140511012-753ddb9d-d758-4522-9853-280250a50d2a.png) (기울기)를 찾는 방법\n",
    "      1. **Gradient descent (경사 하강법)**\n",
    "      2. **Normal equation (least squres)**\n",
    "\n"
   ]
  },
  {
   "cell_type": "markdown",
   "id": "2bec1bc8",
   "metadata": {},
   "source": [
    "# 3. 단순 선형 회귀\n"
   ]
  },
  {
   "cell_type": "markdown",
   "id": "431003e4",
   "metadata": {},
   "source": [
    "**단순 선형 회귀(Simple Linear Regression)**\n",
    "\n",
    "- 데이터를 설명하는 모델을 직선 형태로 가정\n",
    "  - $ y = \\beta_0 + \\beta_1x$\n",
    "  - 직선을 구성하는 $\\beta_0$ 절편 과 기울기 $\\beta_1$ 를 구해야 한다. \n",
    "- 특징\n",
    "  - 가장 기초적이나 여전히 많이 사용되는 알고리즘\n",
    "  - 입력값이 1개인 경우에만 적용이 가능함\n",
    "  - 입력값과 결과값의 관계를 알아보는 데 용이함\n",
    "  - 입력값이 결과값에 얼마나 영향을 미치는지 알 수 있음\n",
    "  - 두 변수 간의 관계를 직관적으로 해석하고자 하는 경우 활용\n",
    "\n"
   ]
  },
  {
   "cell_type": "markdown",
   "id": "e3de7efe",
   "metadata": {},
   "source": [
    "<img src='https://user-images.githubusercontent.com/61646760/140540230-183b469c-3d54-4fdb-9ff0-5021a7cf0fc0.png' width=700>"
   ]
  },
  {
   "cell_type": "markdown",
   "id": "2e3c6985",
   "metadata": {},
   "source": [
    "선형 회귀 모델을 푼다는 것은 최적의 선형 방정식을 찾는 것이다. \n",
    " - 가장 흔히 사용되는 방법이 바로 **최소제곱법(Ordinary Least Squares, OLS)** 이다.\n",
    " - OLS 과정에서 모델의 \"오차\"를 측정하는 지표로 **평균 제곱 오차(Mean Squared Error, MSE)** 가 사용된다."
   ]
  },
  {
   "cell_type": "markdown",
   "id": "8018e431",
   "metadata": {},
   "source": [
    "### 단순 선형 회귀 손실함수\n",
    "\n",
    "- 평균제곱오차 MSE\n",
    "- 평균절대오차 MAE"
   ]
  },
  {
   "cell_type": "markdown",
   "id": "7e465546",
   "metadata": {},
   "source": [
    "1. 평균제곱오차 Mean Squared Error, MSE\n",
    "\n",
    "    예측값과 실제 값의 차이를 제곱해서 평균을 낸 값으로 오차가 클수록 더 큰 패널티를 부여한다. 단, 이상치에 민감하다는 단점이 있다.\n",
    "\n",
    "$$\n",
    "\\text{MSE} = \\frac{1}{n} \\sum_{i=1}^{n} (y_i - \\hat{y_i})^2\n",
    "$$"
   ]
  },
  {
   "cell_type": "markdown",
   "id": "34b2009e",
   "metadata": {},
   "source": [
    "2. 평균절대오차 Mean Absolute Error, MAE\n",
    "\n",
    "    예측값과 실제 값의 차이의 절대값을 평균한 값으로 MSE 보다 이상치에 덜 민감하다.\n",
    "\n",
    "$$\n",
    "\\text{MAE} = \\frac{1}{n} \\sum_{i=1}^{n} |y_i - \\hat{y_i}|\n",
    "$$"
   ]
  },
  {
   "cell_type": "markdown",
   "id": "d54f41fb",
   "metadata": {},
   "source": [
    "### 단순 선형 회귀 모델의 경사 하강법\n",
    "\n",
    "\n",
    "- 경사하강법(Gradient descent)\n",
    "   - 경사 하강법은 계산 한번으로 $\\beta_0, \\beta_1$을 구하는 것이 아니라 초기값에서 점진적으로 구하는 방식\n",
    "   -  $\\beta_0, \\beta_1$ 값을 Loss 함수 값이 작아지게 계속 업데이트하는 방법\n",
    "      1.  $\\beta_0, \\beta_1$ 값을 랜덤하게 초기화\n",
    "      2. 현재  $\\beta_0, \\beta_1$ 값으로 Loss 값 계산\n",
    "      3. 현재  $\\beta_0, \\beta_1$ 값을 어떻게 변화해야 Loss 값을 줄일 수 있는지 알 수 있는 **Gradient 값** 계산\n",
    "      4. Gradient 값을 활용하여  $\\beta_0, \\beta_1$ 값 업데이트\n",
    "      5. Loss 값의 차이가 거의 없어질 때까지 2~4번 과정을 반복 (Loss 값과 차이가 줄어들면 Gradient 값도 작아짐) \n"
   ]
  },
  {
   "cell_type": "markdown",
   "id": "5652d6e4",
   "metadata": {},
   "source": [
    "경사하강법은 모델의 오차를 점진적으로 줄여가는 방법이다\n",
    "\n",
    "<img src='https://i.imgur.com/lYTSGrk.png' width=700>"
   ]
  },
  {
   "cell_type": "markdown",
   "id": "b15744a8",
   "metadata": {},
   "source": [
    "### Scikit-learn 선형회귀 분석\n",
    "\n",
    "scikit-learn의 LinearRegression 으로 분석해 보자. 사이킷런의 linear_models 에서 선형 회귀를 구현한 LinearRegerssion 을 이용해 예측 회귀를 구현해 보자,\n",
    "- 사이킷런의 다양한 선형모델 [linear_models](https://scikit-learn.org/stable/modules/linear_model.html)을 참조.\n",
    "\n",
    "LinearRegression은 예측값과 실제값의 RSS를 최소화해 OLS(Ordianry Least Squares) 추정 방식으로 구현한 클래스이다.\n",
    "\n",
    "> OLS 기반 회귀 계수 계산은 입력 피처의 독립성에 많은 영향을 받는다. 피처 간의 상관관계가 매우 높은 경우 분산이 커져 오류에 매우 민감한다. 이런 현상을 다중 공선성(multi-collinearity) 문제라고 한다. 일반적으로 상관관계가 높은 피처가 많은 경우 독립적인 중요한 피처만 남기고 제거하거나 규제를 적용한다. 매우 많은 피처가 다중공선성 문제를 가지고 있다면 PCA를 통해서 차원 축소를 수행하는 것도 고려할 수 있다.\n"
   ]
  },
  {
   "cell_type": "markdown",
   "id": "ae9606a2",
   "metadata": {},
   "source": [
    "`linear_model.LinearRegression()`\n",
    "\n",
    "\n",
    "LinearRegression 원형이다.\n",
    "\n",
    "```python\n",
    "class sklearn.linear_model.LinearRegression(\n",
    "    fit_intercept=True,\n",
    "    normalize=False,\n",
    "    copy_X=True,\n",
    "    n_jobs=None)\n",
    "```\n",
    "\n",
    "다음 같은 입력 파라미터가 주로 쓰인다:\n",
    "\n",
    "- fit_intercept: 기본 True. 절편(Intercept)를 계산할지 말지 여부로 상수항이 없으면 False\n",
    "- normalize: 기본 False. fit_intercpet=False 인 경우 무시된다. 만약 True면 회귀를 수행전에 입력 데이터 세트를 정규화 한다.\n"
   ]
  },
  {
   "cell_type": "markdown",
   "id": "b35514fd",
   "metadata": {},
   "source": [
    " - https://scikit-learn.org/stable/modules/generated/sklearn.linear_model.LinearRegression.html#sklearn.linear_model.LinearRegression"
   ]
  },
  {
   "cell_type": "markdown",
   "id": "cd85b617",
   "metadata": {},
   "source": [
    "#### - 예제 샘플 데이터\n",
    "\n",
    "샘플 데이터를 사용한다.\n",
    " - `make_regression()` : sklearn.datasets 패키지는 다양한 연습 데이터를 제공하며 회귀와 분류 모델을 테스트하기 위한 가상 데이터를 생성하는 다양한 함수를 제공"
   ]
  },
  {
   "cell_type": "code",
   "execution_count": 20,
   "id": "f1363189",
   "metadata": {},
   "outputs": [],
   "source": [
    "from sklearn.datasets import make_regression"
   ]
  },
  {
   "cell_type": "code",
   "execution_count": null,
   "id": "f277eb4e",
   "metadata": {},
   "outputs": [],
   "source": [
    "# make_regression\n"
   ]
  },
  {
   "cell_type": "code",
   "execution_count": null,
   "id": "37fa1fd2",
   "metadata": {},
   "outputs": [
    {
     "name": "stdout",
     "output_type": "stream",
     "text": [
      "bias: 100\n",
      "y: [ 91.93982496 104.5737146  115.90171564  84.84487454  44.88407315]\n",
      "w: 54.6510981564684\n"
     ]
    }
   ],
   "source": [
    "# 샘플수 200개에 편향 100으로 회귀용 샘플 생성\n",
    "\n",
    "\n",
    "\n",
    "\n",
    "\n",
    "\n",
    "\n",
    "\n",
    "\n",
    "print(\"bias:\", bias)\n",
    "print(\"y:\", y[:5])\n",
    "print(\"w:\",  w )"
   ]
  },
  {
   "cell_type": "code",
   "execution_count": 28,
   "id": "2d22cb15",
   "metadata": {},
   "outputs": [
    {
     "name": "stdout",
     "output_type": "stream",
     "text": [
      "bias: 100\n",
      "y: [ 91.93982496 104.5737146  115.90171564  84.84487454  44.88407315]\n",
      "w: 54.6510981564684\n"
     ]
    }
   ],
   "source": [
    "bias=100\n",
    "X0,y,w=make_regression(\n",
    "    n_samples=200, # 데이터(row,record)\n",
    "    n_features=1, # 입력\n",
    "    bias=bias, # 편향\n",
    "    noise=10, # 편차\n",
    "    coef=True, # 계수\n",
    "    random_state=50\n",
    ")\n",
    "\n",
    "print(\"bias:\", bias)\n",
    "print(\"y:\", y[:5])\n",
    "print(\"w:\",  w )"
   ]
  },
  {
   "cell_type": "code",
   "execution_count": 29,
   "id": "13b55cb3",
   "metadata": {},
   "outputs": [
    {
     "data": {
      "image/png": "[encoded data removed]",
      "text/plain": [
       "<Figure size 400x300 with 1 Axes>"
      ]
     },
     "metadata": {},
     "output_type": "display_data"
    }
   ],
   "source": [
    "plt.figure(figsize=(4,3))\n",
    "\n",
    "plt.plot(X0,y,'o',label='회귀데이터')\n",
    "plt.legend()\n",
    "plt.show()"
   ]
  },
  {
   "cell_type": "markdown",
   "id": "3ad392da",
   "metadata": {},
   "source": [
    "make_regression() 식은 편향, 독립변수, 종속변수 및 회귀계수를 반환한다.\n",
    " - 결과가 w 54.64, bias 100 이라면 아래 관계를 갖는다.\n",
    "\n",
    "$$\n",
    "y = 100 + 54.64 x + \\epsilon\n",
    "$$\n"
   ]
  },
  {
   "cell_type": "code",
   "execution_count": 25,
   "id": "3d491699",
   "metadata": {},
   "outputs": [
    {
     "data": {
      "text/plain": [
       "((200, 1), (200,))"
      ]
     },
     "execution_count": 25,
     "metadata": {},
     "output_type": "execute_result"
    }
   ],
   "source": [
    "X0.shape, y.shape"
   ]
  },
  {
   "cell_type": "code",
   "execution_count": 26,
   "id": "e38f054f",
   "metadata": {},
   "outputs": [
    {
     "data": {
      "text/plain": [
       "(array([[-0.13664932],\n",
       "        [-0.14976664],\n",
       "        [ 0.00159174],\n",
       "        [-0.07679857],\n",
       "        [-0.8897683 ]]),\n",
       " array([ 91.93982496, 104.5737146 , 115.90171564,  84.84487454,\n",
       "         44.88407315]))"
      ]
     },
     "execution_count": 26,
     "metadata": {},
     "output_type": "execute_result"
    }
   ],
   "source": [
    "X0[:5], y[:5]"
   ]
  },
  {
   "cell_type": "markdown",
   "id": "9ad20ed8",
   "metadata": {},
   "source": [
    "***코드진행***\n",
    "\n",
    "Estimater 를 통해 학습 모델(알고리즘)을 생성하고 fit(), predict() 로 학습을 진행한다.\n",
    "\n",
    "```python\n",
    "classifier = LinearRegression()\n",
    "model = classifier.fit(X,y)\n",
    "```\n",
    "\n",
    "회귀분석을 하고 나면 Classifier의 model 객체는 다음과 같은 속성을 가지게 된다. \n",
    "\n",
    " - `model.coef_` : 추정된 기울기(가중치) 벡터\n",
    " - `model.intercept_`: 추정된 상수항(절편) 값.\n",
    "\n",
    "\n",
    "모델에 입력 데이터로 결과를 예측/분류한다.\n",
    "\n",
    "```python\n",
    "y_new = model.predcit(x_new)\n",
    "```"
   ]
  },
  {
   "cell_type": "markdown",
   "id": "8f9fdff9",
   "metadata": {},
   "source": [
    "\n",
    "바로 위에서 전 처리한 데이터를 `LinearRegression` 모델에 입력하여 학습을 수행해 보자.\n",
    "\n",
    "- LinearRegression (sklearn) 사용법\n",
    "  1. `LinearRegression`을 사용하기 위해서는 우선 해당 모델 객체를 불러와 초기화해야 한다.\n",
    "      - `lrmodel = LinearRegression()`\n",
    "  2. 모델 초기화를 수행했다면 전 처리된 데이터를 사용하여 학습을 수행할 수 있다. 아래 코드와 같이 `fit` 함수에 학습에 필요한 데이터를 입력하여 학습을 수행한다.\n",
    "      - `lrmodel.fit(train_X, train_Y)`\n",
    "  3. LinearRegression의 $\\beta_0$, $\\beta_1$ 값을 구하기 위해서는 아래 코드를 사용하면 된다.\n",
    "      ```\n",
    "      beta_0 = lrmodel.intercept_\n",
    "      beta_1 = lrmodel.coef_[0]\n",
    "      ```\n"
   ]
  },
  {
   "cell_type": "code",
   "execution_count": null,
   "id": "b66280a6",
   "metadata": {},
   "outputs": [
    {
     "name": "stdout",
     "output_type": "stream",
     "text": [
      "[54.48664769] 100.01474440528112\n"
     ]
    }
   ],
   "source": [
    "# LinearRegression\n"
   ]
  },
  {
   "cell_type": "code",
   "execution_count": 30,
   "id": "94436f11",
   "metadata": {},
   "outputs": [
    {
     "data": {
      "text/plain": [
       "sklearn.linear_model._base.LinearRegression"
      ]
     },
     "execution_count": 30,
     "metadata": {},
     "output_type": "execute_result"
    }
   ],
   "source": [
    "from sklearn.linear_model import LinearRegression\n",
    "\n",
    "li_clf=LinearRegression()\n",
    "model=li_clf.fit(X0,y)\n",
    "type(li_clf)"
   ]
  },
  {
   "cell_type": "code",
   "execution_count": 32,
   "id": "015b4bb7",
   "metadata": {},
   "outputs": [
    {
     "data": {
      "text/plain": [
       "(array([54.48664769]), np.float64(100.01474440528112))"
      ]
     },
     "execution_count": 32,
     "metadata": {},
     "output_type": "execute_result"
    }
   ],
   "source": [
    "model.coef_,model.intercept_"
   ]
  },
  {
   "cell_type": "markdown",
   "id": "8556d6a2",
   "metadata": {},
   "source": [
    "결과는 방정식을 이용해 y를 예측 한다는 것이다.\n",
    "\n",
    "$$\n",
    "\\hat{y} = 100.01474441 + 54.48664769 x\n",
    "$$\n"
   ]
  },
  {
   "cell_type": "code",
   "execution_count": null,
   "id": "2a604582",
   "metadata": {},
   "outputs": [
    {
     "data": {
      "image/png": "[encoded data removed]",
      "text/plain": [
       "<Figure size 500x400 with 1 Axes>"
      ]
     },
     "metadata": {},
     "output_type": "display_data"
    }
   ],
   "source": [
    "plt.figure(figsize=(5,4))\n",
    "# 회귀분석 결과를 시각화 한다.\n",
    "\n",
    "\n",
    "\n",
    "# 산점도를 그려 봅니다.\n",
    "\n",
    "\n",
    "\n",
    "# 회귀선 \n",
    "\n",
    "\n",
    "plt.title('선형 회귀분석의 예')\n",
    "plt.legend()\n",
    "plt.show()"
   ]
  },
  {
   "cell_type": "code",
   "execution_count": 44,
   "id": "db6d1b23",
   "metadata": {},
   "outputs": [
    {
     "data": {
      "image/png": "[encoded data removed]",
      "text/plain": [
       "<Figure size 500x400 with 1 Axes>"
      ]
     },
     "metadata": {},
     "output_type": "display_data"
    }
   ],
   "source": [
    "plt.figure(figsize=(5,4))\n",
    "pred_space=np.linspace(X0.min(),X0.max()).reshape(-1,1)\n",
    "pred_y=li_clf.predict(pred_space)\n",
    "\n",
    "# plt.plot(X0,y,'o',label='데이터 분포')\n",
    "plt.scatter(X0,y,label='데이터 분포')\n",
    "plt.plot(pred_space,pred_y,'r--',label='회귀선')\n",
    "\n",
    "plt.legend()\n",
    "plt.show()"
   ]
  },
  {
   "cell_type": "markdown",
   "id": "b7381d40",
   "metadata": {},
   "source": [
    "#### - 예측하기\n",
    "\n",
    "바로 위에서 학습한 모델을 바탕으로 예측 값을 구해 봅시다.\n",
    "- `predict()` : `LinearRegression`으로 예측을 할 때 사용하는 메서드. `predict` 함수는 DataFrame 또는 numpy array인 X 데이터에 대한 예측값을 리스트로 출력한다.\n",
    "  - `pred_X = lrmodel.predict(X)`\n",
    "\n"
   ]
  },
  {
   "cell_type": "markdown",
   "id": "35b027d8",
   "metadata": {},
   "source": [
    "이제 predict() 메서드로 새로운 $X_{new}$ 에 대응하는 y 값을 예측할 수 있다. \n",
    " - 모델이 학습한 데이터의 최소-최대 범위에서 새 데이터를 생성해 보자.\n",
    " - 차원이 있어야 하므로 2차원 데이터를 사용한다."
   ]
  },
  {
   "cell_type": "code",
   "execution_count": null,
   "id": "a4a1d23c",
   "metadata": {},
   "outputs": [
    {
     "data": {
      "text/plain": [
       "(np.float64(3.3140753455120797), np.float64(-3.809890377851563))"
      ]
     },
     "execution_count": 31,
     "metadata": {},
     "output_type": "execute_result"
    }
   ],
   "source": [
    "# X0의 min, max\n",
    "\n"
   ]
  },
  {
   "cell_type": "code",
   "execution_count": 45,
   "id": "5a5ae93f",
   "metadata": {},
   "outputs": [
    {
     "data": {
      "text/plain": [
       "(np.float64(-3.809890377851563), np.float64(3.3140753455120797))"
      ]
     },
     "execution_count": 45,
     "metadata": {},
     "output_type": "execute_result"
    }
   ],
   "source": [
    "X0.min(),X0.max()"
   ]
  },
  {
   "cell_type": "code",
   "execution_count": null,
   "id": "12df8d3d",
   "metadata": {},
   "outputs": [
    {
     "data": {
      "text/plain": [
       "array([263.47468746])"
      ]
     },
     "execution_count": 32,
     "metadata": {},
     "output_type": "execute_result"
    }
   ],
   "source": [
    "# 새 데이터 [3.0] 의 예측\n",
    "\n"
   ]
  },
  {
   "cell_type": "code",
   "execution_count": 46,
   "id": "e97098a7",
   "metadata": {},
   "outputs": [
    {
     "data": {
      "text/plain": [
       "array([263.47468746])"
      ]
     },
     "execution_count": 46,
     "metadata": {},
     "output_type": "execute_result"
    }
   ],
   "source": [
    "pred_new=li_clf.predict(np.array([[3.0]]))\n",
    "pred_new"
   ]
  },
  {
   "cell_type": "code",
   "execution_count": null,
   "id": "0b57955a",
   "metadata": {},
   "outputs": [
    {
     "data": {
      "image/png": "[encoded data removed]",
      "text/plain": [
       "<Figure size 500x400 with 1 Axes>"
      ]
     },
     "metadata": {},
     "output_type": "display_data"
    }
   ],
   "source": [
    "plt.figure(figsize=(5,4))\n",
    "# 새로 예측한 결과를 시각화 한다.\n",
    "\n",
    "\n",
    "\n",
    "\n",
    "# 산점도를 그려 봅니다.\n",
    "\n",
    "\n",
    "# 새로 예측한 결과\n",
    "\n",
    "\n",
    "# 회귀선 \n",
    "plt.plot(pred_space , y_pred, 'r-', label='회귀분석결과')\n",
    "plt.title('선형 회귀분석의 예')\n",
    "plt.legend()\n",
    "plt.show()"
   ]
  },
  {
   "cell_type": "code",
   "execution_count": 56,
   "id": "22e98dda",
   "metadata": {},
   "outputs": [
    {
     "data": {
      "image/png": "[encoded data removed]",
      "text/plain": [
       "<Figure size 500x400 with 1 Axes>"
      ]
     },
     "metadata": {},
     "output_type": "display_data"
    }
   ],
   "source": [
    "plt.figure(figsize=(5,4))\n",
    "pred_space=np.linspace(X0.min(),X0.max()).reshape(-1,1)\n",
    "pred_y=li_clf.predict(pred_space)\n",
    "\n",
    "# plt.plot(X0,y,'o',label='데이터 분포')\n",
    "plt.scatter(X0,y,label='데이터 분포')\n",
    "plt.plot(pred_space,pred_y,'r--',label='회귀선')\n",
    "plt.scatter([3.9],pred_new,c='lightgreen',label='새로운 예측')\n",
    "\n",
    "plt.legend()\n",
    "plt.show()"
   ]
  },
  {
   "cell_type": "markdown",
   "id": "b6f8a075",
   "metadata": {},
   "source": [
    "# 4. 다중 선형 회귀\n",
    "\n",
    "**다중 선형 회귀((Multiple Linear Regression)**\n",
    "  - 입력값 ![image](https://user-images.githubusercontent.com/61646760/140957356-e421f52e-0067-4cd6-921d-3f68e1fd5bdb.png)가 여러 개(2개 이상)인 경우 활용할 수 있는 회귀 알고리즘\n",
    "    - 여러 개의 입력값(![image](https://user-images.githubusercontent.com/61646760/140957356-e421f52e-0067-4cd6-921d-3f68e1fd5bdb.png))으로 결괏값(![image](https://user-images.githubusercontent.com/61646760/140957508-73a8350e-1b1f-4d46-9b5d-29ea92c24d54.png))을 예측하고자 하는 경우\n",
    "    - 각 개별 ![image](https://user-images.githubusercontent.com/61646760/140958263-a2a0679a-c66e-43a0-8173-cc264dbe7d98.png)에 해당하는 최적의 ![image](https://user-images.githubusercontent.com/61646760/140958332-84f665c2-7bbb-4071-ba41-1d8bc8f178f2.png)를 찾아야 함\n",
    "  - 다중 선형 회귀 모델\n",
    "    - ![image](https://user-images.githubusercontent.com/61646760/140958761-d525039a-3bbc-4e0a-882a-8d0838e6cc53.png)\n",
    "  - 특징\n",
    "    - 여러 개의 입력값과 결괏값 간의 관계 확인 가능\n",
    "    - 어떤 입력값이 결괏값에 어떠한 영향을 미치는지 알 수 있음\n",
    "    - 여러 개의 입력값 간의 상관관계가 높을 경우 결과에 대한 신뢰성을 잃을 가능성이 있음\n",
    "\n"
   ]
  },
  {
   "cell_type": "markdown",
   "id": "985a7870",
   "metadata": {},
   "source": [
    "\n",
    "단항회귀는 독립변수(feature)와 종속변수(target)의 관계가 $ y = b + w_1 x_1 $ 형식인 일차방정식 형태로 표현한 회귀였다.\n",
    "\n",
    "회귀가 독립변수의 다항식 그리고 2차, 3차 방정식 같은 다항식으로 표현되는 것을 다항회귀(Ploynominal Regression)라 한다. 아래 같은 식일 것이다.\n",
    "\n",
    "$$\n",
    "y = w_0 + w_1 x_1 + w_2 x_2 + w_3 x_3 + \\cdots + w_n x_n + b \n",
    "\\\\\n",
    "y = w_0 + w_1 x_1 + w_2 x_2 + w_3 x_1 x_2 + w_4 x_1^2 + w_5 x_2^2 \n",
    "$$\n"
   ]
  },
  {
   "cell_type": "markdown",
   "id": "ac1d8a1d",
   "metadata": {},
   "source": [
    "#### 다중 선형 회귀 모델의 손실 함수\n",
    "  - **손실 함수(Loss function)**\n",
    "    - 단순 선형 회귀(Simple linear regression)와 마찬가지로 Loss 함수는 **입력값과 실제값 차이의 제곱의 합**으로 정의함\n",
    "      - 마찬가지로 ![image](https://user-images.githubusercontent.com/61646760/140959866-3d8c3475-a0c5-43dc-ac6c-811b14ab3a43.png) 값을 조절하여 Loss 함수의 크기를 작게 함\n",
    "    - ![image](https://user-images.githubusercontent.com/61646760/140960865-543ec942-202f-420d-ba87-2a816798ed69.png)\n",
    "\n"
   ]
  },
  {
   "cell_type": "markdown",
   "id": "f9207493",
   "metadata": {},
   "source": [
    "#### 다중 선형 회귀 모델의 경사 하강법\n",
    "- **경사 하강법(Gradient descent)**\n",
    "- $\\beta_0,\\beta_1,\\beta_2,...,\\beta_n$ 값을 Loss 함수 값이 작아지게 계속 업데이트하는 방법\n",
    "    1. $\\beta_0,\\beta_1,\\beta_2,...,\\beta_n$ 값을 랜덤하게 초기화\n",
    "    2. 현재 $\\beta_0,\\beta_1,\\beta_2,...,\\beta_n$ 값으로 Loss 값 계산\n",
    "    3. 현재 $\\beta_0,\\beta_1,\\beta_2,...,\\beta_n$ 값을 어떻게 변화해야 Loss 값을 줄일 수 있는지 알 수 있는 Gradient 값 계산\n",
    "    4. Gradient 값을 활용하여 $\\beta_0,\\beta_1,\\beta_2,...,\\beta_n$ 값 업데이트\n",
    "    5. Loss 값의 차이가 거의 없어질 때까지 2~4번 과정을 반복(Loss 값과 차이가 줄어들면 Gradient 값도 작아짐)\n",
    "\n"
   ]
  },
  {
   "cell_type": "markdown",
   "id": "fbc2d0fa",
   "metadata": {},
   "source": [
    "## 다중 회귀 분석하기 "
   ]
  },
  {
   "cell_type": "markdown",
   "id": "cb658716",
   "metadata": {},
   "source": [
    "#### 다중 회귀 분석하기 - 데이터 전 처리\n",
    "\n",
    "<strong>다중 회귀 분석(Multiple Linear Regression)</strong>은 데이터의 여러 변수(features) $X_0, X_1$ 를 이용해 결과 종속변수 $y$ 를 예측하는 모델이다.\n",
    "\n"
   ]
  },
  {
   "cell_type": "markdown",
   "id": "5d001a15",
   "metadata": {},
   "source": [
    "Advertizing 데이터 세트\n",
    "\n",
    " - \"Advertising 데이터셋“ 데이터셋은 R 패키지 ISLR (An Introduction to Statistical Learning with Applications in R)에 포함되어 있고 통계 학습 및 회귀 분석 예제로 자주 활용된다.\n",
    "\n",
    "- 아래와 같이 `FB`, `TV`, `Newspaper` 광고에 대한 비용 대비 `Sales` 데이터가 주어졌을 때, 이를 다중 회귀 분석으로 분석해 보자.\n",
    "\n",
    "   ```\n",
    "   원본 데이터 샘플 :\n",
    "      Unnamed: 0     FB    TV  Newspaper  Sales\n",
    "   0           1  230.1  37.8       69.2   22.1\n",
    "   1           2   44.5  39.3       45.1   10.4\n",
    "   2           3   17.2  45.9       69.3    9.3\n",
    "   3           4  151.5  41.3       58.5   18.5\n",
    "   4           5  180.8  10.8       58.4   12.9\n",
    "   ```\n"
   ]
  },
  {
   "cell_type": "code",
   "execution_count": 59,
   "id": "e6d2fe2f",
   "metadata": {},
   "outputs": [
    {
     "data": {
      "text/html": [
       "<div>\n",
       "<style scoped>\n",
       "    .dataframe tbody tr th:only-of-type {\n",
       "        vertical-align: middle;\n",
       "    }\n",
       "\n",
       "    .dataframe tbody tr th {\n",
       "        vertical-align: top;\n",
       "    }\n",
       "\n",
       "    .dataframe thead th {\n",
       "        text-align: right;\n",
       "    }\n",
       "</style>\n",
       "<table border=\"1\" class=\"dataframe\">\n",
       "  <thead>\n",
       "    <tr style=\"text-align: right;\">\n",
       "      <th></th>\n",
       "      <th>Unnamed: 0</th>\n",
       "      <th>FB</th>\n",
       "      <th>TV</th>\n",
       "      <th>Newspaper</th>\n",
       "      <th>Sales</th>\n",
       "    </tr>\n",
       "  </thead>\n",
       "  <tbody>\n",
       "    <tr>\n",
       "      <th>0</th>\n",
       "      <td>1</td>\n",
       "      <td>230.1</td>\n",
       "      <td>37.8</td>\n",
       "      <td>69.2</td>\n",
       "      <td>22.1</td>\n",
       "    </tr>\n",
       "    <tr>\n",
       "      <th>1</th>\n",
       "      <td>2</td>\n",
       "      <td>44.5</td>\n",
       "      <td>39.3</td>\n",
       "      <td>45.1</td>\n",
       "      <td>10.4</td>\n",
       "    </tr>\n",
       "    <tr>\n",
       "      <th>2</th>\n",
       "      <td>3</td>\n",
       "      <td>17.2</td>\n",
       "      <td>45.9</td>\n",
       "      <td>69.3</td>\n",
       "      <td>9.3</td>\n",
       "    </tr>\n",
       "    <tr>\n",
       "      <th>3</th>\n",
       "      <td>4</td>\n",
       "      <td>151.5</td>\n",
       "      <td>41.3</td>\n",
       "      <td>58.5</td>\n",
       "      <td>18.5</td>\n",
       "    </tr>\n",
       "    <tr>\n",
       "      <th>4</th>\n",
       "      <td>5</td>\n",
       "      <td>180.8</td>\n",
       "      <td>10.8</td>\n",
       "      <td>58.4</td>\n",
       "      <td>12.9</td>\n",
       "    </tr>\n",
       "    <tr>\n",
       "      <th>...</th>\n",
       "      <td>...</td>\n",
       "      <td>...</td>\n",
       "      <td>...</td>\n",
       "      <td>...</td>\n",
       "      <td>...</td>\n",
       "    </tr>\n",
       "    <tr>\n",
       "      <th>195</th>\n",
       "      <td>196</td>\n",
       "      <td>38.2</td>\n",
       "      <td>3.7</td>\n",
       "      <td>13.8</td>\n",
       "      <td>7.6</td>\n",
       "    </tr>\n",
       "    <tr>\n",
       "      <th>196</th>\n",
       "      <td>197</td>\n",
       "      <td>94.2</td>\n",
       "      <td>4.9</td>\n",
       "      <td>8.1</td>\n",
       "      <td>9.7</td>\n",
       "    </tr>\n",
       "    <tr>\n",
       "      <th>197</th>\n",
       "      <td>198</td>\n",
       "      <td>177.0</td>\n",
       "      <td>9.3</td>\n",
       "      <td>6.4</td>\n",
       "      <td>12.8</td>\n",
       "    </tr>\n",
       "    <tr>\n",
       "      <th>198</th>\n",
       "      <td>199</td>\n",
       "      <td>283.6</td>\n",
       "      <td>42.0</td>\n",
       "      <td>66.2</td>\n",
       "      <td>25.5</td>\n",
       "    </tr>\n",
       "    <tr>\n",
       "      <th>199</th>\n",
       "      <td>200</td>\n",
       "      <td>232.1</td>\n",
       "      <td>8.6</td>\n",
       "      <td>8.7</td>\n",
       "      <td>13.4</td>\n",
       "    </tr>\n",
       "  </tbody>\n",
       "</table>\n",
       "<p>200 rows × 5 columns</p>\n",
       "</div>"
      ],
      "text/plain": [
       "     Unnamed: 0     FB    TV  Newspaper  Sales\n",
       "0             1  230.1  37.8       69.2   22.1\n",
       "1             2   44.5  39.3       45.1   10.4\n",
       "2             3   17.2  45.9       69.3    9.3\n",
       "3             4  151.5  41.3       58.5   18.5\n",
       "4             5  180.8  10.8       58.4   12.9\n",
       "..          ...    ...   ...        ...    ...\n",
       "195         196   38.2   3.7       13.8    7.6\n",
       "196         197   94.2   4.9        8.1    9.7\n",
       "197         198  177.0   9.3        6.4   12.8\n",
       "198         199  283.6  42.0       66.2   25.5\n",
       "199         200  232.1   8.6        8.7   13.4\n",
       "\n",
       "[200 rows x 5 columns]"
      ]
     },
     "execution_count": 59,
     "metadata": {},
     "output_type": "execute_result"
    }
   ],
   "source": [
    "from sklearn.metrics import r2_score\n",
    "from sklearn.model_selection import train_test_split\n",
    "import pandas as pd\n",
    "\n",
    "df = pd.read_csv('./data/Advertising.csv')\n",
    "df"
   ]
  },
  {
   "cell_type": "code",
   "execution_count": null,
   "id": "d657874a",
   "metadata": {},
   "outputs": [
    {
     "name": "stdout",
     "output_type": "stream",
     "text": [
      "원본 데이터 샘플 :\n",
      "   Unnamed: 0     FB    TV  Newspaper  Sales\n",
      "0           1  230.1  37.8       69.2   22.1\n",
      "1           2   44.5  39.3       45.1   10.4\n",
      "2           3   17.2  45.9       69.3    9.3\n",
      "3           4  151.5  41.3       58.5   18.5\n",
      "4           5  180.8  10.8       58.4   12.9 \n",
      "\n"
     ]
    }
   ],
   "source": [
    "# LinearRegression\n",
    "# import r2_score\n",
    "# import train_test_split\n",
    "\n",
    "# read Advertising.csv\n",
    "\n",
    "\n",
    "print('원본 데이터 샘플 :')\n",
    "print(df.head(),'\\n')\n"
   ]
  },
  {
   "cell_type": "code",
   "execution_count": 61,
   "id": "1bbaea52",
   "metadata": {},
   "outputs": [],
   "source": [
    "df=df.drop(['Unnamed: 0'],axis=1)\n",
    "X=df.drop(['Sales'],axis=1).values\n",
    "y=df['Sales'].values"
   ]
  },
  {
   "cell_type": "code",
   "execution_count": 62,
   "id": "61460784",
   "metadata": {},
   "outputs": [
    {
     "data": {
      "text/html": [
       "<div>\n",
       "<style scoped>\n",
       "    .dataframe tbody tr th:only-of-type {\n",
       "        vertical-align: middle;\n",
       "    }\n",
       "\n",
       "    .dataframe tbody tr th {\n",
       "        vertical-align: top;\n",
       "    }\n",
       "\n",
       "    .dataframe thead th {\n",
       "        text-align: right;\n",
       "    }\n",
       "</style>\n",
       "<table border=\"1\" class=\"dataframe\">\n",
       "  <thead>\n",
       "    <tr style=\"text-align: right;\">\n",
       "      <th></th>\n",
       "      <th>FB</th>\n",
       "      <th>TV</th>\n",
       "      <th>Newspaper</th>\n",
       "      <th>Sales</th>\n",
       "    </tr>\n",
       "  </thead>\n",
       "  <tbody>\n",
       "    <tr>\n",
       "      <th>0</th>\n",
       "      <td>230.1</td>\n",
       "      <td>37.8</td>\n",
       "      <td>69.2</td>\n",
       "      <td>22.1</td>\n",
       "    </tr>\n",
       "    <tr>\n",
       "      <th>1</th>\n",
       "      <td>44.5</td>\n",
       "      <td>39.3</td>\n",
       "      <td>45.1</td>\n",
       "      <td>10.4</td>\n",
       "    </tr>\n",
       "    <tr>\n",
       "      <th>2</th>\n",
       "      <td>17.2</td>\n",
       "      <td>45.9</td>\n",
       "      <td>69.3</td>\n",
       "      <td>9.3</td>\n",
       "    </tr>\n",
       "    <tr>\n",
       "      <th>3</th>\n",
       "      <td>151.5</td>\n",
       "      <td>41.3</td>\n",
       "      <td>58.5</td>\n",
       "      <td>18.5</td>\n",
       "    </tr>\n",
       "    <tr>\n",
       "      <th>4</th>\n",
       "      <td>180.8</td>\n",
       "      <td>10.8</td>\n",
       "      <td>58.4</td>\n",
       "      <td>12.9</td>\n",
       "    </tr>\n",
       "  </tbody>\n",
       "</table>\n",
       "</div>"
      ],
      "text/plain": [
       "      FB    TV  Newspaper  Sales\n",
       "0  230.1  37.8       69.2   22.1\n",
       "1   44.5  39.3       45.1   10.4\n",
       "2   17.2  45.9       69.3    9.3\n",
       "3  151.5  41.3       58.5   18.5\n",
       "4  180.8  10.8       58.4   12.9"
      ]
     },
     "execution_count": 62,
     "metadata": {},
     "output_type": "execute_result"
    }
   ],
   "source": [
    "df.head()"
   ]
  },
  {
   "cell_type": "markdown",
   "id": "94216884",
   "metadata": {},
   "source": [
    "- 우선 데이터를 전 처리 하기 위해서 3개의 변수를 갖는 feature 데이터와 Sales 변수를 label 데이터로 분리하고 학습용, 평가용 데이터로 나눠 보자.\n"
   ]
  },
  {
   "cell_type": "code",
   "execution_count": null,
   "id": "8b27ff31",
   "metadata": {},
   "outputs": [],
   "source": [
    "# 입력 변수로 사용하지 않는 Unnamed: 0 변수 데이터를 삭제합니다.\n",
    "\n",
    "\n",
    "# 1.피처 데이터를 선택\n",
    "\n",
    "# 2. Sales 변수는 label 데이터 Y에 저장\n",
    "\n",
    "\n",
    "#2. 학습용 평가용 데이터로 분리합니다.\n",
    "\n"
   ]
  },
  {
   "cell_type": "code",
   "execution_count": 67,
   "id": "0204bbc8",
   "metadata": {},
   "outputs": [
    {
     "data": {
      "text/html": [
       "<style>#sk-container-id-2 {\n",
       "  /* Definition of color scheme common for light and dark mode */\n",
       "  --sklearn-color-text: #000;\n",
       "  --sklearn-color-text-muted: #666;\n",
       "  --sklearn-color-line: gray;\n",
       "  /* Definition of color scheme for unfitted estimators */\n",
       "  --sklearn-color-unfitted-level-0: #fff5e6;\n",
       "  --sklearn-color-unfitted-level-1: #f6e4d2;\n",
       "  --sklearn-color-unfitted-level-2: #ffe0b3;\n",
       "  --sklearn-color-unfitted-level-3: chocolate;\n",
       "  /* Definition of color scheme for fitted estimators */\n",
       "  --sklearn-color-fitted-level-0: #f0f8ff;\n",
       "  --sklearn-color-fitted-level-1: #d4ebff;\n",
       "  --sklearn-color-fitted-level-2: #b3dbfd;\n",
       "  --sklearn-color-fitted-level-3: cornflowerblue;\n",
       "\n",
       "  /* Specific color for light theme */\n",
       "  --sklearn-color-text-on-default-background: var(--sg-text-color, var(--theme-code-foreground, var(--jp-content-font-color1, black)));\n",
       "  --sklearn-color-background: var(--sg-background-color, var(--theme-background, var(--jp-layout-color0, white)));\n",
       "  --sklearn-color-border-box: var(--sg-text-color, var(--theme-code-foreground, var(--jp-content-font-color1, black)));\n",
       "  --sklearn-color-icon: #696969;\n",
       "\n",
       "  @media (prefers-color-scheme: dark) {\n",
       "    /* Redefinition of color scheme for dark theme */\n",
       "    --sklearn-color-text-on-default-background: var(--sg-text-color, var(--theme-code-foreground, var(--jp-content-font-color1, white)));\n",
       "    --sklearn-color-background: var(--sg-background-color, var(--theme-background, var(--jp-layout-color0, #111)));\n",
       "    --sklearn-color-border-box: var(--sg-text-color, var(--theme-code-foreground, var(--jp-content-font-color1, white)));\n",
       "    --sklearn-color-icon: #878787;\n",
       "  }\n",
       "}\n",
       "\n",
       "#sk-container-id-2 {\n",
       "  color: var(--sklearn-color-text);\n",
       "}\n",
       "\n",
       "#sk-container-id-2 pre {\n",
       "  padding: 0;\n",
       "}\n",
       "\n",
       "#sk-container-id-2 input.sk-hidden--visually {\n",
       "  border: 0;\n",
       "  clip: rect(1px 1px 1px 1px);\n",
       "  clip: rect(1px, 1px, 1px, 1px);\n",
       "  height: 1px;\n",
       "  margin: -1px;\n",
       "  overflow: hidden;\n",
       "  padding: 0;\n",
       "  position: absolute;\n",
       "  width: 1px;\n",
       "}\n",
       "\n",
       "#sk-container-id-2 div.sk-dashed-wrapped {\n",
       "  border: 1px dashed var(--sklearn-color-line);\n",
       "  margin: 0 0.4em 0.5em 0.4em;\n",
       "  box-sizing: border-box;\n",
       "  padding-bottom: 0.4em;\n",
       "  background-color: var(--sklearn-color-background);\n",
       "}\n",
       "\n",
       "#sk-container-id-2 div.sk-container {\n",
       "  /* jupyter's `normalize.less` sets `[hidden] { display: none; }`\n",
       "     but bootstrap.min.css set `[hidden] { display: none !important; }`\n",
       "     so we also need the `!important` here to be able to override the\n",
       "     default hidden behavior on the sphinx rendered scikit-learn.org.\n",
       "     See: https://github.com/scikit-learn/scikit-learn/issues/21755 */\n",
       "  display: inline-block !important;\n",
       "  position: relative;\n",
       "}\n",
       "\n",
       "#sk-container-id-2 div.sk-text-repr-fallback {\n",
       "  display: none;\n",
       "}\n",
       "\n",
       "div.sk-parallel-item,\n",
       "div.sk-serial,\n",
       "div.sk-item {\n",
       "  /* draw centered vertical line to link estimators */\n",
       "  background-image: linear-gradient(var(--sklearn-color-text-on-default-background), var(--sklearn-color-text-on-default-background));\n",
       "  background-size: 2px 100%;\n",
       "  background-repeat: no-repeat;\n",
       "  background-position: center center;\n",
       "}\n",
       "\n",
       "/* Parallel-specific style estimator block */\n",
       "\n",
       "#sk-container-id-2 div.sk-parallel-item::after {\n",
       "  content: \"\";\n",
       "  width: 100%;\n",
       "  border-bottom: 2px solid var(--sklearn-color-text-on-default-background);\n",
       "  flex-grow: 1;\n",
       "}\n",
       "\n",
       "#sk-container-id-2 div.sk-parallel {\n",
       "  display: flex;\n",
       "  align-items: stretch;\n",
       "  justify-content: center;\n",
       "  background-color: var(--sklearn-color-background);\n",
       "  position: relative;\n",
       "}\n",
       "\n",
       "#sk-container-id-2 div.sk-parallel-item {\n",
       "  display: flex;\n",
       "  flex-direction: column;\n",
       "}\n",
       "\n",
       "#sk-container-id-2 div.sk-parallel-item:first-child::after {\n",
       "  align-self: flex-end;\n",
       "  width: 50%;\n",
       "}\n",
       "\n",
       "#sk-container-id-2 div.sk-parallel-item:last-child::after {\n",
       "  align-self: flex-start;\n",
       "  width: 50%;\n",
       "}\n",
       "\n",
       "#sk-container-id-2 div.sk-parallel-item:only-child::after {\n",
       "  width: 0;\n",
       "}\n",
       "\n",
       "/* Serial-specific style estimator block */\n",
       "\n",
       "#sk-container-id-2 div.sk-serial {\n",
       "  display: flex;\n",
       "  flex-direction: column;\n",
       "  align-items: center;\n",
       "  background-color: var(--sklearn-color-background);\n",
       "  padding-right: 1em;\n",
       "  padding-left: 1em;\n",
       "}\n",
       "\n",
       "\n",
       "/* Toggleable style: style used for estimator/Pipeline/ColumnTransformer box that is\n",
       "clickable and can be expanded/collapsed.\n",
       "- Pipeline and ColumnTransformer use this feature and define the default style\n",
       "- Estimators will overwrite some part of the style using the `sk-estimator` class\n",
       "*/\n",
       "\n",
       "/* Pipeline and ColumnTransformer style (default) */\n",
       "\n",
       "#sk-container-id-2 div.sk-toggleable {\n",
       "  /* Default theme specific background. It is overwritten whether we have a\n",
       "  specific estimator or a Pipeline/ColumnTransformer */\n",
       "  background-color: var(--sklearn-color-background);\n",
       "}\n",
       "\n",
       "/* Toggleable label */\n",
       "#sk-container-id-2 label.sk-toggleable__label {\n",
       "  cursor: pointer;\n",
       "  display: flex;\n",
       "  width: 100%;\n",
       "  margin-bottom: 0;\n",
       "  padding: 0.5em;\n",
       "  box-sizing: border-box;\n",
       "  text-align: center;\n",
       "  align-items: start;\n",
       "  justify-content: space-between;\n",
       "  gap: 0.5em;\n",
       "}\n",
       "\n",
       "#sk-container-id-2 label.sk-toggleable__label .caption {\n",
       "  font-size: 0.6rem;\n",
       "  font-weight: lighter;\n",
       "  color: var(--sklearn-color-text-muted);\n",
       "}\n",
       "\n",
       "#sk-container-id-2 label.sk-toggleable__label-arrow:before {\n",
       "  /* Arrow on the left of the label */\n",
       "  content: \"▸\";\n",
       "  float: left;\n",
       "  margin-right: 0.25em;\n",
       "  color: var(--sklearn-color-icon);\n",
       "}\n",
       "\n",
       "#sk-container-id-2 label.sk-toggleable__label-arrow:hover:before {\n",
       "  color: var(--sklearn-color-text);\n",
       "}\n",
       "\n",
       "/* Toggleable content - dropdown */\n",
       "\n",
       "#sk-container-id-2 div.sk-toggleable__content {\n",
       "  display: none;\n",
       "  text-align: left;\n",
       "  /* unfitted */\n",
       "  background-color: var(--sklearn-color-unfitted-level-0);\n",
       "}\n",
       "\n",
       "#sk-container-id-2 div.sk-toggleable__content.fitted {\n",
       "  /* fitted */\n",
       "  background-color: var(--sklearn-color-fitted-level-0);\n",
       "}\n",
       "\n",
       "#sk-container-id-2 div.sk-toggleable__content pre {\n",
       "  margin: 0.2em;\n",
       "  border-radius: 0.25em;\n",
       "  color: var(--sklearn-color-text);\n",
       "  /* unfitted */\n",
       "  background-color: var(--sklearn-color-unfitted-level-0);\n",
       "}\n",
       "\n",
       "#sk-container-id-2 div.sk-toggleable__content.fitted pre {\n",
       "  /* unfitted */\n",
       "  background-color: var(--sklearn-color-fitted-level-0);\n",
       "}\n",
       "\n",
       "#sk-container-id-2 input.sk-toggleable__control:checked~div.sk-toggleable__content {\n",
       "  /* Expand drop-down */\n",
       "  display: block;\n",
       "  width: 100%;\n",
       "  overflow: visible;\n",
       "}\n",
       "\n",
       "#sk-container-id-2 input.sk-toggleable__control:checked~label.sk-toggleable__label-arrow:before {\n",
       "  content: \"▾\";\n",
       "}\n",
       "\n",
       "/* Pipeline/ColumnTransformer-specific style */\n",
       "\n",
       "#sk-container-id-2 div.sk-label input.sk-toggleable__control:checked~label.sk-toggleable__label {\n",
       "  color: var(--sklearn-color-text);\n",
       "  background-color: var(--sklearn-color-unfitted-level-2);\n",
       "}\n",
       "\n",
       "#sk-container-id-2 div.sk-label.fitted input.sk-toggleable__control:checked~label.sk-toggleable__label {\n",
       "  background-color: var(--sklearn-color-fitted-level-2);\n",
       "}\n",
       "\n",
       "/* Estimator-specific style */\n",
       "\n",
       "/* Colorize estimator box */\n",
       "#sk-container-id-2 div.sk-estimator input.sk-toggleable__control:checked~label.sk-toggleable__label {\n",
       "  /* unfitted */\n",
       "  background-color: var(--sklearn-color-unfitted-level-2);\n",
       "}\n",
       "\n",
       "#sk-container-id-2 div.sk-estimator.fitted input.sk-toggleable__control:checked~label.sk-toggleable__label {\n",
       "  /* fitted */\n",
       "  background-color: var(--sklearn-color-fitted-level-2);\n",
       "}\n",
       "\n",
       "#sk-container-id-2 div.sk-label label.sk-toggleable__label,\n",
       "#sk-container-id-2 div.sk-label label {\n",
       "  /* The background is the default theme color */\n",
       "  color: var(--sklearn-color-text-on-default-background);\n",
       "}\n",
       "\n",
       "/* On hover, darken the color of the background */\n",
       "#sk-container-id-2 div.sk-label:hover label.sk-toggleable__label {\n",
       "  color: var(--sklearn-color-text);\n",
       "  background-color: var(--sklearn-color-unfitted-level-2);\n",
       "}\n",
       "\n",
       "/* Label box, darken color on hover, fitted */\n",
       "#sk-container-id-2 div.sk-label.fitted:hover label.sk-toggleable__label.fitted {\n",
       "  color: var(--sklearn-color-text);\n",
       "  background-color: var(--sklearn-color-fitted-level-2);\n",
       "}\n",
       "\n",
       "/* Estimator label */\n",
       "\n",
       "#sk-container-id-2 div.sk-label label {\n",
       "  font-family: monospace;\n",
       "  font-weight: bold;\n",
       "  display: inline-block;\n",
       "  line-height: 1.2em;\n",
       "}\n",
       "\n",
       "#sk-container-id-2 div.sk-label-container {\n",
       "  text-align: center;\n",
       "}\n",
       "\n",
       "/* Estimator-specific */\n",
       "#sk-container-id-2 div.sk-estimator {\n",
       "  font-family: monospace;\n",
       "  border: 1px dotted var(--sklearn-color-border-box);\n",
       "  border-radius: 0.25em;\n",
       "  box-sizing: border-box;\n",
       "  margin-bottom: 0.5em;\n",
       "  /* unfitted */\n",
       "  background-color: var(--sklearn-color-unfitted-level-0);\n",
       "}\n",
       "\n",
       "#sk-container-id-2 div.sk-estimator.fitted {\n",
       "  /* fitted */\n",
       "  background-color: var(--sklearn-color-fitted-level-0);\n",
       "}\n",
       "\n",
       "/* on hover */\n",
       "#sk-container-id-2 div.sk-estimator:hover {\n",
       "  /* unfitted */\n",
       "  background-color: var(--sklearn-color-unfitted-level-2);\n",
       "}\n",
       "\n",
       "#sk-container-id-2 div.sk-estimator.fitted:hover {\n",
       "  /* fitted */\n",
       "  background-color: var(--sklearn-color-fitted-level-2);\n",
       "}\n",
       "\n",
       "/* Specification for estimator info (e.g. \"i\" and \"?\") */\n",
       "\n",
       "/* Common style for \"i\" and \"?\" */\n",
       "\n",
       ".sk-estimator-doc-link,\n",
       "a:link.sk-estimator-doc-link,\n",
       "a:visited.sk-estimator-doc-link {\n",
       "  float: right;\n",
       "  font-size: smaller;\n",
       "  line-height: 1em;\n",
       "  font-family: monospace;\n",
       "  background-color: var(--sklearn-color-background);\n",
       "  border-radius: 1em;\n",
       "  height: 1em;\n",
       "  width: 1em;\n",
       "  text-decoration: none !important;\n",
       "  margin-left: 0.5em;\n",
       "  text-align: center;\n",
       "  /* unfitted */\n",
       "  border: var(--sklearn-color-unfitted-level-1) 1pt solid;\n",
       "  color: var(--sklearn-color-unfitted-level-1);\n",
       "}\n",
       "\n",
       ".sk-estimator-doc-link.fitted,\n",
       "a:link.sk-estimator-doc-link.fitted,\n",
       "a:visited.sk-estimator-doc-link.fitted {\n",
       "  /* fitted */\n",
       "  border: var(--sklearn-color-fitted-level-1) 1pt solid;\n",
       "  color: var(--sklearn-color-fitted-level-1);\n",
       "}\n",
       "\n",
       "/* On hover */\n",
       "div.sk-estimator:hover .sk-estimator-doc-link:hover,\n",
       ".sk-estimator-doc-link:hover,\n",
       "div.sk-label-container:hover .sk-estimator-doc-link:hover,\n",
       ".sk-estimator-doc-link:hover {\n",
       "  /* unfitted */\n",
       "  background-color: var(--sklearn-color-unfitted-level-3);\n",
       "  color: var(--sklearn-color-background);\n",
       "  text-decoration: none;\n",
       "}\n",
       "\n",
       "div.sk-estimator.fitted:hover .sk-estimator-doc-link.fitted:hover,\n",
       ".sk-estimator-doc-link.fitted:hover,\n",
       "div.sk-label-container:hover .sk-estimator-doc-link.fitted:hover,\n",
       ".sk-estimator-doc-link.fitted:hover {\n",
       "  /* fitted */\n",
       "  background-color: var(--sklearn-color-fitted-level-3);\n",
       "  color: var(--sklearn-color-background);\n",
       "  text-decoration: none;\n",
       "}\n",
       "\n",
       "/* Span, style for the box shown on hovering the info icon */\n",
       ".sk-estimator-doc-link span {\n",
       "  display: none;\n",
       "  z-index: 9999;\n",
       "  position: relative;\n",
       "  font-weight: normal;\n",
       "  right: .2ex;\n",
       "  padding: .5ex;\n",
       "  margin: .5ex;\n",
       "  width: min-content;\n",
       "  min-width: 20ex;\n",
       "  max-width: 50ex;\n",
       "  color: var(--sklearn-color-text);\n",
       "  box-shadow: 2pt 2pt 4pt #999;\n",
       "  /* unfitted */\n",
       "  background: var(--sklearn-color-unfitted-level-0);\n",
       "  border: .5pt solid var(--sklearn-color-unfitted-level-3);\n",
       "}\n",
       "\n",
       ".sk-estimator-doc-link.fitted span {\n",
       "  /* fitted */\n",
       "  background: var(--sklearn-color-fitted-level-0);\n",
       "  border: var(--sklearn-color-fitted-level-3);\n",
       "}\n",
       "\n",
       ".sk-estimator-doc-link:hover span {\n",
       "  display: block;\n",
       "}\n",
       "\n",
       "/* \"?\"-specific style due to the `<a>` HTML tag */\n",
       "\n",
       "#sk-container-id-2 a.estimator_doc_link {\n",
       "  float: right;\n",
       "  font-size: 1rem;\n",
       "  line-height: 1em;\n",
       "  font-family: monospace;\n",
       "  background-color: var(--sklearn-color-background);\n",
       "  border-radius: 1rem;\n",
       "  height: 1rem;\n",
       "  width: 1rem;\n",
       "  text-decoration: none;\n",
       "  /* unfitted */\n",
       "  color: var(--sklearn-color-unfitted-level-1);\n",
       "  border: var(--sklearn-color-unfitted-level-1) 1pt solid;\n",
       "}\n",
       "\n",
       "#sk-container-id-2 a.estimator_doc_link.fitted {\n",
       "  /* fitted */\n",
       "  border: var(--sklearn-color-fitted-level-1) 1pt solid;\n",
       "  color: var(--sklearn-color-fitted-level-1);\n",
       "}\n",
       "\n",
       "/* On hover */\n",
       "#sk-container-id-2 a.estimator_doc_link:hover {\n",
       "  /* unfitted */\n",
       "  background-color: var(--sklearn-color-unfitted-level-3);\n",
       "  color: var(--sklearn-color-background);\n",
       "  text-decoration: none;\n",
       "}\n",
       "\n",
       "#sk-container-id-2 a.estimator_doc_link.fitted:hover {\n",
       "  /* fitted */\n",
       "  background-color: var(--sklearn-color-fitted-level-3);\n",
       "}\n",
       "\n",
       ".estimator-table summary {\n",
       "    padding: .5rem;\n",
       "    font-family: monospace;\n",
       "    cursor: pointer;\n",
       "}\n",
       "\n",
       ".estimator-table details[open] {\n",
       "    padding-left: 0.1rem;\n",
       "    padding-right: 0.1rem;\n",
       "    padding-bottom: 0.3rem;\n",
       "}\n",
       "\n",
       ".estimator-table .parameters-table {\n",
       "    margin-left: auto !important;\n",
       "    margin-right: auto !important;\n",
       "}\n",
       "\n",
       ".estimator-table .parameters-table tr:nth-child(odd) {\n",
       "    background-color: #fff;\n",
       "}\n",
       "\n",
       ".estimator-table .parameters-table tr:nth-child(even) {\n",
       "    background-color: #f6f6f6;\n",
       "}\n",
       "\n",
       ".estimator-table .parameters-table tr:hover {\n",
       "    background-color: #e0e0e0;\n",
       "}\n",
       "\n",
       ".estimator-table table td {\n",
       "    border: 1px solid rgba(106, 105, 104, 0.232);\n",
       "}\n",
       "\n",
       ".user-set td {\n",
       "    color:rgb(255, 94, 0);\n",
       "    text-align: left;\n",
       "}\n",
       "\n",
       ".user-set td.value pre {\n",
       "    color:rgb(255, 94, 0) !important;\n",
       "    background-color: transparent !important;\n",
       "}\n",
       "\n",
       ".default td {\n",
       "    color: black;\n",
       "    text-align: left;\n",
       "}\n",
       "\n",
       ".user-set td i,\n",
       ".default td i {\n",
       "    color: black;\n",
       "}\n",
       "\n",
       ".copy-paste-icon {\n",
       "    background-image: url(data:image/svg+xml;base64,PHN2ZyB4bWxucz0iaHR0cDovL3d3dy53My5vcmcvMjAwMC9zdmciIHZpZXdCb3g9IjAgMCA0NDggNTEyIj48IS0tIUZvbnQgQXdlc29tZSBGcmVlIDYuNy4yIGJ5IEBmb250YXdlc29tZSAtIGh0dHBzOi8vZm9udGF3ZXNvbWUuY29tIExpY2Vuc2UgLSBodHRwczovL2ZvbnRhd2Vzb21lLmNvbS9saWNlbnNlL2ZyZWUgQ29weXJpZ2h0IDIwMjUgRm9udGljb25zLCBJbmMuLS0+PHBhdGggZD0iTTIwOCAwTDMzMi4xIDBjMTIuNyAwIDI0LjkgNS4xIDMzLjkgMTQuMWw2Ny45IDY3LjljOSA5IDE0LjEgMjEuMiAxNC4xIDMzLjlMNDQ4IDMzNmMwIDI2LjUtMjEuNSA0OC00OCA0OGwtMTkyIDBjLTI2LjUgMC00OC0yMS41LTQ4LTQ4bDAtMjg4YzAtMjYuNSAyMS41LTQ4IDQ4LTQ4ek00OCAxMjhsODAgMCAwIDY0LTY0IDAgMCAyNTYgMTkyIDAgMC0zMiA2NCAwIDAgNDhjMCAyNi41LTIxLjUgNDgtNDggNDhMNDggNTEyYy0yNi41IDAtNDgtMjEuNS00OC00OEwwIDE3NmMwLTI2LjUgMjEuNS00OCA0OC00OHoiLz48L3N2Zz4=);\n",
       "    background-repeat: no-repeat;\n",
       "    background-size: 14px 14px;\n",
       "    background-position: 0;\n",
       "    display: inline-block;\n",
       "    width: 14px;\n",
       "    height: 14px;\n",
       "    cursor: pointer;\n",
       "}\n",
       "</style><body><div id=\"sk-container-id-2\" class=\"sk-top-container\"><div class=\"sk-text-repr-fallback\"><pre>LinearRegression()</pre><b>In a Jupyter environment, please rerun this cell to show the HTML representation or trust the notebook. <br />On GitHub, the HTML representation is unable to render, please try loading this page with nbviewer.org.</b></div><div class=\"sk-container\" hidden><div class=\"sk-item\"><div class=\"sk-estimator fitted sk-toggleable\"><input class=\"sk-toggleable__control sk-hidden--visually\" id=\"sk-estimator-id-2\" type=\"checkbox\" checked><label for=\"sk-estimator-id-2\" class=\"sk-toggleable__label fitted sk-toggleable__label-arrow\"><div><div>LinearRegression</div></div><div><a class=\"sk-estimator-doc-link fitted\" rel=\"noreferrer\" target=\"_blank\" href=\"https://scikit-learn.org/1.7/modules/generated/sklearn.linear_model.LinearRegression.html\">?<span>Documentation for LinearRegression</span></a><span class=\"sk-estimator-doc-link fitted\">i<span>Fitted</span></span></div></label><div class=\"sk-toggleable__content fitted\" data-param-prefix=\"\">\n",
       "        <div class=\"estimator-table\">\n",
       "            <details>\n",
       "                <summary>Parameters</summary>\n",
       "                <table class=\"parameters-table\">\n",
       "                  <tbody>\n",
       "                    \n",
       "        <tr class=\"default\">\n",
       "            <td><i class=\"copy-paste-icon\"\n",
       "                 onclick=\"copyToClipboard('fit_intercept',\n",
       "                          this.parentElement.nextElementSibling)\"\n",
       "            ></i></td>\n",
       "            <td class=\"param\">fit_intercept&nbsp;</td>\n",
       "            <td class=\"value\">True</td>\n",
       "        </tr>\n",
       "    \n",
       "\n",
       "        <tr class=\"default\">\n",
       "            <td><i class=\"copy-paste-icon\"\n",
       "                 onclick=\"copyToClipboard('copy_X',\n",
       "                          this.parentElement.nextElementSibling)\"\n",
       "            ></i></td>\n",
       "            <td class=\"param\">copy_X&nbsp;</td>\n",
       "            <td class=\"value\">True</td>\n",
       "        </tr>\n",
       "    \n",
       "\n",
       "        <tr class=\"default\">\n",
       "            <td><i class=\"copy-paste-icon\"\n",
       "                 onclick=\"copyToClipboard('tol',\n",
       "                          this.parentElement.nextElementSibling)\"\n",
       "            ></i></td>\n",
       "            <td class=\"param\">tol&nbsp;</td>\n",
       "            <td class=\"value\">1e-06</td>\n",
       "        </tr>\n",
       "    \n",
       "\n",
       "        <tr class=\"default\">\n",
       "            <td><i class=\"copy-paste-icon\"\n",
       "                 onclick=\"copyToClipboard('n_jobs',\n",
       "                          this.parentElement.nextElementSibling)\"\n",
       "            ></i></td>\n",
       "            <td class=\"param\">n_jobs&nbsp;</td>\n",
       "            <td class=\"value\">None</td>\n",
       "        </tr>\n",
       "    \n",
       "\n",
       "        <tr class=\"default\">\n",
       "            <td><i class=\"copy-paste-icon\"\n",
       "                 onclick=\"copyToClipboard('positive',\n",
       "                          this.parentElement.nextElementSibling)\"\n",
       "            ></i></td>\n",
       "            <td class=\"param\">positive&nbsp;</td>\n",
       "            <td class=\"value\">False</td>\n",
       "        </tr>\n",
       "    \n",
       "                  </tbody>\n",
       "                </table>\n",
       "            </details>\n",
       "        </div>\n",
       "    </div></div></div></div></div><script>function copyToClipboard(text, element) {\n",
       "    // Get the parameter prefix from the closest toggleable content\n",
       "    const toggleableContent = element.closest('.sk-toggleable__content');\n",
       "    const paramPrefix = toggleableContent ? toggleableContent.dataset.paramPrefix : '';\n",
       "    const fullParamName = paramPrefix ? `${paramPrefix}${text}` : text;\n",
       "\n",
       "    const originalStyle = element.style;\n",
       "    const computedStyle = window.getComputedStyle(element);\n",
       "    const originalWidth = computedStyle.width;\n",
       "    const originalHTML = element.innerHTML.replace('Copied!', '');\n",
       "\n",
       "    navigator.clipboard.writeText(fullParamName)\n",
       "        .then(() => {\n",
       "            element.style.width = originalWidth;\n",
       "            element.style.color = 'green';\n",
       "            element.innerHTML = \"Copied!\";\n",
       "\n",
       "            setTimeout(() => {\n",
       "                element.innerHTML = originalHTML;\n",
       "                element.style = originalStyle;\n",
       "            }, 2000);\n",
       "        })\n",
       "        .catch(err => {\n",
       "            console.error('Failed to copy:', err);\n",
       "            element.style.color = 'red';\n",
       "            element.innerHTML = \"Failed!\";\n",
       "            setTimeout(() => {\n",
       "                element.innerHTML = originalHTML;\n",
       "                element.style = originalStyle;\n",
       "            }, 2000);\n",
       "        });\n",
       "    return false;\n",
       "}\n",
       "\n",
       "document.querySelectorAll('.fa-regular.fa-copy').forEach(function(element) {\n",
       "    const toggleableContent = element.closest('.sk-toggleable__content');\n",
       "    const paramPrefix = toggleableContent ? toggleableContent.dataset.paramPrefix : '';\n",
       "    const paramName = element.parentElement.nextElementSibling.textContent.trim();\n",
       "    const fullParamName = paramPrefix ? `${paramPrefix}${paramName}` : paramName;\n",
       "\n",
       "    element.setAttribute('title', fullParamName);\n",
       "});\n",
       "</script></body>"
      ],
      "text/plain": [
       "LinearRegression()"
      ]
     },
     "execution_count": 67,
     "metadata": {},
     "output_type": "execute_result"
    }
   ],
   "source": [
    "X_train, X_test, y_train, y_test = train_test_split(X, y, test_size = 1, random_state = 20)\n",
    "from sklearn.linear_model import LinearRegression\n",
    "lg_clf=LinearRegression()\n",
    "lg_clf.fit(X_train,y_train)"
   ]
  },
  {
   "cell_type": "code",
   "execution_count": 39,
   "id": "04f7eaab",
   "metadata": {},
   "outputs": [
    {
     "name": "stdout",
     "output_type": "stream",
     "text": [
      "train_X : \n",
      "        FB    TV  Newspaper\n",
      "79   116.0   7.7       23.1\n",
      "197  177.0   9.3        6.4\n",
      "38    43.1  26.7       35.1\n",
      "24    62.3  12.6       18.3\n",
      "122  224.0   2.4       15.6 \n",
      "\n"
     ]
    }
   ],
   "source": [
    "# 전 처리한 데이터를 출력합니다.\n",
    "print('train_X : ')\n",
    "print(train_X.head(),'\\n')"
   ]
  },
  {
   "cell_type": "code",
   "execution_count": 13,
   "id": "bed3804a",
   "metadata": {},
   "outputs": [
    {
     "name": "stdout",
     "output_type": "stream",
     "text": [
      "train_Y : \n",
      "79     11.0\n",
      "197    12.8\n",
      "38     10.1\n",
      "24      9.7\n",
      "122    11.6\n",
      "Name: Sales, dtype: float64 \n",
      "\n"
     ]
    }
   ],
   "source": [
    "print('train_Y : ')\n",
    "print(train_Y.head(),'\\n')\n"
   ]
  },
  {
   "cell_type": "code",
   "execution_count": 14,
   "id": "5f63bebc",
   "metadata": {},
   "outputs": [
    {
     "name": "stdout",
     "output_type": "stream",
     "text": [
      "test_X : \n",
      "        FB    TV  Newspaper\n",
      "95   163.3  31.6       52.9\n",
      "15   195.4  47.7       52.9\n",
      "30   292.9  28.3       43.2\n",
      "158   11.7  36.9       45.2\n",
      "128  220.3  49.0        3.2 \n",
      "\n"
     ]
    }
   ],
   "source": [
    "print('test_X : ')\n",
    "print(test_X.head(),'\\n')\n"
   ]
  },
  {
   "cell_type": "code",
   "execution_count": 15,
   "id": "d7bf232d",
   "metadata": {},
   "outputs": [
    {
     "name": "stdout",
     "output_type": "stream",
     "text": [
      "test_Y : \n",
      "95     16.9\n",
      "15     22.4\n",
      "30     21.4\n",
      "158     7.3\n",
      "128    24.7\n",
      "Name: Sales, dtype: float64\n"
     ]
    }
   ],
   "source": [
    "print('test_Y : ')\n",
    "print(test_Y.head())"
   ]
  },
  {
   "cell_type": "code",
   "execution_count": 69,
   "id": "f95920cc",
   "metadata": {},
   "outputs": [
    {
     "data": {
      "text/plain": [
       "array([18.41579099])"
      ]
     },
     "execution_count": 69,
     "metadata": {},
     "output_type": "execute_result"
    }
   ],
   "source": [
    "pred_X=lg_clf.predict(X_test)\n",
    "pred_X"
   ]
  },
  {
   "cell_type": "markdown",
   "id": "83996312",
   "metadata": {},
   "source": [
    "#### 다중 회귀 분석하기 - 학습하기\n",
    "앞에서 전 처리한 데이터를 바탕으로 다중 선형 회귀 모델을 적용해 보자.\n",
    "\n",
    "- 여러개의 독립변수 페이스북 $X_1$, TV인 $X_2$와 신문광고 $X_3$ 를 사용하고\n",
    "- 종속변수를 구하는 방정식은 다음과 같을 것이다.\n",
    "  - $\\text{Sales} = \\beta_0 + \\beta_1X_1 + \\beta_2X_2 + \\beta_3 X_3$\n"
   ]
  },
  {
   "cell_type": "markdown",
   "id": "e862281f",
   "metadata": {},
   "source": [
    "\n",
    "- 다중 선형 회귀 또한 선형 회귀 모델과 마찬가지로 `LinearRegression`을 사용할 수 있다.\n",
    "  - `LinearRegression`의 $\\beta$ 등 패러미터 구현\n",
    "    ```\n",
    "    lrmodel = LinearRegression()\n",
    "    lrmodel.intercept_\n",
    "    lrmodel.coef_[i]\n",
    "    ```\n",
    "    - `intercept_` : $\\beta_0$ 에 해당하는 값\n",
    "    - `coef_[i]` : i+1번째 변수에 곱해지는 패러미터 값\n",
    "- 그럼 이번에는 학습용 데이터를 다중 선형 회귀 모델을 사용하여 학습하고, 학습된 패러미터를 출력해 보자.\n",
    "\n",
    "```\n"
   ]
  },
  {
   "cell_type": "code",
   "execution_count": 71,
   "id": "bc256144",
   "metadata": {},
   "outputs": [
    {
     "name": "stdout",
     "output_type": "stream",
     "text": [
      "FB :  0.7 , 296.4\n",
      "TV :  0.0 , 49.6\n",
      "Newspaper :  0.3 , 114.0\n",
      "Sales :  1.6 , 27.0\n"
     ]
    }
   ],
   "source": [
    "for c in df.columns:\n",
    "    print(f'{c} : ', df[c].min(),',', df[c].max())"
   ]
  },
  {
   "cell_type": "code",
   "execution_count": null,
   "id": "6d2b0574",
   "metadata": {},
   "outputs": [
    {
     "data": {
      "text/html": [
       "<div>\n",
       "<style scoped>\n",
       "    .dataframe tbody tr th:only-of-type {\n",
       "        vertical-align: middle;\n",
       "    }\n",
       "\n",
       "    .dataframe tbody tr th {\n",
       "        vertical-align: top;\n",
       "    }\n",
       "\n",
       "    .dataframe thead th {\n",
       "        text-align: right;\n",
       "    }\n",
       "</style>\n",
       "<table border=\"1\" class=\"dataframe\">\n",
       "  <thead>\n",
       "    <tr style=\"text-align: right;\">\n",
       "      <th></th>\n",
       "      <th>FB</th>\n",
       "      <th>TV</th>\n",
       "      <th>Newspaper</th>\n",
       "    </tr>\n",
       "  </thead>\n",
       "  <tbody>\n",
       "    <tr>\n",
       "      <th>0</th>\n",
       "      <td>0.5</td>\n",
       "      <td>30.0</td>\n",
       "      <td>70.0</td>\n",
       "    </tr>\n",
       "    <tr>\n",
       "      <th>1</th>\n",
       "      <td>50.0</td>\n",
       "      <td>39.0</td>\n",
       "      <td>60.0</td>\n",
       "    </tr>\n",
       "    <tr>\n",
       "      <th>2</th>\n",
       "      <td>90.0</td>\n",
       "      <td>70.0</td>\n",
       "      <td>88.0</td>\n",
       "    </tr>\n",
       "    <tr>\n",
       "      <th>3</th>\n",
       "      <td>70.0</td>\n",
       "      <td>40.5</td>\n",
       "      <td>20.1</td>\n",
       "    </tr>\n",
       "    <tr>\n",
       "      <th>4</th>\n",
       "      <td>10.0</td>\n",
       "      <td>10.0</td>\n",
       "      <td>10.0</td>\n",
       "    </tr>\n",
       "  </tbody>\n",
       "</table>\n",
       "</div>"
      ],
      "text/plain": [
       "     FB    TV  Newspaper\n",
       "0   0.5  30.0       70.0\n",
       "1  50.0  39.0       60.0\n",
       "2  90.0  70.0       88.0\n",
       "3  70.0  40.5       20.1\n",
       "4  10.0  10.0       10.0"
      ]
     },
     "execution_count": 73,
     "metadata": {},
     "output_type": "execute_result"
    }
   ],
   "source": [
    "df1=pd.DataFrame(np.array([[0.5,30.0,70.0],[50,39.0,60.0],[90,70,88],[70,40.5,20.1],[10,10,10]]), columns=['FB','TV','Newspaper'])\n",
    "df1"
   ]
  },
  {
   "cell_type": "code",
   "execution_count": 74,
   "id": "799e3f41",
   "metadata": {},
   "outputs": [
    {
     "data": {
      "text/plain": [
       "array([ 8.53164211, 12.50552625, 20.14596367, 13.73699345,  5.25736631])"
      ]
     },
     "execution_count": 74,
     "metadata": {},
     "output_type": "execute_result"
    }
   ],
   "source": [
    "pred_df1=lg_clf.predict(df1.values)\n",
    "pred_df1"
   ]
  },
  {
   "cell_type": "code",
   "execution_count": null,
   "id": "3b08c690",
   "metadata": {},
   "outputs": [
    {
     "name": "stdout",
     "output_type": "stream",
     "text": [
      "beta_0: 2.979067\n",
      "beta_1: 0.044730\n",
      "beta_2: 0.189195\n",
      "beta_3: 0.002761\n"
     ]
    }
   ],
   "source": [
    "from sklearn.linear_model import LinearRegression\n",
    "\n",
    "#1. 다중 선형 회귀 모델을 초기화하고 학습합니다\n",
    "   # 모델 초기화\n",
    "  # train data로 학습\n",
    "\n",
    "#2. 학습된 결과:\n",
    "   # y절편 (기본 판매량)\n",
    "     # 1번째 변수에 대한 계수 (페이스북)\n",
    "     # 2번째 변수에 대한 계수 (TV)\n",
    "     # 3번째 변수에 대한 계수 (신문)\n",
    "\n",
    "print(\"beta_0: %f\" % beta_0)  # beta_0: 2.979067\n",
    "print(\"beta_1: %f\" % beta_1)  # beta_1: 0.044730\n",
    "print(\"beta_2: %f\" % beta_2)  # beta_2: 0.189195\n",
    "print(\"beta_3: %f\" % beta_3)  # beta_3: 0.002761\n"
   ]
  },
  {
   "cell_type": "markdown",
   "id": "82fce076",
   "metadata": {},
   "source": [
    "#### 다중 회귀 분석하기 - 예측하기\n",
    "\n",
    "위에서 학습한 다중 선형 회귀 모델을 바탕으로 이번엔 새로운 광고 비용에 따른 `Sales` 값을 예측해 보자.\n",
    "\n",
    "- `predict()` : `LinearRegression`의 예측을 위한 함수\n",
    "  - `pred_X = lrmodel.predict(X)`\n",
    "\n"
   ]
  },
  {
   "cell_type": "markdown",
   "id": "f0ee9f1a",
   "metadata": {},
   "source": [
    "test_X에 대해서 예측합니다."
   ]
  },
  {
   "cell_type": "code",
   "execution_count": null,
   "id": "b2e0cded",
   "metadata": {},
   "outputs": [
    {
     "name": "stdout",
     "output_type": "stream",
     "text": [
      "test_X에 대한 예측값 : \n",
      "[16.4080242  20.88988209 21.55384318 10.60850256 22.11237326 13.10559172\n",
      " 21.05719192  7.46101034 13.60634581 15.15506967  9.04831992  6.65328312\n",
      " 14.34554487  8.90349333  9.68959028 12.16494386  8.73628397 16.26507258\n",
      " 10.27759582 18.83109103 19.56036653 13.25103464 12.33620695 21.30695132\n",
      "  7.82740305  5.80957448 20.75753231 11.98138077  9.18349576  8.5066991\n",
      " 12.46646769 10.00337695 21.3876709  12.24966368 18.26661538 20.13766267\n",
      " 14.05514005 20.85411186 11.0174441   4.56899622]\n",
      "\n"
     ]
    }
   ],
   "source": [
    "# test_X에 대해서 예측합니다.\n",
    "\n",
    "print('test_X에 대한 예측값 : \\n{}\\n'.format(pred_X))"
   ]
  },
  {
   "cell_type": "markdown",
   "id": "768e1ee6",
   "metadata": {},
   "source": [
    "train_X에 대해서 예측합니다."
   ]
  },
  {
   "cell_type": "code",
   "execution_count": 51,
   "id": "0e9f4cea",
   "metadata": {},
   "outputs": [
    {
     "data": {
      "text/html": [
       "<div>\n",
       "<style scoped>\n",
       "    .dataframe tbody tr th:only-of-type {\n",
       "        vertical-align: middle;\n",
       "    }\n",
       "\n",
       "    .dataframe tbody tr th {\n",
       "        vertical-align: top;\n",
       "    }\n",
       "\n",
       "    .dataframe thead th {\n",
       "        text-align: right;\n",
       "    }\n",
       "</style>\n",
       "<table border=\"1\" class=\"dataframe\">\n",
       "  <thead>\n",
       "    <tr style=\"text-align: right;\">\n",
       "      <th></th>\n",
       "      <th>FB</th>\n",
       "      <th>TV</th>\n",
       "      <th>Newspaper</th>\n",
       "    </tr>\n",
       "  </thead>\n",
       "  <tbody>\n",
       "    <tr>\n",
       "      <th>79</th>\n",
       "      <td>116.0</td>\n",
       "      <td>7.7</td>\n",
       "      <td>23.1</td>\n",
       "    </tr>\n",
       "    <tr>\n",
       "      <th>197</th>\n",
       "      <td>177.0</td>\n",
       "      <td>9.3</td>\n",
       "      <td>6.4</td>\n",
       "    </tr>\n",
       "    <tr>\n",
       "      <th>38</th>\n",
       "      <td>43.1</td>\n",
       "      <td>26.7</td>\n",
       "      <td>35.1</td>\n",
       "    </tr>\n",
       "    <tr>\n",
       "      <th>24</th>\n",
       "      <td>62.3</td>\n",
       "      <td>12.6</td>\n",
       "      <td>18.3</td>\n",
       "    </tr>\n",
       "    <tr>\n",
       "      <th>122</th>\n",
       "      <td>224.0</td>\n",
       "      <td>2.4</td>\n",
       "      <td>15.6</td>\n",
       "    </tr>\n",
       "    <tr>\n",
       "      <th>...</th>\n",
       "      <td>...</td>\n",
       "      <td>...</td>\n",
       "      <td>...</td>\n",
       "    </tr>\n",
       "    <tr>\n",
       "      <th>106</th>\n",
       "      <td>25.0</td>\n",
       "      <td>11.0</td>\n",
       "      <td>29.7</td>\n",
       "    </tr>\n",
       "    <tr>\n",
       "      <th>14</th>\n",
       "      <td>204.1</td>\n",
       "      <td>32.9</td>\n",
       "      <td>46.0</td>\n",
       "    </tr>\n",
       "    <tr>\n",
       "      <th>92</th>\n",
       "      <td>217.7</td>\n",
       "      <td>33.5</td>\n",
       "      <td>59.0</td>\n",
       "    </tr>\n",
       "    <tr>\n",
       "      <th>179</th>\n",
       "      <td>165.6</td>\n",
       "      <td>10.0</td>\n",
       "      <td>17.6</td>\n",
       "    </tr>\n",
       "    <tr>\n",
       "      <th>102</th>\n",
       "      <td>280.2</td>\n",
       "      <td>10.1</td>\n",
       "      <td>21.4</td>\n",
       "    </tr>\n",
       "  </tbody>\n",
       "</table>\n",
       "<p>160 rows × 3 columns</p>\n",
       "</div>"
      ],
      "text/plain": [
       "        FB    TV  Newspaper\n",
       "79   116.0   7.7       23.1\n",
       "197  177.0   9.3        6.4\n",
       "38    43.1  26.7       35.1\n",
       "24    62.3  12.6       18.3\n",
       "122  224.0   2.4       15.6\n",
       "..     ...   ...        ...\n",
       "106   25.0  11.0       29.7\n",
       "14   204.1  32.9       46.0\n",
       "92   217.7  33.5       59.0\n",
       "179  165.6  10.0       17.6\n",
       "102  280.2  10.1       21.4\n",
       "\n",
       "[160 rows x 3 columns]"
      ]
     },
     "execution_count": 51,
     "metadata": {},
     "output_type": "execute_result"
    }
   ],
   "source": [
    "train_X"
   ]
  },
  {
   "cell_type": "code",
   "execution_count": 85,
   "id": "bf4be9e2",
   "metadata": {},
   "outputs": [
    {
     "data": {
      "text/plain": [
       "((160,), (160,))"
      ]
     },
     "execution_count": 85,
     "metadata": {},
     "output_type": "execute_result"
    }
   ],
   "source": [
    "train_X['FB'].shape, train_Y.shape"
   ]
  },
  {
   "cell_type": "code",
   "execution_count": null,
   "id": "de52787d",
   "metadata": {},
   "outputs": [],
   "source": [
    "# train_X 의 예측\n",
    "y_pred = "
   ]
  },
  {
   "cell_type": "code",
   "execution_count": 87,
   "id": "02105c41",
   "metadata": {},
   "outputs": [
    {
     "data": {
      "text/plain": [
       "(160,)"
      ]
     },
     "execution_count": 87,
     "metadata": {},
     "output_type": "execute_result"
    }
   ],
   "source": [
    "y_pred.shape"
   ]
  },
  {
   "cell_type": "code",
   "execution_count": null,
   "id": "93386b37",
   "metadata": {},
   "outputs": [
    {
     "name": "stdout",
     "output_type": "stream",
     "text": [
      "\n",
      "--- 학습된 모델의 회귀 계수 (Coefficients) ---\n",
      "FB: 0.0447\n",
      "TV: 0.1892\n",
      "Newspaper: 0.0028\n",
      "Intercept: 2.9791\n"
     ]
    }
   ],
   "source": [
    "print(\"\\n--- 학습된 모델의 회귀 계수 (Coefficients) ---\")\n",
    "\n",
    "\n"
   ]
  },
  {
   "cell_type": "code",
   "execution_count": null,
   "id": "38a4e4ba",
   "metadata": {},
   "outputs": [
    {
     "data": {
      "image/png": "[encoded data removed]",
      "text/plain": [
       "<Figure size 500x400 with 1 Axes>"
      ]
     },
     "metadata": {},
     "output_type": "display_data"
    }
   ],
   "source": [
    "# 회귀분석 결과를 시각화 한다.\n",
    "plt.figure(figsize=(5,4))\n",
    "\n",
    "# 산점도를 그려 봅니다.\n",
    "\n",
    "\n",
    "\n",
    "\n",
    "plt.title('선형 회귀분석의 예')\n",
    "plt.legend()\n",
    "plt.show()"
   ]
  },
  {
   "cell_type": "markdown",
   "id": "e18815ab",
   "metadata": {},
   "source": [
    "### - 예측"
   ]
  },
  {
   "cell_type": "code",
   "execution_count": 82,
   "id": "79a7139f",
   "metadata": {},
   "outputs": [
    {
     "name": "stdout",
     "output_type": "stream",
     "text": [
      "df1 : \n",
      "   FB  TV  Newspaper\n",
      "0   0   0          0\n",
      "1   1   0          0\n",
      "2   0   1          0\n",
      "3   0   0          1\n",
      "4   1   1          1\n"
     ]
    }
   ],
   "source": [
    "# 새로운 데이터 df1을 정의합니다\n",
    "df1 = pd.DataFrame(np.array([[0, 0, 0], [1, 0, 0], [0, 1, 0], [0, 0, 1], [1, 1, 1]]),\n",
    "                    columns=['FB', 'TV', 'Newspaper'])\n",
    "print('df1 : ')\n",
    "print(df1)\n"
   ]
  },
  {
   "cell_type": "code",
   "execution_count": null,
   "id": "61366992",
   "metadata": {},
   "outputs": [
    {
     "name": "stdout",
     "output_type": "stream",
     "text": [
      "df1에 대한 예측값 : \n",
      "[2.97906734 3.02379686 3.16826239 2.98182845 3.21575302]\n"
     ]
    }
   ],
   "source": [
    "#2. df1에 대해서 예측합니다.\n",
    "\n",
    "print('df1에 대한 예측값 : \\n{}'.format(pred_df1))"
   ]
  },
  {
   "cell_type": "code",
   "execution_count": null,
   "id": "b76b9f4f",
   "metadata": {},
   "outputs": [],
   "source": []
  },
  {
   "cell_type": "markdown",
   "id": "f67ddd9f",
   "metadata": {},
   "source": [
    "# 회귀 평가 지표\n",
    "- 모델링 이후에는 해당 모델이 얼마나 목표를 잘 달성했는지 그 정도를 평가해야 한다.\n",
    "  - 실제 값과 모델이 예측하는 값의 차이에 기반한 평가 방법 사용\n",
    "    - 예) ***RSS, MSE, MAE, MAPE, $R^2$***\n"
   ]
  },
  {
   "cell_type": "markdown",
   "id": "b1210538",
   "metadata": {},
   "source": [
    "#### RSS - 단순 오차\n",
    "\n",
    "<p align=\"center\">\n",
    "  <img src=\"https://user-images.githubusercontent.com/61646760/142760068-08dc44aa-2393-40fc-8206-469b206a11ae.png\" />\n",
    "</p>\n",
    "\n",
    "- **잔차 제곱 합 (RSS: residual sum of squares)**\n",
    "  - 실제 값과 예측 값의 단순 오차 제곱 합 \n",
    "  - 값이 작을수록 모델의 성능이 높음 \n",
    "  - 전체 데이터에 대한 실제 값과 예측하는 값의 오차 제곱의 총합\n",
    "- RSS 특징\n",
    "  - 가장 간단한 평가 방법으로 직관적인 해석이 가능함\n",
    "  - 그러나 오차를 그대로 이용하기 때문에 입력값의 **크기에 의존적**임\n",
    "  - 절대적인 값과 비교가 불가능함\n",
    "\n"
   ]
  },
  {
   "cell_type": "markdown",
   "id": "9d3bfabf",
   "metadata": {},
   "source": [
    "#### MSE, MAE - 절대적인 크기에 의존한 지표\n",
    "\n",
    "<p align=\"center\">\n",
    "  <img src=\"https://user-images.githubusercontent.com/61646760/142760333-4ecafd8d-d7d0-499a-882d-54a8a119ab0a.png\" /><br>\n",
    "  <img src=\"https://user-images.githubusercontent.com/61646760/142760435-ef233285-b219-4b67-96a7-490740a7003c.png\" />\n",
    "</p>\n",
    "\n",
    "- **평균 제곱 오차 (MSE: Mean Squared Error)**\n",
    "  - RSS에서 데이터 수만큼 나눈 값\n",
    "  - 작을수록 모델의 성능이 높다고 평가할 수 있음\n",
    "- **평균 절대 오차 (MAE: Mean Absolute Error)**\n",
    "  - 평균 절댓값 오차\n",
    "  - 실제 값과 예측값의 오차의 절댓값의 평균\n",
    "  - 작을수록 모델의 성능이 높다고 평가할 수 있음\n",
    "- MSE, MAE 특징\n",
    "  - **MSE** : 이상치(Outlier) 즉, 데이터들 중 크게 떨어진 값에 민감함 \n",
    "  - **MAE** : 변동성이 큰 지표와 낮은 지표를 같이 예측할 시 유용 \n",
    "  - 가장 간단한 평가 방법들로 직관적인 해석이 가능함 \n",
    "  - 그러나 평균을 그대로 이용하기 때문에 입력 값의 크기에 의존적임 \n",
    "  - 절대적인 값과 비교가 불가능함\n",
    "\n"
   ]
  },
  {
   "cell_type": "markdown",
   "id": "d9c56ae9",
   "metadata": {},
   "source": [
    "### **RMSE** | Root Mean Squared Error\n",
    "\n",
    "MSE에 root를 씌운 값. 오류 지표를 실제 값과 유사한 단위로 다시 변환하기에 해석이 다소 용이해진다.\n",
    "\n",
    "$$ RMSE = \\sqrt{ \\frac{1}{n} \\sum_{i=1}^{n} \\left( y_i - \\hat{y}_i \\right)^2} $$\n",
    "\n",
    " - n: 레코드 수\n",
    " -  i: 각 레코드 행의 인덱스\n",
    " - yi: i번째 행 데이터 실제값\n",
    " - $\\bar{y_i}$: i번째 행 데이터 예측 값"
   ]
  },
  {
   "cell_type": "markdown",
   "id": "b191d48f",
   "metadata": {},
   "source": [
    "**RMSE 특징**\n",
    " \n",
    " - 값을 최소화 했을 때 결과가, 오차가 정규분포를 따른다.\n",
    " - RMSE를 최소화 하는 예측 값이 평균값이다. \n",
    " "
   ]
  },
  {
   "cell_type": "markdown",
   "id": "86c2b819",
   "metadata": {},
   "source": [
    "### **RMSLE** | Root Mean Squared Log Error\n",
    "\n",
    "오차를 구할 때 RMSE와는 log를 추가하는 점이 다르다.\n",
    "\n",
    "$$ RMSLE = \\sqrt{ \\frac{1}{n} \\sum_{i=1}^{n} \\left( \\log (\\hat{y}_i + 1) - \\log(y_i +1) \\right)^2} $$\n",
    "- log(0)이 나오는 것을 방지하기 위해 +1을 해주었다.\n",
    "- 데이터에 `-` 가 있으면 안된다."
   ]
  },
  {
   "cell_type": "markdown",
   "id": "9126469a",
   "metadata": {},
   "source": [
    "RMSLE의 특징\n",
    "\n",
    "1. 아웃라이어에 덜 민감하다. (robust) : 아웃라이어가 있더라도 값의 변동폭이 크지 않다.\n",
    "2. 상대적 Error를 측정해준다. \n",
    "      - 값의 절대적 크기가 커지면 RMSE의 값도 커지지만, RMSLE는 상대적 크기가 동일하다면 RMSLE의 값도 동일하다.\n",
    "      - 예측값 = 100, 실제값 = 90일 때, RMSLE = 0.1053, RMSE = 10\n",
    "      - 예측값 = 10,000, 실제값 = 9,000일 때, RMSLE = 0.1053, RMSE = 1,000\n"
   ]
  },
  {
   "cell_type": "markdown",
   "id": "b9374096",
   "metadata": {},
   "source": [
    "### R-squared 결정 계수\n",
    "\n",
    "\n",
    "결정계수는 실제 관측값의 분산대비 예측값의 분산을 계산하여 데이터 예측의 정확도 성능을 측정하는 지표이다. 0~1까지 수로 나타내어지며 1에 가까울수록 100%의 설명력을 가진 모델이라고 평가를 하게된다. \n",
    " - 분산 기반으로 예측 성능을 평가. \n",
    "  - 회귀 모델의 설명력을 표현하는 지표\n",
    "  - 1에 가까울수록 높은 성능의 모델이라고 해석할 수 있음\n",
    "\n",
    "\n",
    "$$\\begin{aligned} \n",
    "R^2 &= \\frac{ \\text{SSE}}{\\text{SST}}\\\\\n",
    "&= 1 - \\frac{ \\text{SSR}}{ \\text{SST}}\n",
    "\\end{aligned}\n",
    "$$\n",
    "\n"
   ]
  },
  {
   "cell_type": "markdown",
   "id": "bfa67084",
   "metadata": {},
   "source": [
    "\n",
    "SST 총 제곱합, SSE는 회귀식 추정값과 관측값의 평균 간 차이인 회귀제곱합, SSR은 잔차 제곱합이다.\n",
    "\n",
    "$$ \\text{SST} = \\sum_{i=1}^{n} ( y_i - \\bar{y_i} )^2 \\\\\n",
    "\\\\\n",
    "\\text{SSE} = \\sum_{i=1}^{n} (\\hat{y_i} - \\bar{y_i} )^2\n",
    "\\\\\n",
    "\\text{SSR} = \\sum_{i=1}^{n} (y_i - \\hat{y_i} )^2\n",
    "$$\n",
    "\n",
    "- $y_i$: 관측값\n",
    "- $\\bar{y_i}$ : 관측값 평균\n",
    "- $\\hat{y_i}$ : 회귀 추정값"
   ]
  },
  {
   "cell_type": "markdown",
   "id": "cceb6179",
   "metadata": {},
   "source": [
    "###  평가 지표 정리\n",
    "\n",
    "- 0에 가까울 수록 좋은 성능: MSE, MAE, RMSE, RMSLE\n",
    "- 1에 가까울 수록 좋은 성능: R-Squared\n",
    " "
   ]
  },
  {
   "cell_type": "markdown",
   "id": "caa5a38b",
   "metadata": {},
   "source": [
    "### 실습: 평가지표\n",
    "\n",
    "앞에 이어 `Sales` 예측 모델의 성능을 평가하기 위해서 다양한 회귀 알고리즘 평가 지표를 사용하여 비교해 보자.\n",
    "\n",
    "이번 실습에서는 학습용 및 평가용 데이터에 대해서 MSE와 MAE을 계산해 보겠다. sklearn 라이브러리 함수를 통하여 쉽게 구할 수 있다. N 은 전체 샘플의 개수를 의미함)\n",
    "\n",
    "MSE, MAE 평가 지표를 계산하기 위한 sklearn 함수\n",
    "  - `from sklearn.metrics import mean_squared_error` :  MSE 값 계산하기\n",
    "    - `mean_squared_error(y_true, y_pred)`\n",
    "  - `from sklearn.metrics import mean_absolute_error` : MAE 값 계산하기\n",
    "    - `mean_absolute_error(y_true, y_pred)`\n",
    "\n",
    "```\n"
   ]
  },
  {
   "cell_type": "code",
   "execution_count": null,
   "id": "a4aab745",
   "metadata": {},
   "outputs": [],
   "source": [
    "import numpy as np\n",
    "import pandas as pd\n",
    "from sklearn.linear_model import LinearRegression\n",
    "from sklearn.metrics import r2_score\n",
    "from sklearn.model_selection import train_test_split\n",
    "from sklearn.metrics import mean_absolute_error\n",
    "from sklearn.metrics import mean_squared_error\n",
    "\n",
    "\n",
    "# 데이터를 읽고 전 처리합니다\n",
    "df = pd.read_csv(\"data/Advertising.csv\")\n",
    "df = df.drop(columns=['Unnamed: 0'])\n",
    "\n",
    "X = df.drop(columns=['Sales'])\n",
    "Y = df['Sales']\n",
    "\n",
    "# 훈련데이터 분할\n",
    "\n",
    "\n",
    "\n",
    "# 다중 선형 회귀 모델을 초기화하고 학습합니다\n",
    "\n",
    "\n",
    "# train_X 의 예측값을 계산합니다\n",
    "\n"
   ]
  },
  {
   "cell_type": "code",
   "execution_count": 3,
   "id": "41d09d60",
   "metadata": {},
   "outputs": [
    {
     "data": {
      "text/plain": [
       "(2.7826550430375327, 1.2536683102080395)"
      ]
     },
     "execution_count": 3,
     "metadata": {},
     "output_type": "execute_result"
    }
   ],
   "source": [
    "import numpy as np\n",
    "import pandas as pd\n",
    "from sklearn.linear_model import LinearRegression\n",
    "from sklearn.metrics import r2_score\n",
    "from sklearn.model_selection import train_test_split\n",
    "from sklearn.metrics import mean_absolute_error\n",
    "from sklearn.metrics import mean_squared_error\n",
    "\n",
    "\n",
    "# 데이터를 읽고 전 처리합니다\n",
    "df1 = pd.read_csv(\"./data/Advertising.csv\")\n",
    "df1 = df1.drop(columns=['Unnamed: 0'])\n",
    "\n",
    "X = df1.drop(columns=['Sales'])\n",
    "y = df1['Sales']\n",
    "\n",
    "X_train, X_test, y_train, y_test = train_test_split(X, y, test_size = 2, random_state = 50)\n",
    "\n",
    "lg_clf1=LinearRegression()\n",
    "lg_clf1.fit(X_train,y_train)\n",
    "\n",
    "pred_train=lg_clf1.predict(X_train)\n",
    "MSE_train=mean_squared_error(y_train,pred_train)\n",
    "MAE_train=mean_absolute_error(y_train,pred_train)\n",
    "MSE_train,MAE_train"
   ]
  },
  {
   "cell_type": "code",
   "execution_count": 4,
   "id": "9f0dd4fa",
   "metadata": {},
   "outputs": [
    {
     "data": {
      "text/plain": [
       "(3.1512468619012837, 1.3710779291742359)"
      ]
     },
     "execution_count": 4,
     "metadata": {},
     "output_type": "execute_result"
    }
   ],
   "source": [
    "pred_test=lg_clf1.predict(X_test)\n",
    "MSE_test=mean_squared_error(y_test,pred_test)\n",
    "MAE_test=mean_absolute_error(y_test,pred_test)\n",
    "MSE_test,MAE_test"
   ]
  },
  {
   "cell_type": "code",
   "execution_count": null,
   "id": "14387e6f",
   "metadata": {},
   "outputs": [
    {
     "name": "stdout",
     "output_type": "stream",
     "text": [
      "MSE_train : 2.705129\n",
      "MAE_train : 1.198468\n",
      "MSE_test : 3.174097\n",
      "MAE_test : 1.460757\n"
     ]
    }
   ],
   "source": [
    "# 1. train_X 의 MSE, MAE 값을 계산합니다\n",
    "\n",
    "\n",
    "\n",
    "print('MSE_train : %f' % MSE_train)  # MSE_train : 2.705129\n",
    "print('MAE_train : %f' % MAE_train)  # MAE_train : 1.198468\n",
    "\n",
    "# test_X 의 예측값을 계산합니다\n",
    "\n",
    "\n",
    "# 2. test_X 의 MSE, MAE 값을 계산합니다\n",
    "\n",
    "print('MSE_test : %f' % MSE_test)  # MSE_test : 3.174097\n",
    "print('MAE_test : %f' % MAE_test)  # MAE_test : 1.460757"
   ]
  },
  {
   "cell_type": "markdown",
   "id": "4533095d",
   "metadata": {},
   "source": [
    "#### 실습 R2 평가지표\n",
    "\n",
    "앞에 이어 `Sales` 예측 모델의 성능을 평가하기 위해서 다양한 회귀 알고리즘 평가 지표를 사용하여 비교해 보자.\n",
    "\n",
    "이번 실습에서는 학습용 및 평가용 데이터에 대해 R2 score를 계산해 보겠다.\n",
    "\n",
    "R2 score는 위와 같이 정의할 수 있고 sklearn 라이브러리 함수를 통하여 쉽게 구할 수 있다. $N$ 은 전체 샘플의 개수를 의미함)\n",
    "\n"
   ]
  },
  {
   "cell_type": "markdown",
   "id": "9f33e1e4",
   "metadata": {},
   "source": [
    "R2 평가 지표를 계산하기 위한 sklearn 함수\n",
    "  - `from sklearn.metrics import r2_score`"
   ]
  },
  {
   "cell_type": "code",
   "execution_count": null,
   "id": "d0e6686a",
   "metadata": {},
   "outputs": [
    {
     "name": "stdout",
     "output_type": "stream",
     "text": [
      "R2_train : 0.895701\n",
      "R2_test : 0.899438\n"
     ]
    }
   ],
   "source": [
    "import numpy as np\n",
    "import pandas as pd\n",
    "from sklearn.linear_model import LinearRegression\n",
    "from sklearn.metrics import r2_score\n",
    "from sklearn.model_selection import train_test_split\n",
    "\n",
    "from sklearn.metrics import mean_absolute_error\n",
    "from sklearn.metrics import mean_squared_error\n",
    "\n",
    "\n",
    "# 데이터를 읽고 전 처리합니다\n",
    "df = pd.read_csv(\"./data/Advertising.csv\")\n",
    "df = df.drop(columns=['Unnamed: 0'])\n",
    "\n",
    "X = df.drop(columns=['Sales'])\n",
    "Y = df['Sales']\n",
    "\n",
    "# 훈련데이터 분할\n",
    "\n",
    "\n",
    "\n",
    "# 다중 선형 회귀 모델을 초기화 하고 학습합니다\n",
    "\n",
    "\n",
    "\n",
    "# train_X 의 예측값을 계산합니다\n",
    "\n",
    "\n",
    "\"\"\"\n",
    "1. train_X 의 R2 값을 계산합니다\n",
    "\"\"\"\n",
    "\n",
    "print('R2_train : %f' % R2_train)  # R2_train : 0.895701\n",
    "\n",
    "# test_X 의 예측값을 계산합니다\n",
    "\n",
    "\n",
    "\"\"\"\n",
    "2. test_X 의 R2 값을 계산합니다\n",
    "\"\"\"\n",
    "\n",
    "print('R2_test : %f' % R2_test)  # R2_test : 0.899438"
   ]
  },
  {
   "cell_type": "code",
   "execution_count": 13,
   "id": "da27f046",
   "metadata": {},
   "outputs": [
    {
     "data": {
      "text/plain": [
       "0.8982071449737832"
      ]
     },
     "execution_count": 13,
     "metadata": {},
     "output_type": "execute_result"
    }
   ],
   "source": [
    "import numpy as np\n",
    "import pandas as pd\n",
    "from sklearn.linear_model import LinearRegression\n",
    "from sklearn.metrics import r2_score\n",
    "from sklearn.model_selection import train_test_split\n",
    "from sklearn.metrics import mean_absolute_error\n",
    "from sklearn.metrics import mean_squared_error\n",
    "\n",
    "R2_train=r2_score(y_train,pred_train)\n",
    "R2_train"
   ]
  },
  {
   "cell_type": "code",
   "execution_count": 16,
   "id": "4c4313ed",
   "metadata": {},
   "outputs": [
    {
     "data": {
      "text/plain": [
       "array([13.85648235, 14.3986382 ])"
      ]
     },
     "execution_count": 16,
     "metadata": {},
     "output_type": "execute_result"
    }
   ],
   "source": [
    "lg_clf2=LinearRegression()\n",
    "lg_clf2.fit(X_train,y_train)\n",
    "lg_clf2.predict(X_test)"
   ]
  },
  {
   "cell_type": "code",
   "execution_count": 14,
   "id": "1eb519a0",
   "metadata": {},
   "outputs": [
    {
     "data": {
      "text/plain": [
       "-1.6043362495051947"
      ]
     },
     "execution_count": 14,
     "metadata": {},
     "output_type": "execute_result"
    }
   ],
   "source": [
    "R2_test=r2_score(y_test,pred_test)\n",
    "R2_test"
   ]
  },
  {
   "cell_type": "markdown",
   "id": "8490531c",
   "metadata": {},
   "source": [
    "## ex) iris data 평가지표\n",
    "\n",
    "iris 데이터 세트로 확인해 보자."
   ]
  },
  {
   "cell_type": "code",
   "execution_count": 96,
   "id": "6ebf8bc7",
   "metadata": {},
   "outputs": [],
   "source": [
    "from sklearn.datasets import load_iris\n",
    "from sklearn.model_selection import train_test_split\n",
    "\n",
    "iris_dataset = load_iris()"
   ]
  },
  {
   "cell_type": "code",
   "execution_count": 97,
   "id": "c63d78eb",
   "metadata": {},
   "outputs": [
    {
     "data": {
      "text/html": [
       "<div>\n",
       "<style scoped>\n",
       "    .dataframe tbody tr th:only-of-type {\n",
       "        vertical-align: middle;\n",
       "    }\n",
       "\n",
       "    .dataframe tbody tr th {\n",
       "        vertical-align: top;\n",
       "    }\n",
       "\n",
       "    .dataframe thead th {\n",
       "        text-align: right;\n",
       "    }\n",
       "</style>\n",
       "<table border=\"1\" class=\"dataframe\">\n",
       "  <thead>\n",
       "    <tr style=\"text-align: right;\">\n",
       "      <th></th>\n",
       "      <th>sepal length (cm)</th>\n",
       "      <th>sepal width (cm)</th>\n",
       "      <th>petal length (cm)</th>\n",
       "      <th>petal width (cm)</th>\n",
       "      <th>target</th>\n",
       "    </tr>\n",
       "  </thead>\n",
       "  <tbody>\n",
       "    <tr>\n",
       "      <th>0</th>\n",
       "      <td>5.1</td>\n",
       "      <td>3.5</td>\n",
       "      <td>1.4</td>\n",
       "      <td>0.2</td>\n",
       "      <td>0</td>\n",
       "    </tr>\n",
       "    <tr>\n",
       "      <th>1</th>\n",
       "      <td>4.9</td>\n",
       "      <td>3.0</td>\n",
       "      <td>1.4</td>\n",
       "      <td>0.2</td>\n",
       "      <td>0</td>\n",
       "    </tr>\n",
       "    <tr>\n",
       "      <th>2</th>\n",
       "      <td>4.7</td>\n",
       "      <td>3.2</td>\n",
       "      <td>1.3</td>\n",
       "      <td>0.2</td>\n",
       "      <td>0</td>\n",
       "    </tr>\n",
       "    <tr>\n",
       "      <th>3</th>\n",
       "      <td>4.6</td>\n",
       "      <td>3.1</td>\n",
       "      <td>1.5</td>\n",
       "      <td>0.2</td>\n",
       "      <td>0</td>\n",
       "    </tr>\n",
       "    <tr>\n",
       "      <th>4</th>\n",
       "      <td>5.0</td>\n",
       "      <td>3.6</td>\n",
       "      <td>1.4</td>\n",
       "      <td>0.2</td>\n",
       "      <td>0</td>\n",
       "    </tr>\n",
       "    <tr>\n",
       "      <th>...</th>\n",
       "      <td>...</td>\n",
       "      <td>...</td>\n",
       "      <td>...</td>\n",
       "      <td>...</td>\n",
       "      <td>...</td>\n",
       "    </tr>\n",
       "    <tr>\n",
       "      <th>145</th>\n",
       "      <td>6.7</td>\n",
       "      <td>3.0</td>\n",
       "      <td>5.2</td>\n",
       "      <td>2.3</td>\n",
       "      <td>2</td>\n",
       "    </tr>\n",
       "    <tr>\n",
       "      <th>146</th>\n",
       "      <td>6.3</td>\n",
       "      <td>2.5</td>\n",
       "      <td>5.0</td>\n",
       "      <td>1.9</td>\n",
       "      <td>2</td>\n",
       "    </tr>\n",
       "    <tr>\n",
       "      <th>147</th>\n",
       "      <td>6.5</td>\n",
       "      <td>3.0</td>\n",
       "      <td>5.2</td>\n",
       "      <td>2.0</td>\n",
       "      <td>2</td>\n",
       "    </tr>\n",
       "    <tr>\n",
       "      <th>148</th>\n",
       "      <td>6.2</td>\n",
       "      <td>3.4</td>\n",
       "      <td>5.4</td>\n",
       "      <td>2.3</td>\n",
       "      <td>2</td>\n",
       "    </tr>\n",
       "    <tr>\n",
       "      <th>149</th>\n",
       "      <td>5.9</td>\n",
       "      <td>3.0</td>\n",
       "      <td>5.1</td>\n",
       "      <td>1.8</td>\n",
       "      <td>2</td>\n",
       "    </tr>\n",
       "  </tbody>\n",
       "</table>\n",
       "<p>150 rows × 5 columns</p>\n",
       "</div>"
      ],
      "text/plain": [
       "     sepal length (cm)  sepal width (cm)  petal length (cm)  petal width (cm)  \\\n",
       "0                  5.1               3.5                1.4               0.2   \n",
       "1                  4.9               3.0                1.4               0.2   \n",
       "2                  4.7               3.2                1.3               0.2   \n",
       "3                  4.6               3.1                1.5               0.2   \n",
       "4                  5.0               3.6                1.4               0.2   \n",
       "..                 ...               ...                ...               ...   \n",
       "145                6.7               3.0                5.2               2.3   \n",
       "146                6.3               2.5                5.0               1.9   \n",
       "147                6.5               3.0                5.2               2.0   \n",
       "148                6.2               3.4                5.4               2.3   \n",
       "149                5.9               3.0                5.1               1.8   \n",
       "\n",
       "     target  \n",
       "0         0  \n",
       "1         0  \n",
       "2         0  \n",
       "3         0  \n",
       "4         0  \n",
       "..      ...  \n",
       "145       2  \n",
       "146       2  \n",
       "147       2  \n",
       "148       2  \n",
       "149       2  \n",
       "\n",
       "[150 rows x 5 columns]"
      ]
     },
     "execution_count": 97,
     "metadata": {},
     "output_type": "execute_result"
    }
   ],
   "source": [
    "# 학습 데이터를 DataFrame으로 확인\n",
    "iris_df = pd.DataFrame(iris_dataset['data'], # 데이터\n",
    "                       columns=iris_dataset['feature_names'])\n",
    "iris_df['target'] = iris_dataset['target']\n",
    "iris_df"
   ]
  },
  {
   "cell_type": "code",
   "execution_count": null,
   "id": "5de02948",
   "metadata": {},
   "outputs": [],
   "source": [
    "# 훈련데이터 분할\n",
    "X_train, X_test, y_train, y_test = \n",
    "\n",
    "\n"
   ]
  },
  {
   "cell_type": "code",
   "execution_count": 100,
   "id": "db4e1e9a",
   "metadata": {},
   "outputs": [],
   "source": [
    "from sklearn.linear_model import LogisticRegression"
   ]
  },
  {
   "cell_type": "code",
   "execution_count": null,
   "id": "d7364e66",
   "metadata": {},
   "outputs": [
    {
     "name": "stderr",
     "output_type": "stream",
     "text": [
      "/home/qkboo/micromamba/envs/ML_P312/lib/python3.12/site-packages/sklearn/linear_model/_logistic.py:1288: FutureWarning: Using the 'liblinear' solver for multiclass classification is deprecated. An error will be raised in 1.8. Either use another solver which supports the multinomial loss or wrap the estimator in a OneVsRestClassifier to keep applying a one-versus-rest scheme.\n",
      "  warnings.warn(\n"
     ]
    },
    {
     "data": {
      "text/html": [
       "<style>#sk-container-id-1 {\n",
       "  /* Definition of color scheme common for light and dark mode */\n",
       "  --sklearn-color-text: #000;\n",
       "  --sklearn-color-text-muted: #666;\n",
       "  --sklearn-color-line: gray;\n",
       "  /* Definition of color scheme for unfitted estimators */\n",
       "  --sklearn-color-unfitted-level-0: #fff5e6;\n",
       "  --sklearn-color-unfitted-level-1: #f6e4d2;\n",
       "  --sklearn-color-unfitted-level-2: #ffe0b3;\n",
       "  --sklearn-color-unfitted-level-3: chocolate;\n",
       "  /* Definition of color scheme for fitted estimators */\n",
       "  --sklearn-color-fitted-level-0: #f0f8ff;\n",
       "  --sklearn-color-fitted-level-1: #d4ebff;\n",
       "  --sklearn-color-fitted-level-2: #b3dbfd;\n",
       "  --sklearn-color-fitted-level-3: cornflowerblue;\n",
       "\n",
       "  /* Specific color for light theme */\n",
       "  --sklearn-color-text-on-default-background: var(--sg-text-color, var(--theme-code-foreground, var(--jp-content-font-color1, black)));\n",
       "  --sklearn-color-background: var(--sg-background-color, var(--theme-background, var(--jp-layout-color0, white)));\n",
       "  --sklearn-color-border-box: var(--sg-text-color, var(--theme-code-foreground, var(--jp-content-font-color1, black)));\n",
       "  --sklearn-color-icon: #696969;\n",
       "\n",
       "  @media (prefers-color-scheme: dark) {\n",
       "    /* Redefinition of color scheme for dark theme */\n",
       "    --sklearn-color-text-on-default-background: var(--sg-text-color, var(--theme-code-foreground, var(--jp-content-font-color1, white)));\n",
       "    --sklearn-color-background: var(--sg-background-color, var(--theme-background, var(--jp-layout-color0, #111)));\n",
       "    --sklearn-color-border-box: var(--sg-text-color, var(--theme-code-foreground, var(--jp-content-font-color1, white)));\n",
       "    --sklearn-color-icon: #878787;\n",
       "  }\n",
       "}\n",
       "\n",
       "#sk-container-id-1 {\n",
       "  color: var(--sklearn-color-text);\n",
       "}\n",
       "\n",
       "#sk-container-id-1 pre {\n",
       "  padding: 0;\n",
       "}\n",
       "\n",
       "#sk-container-id-1 input.sk-hidden--visually {\n",
       "  border: 0;\n",
       "  clip: rect(1px 1px 1px 1px);\n",
       "  clip: rect(1px, 1px, 1px, 1px);\n",
       "  height: 1px;\n",
       "  margin: -1px;\n",
       "  overflow: hidden;\n",
       "  padding: 0;\n",
       "  position: absolute;\n",
       "  width: 1px;\n",
       "}\n",
       "\n",
       "#sk-container-id-1 div.sk-dashed-wrapped {\n",
       "  border: 1px dashed var(--sklearn-color-line);\n",
       "  margin: 0 0.4em 0.5em 0.4em;\n",
       "  box-sizing: border-box;\n",
       "  padding-bottom: 0.4em;\n",
       "  background-color: var(--sklearn-color-background);\n",
       "}\n",
       "\n",
       "#sk-container-id-1 div.sk-container {\n",
       "  /* jupyter's `normalize.less` sets `[hidden] { display: none; }`\n",
       "     but bootstrap.min.css set `[hidden] { display: none !important; }`\n",
       "     so we also need the `!important` here to be able to override the\n",
       "     default hidden behavior on the sphinx rendered scikit-learn.org.\n",
       "     See: https://github.com/scikit-learn/scikit-learn/issues/21755 */\n",
       "  display: inline-block !important;\n",
       "  position: relative;\n",
       "}\n",
       "\n",
       "#sk-container-id-1 div.sk-text-repr-fallback {\n",
       "  display: none;\n",
       "}\n",
       "\n",
       "div.sk-parallel-item,\n",
       "div.sk-serial,\n",
       "div.sk-item {\n",
       "  /* draw centered vertical line to link estimators */\n",
       "  background-image: linear-gradient(var(--sklearn-color-text-on-default-background), var(--sklearn-color-text-on-default-background));\n",
       "  background-size: 2px 100%;\n",
       "  background-repeat: no-repeat;\n",
       "  background-position: center center;\n",
       "}\n",
       "\n",
       "/* Parallel-specific style estimator block */\n",
       "\n",
       "#sk-container-id-1 div.sk-parallel-item::after {\n",
       "  content: \"\";\n",
       "  width: 100%;\n",
       "  border-bottom: 2px solid var(--sklearn-color-text-on-default-background);\n",
       "  flex-grow: 1;\n",
       "}\n",
       "\n",
       "#sk-container-id-1 div.sk-parallel {\n",
       "  display: flex;\n",
       "  align-items: stretch;\n",
       "  justify-content: center;\n",
       "  background-color: var(--sklearn-color-background);\n",
       "  position: relative;\n",
       "}\n",
       "\n",
       "#sk-container-id-1 div.sk-parallel-item {\n",
       "  display: flex;\n",
       "  flex-direction: column;\n",
       "}\n",
       "\n",
       "#sk-container-id-1 div.sk-parallel-item:first-child::after {\n",
       "  align-self: flex-end;\n",
       "  width: 50%;\n",
       "}\n",
       "\n",
       "#sk-container-id-1 div.sk-parallel-item:last-child::after {\n",
       "  align-self: flex-start;\n",
       "  width: 50%;\n",
       "}\n",
       "\n",
       "#sk-container-id-1 div.sk-parallel-item:only-child::after {\n",
       "  width: 0;\n",
       "}\n",
       "\n",
       "/* Serial-specific style estimator block */\n",
       "\n",
       "#sk-container-id-1 div.sk-serial {\n",
       "  display: flex;\n",
       "  flex-direction: column;\n",
       "  align-items: center;\n",
       "  background-color: var(--sklearn-color-background);\n",
       "  padding-right: 1em;\n",
       "  padding-left: 1em;\n",
       "}\n",
       "\n",
       "\n",
       "/* Toggleable style: style used for estimator/Pipeline/ColumnTransformer box that is\n",
       "clickable and can be expanded/collapsed.\n",
       "- Pipeline and ColumnTransformer use this feature and define the default style\n",
       "- Estimators will overwrite some part of the style using the `sk-estimator` class\n",
       "*/\n",
       "\n",
       "/* Pipeline and ColumnTransformer style (default) */\n",
       "\n",
       "#sk-container-id-1 div.sk-toggleable {\n",
       "  /* Default theme specific background. It is overwritten whether we have a\n",
       "  specific estimator or a Pipeline/ColumnTransformer */\n",
       "  background-color: var(--sklearn-color-background);\n",
       "}\n",
       "\n",
       "/* Toggleable label */\n",
       "#sk-container-id-1 label.sk-toggleable__label {\n",
       "  cursor: pointer;\n",
       "  display: flex;\n",
       "  width: 100%;\n",
       "  margin-bottom: 0;\n",
       "  padding: 0.5em;\n",
       "  box-sizing: border-box;\n",
       "  text-align: center;\n",
       "  align-items: start;\n",
       "  justify-content: space-between;\n",
       "  gap: 0.5em;\n",
       "}\n",
       "\n",
       "#sk-container-id-1 label.sk-toggleable__label .caption {\n",
       "  font-size: 0.6rem;\n",
       "  font-weight: lighter;\n",
       "  color: var(--sklearn-color-text-muted);\n",
       "}\n",
       "\n",
       "#sk-container-id-1 label.sk-toggleable__label-arrow:before {\n",
       "  /* Arrow on the left of the label */\n",
       "  content: \"▸\";\n",
       "  float: left;\n",
       "  margin-right: 0.25em;\n",
       "  color: var(--sklearn-color-icon);\n",
       "}\n",
       "\n",
       "#sk-container-id-1 label.sk-toggleable__label-arrow:hover:before {\n",
       "  color: var(--sklearn-color-text);\n",
       "}\n",
       "\n",
       "/* Toggleable content - dropdown */\n",
       "\n",
       "#sk-container-id-1 div.sk-toggleable__content {\n",
       "  display: none;\n",
       "  text-align: left;\n",
       "  /* unfitted */\n",
       "  background-color: var(--sklearn-color-unfitted-level-0);\n",
       "}\n",
       "\n",
       "#sk-container-id-1 div.sk-toggleable__content.fitted {\n",
       "  /* fitted */\n",
       "  background-color: var(--sklearn-color-fitted-level-0);\n",
       "}\n",
       "\n",
       "#sk-container-id-1 div.sk-toggleable__content pre {\n",
       "  margin: 0.2em;\n",
       "  border-radius: 0.25em;\n",
       "  color: var(--sklearn-color-text);\n",
       "  /* unfitted */\n",
       "  background-color: var(--sklearn-color-unfitted-level-0);\n",
       "}\n",
       "\n",
       "#sk-container-id-1 div.sk-toggleable__content.fitted pre {\n",
       "  /* unfitted */\n",
       "  background-color: var(--sklearn-color-fitted-level-0);\n",
       "}\n",
       "\n",
       "#sk-container-id-1 input.sk-toggleable__control:checked~div.sk-toggleable__content {\n",
       "  /* Expand drop-down */\n",
       "  display: block;\n",
       "  width: 100%;\n",
       "  overflow: visible;\n",
       "}\n",
       "\n",
       "#sk-container-id-1 input.sk-toggleable__control:checked~label.sk-toggleable__label-arrow:before {\n",
       "  content: \"▾\";\n",
       "}\n",
       "\n",
       "/* Pipeline/ColumnTransformer-specific style */\n",
       "\n",
       "#sk-container-id-1 div.sk-label input.sk-toggleable__control:checked~label.sk-toggleable__label {\n",
       "  color: var(--sklearn-color-text);\n",
       "  background-color: var(--sklearn-color-unfitted-level-2);\n",
       "}\n",
       "\n",
       "#sk-container-id-1 div.sk-label.fitted input.sk-toggleable__control:checked~label.sk-toggleable__label {\n",
       "  background-color: var(--sklearn-color-fitted-level-2);\n",
       "}\n",
       "\n",
       "/* Estimator-specific style */\n",
       "\n",
       "/* Colorize estimator box */\n",
       "#sk-container-id-1 div.sk-estimator input.sk-toggleable__control:checked~label.sk-toggleable__label {\n",
       "  /* unfitted */\n",
       "  background-color: var(--sklearn-color-unfitted-level-2);\n",
       "}\n",
       "\n",
       "#sk-container-id-1 div.sk-estimator.fitted input.sk-toggleable__control:checked~label.sk-toggleable__label {\n",
       "  /* fitted */\n",
       "  background-color: var(--sklearn-color-fitted-level-2);\n",
       "}\n",
       "\n",
       "#sk-container-id-1 div.sk-label label.sk-toggleable__label,\n",
       "#sk-container-id-1 div.sk-label label {\n",
       "  /* The background is the default theme color */\n",
       "  color: var(--sklearn-color-text-on-default-background);\n",
       "}\n",
       "\n",
       "/* On hover, darken the color of the background */\n",
       "#sk-container-id-1 div.sk-label:hover label.sk-toggleable__label {\n",
       "  color: var(--sklearn-color-text);\n",
       "  background-color: var(--sklearn-color-unfitted-level-2);\n",
       "}\n",
       "\n",
       "/* Label box, darken color on hover, fitted */\n",
       "#sk-container-id-1 div.sk-label.fitted:hover label.sk-toggleable__label.fitted {\n",
       "  color: var(--sklearn-color-text);\n",
       "  background-color: var(--sklearn-color-fitted-level-2);\n",
       "}\n",
       "\n",
       "/* Estimator label */\n",
       "\n",
       "#sk-container-id-1 div.sk-label label {\n",
       "  font-family: monospace;\n",
       "  font-weight: bold;\n",
       "  display: inline-block;\n",
       "  line-height: 1.2em;\n",
       "}\n",
       "\n",
       "#sk-container-id-1 div.sk-label-container {\n",
       "  text-align: center;\n",
       "}\n",
       "\n",
       "/* Estimator-specific */\n",
       "#sk-container-id-1 div.sk-estimator {\n",
       "  font-family: monospace;\n",
       "  border: 1px dotted var(--sklearn-color-border-box);\n",
       "  border-radius: 0.25em;\n",
       "  box-sizing: border-box;\n",
       "  margin-bottom: 0.5em;\n",
       "  /* unfitted */\n",
       "  background-color: var(--sklearn-color-unfitted-level-0);\n",
       "}\n",
       "\n",
       "#sk-container-id-1 div.sk-estimator.fitted {\n",
       "  /* fitted */\n",
       "  background-color: var(--sklearn-color-fitted-level-0);\n",
       "}\n",
       "\n",
       "/* on hover */\n",
       "#sk-container-id-1 div.sk-estimator:hover {\n",
       "  /* unfitted */\n",
       "  background-color: var(--sklearn-color-unfitted-level-2);\n",
       "}\n",
       "\n",
       "#sk-container-id-1 div.sk-estimator.fitted:hover {\n",
       "  /* fitted */\n",
       "  background-color: var(--sklearn-color-fitted-level-2);\n",
       "}\n",
       "\n",
       "/* Specification for estimator info (e.g. \"i\" and \"?\") */\n",
       "\n",
       "/* Common style for \"i\" and \"?\" */\n",
       "\n",
       ".sk-estimator-doc-link,\n",
       "a:link.sk-estimator-doc-link,\n",
       "a:visited.sk-estimator-doc-link {\n",
       "  float: right;\n",
       "  font-size: smaller;\n",
       "  line-height: 1em;\n",
       "  font-family: monospace;\n",
       "  background-color: var(--sklearn-color-background);\n",
       "  border-radius: 1em;\n",
       "  height: 1em;\n",
       "  width: 1em;\n",
       "  text-decoration: none !important;\n",
       "  margin-left: 0.5em;\n",
       "  text-align: center;\n",
       "  /* unfitted */\n",
       "  border: var(--sklearn-color-unfitted-level-1) 1pt solid;\n",
       "  color: var(--sklearn-color-unfitted-level-1);\n",
       "}\n",
       "\n",
       ".sk-estimator-doc-link.fitted,\n",
       "a:link.sk-estimator-doc-link.fitted,\n",
       "a:visited.sk-estimator-doc-link.fitted {\n",
       "  /* fitted */\n",
       "  border: var(--sklearn-color-fitted-level-1) 1pt solid;\n",
       "  color: var(--sklearn-color-fitted-level-1);\n",
       "}\n",
       "\n",
       "/* On hover */\n",
       "div.sk-estimator:hover .sk-estimator-doc-link:hover,\n",
       ".sk-estimator-doc-link:hover,\n",
       "div.sk-label-container:hover .sk-estimator-doc-link:hover,\n",
       ".sk-estimator-doc-link:hover {\n",
       "  /* unfitted */\n",
       "  background-color: var(--sklearn-color-unfitted-level-3);\n",
       "  color: var(--sklearn-color-background);\n",
       "  text-decoration: none;\n",
       "}\n",
       "\n",
       "div.sk-estimator.fitted:hover .sk-estimator-doc-link.fitted:hover,\n",
       ".sk-estimator-doc-link.fitted:hover,\n",
       "div.sk-label-container:hover .sk-estimator-doc-link.fitted:hover,\n",
       ".sk-estimator-doc-link.fitted:hover {\n",
       "  /* fitted */\n",
       "  background-color: var(--sklearn-color-fitted-level-3);\n",
       "  color: var(--sklearn-color-background);\n",
       "  text-decoration: none;\n",
       "}\n",
       "\n",
       "/* Span, style for the box shown on hovering the info icon */\n",
       ".sk-estimator-doc-link span {\n",
       "  display: none;\n",
       "  z-index: 9999;\n",
       "  position: relative;\n",
       "  font-weight: normal;\n",
       "  right: .2ex;\n",
       "  padding: .5ex;\n",
       "  margin: .5ex;\n",
       "  width: min-content;\n",
       "  min-width: 20ex;\n",
       "  max-width: 50ex;\n",
       "  color: var(--sklearn-color-text);\n",
       "  box-shadow: 2pt 2pt 4pt #999;\n",
       "  /* unfitted */\n",
       "  background: var(--sklearn-color-unfitted-level-0);\n",
       "  border: .5pt solid var(--sklearn-color-unfitted-level-3);\n",
       "}\n",
       "\n",
       ".sk-estimator-doc-link.fitted span {\n",
       "  /* fitted */\n",
       "  background: var(--sklearn-color-fitted-level-0);\n",
       "  border: var(--sklearn-color-fitted-level-3);\n",
       "}\n",
       "\n",
       ".sk-estimator-doc-link:hover span {\n",
       "  display: block;\n",
       "}\n",
       "\n",
       "/* \"?\"-specific style due to the `<a>` HTML tag */\n",
       "\n",
       "#sk-container-id-1 a.estimator_doc_link {\n",
       "  float: right;\n",
       "  font-size: 1rem;\n",
       "  line-height: 1em;\n",
       "  font-family: monospace;\n",
       "  background-color: var(--sklearn-color-background);\n",
       "  border-radius: 1rem;\n",
       "  height: 1rem;\n",
       "  width: 1rem;\n",
       "  text-decoration: none;\n",
       "  /* unfitted */\n",
       "  color: var(--sklearn-color-unfitted-level-1);\n",
       "  border: var(--sklearn-color-unfitted-level-1) 1pt solid;\n",
       "}\n",
       "\n",
       "#sk-container-id-1 a.estimator_doc_link.fitted {\n",
       "  /* fitted */\n",
       "  border: var(--sklearn-color-fitted-level-1) 1pt solid;\n",
       "  color: var(--sklearn-color-fitted-level-1);\n",
       "}\n",
       "\n",
       "/* On hover */\n",
       "#sk-container-id-1 a.estimator_doc_link:hover {\n",
       "  /* unfitted */\n",
       "  background-color: var(--sklearn-color-unfitted-level-3);\n",
       "  color: var(--sklearn-color-background);\n",
       "  text-decoration: none;\n",
       "}\n",
       "\n",
       "#sk-container-id-1 a.estimator_doc_link.fitted:hover {\n",
       "  /* fitted */\n",
       "  background-color: var(--sklearn-color-fitted-level-3);\n",
       "}\n",
       "\n",
       ".estimator-table summary {\n",
       "    padding: .5rem;\n",
       "    font-family: monospace;\n",
       "    cursor: pointer;\n",
       "}\n",
       "\n",
       ".estimator-table details[open] {\n",
       "    padding-left: 0.1rem;\n",
       "    padding-right: 0.1rem;\n",
       "    padding-bottom: 0.3rem;\n",
       "}\n",
       "\n",
       ".estimator-table .parameters-table {\n",
       "    margin-left: auto !important;\n",
       "    margin-right: auto !important;\n",
       "}\n",
       "\n",
       ".estimator-table .parameters-table tr:nth-child(odd) {\n",
       "    background-color: #fff;\n",
       "}\n",
       "\n",
       ".estimator-table .parameters-table tr:nth-child(even) {\n",
       "    background-color: #f6f6f6;\n",
       "}\n",
       "\n",
       ".estimator-table .parameters-table tr:hover {\n",
       "    background-color: #e0e0e0;\n",
       "}\n",
       "\n",
       ".estimator-table table td {\n",
       "    border: 1px solid rgba(106, 105, 104, 0.232);\n",
       "}\n",
       "\n",
       ".user-set td {\n",
       "    color:rgb(255, 94, 0);\n",
       "    text-align: left;\n",
       "}\n",
       "\n",
       ".user-set td.value pre {\n",
       "    color:rgb(255, 94, 0) !important;\n",
       "    background-color: transparent !important;\n",
       "}\n",
       "\n",
       ".default td {\n",
       "    color: black;\n",
       "    text-align: left;\n",
       "}\n",
       "\n",
       ".user-set td i,\n",
       ".default td i {\n",
       "    color: black;\n",
       "}\n",
       "\n",
       ".copy-paste-icon {\n",
       "    background-image: url(data:image/svg+xml;base64,PHN2ZyB4bWxucz0iaHR0cDovL3d3dy53My5vcmcvMjAwMC9zdmciIHZpZXdCb3g9IjAgMCA0NDggNTEyIj48IS0tIUZvbnQgQXdlc29tZSBGcmVlIDYuNy4yIGJ5IEBmb250YXdlc29tZSAtIGh0dHBzOi8vZm9udGF3ZXNvbWUuY29tIExpY2Vuc2UgLSBodHRwczovL2ZvbnRhd2Vzb21lLmNvbS9saWNlbnNlL2ZyZWUgQ29weXJpZ2h0IDIwMjUgRm9udGljb25zLCBJbmMuLS0+PHBhdGggZD0iTTIwOCAwTDMzMi4xIDBjMTIuNyAwIDI0LjkgNS4xIDMzLjkgMTQuMWw2Ny45IDY3LjljOSA5IDE0LjEgMjEuMiAxNC4xIDMzLjlMNDQ4IDMzNmMwIDI2LjUtMjEuNSA0OC00OCA0OGwtMTkyIDBjLTI2LjUgMC00OC0yMS41LTQ4LTQ4bDAtMjg4YzAtMjYuNSAyMS41LTQ4IDQ4LTQ4ek00OCAxMjhsODAgMCAwIDY0LTY0IDAgMCAyNTYgMTkyIDAgMC0zMiA2NCAwIDAgNDhjMCAyNi41LTIxLjUgNDgtNDggNDhMNDggNTEyYy0yNi41IDAtNDgtMjEuNS00OC00OEwwIDE3NmMwLTI2LjUgMjEuNS00OCA0OC00OHoiLz48L3N2Zz4=);\n",
       "    background-repeat: no-repeat;\n",
       "    background-size: 14px 14px;\n",
       "    background-position: 0;\n",
       "    display: inline-block;\n",
       "    width: 14px;\n",
       "    height: 14px;\n",
       "    cursor: pointer;\n",
       "}\n",
       "</style><body><div id=\"sk-container-id-1\" class=\"sk-top-container\"><div class=\"sk-text-repr-fallback\"><pre>LogisticRegression(solver=&#x27;liblinear&#x27;)</pre><b>In a Jupyter environment, please rerun this cell to show the HTML representation or trust the notebook. <br />On GitHub, the HTML representation is unable to render, please try loading this page with nbviewer.org.</b></div><div class=\"sk-container\" hidden><div class=\"sk-item\"><div class=\"sk-estimator fitted sk-toggleable\"><input class=\"sk-toggleable__control sk-hidden--visually\" id=\"sk-estimator-id-1\" type=\"checkbox\" checked><label for=\"sk-estimator-id-1\" class=\"sk-toggleable__label fitted sk-toggleable__label-arrow\"><div><div>LogisticRegression</div></div><div><a class=\"sk-estimator-doc-link fitted\" rel=\"noreferrer\" target=\"_blank\" href=\"https://scikit-learn.org/1.7/modules/generated/sklearn.linear_model.LogisticRegression.html\">?<span>Documentation for LogisticRegression</span></a><span class=\"sk-estimator-doc-link fitted\">i<span>Fitted</span></span></div></label><div class=\"sk-toggleable__content fitted\" data-param-prefix=\"\">\n",
       "        <div class=\"estimator-table\">\n",
       "            <details>\n",
       "                <summary>Parameters</summary>\n",
       "                <table class=\"parameters-table\">\n",
       "                  <tbody>\n",
       "                    \n",
       "        <tr class=\"default\">\n",
       "            <td><i class=\"copy-paste-icon\"\n",
       "                 onclick=\"copyToClipboard('penalty',\n",
       "                          this.parentElement.nextElementSibling)\"\n",
       "            ></i></td>\n",
       "            <td class=\"param\">penalty&nbsp;</td>\n",
       "            <td class=\"value\">&#x27;l2&#x27;</td>\n",
       "        </tr>\n",
       "    \n",
       "\n",
       "        <tr class=\"default\">\n",
       "            <td><i class=\"copy-paste-icon\"\n",
       "                 onclick=\"copyToClipboard('dual',\n",
       "                          this.parentElement.nextElementSibling)\"\n",
       "            ></i></td>\n",
       "            <td class=\"param\">dual&nbsp;</td>\n",
       "            <td class=\"value\">False</td>\n",
       "        </tr>\n",
       "    \n",
       "\n",
       "        <tr class=\"default\">\n",
       "            <td><i class=\"copy-paste-icon\"\n",
       "                 onclick=\"copyToClipboard('tol',\n",
       "                          this.parentElement.nextElementSibling)\"\n",
       "            ></i></td>\n",
       "            <td class=\"param\">tol&nbsp;</td>\n",
       "            <td class=\"value\">0.0001</td>\n",
       "        </tr>\n",
       "    \n",
       "\n",
       "        <tr class=\"default\">\n",
       "            <td><i class=\"copy-paste-icon\"\n",
       "                 onclick=\"copyToClipboard('C',\n",
       "                          this.parentElement.nextElementSibling)\"\n",
       "            ></i></td>\n",
       "            <td class=\"param\">C&nbsp;</td>\n",
       "            <td class=\"value\">1.0</td>\n",
       "        </tr>\n",
       "    \n",
       "\n",
       "        <tr class=\"default\">\n",
       "            <td><i class=\"copy-paste-icon\"\n",
       "                 onclick=\"copyToClipboard('fit_intercept',\n",
       "                          this.parentElement.nextElementSibling)\"\n",
       "            ></i></td>\n",
       "            <td class=\"param\">fit_intercept&nbsp;</td>\n",
       "            <td class=\"value\">True</td>\n",
       "        </tr>\n",
       "    \n",
       "\n",
       "        <tr class=\"default\">\n",
       "            <td><i class=\"copy-paste-icon\"\n",
       "                 onclick=\"copyToClipboard('intercept_scaling',\n",
       "                          this.parentElement.nextElementSibling)\"\n",
       "            ></i></td>\n",
       "            <td class=\"param\">intercept_scaling&nbsp;</td>\n",
       "            <td class=\"value\">1</td>\n",
       "        </tr>\n",
       "    \n",
       "\n",
       "        <tr class=\"default\">\n",
       "            <td><i class=\"copy-paste-icon\"\n",
       "                 onclick=\"copyToClipboard('class_weight',\n",
       "                          this.parentElement.nextElementSibling)\"\n",
       "            ></i></td>\n",
       "            <td class=\"param\">class_weight&nbsp;</td>\n",
       "            <td class=\"value\">None</td>\n",
       "        </tr>\n",
       "    \n",
       "\n",
       "        <tr class=\"default\">\n",
       "            <td><i class=\"copy-paste-icon\"\n",
       "                 onclick=\"copyToClipboard('random_state',\n",
       "                          this.parentElement.nextElementSibling)\"\n",
       "            ></i></td>\n",
       "            <td class=\"param\">random_state&nbsp;</td>\n",
       "            <td class=\"value\">None</td>\n",
       "        </tr>\n",
       "    \n",
       "\n",
       "        <tr class=\"user-set\">\n",
       "            <td><i class=\"copy-paste-icon\"\n",
       "                 onclick=\"copyToClipboard('solver',\n",
       "                          this.parentElement.nextElementSibling)\"\n",
       "            ></i></td>\n",
       "            <td class=\"param\">solver&nbsp;</td>\n",
       "            <td class=\"value\">&#x27;liblinear&#x27;</td>\n",
       "        </tr>\n",
       "    \n",
       "\n",
       "        <tr class=\"default\">\n",
       "            <td><i class=\"copy-paste-icon\"\n",
       "                 onclick=\"copyToClipboard('max_iter',\n",
       "                          this.parentElement.nextElementSibling)\"\n",
       "            ></i></td>\n",
       "            <td class=\"param\">max_iter&nbsp;</td>\n",
       "            <td class=\"value\">100</td>\n",
       "        </tr>\n",
       "    \n",
       "\n",
       "        <tr class=\"default\">\n",
       "            <td><i class=\"copy-paste-icon\"\n",
       "                 onclick=\"copyToClipboard('multi_class',\n",
       "                          this.parentElement.nextElementSibling)\"\n",
       "            ></i></td>\n",
       "            <td class=\"param\">multi_class&nbsp;</td>\n",
       "            <td class=\"value\">&#x27;deprecated&#x27;</td>\n",
       "        </tr>\n",
       "    \n",
       "\n",
       "        <tr class=\"default\">\n",
       "            <td><i class=\"copy-paste-icon\"\n",
       "                 onclick=\"copyToClipboard('verbose',\n",
       "                          this.parentElement.nextElementSibling)\"\n",
       "            ></i></td>\n",
       "            <td class=\"param\">verbose&nbsp;</td>\n",
       "            <td class=\"value\">0</td>\n",
       "        </tr>\n",
       "    \n",
       "\n",
       "        <tr class=\"default\">\n",
       "            <td><i class=\"copy-paste-icon\"\n",
       "                 onclick=\"copyToClipboard('warm_start',\n",
       "                          this.parentElement.nextElementSibling)\"\n",
       "            ></i></td>\n",
       "            <td class=\"param\">warm_start&nbsp;</td>\n",
       "            <td class=\"value\">False</td>\n",
       "        </tr>\n",
       "    \n",
       "\n",
       "        <tr class=\"default\">\n",
       "            <td><i class=\"copy-paste-icon\"\n",
       "                 onclick=\"copyToClipboard('n_jobs',\n",
       "                          this.parentElement.nextElementSibling)\"\n",
       "            ></i></td>\n",
       "            <td class=\"param\">n_jobs&nbsp;</td>\n",
       "            <td class=\"value\">None</td>\n",
       "        </tr>\n",
       "    \n",
       "\n",
       "        <tr class=\"default\">\n",
       "            <td><i class=\"copy-paste-icon\"\n",
       "                 onclick=\"copyToClipboard('l1_ratio',\n",
       "                          this.parentElement.nextElementSibling)\"\n",
       "            ></i></td>\n",
       "            <td class=\"param\">l1_ratio&nbsp;</td>\n",
       "            <td class=\"value\">None</td>\n",
       "        </tr>\n",
       "    \n",
       "                  </tbody>\n",
       "                </table>\n",
       "            </details>\n",
       "        </div>\n",
       "    </div></div></div></div></div><script>function copyToClipboard(text, element) {\n",
       "    // Get the parameter prefix from the closest toggleable content\n",
       "    const toggleableContent = element.closest('.sk-toggleable__content');\n",
       "    const paramPrefix = toggleableContent ? toggleableContent.dataset.paramPrefix : '';\n",
       "    const fullParamName = paramPrefix ? `${paramPrefix}${text}` : text;\n",
       "\n",
       "    const originalStyle = element.style;\n",
       "    const computedStyle = window.getComputedStyle(element);\n",
       "    const originalWidth = computedStyle.width;\n",
       "    const originalHTML = element.innerHTML.replace('Copied!', '');\n",
       "\n",
       "    navigator.clipboard.writeText(fullParamName)\n",
       "        .then(() => {\n",
       "            element.style.width = originalWidth;\n",
       "            element.style.color = 'green';\n",
       "            element.innerHTML = \"Copied!\";\n",
       "\n",
       "            setTimeout(() => {\n",
       "                element.innerHTML = originalHTML;\n",
       "                element.style = originalStyle;\n",
       "            }, 2000);\n",
       "        })\n",
       "        .catch(err => {\n",
       "            console.error('Failed to copy:', err);\n",
       "            element.style.color = 'red';\n",
       "            element.innerHTML = \"Failed!\";\n",
       "            setTimeout(() => {\n",
       "                element.innerHTML = originalHTML;\n",
       "                element.style = originalStyle;\n",
       "            }, 2000);\n",
       "        });\n",
       "    return false;\n",
       "}\n",
       "\n",
       "document.querySelectorAll('.fa-regular.fa-copy').forEach(function(element) {\n",
       "    const toggleableContent = element.closest('.sk-toggleable__content');\n",
       "    const paramPrefix = toggleableContent ? toggleableContent.dataset.paramPrefix : '';\n",
       "    const paramName = element.parentElement.nextElementSibling.textContent.trim();\n",
       "    const fullParamName = paramPrefix ? `${paramPrefix}${paramName}` : paramName;\n",
       "\n",
       "    element.setAttribute('title', fullParamName);\n",
       "});\n",
       "</script></body>"
      ],
      "text/plain": [
       "LogisticRegression(solver='liblinear')"
      ]
     },
     "execution_count": 101,
     "metadata": {},
     "output_type": "execute_result"
    }
   ],
   "source": [
    "# LogisticRegression\n",
    "\n"
   ]
  },
  {
   "cell_type": "code",
   "execution_count": null,
   "id": "fa0a1dbf",
   "metadata": {},
   "outputs": [],
   "source": [
    "# 예측\n",
    "\n"
   ]
  },
  {
   "cell_type": "code",
   "execution_count": 103,
   "id": "acc76567",
   "metadata": {},
   "outputs": [
    {
     "name": "stdout",
     "output_type": "stream",
     "text": [
      "r2 score : 0.7682926829268293\n",
      "MAE     : 0.13157894736842105\n",
      "MSE     : 0.13157894736842105\n",
      "RMSE   : 0.3627381250550058\n",
      "RMSLE  : 0.14707765309038084\n"
     ]
    }
   ],
   "source": [
    "from sklearn.metrics import r2_score, mean_absolute_error, mean_squared_error, mean_squared_log_error\n",
    "\n",
    "print(f'r2 score : {r2_score(y_test, predict)}')\n",
    "print(f'MAE     : {mean_absolute_error(y_test, predict)}')\n",
    "print(f'MSE     : {mean_squared_error(y_test, predict)}')\n",
    "print(f'RMSE   : {np.sqrt(mean_squared_error(y_test, predict)) }')\n",
    "print(f'RMSLE  : {np.sqrt(mean_squared_log_error(y_test, predict)) }')"
   ]
  }
 ],
 "metadata": {
  "kernelspec": {
   "display_name": "Python 3",
   "language": "python",
   "name": "python3"
  },
  "language_info": {
   "codemirror_mode": {
    "name": "ipython",
    "version": 3
   },
   "file_extension": ".py",
   "mimetype": "text/x-python",
   "name": "python",
   "nbconvert_exporter": "python",
   "pygments_lexer": "ipython3",
   "version": "3.12.11"
  }
 },
 "nbformat": 4,
 "nbformat_minor": 5
}
