{
 "cells": [
  {
   "cell_type": "code",
   "execution_count": 1,
   "id": "cb30a6cc",
   "metadata": {},
   "outputs": [
    {
     "name": "stdout",
     "output_type": "stream",
     "text": [
      "도형을 그립니다.\n",
      "원을 그립니다.\n",
      "사각형을 그립니다.\n"
     ]
    }
   ],
   "source": [
    "from shapes import Shape, Circle, Rectangle\n",
    "\n",
    "s = Shape()\n",
    "c = Circle()\n",
    "r = Rectangle()\n",
    "\n",
    "s.draw()  # 도형을 그립니다.\n",
    "c.draw()  # 원을 그립니다.\n",
    "r.draw()  # 사각형을 그립니다."
   ]
  },
  {
   "cell_type": "code",
   "execution_count": 2,
   "id": "068e2643",
   "metadata": {},
   "outputs": [
    {
     "name": "stdout",
     "output_type": "stream",
     "text": [
      "삼각형을 그립니다.\n"
     ]
    }
   ],
   "source": [
    "class Triangle(Shape):\n",
    "    def draw(self):\n",
    "        print(\"삼각형을 그립니다.\")\n",
    "\n",
    "t = Triangle()\n",
    "t.draw()  # 삼각형을 그립니다.\n"
   ]
  },
  {
   "cell_type": "code",
   "execution_count": 3,
   "id": "999ea1c9",
   "metadata": {},
   "outputs": [
    {
     "name": "stdout",
     "output_type": "stream",
     "text": [
      "동물이 소리를 냅니다.\n",
      "멍멍!\n",
      "야옹~\n"
     ]
    }
   ],
   "source": [
    "from shapes import Animal,Dog,Cat\n",
    "a=Animal()\n",
    "d=Dog()\n",
    "c=Cat()\n",
    "\n",
    "a.speak()\n",
    "d.speak()\n",
    "c.speak()"
   ]
  },
  {
   "cell_type": "code",
   "execution_count": 4,
   "id": "8d800985",
   "metadata": {},
   "outputs": [],
   "source": [
    "class Dog(Animal):\n",
    "    def speak(self):\n",
    "        super().speak()   # 부모 메서드 호출\n",
    "        print(\"멍멍!\")    # 추가 기능\n"
   ]
  },
  {
   "cell_type": "code",
   "execution_count": 8,
   "id": "4c6b1173",
   "metadata": {},
   "outputs": [
    {
     "name": "stdout",
     "output_type": "stream",
     "text": [
      "동물이 소리를 냅니다.\n",
      "멍멍!\n"
     ]
    }
   ],
   "source": [
    "dd=Dog()\n",
    "dd.speak()"
   ]
  }
 ],
 "metadata": {
  "kernelspec": {
   "display_name": "Python 3",
   "language": "python",
   "name": "python3"
  },
  "language_info": {
   "codemirror_mode": {
    "name": "ipython",
    "version": 3
   },
   "file_extension": ".py",
   "mimetype": "text/x-python",
   "name": "python",
   "nbconvert_exporter": "python",
   "pygments_lexer": "ipython3",
   "version": "3.12.11"
  }
 },
 "nbformat": 4,
 "nbformat_minor": 5
}
